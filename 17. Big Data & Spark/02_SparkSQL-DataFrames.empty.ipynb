{
 "cells": [
  {
   "cell_type": "markdown",
   "metadata": {
    "colab_type": "text",
    "id": "_GJL6KRUrsvh"
   },
   "source": [
    "# SparkSQL and DataFrames \n",
    "\n",
    "<a href = \"http://yogen.io\"><img src=\"http://yogen.io/assets/logo.svg\" alt=\"yogen\" style=\"width: 200px; float: right;\"/></a>"
   ]
  },
  {
   "cell_type": "markdown",
   "metadata": {
    "colab_type": "text",
    "id": "QTnZfeqvrsvi"
   },
   "source": [
    "## RDDs, DataSets, and DataFrames\n",
    "\n",
    "RDDs are the original interface for Spark programming.\n",
    "\n",
    "DataFrames were introduced in 1.3\n",
    "\n",
    "Datasets were introduced in 1.6, and unified with DataFrames in 2.0"
   ]
  },
  {
   "cell_type": "markdown",
   "metadata": {
    "colab_type": "text",
    "id": "59fNkpeXrsvk"
   },
   "source": [
    "### Advantages of DataFrames:\n",
    "\n",
    "from https://www.datacamp.com/community/tutorials/apache-spark-python:\n",
    "\n",
    "> More specifically, the performance improvements are due to two things, which you’ll often come across when you’re reading up DataFrames: custom memory management (project Tungsten), which will make sure that your Spark jobs much faster given CPU constraints, and optimized execution plans (Catalyst optimizer), of which the logical plan of the DataFrame is a part."
   ]
  },
  {
   "cell_type": "markdown",
   "metadata": {
    "colab_type": "text",
    "id": "3LSLskpHrsvk"
   },
   "source": [
    "## SparkSQL and DataFrames \n",
    "\n",
    "\n",
    "pyspark does not have the Dataset API, which is available only if you use Spark from a statically typed language: Scala or Java.\n",
    "\n",
    "From https://spark.apache.org/docs/2.4.4/sql-programming-guide.html\n",
    "\n",
    "> A DataFrame is a Dataset organized into named columns. It is conceptually equivalent to a table in a relational database or a data frame in R/Python, but with richer optimizations under the hood. DataFrames can be constructed from a wide array of sources such as: structured data files, tables in Hive, external databases, or existing RDDs. The DataFrame API is available in Scala, Java, Python, and R. In Scala and Java, a DataFrame is represented by a Dataset of Rows. In the Scala API, DataFrame is simply a type alias of Dataset[Row]. While, in Java API, users need to use Dataset&lt;Row> to represent a DataFrame.\n"
   ]
  },
  {
   "cell_type": "markdown",
   "metadata": {
    "colab_type": "text",
    "id": "Jrub1NB4rsvl"
   },
   "source": [
    "### The pyspark.sql module"
   ]
  },
  {
   "cell_type": "markdown",
   "metadata": {
    "colab_type": "text",
    "id": "HGXQNy06rsvm"
   },
   "source": [
    "Important classes of Spark SQL and DataFrames:\n",
    "\n",
    "* `pyspark.sql.SparkSession` Main entry point for DataFrame and SQL functionality.\n",
    "\n",
    "* `pyspark.sql.DataFrame` A distributed collection of data grouped into named columns.\n",
    "\n",
    "* `pyspark.sql.Column` A column expression in a DataFrame.\n",
    "\n",
    "* `pyspark.sql.Row` A row of data in a DataFrame.\n",
    "\n",
    "* `pyspark.sql.GroupedData` Aggregation methods, returned by DataFrame.groupBy().\n",
    "\n",
    "* `pyspark.sql.DataFrameNaFunctions` Methods for handling missing data (null values).\n",
    "\n",
    "* `pyspark.sql.DataFrameStatFunctions` Methods for statistics functionality.\n",
    "\n",
    "* `pyspark.sql.functions` List of built-in functions available for DataFrame.\n",
    "\n",
    "* `pyspark.sql.types` List of data types available.\n",
    "\n",
    "* `pyspark.sql.Window` For working with window functions."
   ]
  },
  {
   "cell_type": "markdown",
   "metadata": {
    "colab_type": "text",
    "id": "Wr2WLE24rsvm"
   },
   "source": [
    "http://spark.apache.org/docs/2.4.4/api/python/pyspark.sql.html\n",
    "\n",
    "https://spark.apache.org/docs/2.4.4/sql-programming-guide.html"
   ]
  },
  {
   "cell_type": "markdown",
   "metadata": {
    "colab_type": "text",
    "id": "xFze20s2rsvn"
   },
   "source": [
    "## SparkSession\n",
    "\n",
    "The traditional way to interact with Spark is the SparkContext. In the notebooks we get that from the pyspark driver.\n",
    "\n",
    "From 2.0 we can use SparkSession to replace SparkConf, SparkContext and SQLContext"
   ]
  },
  {
   "cell_type": "markdown",
   "metadata": {
    "colab_type": "text",
    "id": "mIXbfOttrsvo"
   },
   "source": [
    "### If you are running this notebook in Google Colab\n",
    "\n",
    "Copy the following to a code cell and run it. It will install and set up Spark for you.\n",
    "\n",
    "```python\n",
    "!apt-get install openjdk-8-jdk-headless -qq > /dev/null\n",
    "!wget -q http://apache.uvigo.es/spark/spark-2.4.6/spark-2.4.6-bin-hadoop2.7.tgz\n",
    "!tar -xf spark-2.4.6-bin-hadoop2.7.tgz\n",
    "!pip install -q findspark\n",
    "\n",
    "import os\n",
    "import findspark\n",
    "from pyspark.sql import SparkSession\n",
    "\n",
    "os.environ[\"JAVA_HOME\"] = \"/usr/lib/jvm/java-8-openjdk-amd64\"\n",
    "os.environ[\"SPARK_HOME\"] = \"/content/spark-2.4.6-bin-hadoop2.7\"\n",
    "findspark.init()\n",
    "spark = SparkSession.builder.master(\"local[*]\").getOrCreate()\n",
    "```"
   ]
  },
  {
   "cell_type": "code",
   "execution_count": 1,
   "metadata": {
    "colab": {
     "base_uri": "https://localhost:8080/",
     "height": 68
    },
    "colab_type": "code",
    "executionInfo": {
     "elapsed": 80512,
     "status": "ok",
     "timestamp": 1593846555569,
     "user": {
      "displayName": "Felipe Fernandez pomar",
      "photoUrl": "https://lh3.googleusercontent.com/a-/AOh14GjAIBB1UUNahiuBW35nhzx_0hZxW-dTtBh-sbrK0Q=s64",
      "userId": "06620814048662575791"
     },
     "user_tz": -120
    },
    "id": "CzY_CE1Vrsvq",
    "outputId": "640f6071-6960-4a1d-b958-f0b97519f0c3"
   },
   "outputs": [
    {
     "name": "stdout",
     "output_type": "stream",
     "text": [
      "\u001b[K     |████████████████████████████████| 218.4MB 66kB/s \n",
      "\u001b[K     |████████████████████████████████| 204kB 46.4MB/s \n",
      "\u001b[?25h  Building wheel for pyspark (setup.py) ... \u001b[?25l\u001b[?25hdone\n"
     ]
    }
   ],
   "source": [
    "!apt-get install openjdk-8-jdk-headless -qq > /dev/null\n",
    "!wget -q http://apache.uvigo.es/spark/spark-2.4.6/spark-2.4.6-bin-hadoop2.7.tgz\n",
    "!tar -xf spark-2.4.6-bin-hadoop2.7.tgz\n",
    "!pip install -q findspark pyspark==2.4.6\n",
    " \n",
    "import os\n",
    "import findspark\n",
    "from pyspark.sql import SparkSession\n",
    " \n",
    "os.environ[\"JAVA_HOME\"] = \"/usr/lib/jvm/java-8-openjdk-amd64\"\n",
    "os.environ[\"SPARK_HOME\"] = \"/content/spark-2.4.6-bin-hadoop2.7\"\n",
    "findspark.init()\n",
    "spark = SparkSession.builder.master(\"local[*]\").getOrCreate()"
   ]
  },
  {
   "cell_type": "markdown",
   "metadata": {
    "colab_type": "text",
    "id": "nR2mxI-lrsvv"
   },
   "source": [
    "#### Passing other options to spark session:\n",
    "    \n",
    "    "
   ]
  },
  {
   "cell_type": "code",
   "execution_count": 2,
   "metadata": {
    "colab": {
     "base_uri": "https://localhost:8080/",
     "height": 216
    },
    "colab_type": "code",
    "executionInfo": {
     "elapsed": 80481,
     "status": "ok",
     "timestamp": 1593846555573,
     "user": {
      "displayName": "Felipe Fernandez pomar",
      "photoUrl": "https://lh3.googleusercontent.com/a-/AOh14GjAIBB1UUNahiuBW35nhzx_0hZxW-dTtBh-sbrK0Q=s64",
      "userId": "06620814048662575791"
     },
     "user_tz": -120
    },
    "id": "FMAvt6j-rsvw",
    "outputId": "0c88bc9f-bcd7-4509-eafa-11b8a0810f6c"
   },
   "outputs": [
    {
     "data": {
      "text/html": [
       "\n",
       "            <div>\n",
       "                <p><b>SparkSession - in-memory</b></p>\n",
       "                \n",
       "        <div>\n",
       "            <p><b>SparkContext</b></p>\n",
       "\n",
       "            <p><a href=\"http://0697c868a2f7:4040\">Spark UI</a></p>\n",
       "\n",
       "            <dl>\n",
       "              <dt>Version</dt>\n",
       "                <dd><code>v2.4.6</code></dd>\n",
       "              <dt>Master</dt>\n",
       "                <dd><code>local[*]</code></dd>\n",
       "              <dt>AppName</dt>\n",
       "                <dd><code>pyspark-shell</code></dd>\n",
       "            </dl>\n",
       "        </div>\n",
       "        \n",
       "            </div>\n",
       "        "
      ],
      "text/plain": [
       "<pyspark.sql.session.SparkSession at 0x7f3aca702438>"
      ]
     },
     "execution_count": 2,
     "metadata": {
      "tags": []
     },
     "output_type": "execute_result"
    }
   ],
   "source": [
    "spark"
   ]
  },
  {
   "cell_type": "markdown",
   "metadata": {
    "colab_type": "text",
    "id": "dsL07CDQrsv1"
   },
   "source": [
    "We can check option values in the resulting session like this:"
   ]
  },
  {
   "cell_type": "code",
   "execution_count": 3,
   "metadata": {
    "colab": {
     "base_uri": "https://localhost:8080/",
     "height": 187
    },
    "colab_type": "code",
    "executionInfo": {
     "elapsed": 80454,
     "status": "ok",
     "timestamp": 1593846555576,
     "user": {
      "displayName": "Felipe Fernandez pomar",
      "photoUrl": "https://lh3.googleusercontent.com/a-/AOh14GjAIBB1UUNahiuBW35nhzx_0hZxW-dTtBh-sbrK0Q=s64",
      "userId": "06620814048662575791"
     },
     "user_tz": -120
    },
    "id": "GyjxHcETrsv1",
    "outputId": "5a95eaba-c3bf-4e93-fdc1-c0c610fb1d44"
   },
   "outputs": [
    {
     "data": {
      "text/plain": [
       "[('spark.driver.port', '42039'),\n",
       " ('spark.rdd.compress', 'True'),\n",
       " ('spark.serializer.objectStreamReset', '100'),\n",
       " ('spark.app.id', 'local-1593846551727'),\n",
       " ('spark.master', 'local[*]'),\n",
       " ('spark.executor.id', 'driver'),\n",
       " ('spark.submit.deployMode', 'client'),\n",
       " ('spark.driver.host', '0697c868a2f7'),\n",
       " ('spark.ui.showConsoleProgress', 'true'),\n",
       " ('spark.app.name', 'pyspark-shell')]"
      ]
     },
     "execution_count": 3,
     "metadata": {
      "tags": []
     },
     "output_type": "execute_result"
    }
   ],
   "source": [
    "spark.sparkContext.getConf().getAll()"
   ]
  },
  {
   "cell_type": "code",
   "execution_count": 4,
   "metadata": {
    "colab": {},
    "colab_type": "code",
    "executionInfo": {
     "elapsed": 80426,
     "status": "ok",
     "timestamp": 1593846555578,
     "user": {
      "displayName": "Felipe Fernandez pomar",
      "photoUrl": "https://lh3.googleusercontent.com/a-/AOh14GjAIBB1UUNahiuBW35nhzx_0hZxW-dTtBh-sbrK0Q=s64",
      "userId": "06620814048662575791"
     },
     "user_tz": -120
    },
    "id": "4edlKd08upQR"
   },
   "outputs": [],
   "source": [
    "spark = SparkSession.builder.master(\"local[*]\").config('Mi Nombrecito', 'Felipito').getOrCreate()"
   ]
  },
  {
   "cell_type": "code",
   "execution_count": 5,
   "metadata": {
    "colab": {
     "base_uri": "https://localhost:8080/",
     "height": 204
    },
    "colab_type": "code",
    "executionInfo": {
     "elapsed": 80406,
     "status": "ok",
     "timestamp": 1593846555580,
     "user": {
      "displayName": "Felipe Fernandez pomar",
      "photoUrl": "https://lh3.googleusercontent.com/a-/AOh14GjAIBB1UUNahiuBW35nhzx_0hZxW-dTtBh-sbrK0Q=s64",
      "userId": "06620814048662575791"
     },
     "user_tz": -120
    },
    "id": "Zx8l5ZL7u45Y",
    "outputId": "ab8966ba-a2a9-4ee1-ecaf-1eeb53410b55"
   },
   "outputs": [
    {
     "data": {
      "text/plain": [
       "[('spark.driver.port', '42039'),\n",
       " ('spark.rdd.compress', 'True'),\n",
       " ('Mi Nombrecito', 'Felipito'),\n",
       " ('spark.serializer.objectStreamReset', '100'),\n",
       " ('spark.app.id', 'local-1593846551727'),\n",
       " ('spark.master', 'local[*]'),\n",
       " ('spark.executor.id', 'driver'),\n",
       " ('spark.submit.deployMode', 'client'),\n",
       " ('spark.driver.host', '0697c868a2f7'),\n",
       " ('spark.ui.showConsoleProgress', 'true'),\n",
       " ('spark.app.name', 'pyspark-shell')]"
      ]
     },
     "execution_count": 5,
     "metadata": {
      "tags": []
     },
     "output_type": "execute_result"
    }
   ],
   "source": [
    "spark.sparkContext.getConf().getAll()"
   ]
  },
  {
   "cell_type": "markdown",
   "metadata": {
    "colab_type": "text",
    "id": "-Ubc9EVprsv5"
   },
   "source": [
    "### Creating DataFrames\n",
    "\n",
    "SparkSession.createDataFrame: from an RDD, a list or a pandas.DataFrame."
   ]
  },
  {
   "cell_type": "code",
   "execution_count": 6,
   "metadata": {
    "colab": {
     "base_uri": "https://localhost:8080/",
     "height": 357
    },
    "colab_type": "code",
    "executionInfo": {
     "elapsed": 80377,
     "status": "ok",
     "timestamp": 1593846555581,
     "user": {
      "displayName": "Felipe Fernandez pomar",
      "photoUrl": "https://lh3.googleusercontent.com/a-/AOh14GjAIBB1UUNahiuBW35nhzx_0hZxW-dTtBh-sbrK0Q=s64",
      "userId": "06620814048662575791"
     },
     "user_tz": -120
    },
    "id": "kDdpKCf8rsv6",
    "outputId": "8989e5c5-1ccb-4aa1-9b52-38eb8327defe"
   },
   "outputs": [
    {
     "data": {
      "text/plain": [
       "[(0, 'hobbit'),\n",
       " (1, 'elf'),\n",
       " (2, 'elf'),\n",
       " (3, 'elf'),\n",
       " (4, 'orc'),\n",
       " (5, 'orc'),\n",
       " (6, 'orc'),\n",
       " (7, 'elf'),\n",
       " (8, 'hobbit'),\n",
       " (9, 'elf'),\n",
       " (10, 'elf'),\n",
       " (11, 'hobbit'),\n",
       " (12, 'elf'),\n",
       " (13, 'elf'),\n",
       " (14, 'hobbit'),\n",
       " (15, 'hobbit'),\n",
       " (16, 'elf'),\n",
       " (17, 'hobbit'),\n",
       " (18, 'orc'),\n",
       " (19, 'elf')]"
      ]
     },
     "execution_count": 6,
     "metadata": {
      "tags": []
     },
     "output_type": "execute_result"
    }
   ],
   "source": [
    "import random\n",
    "\n",
    "random.seed(42)\n",
    "\n",
    "n = 20\n",
    "races = random.choices(['elf', 'hobbit', 'orc'], k = n)\n",
    "creatures = [ (id_, race) for id_, race in zip(range(n), races) ]\n",
    "creatures"
   ]
  },
  {
   "cell_type": "code",
   "execution_count": 7,
   "metadata": {
    "colab": {
     "base_uri": "https://localhost:8080/",
     "height": 34
    },
    "colab_type": "code",
    "executionInfo": {
     "elapsed": 82242,
     "status": "ok",
     "timestamp": 1593846557474,
     "user": {
      "displayName": "Felipe Fernandez pomar",
      "photoUrl": "https://lh3.googleusercontent.com/a-/AOh14GjAIBB1UUNahiuBW35nhzx_0hZxW-dTtBh-sbrK0Q=s64",
      "userId": "06620814048662575791"
     },
     "user_tz": -120
    },
    "id": "lUq39tFAw0za",
    "outputId": "6b4898ea-16b6-4005-db19-88e65ffe9fae"
   },
   "outputs": [
    {
     "data": {
      "text/plain": [
       "DataFrame[_1: bigint, _2: string]"
      ]
     },
     "execution_count": 7,
     "metadata": {
      "tags": []
     },
     "output_type": "execute_result"
    }
   ],
   "source": [
    "df = spark.createDataFrame(creatures)\n",
    "df"
   ]
  },
  {
   "cell_type": "code",
   "execution_count": 8,
   "metadata": {
    "colab": {
     "base_uri": "https://localhost:8080/",
     "height": 102
    },
    "colab_type": "code",
    "executionInfo": {
     "elapsed": 84306,
     "status": "ok",
     "timestamp": 1593846559571,
     "user": {
      "displayName": "Felipe Fernandez pomar",
      "photoUrl": "https://lh3.googleusercontent.com/a-/AOh14GjAIBB1UUNahiuBW35nhzx_0hZxW-dTtBh-sbrK0Q=s64",
      "userId": "06620814048662575791"
     },
     "user_tz": -120
    },
    "id": "vnL5rhz6xEhI",
    "outputId": "9bf2ceb1-9cb0-4f93-ef7b-c2b67d407863"
   },
   "outputs": [
    {
     "data": {
      "text/plain": [
       "[Row(_1=0, _2='hobbit'),\n",
       " Row(_1=1, _2='elf'),\n",
       " Row(_1=2, _2='elf'),\n",
       " Row(_1=3, _2='elf'),\n",
       " Row(_1=4, _2='orc')]"
      ]
     },
     "execution_count": 8,
     "metadata": {
      "tags": []
     },
     "output_type": "execute_result"
    }
   ],
   "source": [
    "#También es lazy, es como un RDD\n",
    "df.take(5)"
   ]
  },
  {
   "cell_type": "code",
   "execution_count": 9,
   "metadata": {
    "colab": {
     "base_uri": "https://localhost:8080/",
     "height": 34
    },
    "colab_type": "code",
    "executionInfo": {
     "elapsed": 84267,
     "status": "ok",
     "timestamp": 1593846559574,
     "user": {
      "displayName": "Felipe Fernandez pomar",
      "photoUrl": "https://lh3.googleusercontent.com/a-/AOh14GjAIBB1UUNahiuBW35nhzx_0hZxW-dTtBh-sbrK0Q=s64",
      "userId": "06620814048662575791"
     },
     "user_tz": -120
    },
    "id": "TzyqdqlTxPHG",
    "outputId": "5be261ea-1934-43fe-db79-970d381b7925"
   },
   "outputs": [
    {
     "data": {
      "text/plain": [
       "Row(id_=4, race='elf')"
      ]
     },
     "execution_count": 9,
     "metadata": {
      "tags": []
     },
     "output_type": "execute_result"
    }
   ],
   "source": [
    "from pyspark.sql import Row\n",
    "#Nos va a servir para encapsular la estructura del DataFrame\n",
    "Row(id_ = 4, race = 'elf')"
   ]
  },
  {
   "cell_type": "code",
   "execution_count": 10,
   "metadata": {
    "colab": {
     "base_uri": "https://localhost:8080/",
     "height": 34
    },
    "colab_type": "code",
    "executionInfo": {
     "elapsed": 84238,
     "status": "ok",
     "timestamp": 1593846559577,
     "user": {
      "displayName": "Felipe Fernandez pomar",
      "photoUrl": "https://lh3.googleusercontent.com/a-/AOh14GjAIBB1UUNahiuBW35nhzx_0hZxW-dTtBh-sbrK0Q=s64",
      "userId": "06620814048662575791"
     },
     "user_tz": -120
    },
    "id": "5Ji1SOTcxkoF",
    "outputId": "baf96d7d-3095-4a28-9c95-84ea898f08d4"
   },
   "outputs": [
    {
     "data": {
      "text/plain": [
       "DataFrame[id: bigint, race: string]"
      ]
     },
     "execution_count": 10,
     "metadata": {
      "tags": []
     },
     "output_type": "execute_result"
    }
   ],
   "source": [
    "# O pasar el argumento schema\n",
    "df = spark.createDataFrame(creatures, schema=['id', 'race'])\n",
    "df"
   ]
  },
  {
   "cell_type": "code",
   "execution_count": 11,
   "metadata": {
    "colab": {
     "base_uri": "https://localhost:8080/",
     "height": 204
    },
    "colab_type": "code",
    "executionInfo": {
     "elapsed": 84791,
     "status": "ok",
     "timestamp": 1593846560162,
     "user": {
      "displayName": "Felipe Fernandez pomar",
      "photoUrl": "https://lh3.googleusercontent.com/a-/AOh14GjAIBB1UUNahiuBW35nhzx_0hZxW-dTtBh-sbrK0Q=s64",
      "userId": "06620814048662575791"
     },
     "user_tz": -120
    },
    "id": "kHjn_Rd3x1sb",
    "outputId": "8a72d7a3-d2bb-41fe-e48a-d5b2607c5b6f"
   },
   "outputs": [
    {
     "name": "stdout",
     "output_type": "stream",
     "text": [
      "+---+------+\n",
      "| id|  race|\n",
      "+---+------+\n",
      "|  0|hobbit|\n",
      "|  1|   elf|\n",
      "|  2|   elf|\n",
      "|  3|   elf|\n",
      "|  4|   orc|\n",
      "+---+------+\n",
      "only showing top 5 rows\n",
      "\n"
     ]
    }
   ],
   "source": [
    "x = df.show(5)\n",
    "#Esta action solo devuelve un print. Nada más."
   ]
  },
  {
   "cell_type": "code",
   "execution_count": 12,
   "metadata": {
    "colab": {
     "base_uri": "https://localhost:8080/",
     "height": 85
    },
    "colab_type": "code",
    "executionInfo": {
     "elapsed": 84760,
     "status": "ok",
     "timestamp": 1593846560164,
     "user": {
      "displayName": "Felipe Fernandez pomar",
      "photoUrl": "https://lh3.googleusercontent.com/a-/AOh14GjAIBB1UUNahiuBW35nhzx_0hZxW-dTtBh-sbrK0Q=s64",
      "userId": "06620814048662575791"
     },
     "user_tz": -120
    },
    "id": "XmdTmJmPyLYK",
    "outputId": "c38142d1-78c6-4130-ece1-39b5d35ecfc9"
   },
   "outputs": [
    {
     "name": "stdout",
     "output_type": "stream",
     "text": [
      "root\n",
      " |-- id: long (nullable = true)\n",
      " |-- race: string (nullable = true)\n",
      "\n"
     ]
    }
   ],
   "source": [
    "#Otra cosa parecida a show() Es el schema()\n",
    "df.printSchema()"
   ]
  },
  {
   "cell_type": "markdown",
   "metadata": {
    "colab_type": "text",
    "id": "FVm1ucEerswB"
   },
   "source": [
    "### Creating DataFrames\n",
    "\n",
    "* From RDDs\n",
    "* from Hive tables\n",
    "* From Spark sources: parquet (default), json, jdbc, orc, libsvm, csv, text\n"
   ]
  },
  {
   "cell_type": "markdown",
   "metadata": {
    "colab_type": "text",
    "id": "6qz5dyFArswC"
   },
   "source": [
    "#### From RDDs"
   ]
  },
  {
   "cell_type": "code",
   "execution_count": 14,
   "metadata": {
    "colab": {
     "base_uri": "https://localhost:8080/",
     "height": 68
    },
    "colab_type": "code",
    "executionInfo": {
     "elapsed": 660,
     "status": "ok",
     "timestamp": 1593846745577,
     "user": {
      "displayName": "Felipe Fernandez pomar",
      "photoUrl": "https://lh3.googleusercontent.com/a-/AOh14GjAIBB1UUNahiuBW35nhzx_0hZxW-dTtBh-sbrK0Q=s64",
      "userId": "06620814048662575791"
     },
     "user_tz": -120
    },
    "id": "fhCO3MEKrswD",
    "outputId": "2d4fac4e-65cd-4268-ebb5-871ecb824913"
   },
   "outputs": [
    {
     "data": {
      "text/plain": [
       "['79062005698500,1,MAA,AUH,9W,9W,56.79,USD,1,H,H,0526,150904,OK,IAF0',\n",
       " '79062005698500,2,AUH,CDG,9W,9W,84.34,USD,1,H,H,6120,150905,OK,IAF0',\n",
       " '79062005924069,1,CJB,MAA,9W,9W,60.0,USD,1,H,H,2768,150721,OK,IAA0']"
      ]
     },
     "execution_count": 14,
     "metadata": {
      "tags": []
     },
     "output_type": "execute_result"
    }
   ],
   "source": [
    "rdd = spark.sparkContext.textFile('coupon150720.csv.gz')\n",
    "rdd.take(3)"
   ]
  },
  {
   "cell_type": "code",
   "execution_count": 15,
   "metadata": {
    "colab": {
     "base_uri": "https://localhost:8080/",
     "height": 782
    },
    "colab_type": "code",
    "executionInfo": {
     "elapsed": 1796,
     "status": "ok",
     "timestamp": 1593846755461,
     "user": {
      "displayName": "Felipe Fernandez pomar",
      "photoUrl": "https://lh3.googleusercontent.com/a-/AOh14GjAIBB1UUNahiuBW35nhzx_0hZxW-dTtBh-sbrK0Q=s64",
      "userId": "06620814048662575791"
     },
     "user_tz": -120
    },
    "id": "_r24DQOyzgdj",
    "outputId": "14729601-ae05-44e9-80e3-22ca694b4f52"
   },
   "outputs": [
    {
     "data": {
      "text/plain": [
       "[['79062005698500',\n",
       "  '1',\n",
       "  'MAA',\n",
       "  'AUH',\n",
       "  '9W',\n",
       "  '9W',\n",
       "  '56.79',\n",
       "  'USD',\n",
       "  '1',\n",
       "  'H',\n",
       "  'H',\n",
       "  '0526',\n",
       "  '150904',\n",
       "  'OK',\n",
       "  'IAF0'],\n",
       " ['79062005698500',\n",
       "  '2',\n",
       "  'AUH',\n",
       "  'CDG',\n",
       "  '9W',\n",
       "  '9W',\n",
       "  '84.34',\n",
       "  'USD',\n",
       "  '1',\n",
       "  'H',\n",
       "  'H',\n",
       "  '6120',\n",
       "  '150905',\n",
       "  'OK',\n",
       "  'IAF0'],\n",
       " ['79062005924069',\n",
       "  '1',\n",
       "  'CJB',\n",
       "  'MAA',\n",
       "  '9W',\n",
       "  '9W',\n",
       "  '60.0',\n",
       "  'USD',\n",
       "  '1',\n",
       "  'H',\n",
       "  'H',\n",
       "  '2768',\n",
       "  '150721',\n",
       "  'OK',\n",
       "  'IAA0']]"
      ]
     },
     "execution_count": 15,
     "metadata": {
      "tags": []
     },
     "output_type": "execute_result"
    }
   ],
   "source": [
    "split_lines = rdd.map(lambda line: line.split(','))\n",
    "split_lines.take(3)"
   ]
  },
  {
   "cell_type": "code",
   "execution_count": 16,
   "metadata": {
    "colab": {
     "base_uri": "https://localhost:8080/",
     "height": 54
    },
    "colab_type": "code",
    "executionInfo": {
     "elapsed": 2168,
     "status": "ok",
     "timestamp": 1593846756093,
     "user": {
      "displayName": "Felipe Fernandez pomar",
      "photoUrl": "https://lh3.googleusercontent.com/a-/AOh14GjAIBB1UUNahiuBW35nhzx_0hZxW-dTtBh-sbrK0Q=s64",
      "userId": "06620814048662575791"
     },
     "user_tz": -120
    },
    "id": "mZVJ1MLV0UDK",
    "outputId": "f4c8c8b7-cb47-4d85-efd0-f0e3596bedea"
   },
   "outputs": [
    {
     "data": {
      "text/plain": [
       "DataFrame[_1: string, _2: string, _3: string, _4: string, _5: string, _6: string, _7: string, _8: string, _9: string, _10: string, _11: string, _12: string, _13: string, _14: string, _15: string]"
      ]
     },
     "execution_count": 16,
     "metadata": {
      "tags": []
     },
     "output_type": "execute_result"
    }
   ],
   "source": [
    "spark.createDataFrame(split_lines)"
   ]
  },
  {
   "cell_type": "markdown",
   "metadata": {
    "colab_type": "text",
    "id": "it9ikDg1rswI"
   },
   "source": [
    "### Inferring and specifying schemas"
   ]
  },
  {
   "cell_type": "code",
   "execution_count": 17,
   "metadata": {
    "colab": {
     "base_uri": "https://localhost:8080/",
     "height": 34
    },
    "colab_type": "code",
    "executionInfo": {
     "elapsed": 1872,
     "status": "ok",
     "timestamp": 1593846756096,
     "user": {
      "displayName": "Felipe Fernandez pomar",
      "photoUrl": "https://lh3.googleusercontent.com/a-/AOh14GjAIBB1UUNahiuBW35nhzx_0hZxW-dTtBh-sbrK0Q=s64",
      "userId": "06620814048662575791"
     },
     "user_tz": -120
    },
    "id": "GxzS4z9ArswI",
    "outputId": "3dd978dc-94d4-4628-cc56-49cabb0ad740"
   },
   "outputs": [
    {
     "data": {
      "text/plain": [
       "DataFrame[id: bigint, race: string]"
      ]
     },
     "execution_count": 17,
     "metadata": {
      "tags": []
     },
     "output_type": "execute_result"
    }
   ],
   "source": [
    "df = spark.createDataFrame(creatures, schema=['id', 'race'])\n",
    "df"
   ]
  },
  {
   "cell_type": "markdown",
   "metadata": {
    "colab_type": "text",
    "id": "TN-olQyNrswM"
   },
   "source": [
    "#### Fully specifying a schema\n",
    "\n",
    "We need to create a `StructType` composed of `StructField`s. each of those specifies afiled with name, type and `nullable` properties. "
   ]
  },
  {
   "cell_type": "code",
   "execution_count": 18,
   "metadata": {
    "colab": {
     "base_uri": "https://localhost:8080/",
     "height": 85
    },
    "colab_type": "code",
    "executionInfo": {
     "elapsed": 1467,
     "status": "ok",
     "timestamp": 1593846756098,
     "user": {
      "displayName": "Felipe Fernandez pomar",
      "photoUrl": "https://lh3.googleusercontent.com/a-/AOh14GjAIBB1UUNahiuBW35nhzx_0hZxW-dTtBh-sbrK0Q=s64",
      "userId": "06620814048662575791"
     },
     "user_tz": -120
    },
    "id": "FO1zkOEErswN",
    "outputId": "539e8439-653f-4a70-ead5-6f5bef31e0a6"
   },
   "outputs": [
    {
     "name": "stdout",
     "output_type": "stream",
     "text": [
      "root\n",
      " |-- id: integer (nullable = false)\n",
      " |-- race: string (nullable = true)\n",
      "\n"
     ]
    }
   ],
   "source": [
    "from pyspark.sql import types\n",
    "\n",
    "types.BooleanType()\n",
    "\n",
    "schema = types.StructType([types.StructField('id', types.IntegerType(), False), types.StructField('race', types.StringType())])\n",
    "\n",
    "df = spark.createDataFrame(creatures, schema = schema)\n",
    "df.printSchema()"
   ]
  },
  {
   "cell_type": "markdown",
   "metadata": {
    "colab_type": "text",
    "id": "WDUQTX2nrswQ"
   },
   "source": [
    "#### From csv files\n",
    "\n",
    "We can either read them directly into dataframes or read them as RDDs and transform that into a DataFrame. This second way will be very useful if we have unstructured data like web server logs."
   ]
  },
  {
   "cell_type": "code",
   "execution_count": 19,
   "metadata": {
    "colab": {
     "base_uri": "https://localhost:8080/",
     "height": 54
    },
    "colab_type": "code",
    "executionInfo": {
     "elapsed": 7889,
     "status": "ok",
     "timestamp": 1593846762993,
     "user": {
      "displayName": "Felipe Fernandez pomar",
      "photoUrl": "https://lh3.googleusercontent.com/a-/AOh14GjAIBB1UUNahiuBW35nhzx_0hZxW-dTtBh-sbrK0Q=s64",
      "userId": "06620814048662575791"
     },
     "user_tz": -120
    },
    "id": "hmoeQDa5rswR",
    "outputId": "26fd842c-47ab-48e0-a6fc-23292e03873c"
   },
   "outputs": [
    {
     "data": {
      "text/plain": [
       "DataFrame[_c0: bigint, _c1: int, _c2: string, _c3: string, _c4: string, _c5: string, _c6: double, _c7: string, _c8: int, _c9: string, _c10: string, _c11: string, _c12: int, _c13: string, _c14: string]"
      ]
     },
     "execution_count": 19,
     "metadata": {
      "tags": []
     },
     "output_type": "execute_result"
    }
   ],
   "source": [
    "spark.read.csv('coupon150720.csv.gz', inferSchema = True)"
   ]
  },
  {
   "cell_type": "code",
   "execution_count": 20,
   "metadata": {
    "colab": {
     "base_uri": "https://localhost:8080/",
     "height": 289
    },
    "colab_type": "code",
    "executionInfo": {
     "elapsed": 8128,
     "status": "ok",
     "timestamp": 1593846763348,
     "user": {
      "displayName": "Felipe Fernandez pomar",
      "photoUrl": "https://lh3.googleusercontent.com/a-/AOh14GjAIBB1UUNahiuBW35nhzx_0hZxW-dTtBh-sbrK0Q=s64",
      "userId": "06620814048662575791"
     },
     "user_tz": -120
    },
    "id": "gMIq_p0B4YlN",
    "outputId": "f14bce85-6cb1-4df0-af0a-f1ad2c648bcb"
   },
   "outputs": [
    {
     "name": "stdout",
     "output_type": "stream",
     "text": [
      "+--------------+----------+--------------+----------+------+----+-------+------+\n",
      "|    tkt_number|cpn_number|    tkt_number|cpn_number|origin|dest|carrier|amount|\n",
      "+--------------+----------+--------------+----------+------+----+-------+------+\n",
      "|79062005698500|         1|79062005698500|         1|   MAA| AUH|     9W| 56.79|\n",
      "|79062005698500|         2|79062005698500|         2|   AUH| CDG|     9W| 84.34|\n",
      "|79062005924069|         1|79062005924069|         1|   CJB| MAA|     9W|  60.0|\n",
      "|79065668570385|         1|79065668570385|         1|   DEL| DXB|     9W|160.63|\n",
      "|79065668737021|         1|79065668737021|         1|   AUH| IXE|     9W|152.46|\n",
      "|79062006192650|         1|79062006192650|         1|   RPR| BOM|     9W|  68.5|\n",
      "|79062006192650|         2|79062006192650|         2|   BOM| RPR|     9W|  68.5|\n",
      "|79062005733853|         1|79062005733853|         1|   DEL| DED|     9W| 56.16|\n",
      "|79062005836987|         1|79062005836987|         1|   ATL| LGA|     AA|  28.3|\n",
      "|79062005836987|         2|79062005836987|         2|   LGA| EWR|   null|   0.0|\n",
      "+--------------+----------+--------------+----------+------+----+-------+------+\n",
      "only showing top 10 rows\n",
      "\n"
     ]
    }
   ],
   "source": [
    "coupons = spark.sql('''SELECT\n",
    "                      CAST (_C0 AS BIGINT) as tkt_number,\n",
    "                      CAST (_C1 AS INT) as cpn_number,\n",
    "                      _c0 as tkt_number,\n",
    "                      _c1 as cpn_number,\n",
    "                      _c2 as origin,\n",
    "                      _c3 as dest,\n",
    "                      _c4 as carrier,\n",
    "                      cast(_c6 AS FLOAT) as amount\n",
    "                   FROM csv.`coupon150720.csv.gz`''')\n",
    "coupons.show(10)"
   ]
  },
  {
   "cell_type": "markdown",
   "metadata": {
    "colab_type": "text",
    "id": "94ZgpmJyrswV"
   },
   "source": [
    "#### From other types of data"
   ]
  },
  {
   "cell_type": "markdown",
   "metadata": {
    "colab_type": "text",
    "id": "rlohAh2GrswV"
   },
   "source": [
    "Apache Parquet is a free and open-source column-oriented data store of the Apache Hadoop ecosystem. It is similar to the other columnar storage file formats available in Hadoop namely RCFile and Optimized RCFile. It is compatible with most of the data processing frameworks in the Hadoop environment."
   ]
  },
  {
   "cell_type": "code",
   "execution_count": 21,
   "metadata": {
    "colab": {
     "base_uri": "https://localhost:8080/",
     "height": 34
    },
    "colab_type": "code",
    "executionInfo": {
     "elapsed": 7555,
     "status": "ok",
     "timestamp": 1593846763350,
     "user": {
      "displayName": "Felipe Fernandez pomar",
      "photoUrl": "https://lh3.googleusercontent.com/a-/AOh14GjAIBB1UUNahiuBW35nhzx_0hZxW-dTtBh-sbrK0Q=s64",
      "userId": "06620814048662575791"
     },
     "user_tz": -120
    },
    "id": "iKFJsNRvrswW",
    "outputId": "28187ee3-a416-42fc-bcb1-b871a1102230"
   },
   "outputs": [
    {
     "data": {
      "text/plain": [
       "<bound method DataFrameReader.json of <pyspark.sql.readwriter.DataFrameReader object at 0x7f3ac9da9358>>"
      ]
     },
     "execution_count": 21,
     "metadata": {
      "tags": []
     },
     "output_type": "execute_result"
    }
   ],
   "source": [
    "spark.read.jdbc #Se utilizaría si hay un cluster de spark y un java database conectivity\n",
    "spark.read.parquet\n",
    "spark.read.json"
   ]
  },
  {
   "cell_type": "markdown",
   "metadata": {
    "colab_type": "text",
    "id": "-AuRYpDfrswb"
   },
   "source": [
    "### Basic operations with DataFrames"
   ]
  },
  {
   "cell_type": "code",
   "execution_count": 22,
   "metadata": {
    "colab": {
     "base_uri": "https://localhost:8080/",
     "height": 442
    },
    "colab_type": "code",
    "executionInfo": {
     "elapsed": 7391,
     "status": "ok",
     "timestamp": 1593846763678,
     "user": {
      "displayName": "Felipe Fernandez pomar",
      "photoUrl": "https://lh3.googleusercontent.com/a-/AOh14GjAIBB1UUNahiuBW35nhzx_0hZxW-dTtBh-sbrK0Q=s64",
      "userId": "06620814048662575791"
     },
     "user_tz": -120
    },
    "id": "RVAAJEgErswc",
    "outputId": "d4d2e833-b11b-468c-aefa-a3ed8feeef05"
   },
   "outputs": [
    {
     "name": "stdout",
     "output_type": "stream",
     "text": [
      "+---+------+\n",
      "| id|  race|\n",
      "+---+------+\n",
      "|  0|hobbit|\n",
      "|  1|   elf|\n",
      "|  2|   elf|\n",
      "|  3|   elf|\n",
      "|  4|   orc|\n",
      "|  5|   orc|\n",
      "|  6|   orc|\n",
      "|  7|   elf|\n",
      "|  8|hobbit|\n",
      "|  9|   elf|\n",
      "| 10|   elf|\n",
      "| 11|hobbit|\n",
      "| 12|   elf|\n",
      "| 13|   elf|\n",
      "| 14|hobbit|\n",
      "| 15|hobbit|\n",
      "| 16|   elf|\n",
      "| 17|hobbit|\n",
      "| 18|   orc|\n",
      "| 19|   elf|\n",
      "+---+------+\n",
      "\n"
     ]
    }
   ],
   "source": [
    "df.show()"
   ]
  },
  {
   "cell_type": "code",
   "execution_count": 23,
   "metadata": {
    "colab": {
     "base_uri": "https://localhost:8080/",
     "height": 204
    },
    "colab_type": "code",
    "executionInfo": {
     "elapsed": 7228,
     "status": "ok",
     "timestamp": 1593846763683,
     "user": {
      "displayName": "Felipe Fernandez pomar",
      "photoUrl": "https://lh3.googleusercontent.com/a-/AOh14GjAIBB1UUNahiuBW35nhzx_0hZxW-dTtBh-sbrK0Q=s64",
      "userId": "06620814048662575791"
     },
     "user_tz": -120
    },
    "id": "-dlku0C27hEq",
    "outputId": "df08762b-72cd-4dfe-98fc-80c9d80f6e7b"
   },
   "outputs": [
    {
     "name": "stdout",
     "output_type": "stream",
     "text": [
      "+---+------+\n",
      "| id|  race|\n",
      "+---+------+\n",
      "|  0|hobbit|\n",
      "|  1|   elf|\n",
      "|  2|   elf|\n",
      "|  3|   elf|\n",
      "|  4|   orc|\n",
      "+---+------+\n",
      "only showing top 5 rows\n",
      "\n"
     ]
    }
   ],
   "source": [
    "df.show(5)"
   ]
  },
  {
   "cell_type": "code",
   "execution_count": 24,
   "metadata": {
    "colab": {
     "base_uri": "https://localhost:8080/",
     "height": 34
    },
    "colab_type": "code",
    "executionInfo": {
     "elapsed": 6897,
     "status": "ok",
     "timestamp": 1593846763685,
     "user": {
      "displayName": "Felipe Fernandez pomar",
      "photoUrl": "https://lh3.googleusercontent.com/a-/AOh14GjAIBB1UUNahiuBW35nhzx_0hZxW-dTtBh-sbrK0Q=s64",
      "userId": "06620814048662575791"
     },
     "user_tz": -120
    },
    "id": "SmFMLKv67lZU",
    "outputId": "8787da34-1a98-4f22-c5f5-b2754886db64"
   },
   "outputs": [
    {
     "data": {
      "text/plain": [
       "[Row(id=0, race='hobbit'), Row(id=1, race='elf'), Row(id=2, race='elf')]"
      ]
     },
     "execution_count": 24,
     "metadata": {
      "tags": []
     },
     "output_type": "execute_result"
    }
   ],
   "source": [
    "df.take(3)"
   ]
  },
  {
   "cell_type": "markdown",
   "metadata": {
    "colab_type": "text",
    "id": "PCvveKu6rswg"
   },
   "source": [
    "### Filtering and selecting\n",
    "\n",
    "Syntax inspired in SQL."
   ]
  },
  {
   "cell_type": "code",
   "execution_count": 25,
   "metadata": {
    "colab": {
     "base_uri": "https://localhost:8080/",
     "height": 34
    },
    "colab_type": "code",
    "executionInfo": {
     "elapsed": 6557,
     "status": "ok",
     "timestamp": 1593846763687,
     "user": {
      "displayName": "Felipe Fernandez pomar",
      "photoUrl": "https://lh3.googleusercontent.com/a-/AOh14GjAIBB1UUNahiuBW35nhzx_0hZxW-dTtBh-sbrK0Q=s64",
      "userId": "06620814048662575791"
     },
     "user_tz": -120
    },
    "id": "U6pMqkMlrswi",
    "outputId": "98ae73c2-ce42-4065-ae2f-01506ddba516"
   },
   "outputs": [
    {
     "data": {
      "text/plain": [
       "DataFrame[id: int]"
      ]
     },
     "execution_count": 25,
     "metadata": {
      "tags": []
     },
     "output_type": "execute_result"
    }
   ],
   "source": [
    "# df.filter()\n",
    "\n",
    "df.select('id')"
   ]
  },
  {
   "cell_type": "markdown",
   "metadata": {
    "colab_type": "text",
    "id": "aXNa8dHdrswm"
   },
   "source": [
    "If we want to filter, we will need to build an instance of `Column`, using square bracket notation."
   ]
  },
  {
   "cell_type": "code",
   "execution_count": 26,
   "metadata": {
    "colab": {
     "base_uri": "https://localhost:8080/",
     "height": 34
    },
    "colab_type": "code",
    "executionInfo": {
     "elapsed": 6543,
     "status": "ok",
     "timestamp": 1593846764167,
     "user": {
      "displayName": "Felipe Fernandez pomar",
      "photoUrl": "https://lh3.googleusercontent.com/a-/AOh14GjAIBB1UUNahiuBW35nhzx_0hZxW-dTtBh-sbrK0Q=s64",
      "userId": "06620814048662575791"
     },
     "user_tz": -120
    },
    "id": "8Zhpqae1rswm",
    "outputId": "5b519970-c76a-4b21-ddc1-1ad178a67acd"
   },
   "outputs": [
    {
     "data": {
      "text/plain": [
       "Column<b'id'>"
      ]
     },
     "execution_count": 26,
     "metadata": {
      "tags": []
     },
     "output_type": "execute_result"
    }
   ],
   "source": [
    "df['id'] #Para expresar notaciones en spark dataframe. Un dataframe de una columna\n",
    "#No es lo mismo que una columna. Una columna es un objeto que nos sirve de referencia."
   ]
  },
  {
   "cell_type": "code",
   "execution_count": 27,
   "metadata": {
    "colab": {
     "base_uri": "https://localhost:8080/",
     "height": 164
    },
    "colab_type": "code",
    "executionInfo": {
     "elapsed": 6350,
     "status": "error",
     "timestamp": 1593846764195,
     "user": {
      "displayName": "Felipe Fernandez pomar",
      "photoUrl": "https://lh3.googleusercontent.com/a-/AOh14GjAIBB1UUNahiuBW35nhzx_0hZxW-dTtBh-sbrK0Q=s64",
      "userId": "06620814048662575791"
     },
     "user_tz": -120
    },
    "id": "saAK4nU88Eb6",
    "outputId": "6514928e-d594-44bc-d3f1-33471d3cce06"
   },
   "outputs": [
    {
     "ename": "TypeError",
     "evalue": "ignored",
     "output_type": "error",
     "traceback": [
      "\u001b[0;31m---------------------------------------------------------------------------\u001b[0m",
      "\u001b[0;31mTypeError\u001b[0m                                 Traceback (most recent call last)",
      "\u001b[0;32m<ipython-input-27-1f772950feca>\u001b[0m in \u001b[0;36m<module>\u001b[0;34m()\u001b[0m\n\u001b[0;32m----> 1\u001b[0;31m \u001b[0mdf\u001b[0m\u001b[0;34m[\u001b[0m\u001b[0;34m'id'\u001b[0m\u001b[0;34m]\u001b[0m\u001b[0;34m.\u001b[0m\u001b[0mshow\u001b[0m\u001b[0;34m(\u001b[0m\u001b[0;34m)\u001b[0m\u001b[0;34m\u001b[0m\u001b[0;34m\u001b[0m\u001b[0m\n\u001b[0m",
      "\u001b[0;31mTypeError\u001b[0m: 'Column' object is not callable"
     ]
    }
   ],
   "source": [
    "df['id'].show()\n"
   ]
  },
  {
   "cell_type": "code",
   "execution_count": 28,
   "metadata": {
    "colab": {
     "base_uri": "https://localhost:8080/",
     "height": 34
    },
    "colab_type": "code",
    "executionInfo": {
     "elapsed": 885,
     "status": "ok",
     "timestamp": 1593846778728,
     "user": {
      "displayName": "Felipe Fernandez pomar",
      "photoUrl": "https://lh3.googleusercontent.com/a-/AOh14GjAIBB1UUNahiuBW35nhzx_0hZxW-dTtBh-sbrK0Q=s64",
      "userId": "06620814048662575791"
     },
     "user_tz": -120
    },
    "id": "W-_-6_Rh8Ja4",
    "outputId": "d654bc9f-91e4-4c60-b67f-3e5195597ca5"
   },
   "outputs": [
    {
     "data": {
      "text/plain": [
       "DataFrame[id: int]"
      ]
     },
     "execution_count": 28,
     "metadata": {
      "tags": []
     },
     "output_type": "execute_result"
    }
   ],
   "source": [
    "df.select(df['id']) #Del dataframe df seleccioname la columna id del dataframe df"
   ]
  },
  {
   "cell_type": "code",
   "execution_count": 29,
   "metadata": {
    "colab": {
     "base_uri": "https://localhost:8080/",
     "height": 34
    },
    "colab_type": "code",
    "executionInfo": {
     "elapsed": 651,
     "status": "ok",
     "timestamp": 1593846778729,
     "user": {
      "displayName": "Felipe Fernandez pomar",
      "photoUrl": "https://lh3.googleusercontent.com/a-/AOh14GjAIBB1UUNahiuBW35nhzx_0hZxW-dTtBh-sbrK0Q=s64",
      "userId": "06620814048662575791"
     },
     "user_tz": -120
    },
    "id": "XFvk1u7C8anj",
    "outputId": "4e691e48-a3c1-48c5-fccc-9635b8716014"
   },
   "outputs": [
    {
     "data": {
      "text/plain": [
       "DataFrame[id: int, race: string]"
      ]
     },
     "execution_count": 29,
     "metadata": {
      "tags": []
     },
     "output_type": "execute_result"
    }
   ],
   "source": [
    "#si quisiera filtar, necesito construir una columna obligatoriamente.\n",
    "\n",
    "df.filter(df['id'] < 5)"
   ]
  },
  {
   "cell_type": "markdown",
   "metadata": {
    "colab_type": "text",
    "id": "RFJsr53Orswq"
   },
   "source": [
    "That's because a comparison between str and int will error out, so spark will not even get the chance to infer to which column we are referring."
   ]
  },
  {
   "cell_type": "code",
   "execution_count": 29,
   "metadata": {
    "colab": {},
    "colab_type": "code",
    "executionInfo": {
     "elapsed": 836,
     "status": "ok",
     "timestamp": 1593846779403,
     "user": {
      "displayName": "Felipe Fernandez pomar",
      "photoUrl": "https://lh3.googleusercontent.com/a-/AOh14GjAIBB1UUNahiuBW35nhzx_0hZxW-dTtBh-sbrK0Q=s64",
      "userId": "06620814048662575791"
     },
     "user_tz": -120
    },
    "id": "tBE4AWDQrswq",
    "tags": [
     "raises-exception"
    ]
   },
   "outputs": [],
   "source": [
    ""
   ]
  },
  {
   "cell_type": "markdown",
   "metadata": {
    "colab_type": "text",
    "id": "NK6ztr5Jrswv"
   },
   "source": [
    "`where` is exactly synonimous with `filter`"
   ]
  },
  {
   "cell_type": "code",
   "execution_count": 30,
   "metadata": {
    "colab": {
     "base_uri": "https://localhost:8080/",
     "height": 130
    },
    "colab_type": "code",
    "executionInfo": {
     "elapsed": 654,
     "status": "error",
     "timestamp": 1593846779722,
     "user": {
      "displayName": "Felipe Fernandez pomar",
      "photoUrl": "https://lh3.googleusercontent.com/a-/AOh14GjAIBB1UUNahiuBW35nhzx_0hZxW-dTtBh-sbrK0Q=s64",
      "userId": "06620814048662575791"
     },
     "user_tz": -120
    },
    "id": "oG-Z_Bw9rsww",
    "outputId": "23ce0778-0db8-498b-fd8f-dae6b0e2dc5b"
   },
   "outputs": [
    {
     "ename": "SyntaxError",
     "evalue": "ignored",
     "output_type": "error",
     "traceback": [
      "\u001b[0;36m  File \u001b[0;32m\"<ipython-input-30-bbcfb4c09979>\"\u001b[0;36m, line \u001b[0;32m2\u001b[0m\n\u001b[0;31m    df_orcs = df['race'] = 'orcs').select('id').show()\u001b[0m\n\u001b[0m                                 ^\u001b[0m\n\u001b[0;31mSyntaxError\u001b[0m\u001b[0;31m:\u001b[0m invalid syntax\n"
     ]
    }
   ],
   "source": [
    "#También vale WHERE omo filter. Se debe a la capacidad híbrida de Spark.\n",
    "df_orcs = df['race'] = 'orcs').select('id').show()\n",
    "df_orcs.show()"
   ]
  },
  {
   "cell_type": "markdown",
   "metadata": {
    "colab_type": "text",
    "id": "KUVHJ-p8rswz"
   },
   "source": [
    "A column is quite different to a Pandas Series. It is just a reference to a column, and can only be used to construct sparkSQL expressions (select, where...). It can't be collected or taken as a one-dimensional sequence:"
   ]
  },
  {
   "cell_type": "code",
   "execution_count": 31,
   "metadata": {
    "colab": {
     "base_uri": "https://localhost:8080/",
     "height": 164
    },
    "colab_type": "code",
    "executionInfo": {
     "elapsed": 580,
     "status": "error",
     "timestamp": 1593846780176,
     "user": {
      "displayName": "Felipe Fernandez pomar",
      "photoUrl": "https://lh3.googleusercontent.com/a-/AOh14GjAIBB1UUNahiuBW35nhzx_0hZxW-dTtBh-sbrK0Q=s64",
      "userId": "06620814048662575791"
     },
     "user_tz": -120
    },
    "id": "VWuLJ0Qtrswz",
    "outputId": "a3d93ad1-fd25-48c0-c261-a76b6b3b0e30",
    "tags": [
     "raises-exception"
    ]
   },
   "outputs": [
    {
     "ename": "TypeError",
     "evalue": "ignored",
     "output_type": "error",
     "traceback": [
      "\u001b[0;31m---------------------------------------------------------------------------\u001b[0m",
      "\u001b[0;31mTypeError\u001b[0m                                 Traceback (most recent call last)",
      "\u001b[0;32m<ipython-input-31-7a575aeaaa22>\u001b[0m in \u001b[0;36m<module>\u001b[0;34m()\u001b[0m\n\u001b[0;32m----> 1\u001b[0;31m \u001b[0mdf\u001b[0m\u001b[0;34m[\u001b[0m\u001b[0;34m'race'\u001b[0m\u001b[0;34m]\u001b[0m\u001b[0;34m.\u001b[0m\u001b[0mshow\u001b[0m\u001b[0;34m(\u001b[0m\u001b[0;34m)\u001b[0m\u001b[0;34m\u001b[0m\u001b[0;34m\u001b[0m\u001b[0m\n\u001b[0m",
      "\u001b[0;31mTypeError\u001b[0m: 'Column' object is not callable"
     ]
    }
   ],
   "source": [
    "df['race'].show()"
   ]
  },
  {
   "cell_type": "markdown",
   "metadata": {
    "colab_type": "text",
    "id": "ufCu1gC_rsw2"
   },
   "source": [
    "#### Exercise\n",
    "\n",
    "Extract all employee ids which correspond to orcs"
   ]
  },
  {
   "cell_type": "code",
   "execution_count": 32,
   "metadata": {
    "colab": {
     "base_uri": "https://localhost:8080/",
     "height": 130
    },
    "colab_type": "code",
    "executionInfo": {
     "elapsed": 620,
     "status": "error",
     "timestamp": 1593846783821,
     "user": {
      "displayName": "Felipe Fernandez pomar",
      "photoUrl": "https://lh3.googleusercontent.com/a-/AOh14GjAIBB1UUNahiuBW35nhzx_0hZxW-dTtBh-sbrK0Q=s64",
      "userId": "06620814048662575791"
     },
     "user_tz": -120
    },
    "id": "i-vDlI9-rsw3",
    "outputId": "f76e2bf5-4d33-4bc8-92fb-3b19cf0efc63"
   },
   "outputs": [
    {
     "ename": "SyntaxError",
     "evalue": "ignored",
     "output_type": "error",
     "traceback": [
      "\u001b[0;36m  File \u001b[0;32m\"<ipython-input-32-7806db8b88ec>\"\u001b[0;36m, line \u001b[0;32m1\u001b[0m\n\u001b[0;31m    df_orcs = df['race'] = 'orcs').select('id').show()\u001b[0m\n\u001b[0m                                 ^\u001b[0m\n\u001b[0;31mSyntaxError\u001b[0m\u001b[0;31m:\u001b[0m invalid syntax\n"
     ]
    }
   ],
   "source": [
    "df_orcs = df['race'] = 'orcs').select('id').show()\n",
    "df_orcs.show()"
   ]
  },
  {
   "cell_type": "markdown",
   "metadata": {
    "colab_type": "text",
    "id": "RIaOyVgHrsw5"
   },
   "source": [
    "### Adding columns\n",
    "\n",
    "Dataframes are immutable, since they are built on top of RDDs, so we can not assign to them. We need to create new DataFrames with the appropriate columns."
   ]
  },
  {
   "cell_type": "code",
   "execution_count": 33,
   "metadata": {
    "colab": {
     "base_uri": "https://localhost:8080/",
     "height": 164
    },
    "colab_type": "code",
    "executionInfo": {
     "elapsed": 667,
     "status": "error",
     "timestamp": 1593846785910,
     "user": {
      "displayName": "Felipe Fernandez pomar",
      "photoUrl": "https://lh3.googleusercontent.com/a-/AOh14GjAIBB1UUNahiuBW35nhzx_0hZxW-dTtBh-sbrK0Q=s64",
      "userId": "06620814048662575791"
     },
     "user_tz": -120
    },
    "id": "vTD3sR7Ersw6",
    "outputId": "da6a60c7-44ac-4077-cd89-699fd4c612ec",
    "tags": [
     "raises-exception"
    ]
   },
   "outputs": [
    {
     "ename": "TypeError",
     "evalue": "ignored",
     "output_type": "error",
     "traceback": [
      "\u001b[0;31m---------------------------------------------------------------------------\u001b[0m",
      "\u001b[0;31mTypeError\u001b[0m                                 Traceback (most recent call last)",
      "\u001b[0;32m<ipython-input-33-e1133617c059>\u001b[0m in \u001b[0;36m<module>\u001b[0;34m()\u001b[0m\n\u001b[0;32m----> 1\u001b[0;31m \u001b[0mdf\u001b[0m\u001b[0;34m[\u001b[0m\u001b[0;34m'square'\u001b[0m\u001b[0;34m]\u001b[0m \u001b[0;34m=\u001b[0m \u001b[0mdf\u001b[0m\u001b[0;34m[\u001b[0m\u001b[0;34m'id'\u001b[0m\u001b[0;34m]\u001b[0m \u001b[0;34m**\u001b[0m \u001b[0;36m2\u001b[0m\u001b[0;34m\u001b[0m\u001b[0;34m\u001b[0m\u001b[0m\n\u001b[0m",
      "\u001b[0;31mTypeError\u001b[0m: 'DataFrame' object does not support item assignment"
     ]
    }
   ],
   "source": [
    "df['square'] = df['id'] ** 2"
   ]
  },
  {
   "cell_type": "code",
   "execution_count": 34,
   "metadata": {
    "colab": {
     "base_uri": "https://localhost:8080/",
     "height": 204
    },
    "colab_type": "code",
    "executionInfo": {
     "elapsed": 1052,
     "status": "ok",
     "timestamp": 1593846786877,
     "user": {
      "displayName": "Felipe Fernandez pomar",
      "photoUrl": "https://lh3.googleusercontent.com/a-/AOh14GjAIBB1UUNahiuBW35nhzx_0hZxW-dTtBh-sbrK0Q=s64",
      "userId": "06620814048662575791"
     },
     "user_tz": -120
    },
    "id": "kjKXzn_qALzX",
    "outputId": "d2c4796c-5a39-42f2-f8c6-c4839d765e18"
   },
   "outputs": [
    {
     "name": "stdout",
     "output_type": "stream",
     "text": [
      "+---+------+------+\n",
      "| id|  race|square|\n",
      "+---+------+------+\n",
      "|  0|hobbit|   0.0|\n",
      "|  1|   elf|   1.0|\n",
      "|  2|   elf|   4.0|\n",
      "|  3|   elf|   9.0|\n",
      "|  4|   orc|  16.0|\n",
      "+---+------+------+\n",
      "only showing top 5 rows\n",
      "\n"
     ]
    }
   ],
   "source": [
    "df2 = df.withColumn('square', df['id'] ** 2)\n",
    "df2.show(5)"
   ]
  },
  {
   "cell_type": "markdown",
   "metadata": {
    "colab_type": "text",
    "id": "8ecdcBSnrsw9"
   },
   "source": [
    "### User defined functions\n",
    "\n",
    "There are many useful functions in pyspark.sql.functions. These work on columns, that is, they are vectorial.\n",
    "\n",
    "We can write User Defined Functions (`udf`s), which allow us to \"vectorize\" operations: write a standard function to process single elements, then build a udf with that that works on columns in a DataFrame, like a SQL function."
   ]
  },
  {
   "cell_type": "code",
   "execution_count": 35,
   "metadata": {
    "colab": {
     "base_uri": "https://localhost:8080/",
     "height": 34
    },
    "colab_type": "code",
    "executionInfo": {
     "elapsed": 863,
     "status": "ok",
     "timestamp": 1593846787353,
     "user": {
      "displayName": "Felipe Fernandez pomar",
      "photoUrl": "https://lh3.googleusercontent.com/a-/AOh14GjAIBB1UUNahiuBW35nhzx_0hZxW-dTtBh-sbrK0Q=s64",
      "userId": "06620814048662575791"
     },
     "user_tz": -120
    },
    "id": "jZ2U43Xarsw-",
    "outputId": "56ef95f8-1a97-4174-f645-ff43671aa40c"
   },
   "outputs": [
    {
     "data": {
      "text/plain": [
       "Column<b'(id + square)'>"
      ]
     },
     "execution_count": 35,
     "metadata": {
      "tags": []
     },
     "output_type": "execute_result"
    }
   ],
   "source": [
    "df2['id'] + df2['square']"
   ]
  },
  {
   "cell_type": "code",
   "execution_count": 36,
   "metadata": {
    "colab": {
     "base_uri": "https://localhost:8080/",
     "height": 198
    },
    "colab_type": "code",
    "executionInfo": {
     "elapsed": 1237,
     "status": "error",
     "timestamp": 1593846788011,
     "user": {
      "displayName": "Felipe Fernandez pomar",
      "photoUrl": "https://lh3.googleusercontent.com/a-/AOh14GjAIBB1UUNahiuBW35nhzx_0hZxW-dTtBh-sbrK0Q=s64",
      "userId": "06620814048662575791"
     },
     "user_tz": -120
    },
    "id": "penmrYshA2kQ",
    "outputId": "2b49ff5e-19ac-4dee-803d-e2ddaa31ab86"
   },
   "outputs": [
    {
     "ename": "TypeError",
     "evalue": "ignored",
     "output_type": "error",
     "traceback": [
      "\u001b[0;31m---------------------------------------------------------------------------\u001b[0m",
      "\u001b[0;31mTypeError\u001b[0m                                 Traceback (most recent call last)",
      "\u001b[0;32m<ipython-input-36-e1bd6a78301e>\u001b[0m in \u001b[0;36m<module>\u001b[0;34m()\u001b[0m\n\u001b[1;32m      3\u001b[0m \u001b[0;31m#Evidentemente no podemos aplicar la función\u001b[0m\u001b[0;34m\u001b[0m\u001b[0;34m\u001b[0m\u001b[0;34m\u001b[0m\u001b[0m\n\u001b[1;32m      4\u001b[0m \u001b[0;31m#Pero podemos empaquetar la función\u001b[0m\u001b[0;34m\u001b[0m\u001b[0;34m\u001b[0m\u001b[0;34m\u001b[0m\u001b[0m\n\u001b[0;32m----> 5\u001b[0;31m \u001b[0mmath\u001b[0m\u001b[0;34m.\u001b[0m\u001b[0mlog1p\u001b[0m\u001b[0;34m(\u001b[0m\u001b[0mdf\u001b[0m\u001b[0;34m[\u001b[0m\u001b[0;34m'id'\u001b[0m\u001b[0;34m]\u001b[0m\u001b[0;34m)\u001b[0m\u001b[0;34m\u001b[0m\u001b[0;34m\u001b[0m\u001b[0m\n\u001b[0m",
      "\u001b[0;31mTypeError\u001b[0m: must be real number, not Column"
     ]
    }
   ],
   "source": [
    "import math\n",
    "\n",
    "#Evidentemente no podemos aplicar la función\n",
    "#Pero podemos empaquetar la función\n",
    "math.log1p(df['id'])"
   ]
  },
  {
   "cell_type": "markdown",
   "metadata": {
    "colab_type": "text",
    "id": "3EdRDzLtrsxD"
   },
   "source": [
    "This errors out because \n",
    "\n",
    "```python\n",
    "math.log1p\n",
    "```\n",
    "\n",
    "is not a udf: it doesn't know how to work with strings or Column objects:"
   ]
  },
  {
   "cell_type": "code",
   "execution_count": 37,
   "metadata": {
    "colab": {
     "base_uri": "https://localhost:8080/",
     "height": 442
    },
    "colab_type": "code",
    "executionInfo": {
     "elapsed": 1006,
     "status": "ok",
     "timestamp": 1593846788304,
     "user": {
      "displayName": "Felipe Fernandez pomar",
      "photoUrl": "https://lh3.googleusercontent.com/a-/AOh14GjAIBB1UUNahiuBW35nhzx_0hZxW-dTtBh-sbrK0Q=s64",
      "userId": "06620814048662575791"
     },
     "user_tz": -120
    },
    "id": "Nw5fDaZxrsxE",
    "outputId": "635fdcf8-831a-43a9-ad05-f104e2800b0f",
    "tags": [
     "raises-exception"
    ]
   },
   "outputs": [
    {
     "name": "stdout",
     "output_type": "stream",
     "text": [
      "+--------------------+\n",
      "|             COS(id)|\n",
      "+--------------------+\n",
      "|                 1.0|\n",
      "|  0.5403023058681398|\n",
      "| -0.4161468365471424|\n",
      "| -0.9899924966004454|\n",
      "| -0.6536436208636119|\n",
      "| 0.28366218546322625|\n",
      "|  0.9601702866503661|\n",
      "|  0.7539022543433046|\n",
      "|-0.14550003380861354|\n",
      "| -0.9111302618846769|\n",
      "| -0.8390715290764524|\n",
      "|0.004425697988050785|\n",
      "|  0.8438539587324921|\n",
      "|  0.9074467814501962|\n",
      "|  0.1367372182078336|\n",
      "| -0.7596879128588213|\n",
      "| -0.9576594803233847|\n",
      "|-0.27516333805159693|\n",
      "|  0.6603167082440802|\n",
      "|  0.9887046181866692|\n",
      "+--------------------+\n",
      "\n"
     ]
    }
   ],
   "source": [
    "from pyspark.sql import functions\n",
    "\n",
    "df.select(functions.cos(df['id'])).show()"
   ]
  },
  {
   "cell_type": "markdown",
   "metadata": {
    "colab_type": "text",
    "id": "jIiX17OFrsxI"
   },
   "source": [
    "But we can transform it into a udf:"
   ]
  },
  {
   "cell_type": "code",
   "execution_count": 38,
   "metadata": {
    "colab": {
     "base_uri": "https://localhost:8080/",
     "height": 204
    },
    "colab_type": "code",
    "executionInfo": {
     "elapsed": 1057,
     "status": "ok",
     "timestamp": 1593846789691,
     "user": {
      "displayName": "Felipe Fernandez pomar",
      "photoUrl": "https://lh3.googleusercontent.com/a-/AOh14GjAIBB1UUNahiuBW35nhzx_0hZxW-dTtBh-sbrK0Q=s64",
      "userId": "06620814048662575791"
     },
     "user_tz": -120
    },
    "id": "bllVnazIrsxI",
    "outputId": "4ed28aa8-951a-445f-96b1-10c48c0287a6"
   },
   "outputs": [
    {
     "name": "stdout",
     "output_type": "stream",
     "text": [
      "+---------+\n",
      "|log1p(id)|\n",
      "+---------+\n",
      "|      0.0|\n",
      "|0.6931472|\n",
      "|1.0986123|\n",
      "|1.3862944|\n",
      "| 1.609438|\n",
      "+---------+\n",
      "only showing top 5 rows\n",
      "\n"
     ]
    }
   ],
   "source": [
    "my_udf = functions.udf(math.log1p, returnType = types.FloatType()) #Empaquetamos la función para poder aplicarla\n",
    "#Si quiero que devuelva algo específico returnType = \n",
    "df.select(my_udf(df['id'])).show(5) #Aplicamos la función"
   ]
  },
  {
   "cell_type": "markdown",
   "metadata": {
    "colab_type": "text",
    "id": "RiOam4EHrsxL"
   },
   "source": [
    "We can do the same with any function we dream up:"
   ]
  },
  {
   "cell_type": "code",
   "execution_count": 39,
   "metadata": {
    "colab": {
     "base_uri": "https://localhost:8080/",
     "height": 204
    },
    "colab_type": "code",
    "executionInfo": {
     "elapsed": 649,
     "status": "ok",
     "timestamp": 1593846792074,
     "user": {
      "displayName": "Felipe Fernandez pomar",
      "photoUrl": "https://lh3.googleusercontent.com/a-/AOh14GjAIBB1UUNahiuBW35nhzx_0hZxW-dTtBh-sbrK0Q=s64",
      "userId": "06620814048662575791"
     },
     "user_tz": -120
    },
    "id": "5LLqP7JMrsxM",
    "outputId": "7845d619-2f49-4320-e431-ae38704b02ce"
   },
   "outputs": [
    {
     "name": "stdout",
     "output_type": "stream",
     "text": [
      "+--------------+\n",
      "|<lambda>(race)|\n",
      "+--------------+\n",
      "|            it|\n",
      "|            lf|\n",
      "|            lf|\n",
      "|            lf|\n",
      "|            rc|\n",
      "+--------------+\n",
      "only showing top 5 rows\n",
      "\n"
     ]
    }
   ],
   "source": [
    "#También podemos aplicar una lambda. Lo que sea.\n",
    "last_2 = functions.udf(lambda word: word[-2:])\n",
    "df.select(last_2('race')).show(5)"
   ]
  },
  {
   "cell_type": "markdown",
   "metadata": {
    "colab_type": "text",
    "id": "TEre8twHrsxP"
   },
   "source": [
    "If we want the resulting columns to be of a particular type, we need to specify the return type. This is because in Python return types can not be inferred."
   ]
  },
  {
   "cell_type": "code",
   "execution_count": 40,
   "metadata": {
    "colab": {
     "base_uri": "https://localhost:8080/",
     "height": 68
    },
    "colab_type": "code",
    "executionInfo": {
     "elapsed": 839,
     "status": "ok",
     "timestamp": 1593846794119,
     "user": {
      "displayName": "Felipe Fernandez pomar",
      "photoUrl": "https://lh3.googleusercontent.com/a-/AOh14GjAIBB1UUNahiuBW35nhzx_0hZxW-dTtBh-sbrK0Q=s64",
      "userId": "06620814048662575791"
     },
     "user_tz": -120
    },
    "id": "bMkCsMCBrsxP",
    "outputId": "fd09f773-9665-44f4-8581-cb890b043b53"
   },
   "outputs": [
    {
     "name": "stdout",
     "output_type": "stream",
     "text": [
      "root\n",
      " |-- log1p(id): float (nullable = true)\n",
      "\n"
     ]
    }
   ],
   "source": [
    "df.select(my_udf(df['id'])).printSchema()"
   ]
  },
  {
   "cell_type": "markdown",
   "metadata": {
    "colab_type": "text",
    "id": "QEtAiTvwrsxT"
   },
   "source": [
    "Think about this function: what is its return type?"
   ]
  },
  {
   "cell_type": "code",
   "execution_count": 41,
   "metadata": {
    "colab": {},
    "colab_type": "code",
    "executionInfo": {
     "elapsed": 1004,
     "status": "ok",
     "timestamp": 1593846794800,
     "user": {
      "displayName": "Felipe Fernandez pomar",
      "photoUrl": "https://lh3.googleusercontent.com/a-/AOh14GjAIBB1UUNahiuBW35nhzx_0hZxW-dTtBh-sbrK0Q=s64",
      "userId": "06620814048662575791"
     },
     "user_tz": -120
    },
    "id": "eCyZ2YxHrsxU"
   },
   "outputs": [],
   "source": [
    "def incognito (a, b):\n",
    "  return a + b"
   ]
  },
  {
   "cell_type": "code",
   "execution_count": 42,
   "metadata": {
    "colab": {
     "base_uri": "https://localhost:8080/",
     "height": 34
    },
    "colab_type": "code",
    "executionInfo": {
     "elapsed": 1147,
     "status": "ok",
     "timestamp": 1593846795130,
     "user": {
      "displayName": "Felipe Fernandez pomar",
      "photoUrl": "https://lh3.googleusercontent.com/a-/AOh14GjAIBB1UUNahiuBW35nhzx_0hZxW-dTtBh-sbrK0Q=s64",
      "userId": "06620814048662575791"
     },
     "user_tz": -120
    },
    "id": "N43oF9P4D5cg",
    "outputId": "8714c9e4-9961-494d-d820-227603065623"
   },
   "outputs": [
    {
     "data": {
      "text/plain": [
       "DataFrame[id: int, race: string, new_column: double]"
      ]
     },
     "execution_count": 42,
     "metadata": {
      "tags": []
     },
     "output_type": "execute_result"
    }
   ],
   "source": [
    "df.select('*',\n",
    "          my_udf('id').cast(types.DoubleType()).alias('new_column'))"
   ]
  },
  {
   "cell_type": "markdown",
   "metadata": {
    "colab_type": "text",
    "id": "PNVp6HXSrsxW"
   },
   "source": [
    "#### Exercise: \n",
    "\n",
    "Create a 'hitpoints' field in our df. make it 30000 for halflings, 40000 for elves and 70000 for orcs.\n",
    "\n"
   ]
  },
  {
   "cell_type": "code",
   "execution_count": 43,
   "metadata": {
    "colab": {
     "base_uri": "https://localhost:8080/",
     "height": 34
    },
    "colab_type": "code",
    "executionInfo": {
     "elapsed": 895,
     "status": "ok",
     "timestamp": 1593846795443,
     "user": {
      "displayName": "Felipe Fernandez pomar",
      "photoUrl": "https://lh3.googleusercontent.com/a-/AOh14GjAIBB1UUNahiuBW35nhzx_0hZxW-dTtBh-sbrK0Q=s64",
      "userId": "06620814048662575791"
     },
     "user_tz": -120
    },
    "id": "MQXMkAwHrsxX",
    "outputId": "5fecd32e-980a-4903-8a74-be8813387335"
   },
   "outputs": [
    {
     "data": {
      "text/plain": [
       "30000"
      ]
     },
     "execution_count": 43,
     "metadata": {
      "tags": []
     },
     "output_type": "execute_result"
    }
   ],
   "source": [
    "from pyspark.sql import functions\n",
    "\n",
    "def hitpoints(race):\n",
    "  reference = {'elf' : 40000, 'orc' : 70000, 'hobbit' : 30000}\n",
    "  return reference[race]\n",
    "\n",
    "hitpoints('hobbit')"
   ]
  },
  {
   "cell_type": "code",
   "execution_count": 45,
   "metadata": {
    "colab": {
     "base_uri": "https://localhost:8080/",
     "height": 442
    },
    "colab_type": "code",
    "executionInfo": {
     "elapsed": 670,
     "status": "ok",
     "timestamp": 1593846800650,
     "user": {
      "displayName": "Felipe Fernandez pomar",
      "photoUrl": "https://lh3.googleusercontent.com/a-/AOh14GjAIBB1UUNahiuBW35nhzx_0hZxW-dTtBh-sbrK0Q=s64",
      "userId": "06620814048662575791"
     },
     "user_tz": -120
    },
    "id": "V0_c3nlnG9SV",
    "outputId": "05cfdd16-5b73-447b-bbb5-d34c3b6a6a4e"
   },
   "outputs": [
    {
     "name": "stdout",
     "output_type": "stream",
     "text": [
      "+---+------+-----+\n",
      "| id|  race|   hp|\n",
      "+---+------+-----+\n",
      "|  0|hobbit|30000|\n",
      "|  1|   elf|40000|\n",
      "|  2|   elf|40000|\n",
      "|  3|   elf|40000|\n",
      "|  4|   orc|70000|\n",
      "|  5|   orc|70000|\n",
      "|  6|   orc|70000|\n",
      "|  7|   elf|40000|\n",
      "|  8|hobbit|30000|\n",
      "|  9|   elf|40000|\n",
      "| 10|   elf|40000|\n",
      "| 11|hobbit|30000|\n",
      "| 12|   elf|40000|\n",
      "| 13|   elf|40000|\n",
      "| 14|hobbit|30000|\n",
      "| 15|hobbit|30000|\n",
      "| 16|   elf|40000|\n",
      "| 17|hobbit|30000|\n",
      "| 18|   orc|70000|\n",
      "| 19|   elf|40000|\n",
      "+---+------+-----+\n",
      "\n"
     ]
    }
   ],
   "source": [
    "hp_udf = functions.udf(hitpoints, types.IntegerType())\n",
    "hp_udf(df['race'])\n",
    "\n",
    "df3 = df.withColumn('hp', hp_udf('race'))\n",
    "df3.show()"
   ]
  },
  {
   "cell_type": "markdown",
   "metadata": {
    "colab_type": "text",
    "id": "uGL3dsNMrsxa"
   },
   "source": [
    "If we have a column that is not the desired type, we can convert it with `cast`."
   ]
  },
  {
   "cell_type": "markdown",
   "metadata": {
    "colab_type": "text",
    "id": "b5-YUVM6rsxd"
   },
   "source": [
    "### Summary statistics\n",
    "\n",
    "https://databricks.com/blog/2015/06/02/statistical-and-mathematical-functions-with-dataframes-in-spark.html"
   ]
  },
  {
   "cell_type": "code",
   "execution_count": 46,
   "metadata": {
    "colab": {
     "base_uri": "https://localhost:8080/",
     "height": 34
    },
    "colab_type": "code",
    "executionInfo": {
     "elapsed": 738,
     "status": "ok",
     "timestamp": 1593846801960,
     "user": {
      "displayName": "Felipe Fernandez pomar",
      "photoUrl": "https://lh3.googleusercontent.com/a-/AOh14GjAIBB1UUNahiuBW35nhzx_0hZxW-dTtBh-sbrK0Q=s64",
      "userId": "06620814048662575791"
     },
     "user_tz": -120
    },
    "id": "4S3UYRALKIF2",
    "outputId": "618e9b27-9775-4711-9127-b4f20ca0ad76"
   },
   "outputs": [
    {
     "data": {
      "text/plain": [
       "-0.14067080955835778"
      ]
     },
     "execution_count": 46,
     "metadata": {
      "tags": []
     },
     "output_type": "execute_result"
    }
   ],
   "source": [
    "df3.stat.corr('id', 'hp')"
   ]
  },
  {
   "cell_type": "code",
   "execution_count": 47,
   "metadata": {
    "colab": {
     "base_uri": "https://localhost:8080/",
     "height": 34
    },
    "colab_type": "code",
    "executionInfo": {
     "elapsed": 939,
     "status": "ok",
     "timestamp": 1593846802683,
     "user": {
      "displayName": "Felipe Fernandez pomar",
      "photoUrl": "https://lh3.googleusercontent.com/a-/AOh14GjAIBB1UUNahiuBW35nhzx_0hZxW-dTtBh-sbrK0Q=s64",
      "userId": "06620814048662575791"
     },
     "user_tz": -120
    },
    "id": "3xgr_RTprsxa",
    "outputId": "a5676c66-a1d7-4515-ef44-3e4603dec1b8"
   },
   "outputs": [
    {
     "data": {
      "text/plain": [
       "-12105.263157894737"
      ]
     },
     "execution_count": 47,
     "metadata": {
      "tags": []
     },
     "output_type": "execute_result"
    }
   ],
   "source": [
    "df3.stat.cov('id', 'hp')"
   ]
  },
  {
   "cell_type": "markdown",
   "metadata": {
    "colab_type": "text",
    "id": "VuF4im2prsxf"
   },
   "source": [
    "### .crosstab()\n",
    "\n",
    "Crosstab returns the contingency table for two columns, as a DataFrame."
   ]
  },
  {
   "cell_type": "code",
   "execution_count": 48,
   "metadata": {
    "colab": {
     "base_uri": "https://localhost:8080/",
     "height": 442
    },
    "colab_type": "code",
    "executionInfo": {
     "elapsed": 958,
     "status": "ok",
     "timestamp": 1593846803516,
     "user": {
      "displayName": "Felipe Fernandez pomar",
      "photoUrl": "https://lh3.googleusercontent.com/a-/AOh14GjAIBB1UUNahiuBW35nhzx_0hZxW-dTtBh-sbrK0Q=s64",
      "userId": "06620814048662575791"
     },
     "user_tz": -120
    },
    "id": "SHi2pFrNrsxg",
    "outputId": "b5b99420-8d43-4b58-96c2-15e47c612850"
   },
   "outputs": [
    {
     "name": "stdout",
     "output_type": "stream",
     "text": [
      "+---+------+-----+------+\n",
      "| id|  race|   hp|  land|\n",
      "+---+------+-----+------+\n",
      "|  0|hobbit|30000|gondor|\n",
      "|  1|   elf|40000| rohan|\n",
      "|  2|   elf|40000| rohan|\n",
      "|  3|   elf|40000|gondor|\n",
      "|  4|   orc|70000| rohan|\n",
      "|  5|   orc|70000|gondor|\n",
      "|  6|   orc|70000| rohan|\n",
      "|  7|   elf|40000| rohan|\n",
      "|  8|hobbit|30000| rohan|\n",
      "|  9|   elf|40000|gondor|\n",
      "| 10|   elf|40000|gondor|\n",
      "| 11|hobbit|30000| rohan|\n",
      "| 12|   elf|40000| rohan|\n",
      "| 13|   elf|40000|gondor|\n",
      "| 14|hobbit|30000| rohan|\n",
      "| 15|hobbit|30000|gondor|\n",
      "| 16|   elf|40000| rohan|\n",
      "| 17|hobbit|30000| rohan|\n",
      "| 18|   orc|70000| rohan|\n",
      "| 19|   elf|40000|gondor|\n",
      "+---+------+-----+------+\n",
      "\n"
     ]
    }
   ],
   "source": [
    "random.seed(17)\n",
    "land = functions.udf(lambda: random.choice(['gondor', 'rohan']))\n",
    "\n",
    "df4 = df3.withColumn('land', land())\n",
    "df4.show()\n",
    "\n",
    "#A partir de nada"
   ]
  },
  {
   "cell_type": "code",
   "execution_count": 49,
   "metadata": {
    "colab": {
     "base_uri": "https://localhost:8080/",
     "height": 204
    },
    "colab_type": "code",
    "executionInfo": {
     "elapsed": 1122,
     "status": "ok",
     "timestamp": 1593846804101,
     "user": {
      "displayName": "Felipe Fernandez pomar",
      "photoUrl": "https://lh3.googleusercontent.com/a-/AOh14GjAIBB1UUNahiuBW35nhzx_0hZxW-dTtBh-sbrK0Q=s64",
      "userId": "06620814048662575791"
     },
     "user_tz": -120
    },
    "id": "2t4gFzd-K1H6",
    "outputId": "8f98980a-ea73-41a8-b663-08314488c627"
   },
   "outputs": [
    {
     "name": "stdout",
     "output_type": "stream",
     "text": [
      "+---+------+-----+------+\n",
      "| id|  race|   hp|  land|\n",
      "+---+------+-----+------+\n",
      "|  0|hobbit|30000|gondor|\n",
      "|  1|   elf|40000| rohan|\n",
      "|  2|   elf|40000|gondor|\n",
      "|  3|   elf|40000|gondor|\n",
      "|  4|   orc|70000| rohan|\n",
      "+---+------+-----+------+\n",
      "only showing top 5 rows\n",
      "\n"
     ]
    }
   ],
   "source": [
    "df4.cache().show(5)"
   ]
  },
  {
   "cell_type": "code",
   "execution_count": 50,
   "metadata": {
    "colab": {
     "base_uri": "https://localhost:8080/",
     "height": 153
    },
    "colab_type": "code",
    "executionInfo": {
     "elapsed": 3737,
     "status": "ok",
     "timestamp": 1593846807179,
     "user": {
      "displayName": "Felipe Fernandez pomar",
      "photoUrl": "https://lh3.googleusercontent.com/a-/AOh14GjAIBB1UUNahiuBW35nhzx_0hZxW-dTtBh-sbrK0Q=s64",
      "userId": "06620814048662575791"
     },
     "user_tz": -120
    },
    "id": "RIbbCAc1Lomt",
    "outputId": "c650b798-9b3e-4d0d-f42e-0ed697463f42"
   },
   "outputs": [
    {
     "name": "stdout",
     "output_type": "stream",
     "text": [
      "+---------+------+-----+\n",
      "|race_land|gondor|rohan|\n",
      "+---------+------+-----+\n",
      "|   hobbit|     3|    3|\n",
      "|      orc|     1|    3|\n",
      "|      elf|     6|    4|\n",
      "+---------+------+-----+\n",
      "\n"
     ]
    }
   ],
   "source": [
    "df4.crosstab('race', 'land').show()"
   ]
  },
  {
   "cell_type": "markdown",
   "metadata": {
    "colab_type": "text",
    "id": "nBg5w5W8rsxm"
   },
   "source": [
    "### Grouping\n",
    "\n",
    "Grouping works very similarly to Pandas: executing groupby (or groupBy) on a DataFrame will return an object (a GroupedData) that can then be aggregated to obtain the results."
   ]
  },
  {
   "cell_type": "code",
   "execution_count": 51,
   "metadata": {
    "colab": {
     "base_uri": "https://localhost:8080/",
     "height": 34
    },
    "colab_type": "code",
    "executionInfo": {
     "elapsed": 2749,
     "status": "ok",
     "timestamp": 1593846807181,
     "user": {
      "displayName": "Felipe Fernandez pomar",
      "photoUrl": "https://lh3.googleusercontent.com/a-/AOh14GjAIBB1UUNahiuBW35nhzx_0hZxW-dTtBh-sbrK0Q=s64",
      "userId": "06620814048662575791"
     },
     "user_tz": -120
    },
    "id": "gXvGFV_Yrsxm",
    "outputId": "f87b20a9-54cc-48d3-b656-9b73669c5e93"
   },
   "outputs": [
    {
     "data": {
      "text/plain": [
       "<pyspark.sql.group.GroupedData at 0x7f3ac9da4f60>"
      ]
     },
     "execution_count": 51,
     "metadata": {
      "tags": []
     },
     "output_type": "execute_result"
    }
   ],
   "source": [
    "gd = df4.groupBy('land')\n",
    "gd"
   ]
  },
  {
   "cell_type": "markdown",
   "metadata": {
    "colab_type": "text",
    "id": "sJgnY1_Krsxo"
   },
   "source": [
    "GroupedData has several aggregation functions defined:"
   ]
  },
  {
   "cell_type": "code",
   "execution_count": 52,
   "metadata": {
    "colab": {
     "base_uri": "https://localhost:8080/",
     "height": 136
    },
    "colab_type": "code",
    "executionInfo": {
     "elapsed": 3657,
     "status": "ok",
     "timestamp": 1593846809123,
     "user": {
      "displayName": "Felipe Fernandez pomar",
      "photoUrl": "https://lh3.googleusercontent.com/a-/AOh14GjAIBB1UUNahiuBW35nhzx_0hZxW-dTtBh-sbrK0Q=s64",
      "userId": "06620814048662575791"
     },
     "user_tz": -120
    },
    "id": "8le1h6k2rsxp",
    "outputId": "12a3b922-857d-4c41-c299-97a4fbf91790"
   },
   "outputs": [
    {
     "name": "stdout",
     "output_type": "stream",
     "text": [
      "+------+-------+\n",
      "|  land|sum(hp)|\n",
      "+------+-------+\n",
      "| rohan| 460000|\n",
      "|gondor| 400000|\n",
      "+------+-------+\n",
      "\n"
     ]
    }
   ],
   "source": [
    "gd.sum('hp').show()"
   ]
  },
  {
   "cell_type": "markdown",
   "metadata": {
    "colab_type": "text",
    "id": "e9YESZ1Prsxr"
   },
   "source": [
    "We can do several aggregations in a single step, with a number of different syntaxes:"
   ]
  },
  {
   "cell_type": "code",
   "execution_count": 53,
   "metadata": {
    "colab": {
     "base_uri": "https://localhost:8080/",
     "height": 136
    },
    "colab_type": "code",
    "executionInfo": {
     "elapsed": 4042,
     "status": "ok",
     "timestamp": 1593846810552,
     "user": {
      "displayName": "Felipe Fernandez pomar",
      "photoUrl": "https://lh3.googleusercontent.com/a-/AOh14GjAIBB1UUNahiuBW35nhzx_0hZxW-dTtBh-sbrK0Q=s64",
      "userId": "06620814048662575791"
     },
     "user_tz": -120
    },
    "id": "vr2-1rdersxs",
    "outputId": "62afbe3f-3e26-4ed2-e15f-06b006daf0e6"
   },
   "outputs": [
    {
     "name": "stdout",
     "output_type": "stream",
     "text": [
      "+------+-------+---------+\n",
      "|  land|avg(hp)|count(id)|\n",
      "+------+-------+---------+\n",
      "| rohan|46000.0|       10|\n",
      "|gondor|40000.0|       10|\n",
      "+------+-------+---------+\n",
      "\n"
     ]
    }
   ],
   "source": [
    "gd.agg({'hp' : 'mean', 'id' : 'count'}).show()"
   ]
  },
  {
   "cell_type": "code",
   "execution_count": 54,
   "metadata": {
    "colab": {
     "base_uri": "https://localhost:8080/",
     "height": 136
    },
    "colab_type": "code",
    "executionInfo": {
     "elapsed": 4741,
     "status": "ok",
     "timestamp": 1593846811781,
     "user": {
      "displayName": "Felipe Fernandez pomar",
      "photoUrl": "https://lh3.googleusercontent.com/a-/AOh14GjAIBB1UUNahiuBW35nhzx_0hZxW-dTtBh-sbrK0Q=s64",
      "userId": "06620814048662575791"
     },
     "user_tz": -120
    },
    "id": "xQLNATnrM3Yb",
    "outputId": "bb1f91a0-d2ae-495b-d890-00993b80df7f"
   },
   "outputs": [
    {
     "name": "stdout",
     "output_type": "stream",
     "text": [
      "+------+-------+---------+-------+\n",
      "|  land|avg(hp)|count(id)|avg(id)|\n",
      "+------+-------+---------+-------+\n",
      "| rohan|46000.0|       10|   10.0|\n",
      "|gondor|40000.0|       10|    9.0|\n",
      "+------+-------+---------+-------+\n",
      "\n"
     ]
    }
   ],
   "source": [
    "gd.agg(functions.mean('hp'), \n",
    "       functions.count('id'),\n",
    "       functions.mean('id')).show()"
   ]
  },
  {
   "cell_type": "code",
   "execution_count": 55,
   "metadata": {
    "colab": {
     "base_uri": "https://localhost:8080/",
     "height": 136
    },
    "colab_type": "code",
    "executionInfo": {
     "elapsed": 5605,
     "status": "ok",
     "timestamp": 1593846813073,
     "user": {
      "displayName": "Felipe Fernandez pomar",
      "photoUrl": "https://lh3.googleusercontent.com/a-/AOh14GjAIBB1UUNahiuBW35nhzx_0hZxW-dTtBh-sbrK0Q=s64",
      "userId": "06620814048662575791"
     },
     "user_tz": -120
    },
    "id": "iYeyJUpENLdI",
    "outputId": "25ecfef8-9cac-4b05-f3f4-38a619fbb0f9"
   },
   "outputs": [
    {
     "name": "stdout",
     "output_type": "stream",
     "text": [
      "+--------+------------------+\n",
      "|(id < 5)|           avg(hp)|\n",
      "+--------+------------------+\n",
      "|    true|           44000.0|\n",
      "|   false|42666.666666666664|\n",
      "+--------+------------------+\n",
      "\n"
     ]
    }
   ],
   "source": [
    "df4.groupby(df4['id'] < 5).mean('hp').show()"
   ]
  },
  {
   "cell_type": "markdown",
   "metadata": {
    "colab_type": "text",
    "id": "y2rVO_cWrsxv"
   },
   "source": [
    "### Intersections\n",
    "\n",
    "Ver much like SQL joins. We can specify the columns and the join method (left, right, inner, outer) or we can let Spark infer them."
   ]
  },
  {
   "cell_type": "code",
   "execution_count": 56,
   "metadata": {
    "colab": {
     "base_uri": "https://localhost:8080/",
     "height": 136
    },
    "colab_type": "code",
    "executionInfo": {
     "elapsed": 5759,
     "status": "ok",
     "timestamp": 1593846814330,
     "user": {
      "displayName": "Felipe Fernandez pomar",
      "photoUrl": "https://lh3.googleusercontent.com/a-/AOh14GjAIBB1UUNahiuBW35nhzx_0hZxW-dTtBh-sbrK0Q=s64",
      "userId": "06620814048662575791"
     },
     "user_tz": -120
    },
    "id": "CAzva1gArsxw",
    "outputId": "77ea75bd-7294-4032-e99f-b8d2b2e0f1e7"
   },
   "outputs": [
    {
     "name": "stdout",
     "output_type": "stream",
     "text": [
      "+------+-------+---------+-------+\n",
      "|  land|avg(hp)|count(id)|avg(id)|\n",
      "+------+-------+---------+-------+\n",
      "| rohan|46000.0|       10|   10.0|\n",
      "|gondor|40000.0|       10|    9.0|\n",
      "+------+-------+---------+-------+\n",
      "\n"
     ]
    }
   ],
   "source": [
    "#Son joins como los de SQL y los de Pandas\n",
    "result = gd.agg(functions.mean('hp'), \n",
    "       functions.count('id'),\n",
    "       functions.mean('id'))\n",
    "\n",
    "result.show()"
   ]
  },
  {
   "cell_type": "code",
   "execution_count": 57,
   "metadata": {
    "colab": {
     "base_uri": "https://localhost:8080/",
     "height": 1000
    },
    "colab_type": "code",
    "executionInfo": {
     "elapsed": 5368,
     "status": "error",
     "timestamp": 1593846814336,
     "user": {
      "displayName": "Felipe Fernandez pomar",
      "photoUrl": "https://lh3.googleusercontent.com/a-/AOh14GjAIBB1UUNahiuBW35nhzx_0hZxW-dTtBh-sbrK0Q=s64",
      "userId": "06620814048662575791"
     },
     "user_tz": -120
    },
    "id": "pIqXCEorNkSd",
    "outputId": "cd5ec1c5-9514-4f3e-e6ee-e2928ddaf683"
   },
   "outputs": [
    {
     "ename": "AnalysisException",
     "evalue": "ignored",
     "output_type": "error",
     "traceback": [
      "\u001b[0;31m---------------------------------------------------------------------------\u001b[0m",
      "\u001b[0;31mPy4JJavaError\u001b[0m                             Traceback (most recent call last)",
      "\u001b[0;32m/usr/local/lib/python3.6/dist-packages/pyspark/sql/utils.py\u001b[0m in \u001b[0;36mdeco\u001b[0;34m(*a, **kw)\u001b[0m\n\u001b[1;32m     62\u001b[0m         \u001b[0;32mtry\u001b[0m\u001b[0;34m:\u001b[0m\u001b[0;34m\u001b[0m\u001b[0;34m\u001b[0m\u001b[0m\n\u001b[0;32m---> 63\u001b[0;31m             \u001b[0;32mreturn\u001b[0m \u001b[0mf\u001b[0m\u001b[0;34m(\u001b[0m\u001b[0;34m*\u001b[0m\u001b[0ma\u001b[0m\u001b[0;34m,\u001b[0m \u001b[0;34m**\u001b[0m\u001b[0mkw\u001b[0m\u001b[0;34m)\u001b[0m\u001b[0;34m\u001b[0m\u001b[0;34m\u001b[0m\u001b[0m\n\u001b[0m\u001b[1;32m     64\u001b[0m         \u001b[0;32mexcept\u001b[0m \u001b[0mpy4j\u001b[0m\u001b[0;34m.\u001b[0m\u001b[0mprotocol\u001b[0m\u001b[0;34m.\u001b[0m\u001b[0mPy4JJavaError\u001b[0m \u001b[0;32mas\u001b[0m \u001b[0me\u001b[0m\u001b[0;34m:\u001b[0m\u001b[0;34m\u001b[0m\u001b[0;34m\u001b[0m\u001b[0m\n",
      "\u001b[0;32m/usr/local/lib/python3.6/dist-packages/py4j/protocol.py\u001b[0m in \u001b[0;36mget_return_value\u001b[0;34m(answer, gateway_client, target_id, name)\u001b[0m\n\u001b[1;32m    327\u001b[0m                     \u001b[0;34m\"An error occurred while calling {0}{1}{2}.\\n\"\u001b[0m\u001b[0;34m.\u001b[0m\u001b[0;34m\u001b[0m\u001b[0;34m\u001b[0m\u001b[0m\n\u001b[0;32m--> 328\u001b[0;31m                     format(target_id, \".\", name), value)\n\u001b[0m\u001b[1;32m    329\u001b[0m             \u001b[0;32melse\u001b[0m\u001b[0;34m:\u001b[0m\u001b[0;34m\u001b[0m\u001b[0;34m\u001b[0m\u001b[0m\n",
      "\u001b[0;31mPy4JJavaError\u001b[0m: An error occurred while calling o506.showString.\n: org.apache.spark.sql.AnalysisException: Detected implicit cartesian product for INNER join between logical plans\nInMemoryRelation [id#49, race#50, hp#244, land#276], StorageLevel(disk, memory, deserialized, 1 replicas)\n   +- *(1) Project [id#49, race#50, pythonUDF0#296 AS hp#244, pythonUDF1#297 AS land#276]\n      +- BatchEvalPython [hitpoints(race#50), <lambda>()], [id#49, race#50, pythonUDF0#296, pythonUDF1#297]\n         +- Scan ExistingRDD[id#49,race#50]\nand\nAggregate [land#641], [land#641, avg(cast(hp#244 as bigint)) AS avg(hp)#591, count(1) AS count(id)#592L, avg(cast(id#49 as bigint)) AS avg(id)#593]\n+- Project [id#49, hp#244, land#641]\n   +- InMemoryRelation [id#49, race#50, hp#244, land#641], StorageLevel(disk, memory, deserialized, 1 replicas)\n         +- *(1) Project [id#49, race#50, pythonUDF0#296 AS hp#244, pythonUDF1#297 AS land#276]\n            +- BatchEvalPython [hitpoints(race#50), <lambda>()], [id#49, race#50, pythonUDF0#296, pythonUDF1#297]\n               +- Scan ExistingRDD[id#49,race#50]\nJoin condition is missing or trivial.\nEither: use the CROSS JOIN syntax to allow cartesian products between these\nrelations, or: enable implicit cartesian products by setting the configuration\nvariable spark.sql.crossJoin.enabled=true;\n\tat org.apache.spark.sql.catalyst.optimizer.CheckCartesianProducts$$anonfun$apply$22.applyOrElse(Optimizer.scala:1295)\n\tat org.apache.spark.sql.catalyst.optimizer.CheckCartesianProducts$$anonfun$apply$22.applyOrElse(Optimizer.scala:1292)\n\tat org.apache.spark.sql.catalyst.trees.TreeNode$$anonfun$2.apply(TreeNode.scala:258)\n\tat org.apache.spark.sql.catalyst.trees.TreeNode$$anonfun$2.apply(TreeNode.scala:258)\n\tat org.apache.spark.sql.catalyst.trees.CurrentOrigin$.withOrigin(TreeNode.scala:69)\n\tat org.apache.spark.sql.catalyst.trees.TreeNode.transformDown(TreeNode.scala:257)\n\tat org.apache.spark.sql.catalyst.plans.logical.LogicalPlan.org$apache$spark$sql$catalyst$plans$logical$AnalysisHelper$$super$transformDown(LogicalPlan.scala:29)\n\tat org.apache.spark.sql.catalyst.plans.logical.AnalysisHelper$class.transformDown(AnalysisHelper.scala:149)\n\tat org.apache.spark.sql.catalyst.plans.logical.LogicalPlan.transformDown(LogicalPlan.scala:29)\n\tat org.apache.spark.sql.catalyst.plans.logical.LogicalPlan.transformDown(LogicalPlan.scala:29)\n\tat org.apache.spark.sql.catalyst.trees.TreeNode$$anonfun$transformDown$1.apply(TreeNode.scala:263)\n\tat org.apache.spark.sql.catalyst.trees.TreeNode$$anonfun$transformDown$1.apply(TreeNode.scala:263)\n\tat org.apache.spark.sql.catalyst.trees.TreeNode$$anonfun$4.apply(TreeNode.scala:328)\n\tat org.apache.spark.sql.catalyst.trees.TreeNode.mapProductIterator(TreeNode.scala:186)\n\tat org.apache.spark.sql.catalyst.trees.TreeNode.mapChildren(TreeNode.scala:326)\n\tat org.apache.spark.sql.catalyst.trees.TreeNode.transformDown(TreeNode.scala:263)\n\tat org.apache.spark.sql.catalyst.plans.logical.LogicalPlan.org$apache$spark$sql$catalyst$plans$logical$AnalysisHelper$$super$transformDown(LogicalPlan.scala:29)\n\tat org.apache.spark.sql.catalyst.plans.logical.AnalysisHelper$class.transformDown(AnalysisHelper.scala:149)\n\tat org.apache.spark.sql.catalyst.plans.logical.LogicalPlan.transformDown(LogicalPlan.scala:29)\n\tat org.apache.spark.sql.catalyst.plans.logical.LogicalPlan.transformDown(LogicalPlan.scala:29)\n\tat org.apache.spark.sql.catalyst.trees.TreeNode$$anonfun$transformDown$1.apply(TreeNode.scala:263)\n\tat org.apache.spark.sql.catalyst.trees.TreeNode$$anonfun$transformDown$1.apply(TreeNode.scala:263)\n\tat org.apache.spark.sql.catalyst.trees.TreeNode$$anonfun$4.apply(TreeNode.scala:328)\n\tat org.apache.spark.sql.catalyst.trees.TreeNode.mapProductIterator(TreeNode.scala:186)\n\tat org.apache.spark.sql.catalyst.trees.TreeNode.mapChildren(TreeNode.scala:326)\n\tat org.apache.spark.sql.catalyst.trees.TreeNode.transformDown(TreeNode.scala:263)\n\tat org.apache.spark.sql.catalyst.plans.logical.LogicalPlan.org$apache$spark$sql$catalyst$plans$logical$AnalysisHelper$$super$transformDown(LogicalPlan.scala:29)\n\tat org.apache.spark.sql.catalyst.plans.logical.AnalysisHelper$class.transformDown(AnalysisHelper.scala:149)\n\tat org.apache.spark.sql.catalyst.plans.logical.LogicalPlan.transformDown(LogicalPlan.scala:29)\n\tat org.apache.spark.sql.catalyst.plans.logical.LogicalPlan.transformDown(LogicalPlan.scala:29)\n\tat org.apache.spark.sql.catalyst.trees.TreeNode$$anonfun$transformDown$1.apply(TreeNode.scala:263)\n\tat org.apache.spark.sql.catalyst.trees.TreeNode$$anonfun$transformDown$1.apply(TreeNode.scala:263)\n\tat org.apache.spark.sql.catalyst.trees.TreeNode$$anonfun$4.apply(TreeNode.scala:328)\n\tat org.apache.spark.sql.catalyst.trees.TreeNode.mapProductIterator(TreeNode.scala:186)\n\tat org.apache.spark.sql.catalyst.trees.TreeNode.mapChildren(TreeNode.scala:326)\n\tat org.apache.spark.sql.catalyst.trees.TreeNode.transformDown(TreeNode.scala:263)\n\tat org.apache.spark.sql.catalyst.plans.logical.LogicalPlan.org$apache$spark$sql$catalyst$plans$logical$AnalysisHelper$$super$transformDown(LogicalPlan.scala:29)\n\tat org.apache.spark.sql.catalyst.plans.logical.AnalysisHelper$class.transformDown(AnalysisHelper.scala:149)\n\tat org.apache.spark.sql.catalyst.plans.logical.LogicalPlan.transformDown(LogicalPlan.scala:29)\n\tat org.apache.spark.sql.catalyst.plans.logical.LogicalPlan.transformDown(LogicalPlan.scala:29)\n\tat org.apache.spark.sql.catalyst.trees.TreeNode.transform(TreeNode.scala:247)\n\tat org.apache.spark.sql.catalyst.optimizer.CheckCartesianProducts$.apply(Optimizer.scala:1292)\n\tat org.apache.spark.sql.catalyst.optimizer.CheckCartesianProducts$.apply(Optimizer.scala:1274)\n\tat org.apache.spark.sql.catalyst.rules.RuleExecutor$$anonfun$execute$1$$anonfun$apply$1.apply(RuleExecutor.scala:87)\n\tat org.apache.spark.sql.catalyst.rules.RuleExecutor$$anonfun$execute$1$$anonfun$apply$1.apply(RuleExecutor.scala:84)\n\tat scala.collection.IndexedSeqOptimized$class.foldl(IndexedSeqOptimized.scala:57)\n\tat scala.collection.IndexedSeqOptimized$class.foldLeft(IndexedSeqOptimized.scala:66)\n\tat scala.collection.mutable.WrappedArray.foldLeft(WrappedArray.scala:35)\n\tat org.apache.spark.sql.catalyst.rules.RuleExecutor$$anonfun$execute$1.apply(RuleExecutor.scala:84)\n\tat org.apache.spark.sql.catalyst.rules.RuleExecutor$$anonfun$execute$1.apply(RuleExecutor.scala:76)\n\tat scala.collection.immutable.List.foreach(List.scala:392)\n\tat org.apache.spark.sql.catalyst.rules.RuleExecutor.execute(RuleExecutor.scala:76)\n\tat org.apache.spark.sql.execution.QueryExecution.optimizedPlan$lzycompute(QueryExecution.scala:67)\n\tat org.apache.spark.sql.execution.QueryExecution.optimizedPlan(QueryExecution.scala:67)\n\tat org.apache.spark.sql.execution.QueryExecution.sparkPlan$lzycompute(QueryExecution.scala:73)\n\tat org.apache.spark.sql.execution.QueryExecution.sparkPlan(QueryExecution.scala:69)\n\tat org.apache.spark.sql.execution.QueryExecution.executedPlan$lzycompute(QueryExecution.scala:78)\n\tat org.apache.spark.sql.execution.QueryExecution.executedPlan(QueryExecution.scala:78)\n\tat org.apache.spark.sql.Dataset.withAction(Dataset.scala:3365)\n\tat org.apache.spark.sql.Dataset.head(Dataset.scala:2550)\n\tat org.apache.spark.sql.Dataset.take(Dataset.scala:2764)\n\tat org.apache.spark.sql.Dataset.getRows(Dataset.scala:254)\n\tat org.apache.spark.sql.Dataset.showString(Dataset.scala:291)\n\tat sun.reflect.GeneratedMethodAccessor64.invoke(Unknown Source)\n\tat sun.reflect.DelegatingMethodAccessorImpl.invoke(DelegatingMethodAccessorImpl.java:43)\n\tat java.lang.reflect.Method.invoke(Method.java:498)\n\tat py4j.reflection.MethodInvoker.invoke(MethodInvoker.java:244)\n\tat py4j.reflection.ReflectionEngine.invoke(ReflectionEngine.java:357)\n\tat py4j.Gateway.invoke(Gateway.java:282)\n\tat py4j.commands.AbstractCommand.invokeMethod(AbstractCommand.java:132)\n\tat py4j.commands.CallCommand.execute(CallCommand.java:79)\n\tat py4j.GatewayConnection.run(GatewayConnection.java:238)\n\tat java.lang.Thread.run(Thread.java:748)\n",
      "\nDuring handling of the above exception, another exception occurred:\n",
      "\u001b[0;31mAnalysisException\u001b[0m                         Traceback (most recent call last)",
      "\u001b[0;32m<ipython-input-57-ba1692c99bc6>\u001b[0m in \u001b[0;36m<module>\u001b[0;34m()\u001b[0m\n\u001b[0;32m----> 1\u001b[0;31m \u001b[0mdf4\u001b[0m\u001b[0;34m.\u001b[0m\u001b[0mjoin\u001b[0m\u001b[0;34m(\u001b[0m\u001b[0mresult\u001b[0m\u001b[0;34m)\u001b[0m\u001b[0;34m.\u001b[0m\u001b[0mshow\u001b[0m\u001b[0;34m(\u001b[0m\u001b[0;34m)\u001b[0m\u001b[0;34m\u001b[0m\u001b[0;34m\u001b[0m\u001b[0m\n\u001b[0m",
      "\u001b[0;32m/usr/local/lib/python3.6/dist-packages/pyspark/sql/dataframe.py\u001b[0m in \u001b[0;36mshow\u001b[0;34m(self, n, truncate, vertical)\u001b[0m\n\u001b[1;32m    379\u001b[0m         \"\"\"\n\u001b[1;32m    380\u001b[0m         \u001b[0;32mif\u001b[0m \u001b[0misinstance\u001b[0m\u001b[0;34m(\u001b[0m\u001b[0mtruncate\u001b[0m\u001b[0;34m,\u001b[0m \u001b[0mbool\u001b[0m\u001b[0;34m)\u001b[0m \u001b[0;32mand\u001b[0m \u001b[0mtruncate\u001b[0m\u001b[0;34m:\u001b[0m\u001b[0;34m\u001b[0m\u001b[0;34m\u001b[0m\u001b[0m\n\u001b[0;32m--> 381\u001b[0;31m             \u001b[0mprint\u001b[0m\u001b[0;34m(\u001b[0m\u001b[0mself\u001b[0m\u001b[0;34m.\u001b[0m\u001b[0m_jdf\u001b[0m\u001b[0;34m.\u001b[0m\u001b[0mshowString\u001b[0m\u001b[0;34m(\u001b[0m\u001b[0mn\u001b[0m\u001b[0;34m,\u001b[0m \u001b[0;36m20\u001b[0m\u001b[0;34m,\u001b[0m \u001b[0mvertical\u001b[0m\u001b[0;34m)\u001b[0m\u001b[0;34m)\u001b[0m\u001b[0;34m\u001b[0m\u001b[0;34m\u001b[0m\u001b[0m\n\u001b[0m\u001b[1;32m    382\u001b[0m         \u001b[0;32melse\u001b[0m\u001b[0;34m:\u001b[0m\u001b[0;34m\u001b[0m\u001b[0;34m\u001b[0m\u001b[0m\n\u001b[1;32m    383\u001b[0m             \u001b[0mprint\u001b[0m\u001b[0;34m(\u001b[0m\u001b[0mself\u001b[0m\u001b[0;34m.\u001b[0m\u001b[0m_jdf\u001b[0m\u001b[0;34m.\u001b[0m\u001b[0mshowString\u001b[0m\u001b[0;34m(\u001b[0m\u001b[0mn\u001b[0m\u001b[0;34m,\u001b[0m \u001b[0mint\u001b[0m\u001b[0;34m(\u001b[0m\u001b[0mtruncate\u001b[0m\u001b[0;34m)\u001b[0m\u001b[0;34m,\u001b[0m \u001b[0mvertical\u001b[0m\u001b[0;34m)\u001b[0m\u001b[0;34m)\u001b[0m\u001b[0;34m\u001b[0m\u001b[0;34m\u001b[0m\u001b[0m\n",
      "\u001b[0;32m/usr/local/lib/python3.6/dist-packages/py4j/java_gateway.py\u001b[0m in \u001b[0;36m__call__\u001b[0;34m(self, *args)\u001b[0m\n\u001b[1;32m   1255\u001b[0m         \u001b[0manswer\u001b[0m \u001b[0;34m=\u001b[0m \u001b[0mself\u001b[0m\u001b[0;34m.\u001b[0m\u001b[0mgateway_client\u001b[0m\u001b[0;34m.\u001b[0m\u001b[0msend_command\u001b[0m\u001b[0;34m(\u001b[0m\u001b[0mcommand\u001b[0m\u001b[0;34m)\u001b[0m\u001b[0;34m\u001b[0m\u001b[0;34m\u001b[0m\u001b[0m\n\u001b[1;32m   1256\u001b[0m         return_value = get_return_value(\n\u001b[0;32m-> 1257\u001b[0;31m             answer, self.gateway_client, self.target_id, self.name)\n\u001b[0m\u001b[1;32m   1258\u001b[0m \u001b[0;34m\u001b[0m\u001b[0m\n\u001b[1;32m   1259\u001b[0m         \u001b[0;32mfor\u001b[0m \u001b[0mtemp_arg\u001b[0m \u001b[0;32min\u001b[0m \u001b[0mtemp_args\u001b[0m\u001b[0;34m:\u001b[0m\u001b[0;34m\u001b[0m\u001b[0;34m\u001b[0m\u001b[0m\n",
      "\u001b[0;32m/usr/local/lib/python3.6/dist-packages/pyspark/sql/utils.py\u001b[0m in \u001b[0;36mdeco\u001b[0;34m(*a, **kw)\u001b[0m\n\u001b[1;32m     67\u001b[0m                                              e.java_exception.getStackTrace()))\n\u001b[1;32m     68\u001b[0m             \u001b[0;32mif\u001b[0m \u001b[0ms\u001b[0m\u001b[0;34m.\u001b[0m\u001b[0mstartswith\u001b[0m\u001b[0;34m(\u001b[0m\u001b[0;34m'org.apache.spark.sql.AnalysisException: '\u001b[0m\u001b[0;34m)\u001b[0m\u001b[0;34m:\u001b[0m\u001b[0;34m\u001b[0m\u001b[0;34m\u001b[0m\u001b[0m\n\u001b[0;32m---> 69\u001b[0;31m                 \u001b[0;32mraise\u001b[0m \u001b[0mAnalysisException\u001b[0m\u001b[0;34m(\u001b[0m\u001b[0ms\u001b[0m\u001b[0;34m.\u001b[0m\u001b[0msplit\u001b[0m\u001b[0;34m(\u001b[0m\u001b[0;34m': '\u001b[0m\u001b[0;34m,\u001b[0m \u001b[0;36m1\u001b[0m\u001b[0;34m)\u001b[0m\u001b[0;34m[\u001b[0m\u001b[0;36m1\u001b[0m\u001b[0;34m]\u001b[0m\u001b[0;34m,\u001b[0m \u001b[0mstackTrace\u001b[0m\u001b[0;34m)\u001b[0m\u001b[0;34m\u001b[0m\u001b[0;34m\u001b[0m\u001b[0m\n\u001b[0m\u001b[1;32m     70\u001b[0m             \u001b[0;32mif\u001b[0m \u001b[0ms\u001b[0m\u001b[0;34m.\u001b[0m\u001b[0mstartswith\u001b[0m\u001b[0;34m(\u001b[0m\u001b[0;34m'org.apache.spark.sql.catalyst.analysis'\u001b[0m\u001b[0;34m)\u001b[0m\u001b[0;34m:\u001b[0m\u001b[0;34m\u001b[0m\u001b[0;34m\u001b[0m\u001b[0m\n\u001b[1;32m     71\u001b[0m                 \u001b[0;32mraise\u001b[0m \u001b[0mAnalysisException\u001b[0m\u001b[0;34m(\u001b[0m\u001b[0ms\u001b[0m\u001b[0;34m.\u001b[0m\u001b[0msplit\u001b[0m\u001b[0;34m(\u001b[0m\u001b[0;34m': '\u001b[0m\u001b[0;34m,\u001b[0m \u001b[0;36m1\u001b[0m\u001b[0;34m)\u001b[0m\u001b[0;34m[\u001b[0m\u001b[0;36m1\u001b[0m\u001b[0;34m]\u001b[0m\u001b[0;34m,\u001b[0m \u001b[0mstackTrace\u001b[0m\u001b[0;34m)\u001b[0m\u001b[0;34m\u001b[0m\u001b[0;34m\u001b[0m\u001b[0m\n",
      "\u001b[0;31mAnalysisException\u001b[0m: 'Detected implicit cartesian product for INNER join between logical plans\\nInMemoryRelation [id#49, race#50, hp#244, land#276], StorageLevel(disk, memory, deserialized, 1 replicas)\\n   +- *(1) Project [id#49, race#50, pythonUDF0#296 AS hp#244, pythonUDF1#297 AS land#276]\\n      +- BatchEvalPython [hitpoints(race#50), <lambda>()], [id#49, race#50, pythonUDF0#296, pythonUDF1#297]\\n         +- Scan ExistingRDD[id#49,race#50]\\nand\\nAggregate [land#641], [land#641, avg(cast(hp#244 as bigint)) AS avg(hp)#591, count(1) AS count(id)#592L, avg(cast(id#49 as bigint)) AS avg(id)#593]\\n+- Project [id#49, hp#244, land#641]\\n   +- InMemoryRelation [id#49, race#50, hp#244, land#641], StorageLevel(disk, memory, deserialized, 1 replicas)\\n         +- *(1) Project [id#49, race#50, pythonUDF0#296 AS hp#244, pythonUDF1#297 AS land#276]\\n            +- BatchEvalPython [hitpoints(race#50), <lambda>()], [id#49, race#50, pythonUDF0#296, pythonUDF1#297]\\n               +- Scan ExistingRDD[id#49,race#50]\\nJoin condition is missing or trivial.\\nEither: use the CROSS JOIN syntax to allow cartesian products between these\\nrelations, or: enable implicit cartesian products by setting the configuration\\nvariable spark.sql.crossJoin.enabled=true;'"
     ]
    }
   ],
   "source": [
    "df4.join(result).show()"
   ]
  },
  {
   "cell_type": "markdown",
   "metadata": {
    "colab_type": "text",
    "id": "lYNOSRafrsxy"
   },
   "source": [
    "Spark refuses to do cross joins by default. To perform them, we can \n",
    "\n",
    "a) Allow then explicitly:\n",
    "\n",
    "```python\n",
    "spark.conf.set(\"spark.sql.crossJoin.enabled\", \"true\")\n",
    "```\n",
    "\n",
    "b) Specify the join criterion\n",
    "\n",
    "```python\n",
    "df4.join(new_df, on='id').show()\n",
    "```"
   ]
  },
  {
   "cell_type": "code",
   "execution_count": 58,
   "metadata": {
    "colab": {
     "base_uri": "https://localhost:8080/",
     "height": 442
    },
    "colab_type": "code",
    "executionInfo": {
     "elapsed": 2193,
     "status": "ok",
     "timestamp": 1593847352840,
     "user": {
      "displayName": "Felipe Fernandez pomar",
      "photoUrl": "https://lh3.googleusercontent.com/a-/AOh14GjAIBB1UUNahiuBW35nhzx_0hZxW-dTtBh-sbrK0Q=s64",
      "userId": "06620814048662575791"
     },
     "user_tz": -120
    },
    "id": "v8I7te8vrsxy",
    "outputId": "da4d4133-ce27-4472-913b-03ab02fc1f6b",
    "tags": [
     "raises-exception"
    ]
   },
   "outputs": [
    {
     "name": "stdout",
     "output_type": "stream",
     "text": [
      "+------+---+------+-----+-------+---------+-------+\n",
      "|  land| id|  race|   hp|avg(hp)|count(id)|avg(id)|\n",
      "+------+---+------+-----+-------+---------+-------+\n",
      "|gondor|  0|hobbit|30000|40000.0|       10|    9.0|\n",
      "| rohan|  1|   elf|40000|46000.0|       10|   10.0|\n",
      "|gondor|  2|   elf|40000|40000.0|       10|    9.0|\n",
      "|gondor|  3|   elf|40000|40000.0|       10|    9.0|\n",
      "| rohan|  4|   orc|70000|46000.0|       10|   10.0|\n",
      "| rohan|  5|   orc|70000|46000.0|       10|   10.0|\n",
      "| rohan|  6|   orc|70000|46000.0|       10|   10.0|\n",
      "|gondor|  7|   elf|40000|40000.0|       10|    9.0|\n",
      "|gondor|  8|hobbit|30000|40000.0|       10|    9.0|\n",
      "| rohan|  9|   elf|40000|46000.0|       10|   10.0|\n",
      "|gondor| 10|   elf|40000|40000.0|       10|    9.0|\n",
      "| rohan| 11|hobbit|30000|46000.0|       10|   10.0|\n",
      "|gondor| 12|   elf|40000|40000.0|       10|    9.0|\n",
      "|gondor| 13|   elf|40000|40000.0|       10|    9.0|\n",
      "| rohan| 14|hobbit|30000|46000.0|       10|   10.0|\n",
      "| rohan| 15|hobbit|30000|46000.0|       10|   10.0|\n",
      "| rohan| 16|   elf|40000|46000.0|       10|   10.0|\n",
      "|gondor| 17|hobbit|30000|40000.0|       10|    9.0|\n",
      "|gondor| 18|   orc|70000|40000.0|       10|    9.0|\n",
      "| rohan| 19|   elf|40000|46000.0|       10|   10.0|\n",
      "+------+---+------+-----+-------+---------+-------+\n",
      "\n"
     ]
    }
   ],
   "source": [
    "df4.join(result, on = 'land').show()"
   ]
  },
  {
   "cell_type": "code",
   "execution_count": 59,
   "metadata": {
    "colab": {
     "base_uri": "https://localhost:8080/",
     "height": 459
    },
    "colab_type": "code",
    "executionInfo": {
     "elapsed": 3211,
     "status": "ok",
     "timestamp": 1593847354105,
     "user": {
      "displayName": "Felipe Fernandez pomar",
      "photoUrl": "https://lh3.googleusercontent.com/a-/AOh14GjAIBB1UUNahiuBW35nhzx_0hZxW-dTtBh-sbrK0Q=s64",
      "userId": "06620814048662575791"
     },
     "user_tz": -120
    },
    "id": "mgVYIn_5OwzY",
    "outputId": "fcb50276-021c-4ea1-e293-7c8e4befaacf"
   },
   "outputs": [
    {
     "name": "stdout",
     "output_type": "stream",
     "text": [
      "+---+------+-----+------+------+-------+---------+-------+\n",
      "| id|  race|   hp|  land|  land|avg(hp)|count(id)|avg(id)|\n",
      "+---+------+-----+------+------+-------+---------+-------+\n",
      "|  0|hobbit|30000|gondor|  null|   null|     null|   null|\n",
      "|  1|   elf|40000| rohan|  null|   null|     null|   null|\n",
      "|  2|   elf|40000|gondor|  null|   null|     null|   null|\n",
      "|  3|   elf|40000|gondor|  null|   null|     null|   null|\n",
      "|  4|   orc|70000| rohan|  null|   null|     null|   null|\n",
      "|  5|   orc|70000| rohan|  null|   null|     null|   null|\n",
      "|  6|   orc|70000| rohan|  null|   null|     null|   null|\n",
      "|  7|   elf|40000|gondor|  null|   null|     null|   null|\n",
      "|  8|hobbit|30000|gondor|  null|   null|     null|   null|\n",
      "|  9|   elf|40000| rohan|  null|   null|     null|   null|\n",
      "| 10|   elf|40000|gondor|  null|   null|     null|   null|\n",
      "| 11|hobbit|30000| rohan| rohan|46000.0|       10|   10.0|\n",
      "| 11|hobbit|30000| rohan|gondor|40000.0|       10|    9.0|\n",
      "| 12|   elf|40000|gondor| rohan|46000.0|       10|   10.0|\n",
      "| 12|   elf|40000|gondor|gondor|40000.0|       10|    9.0|\n",
      "| 13|   elf|40000|gondor| rohan|46000.0|       10|   10.0|\n",
      "| 13|   elf|40000|gondor|gondor|40000.0|       10|    9.0|\n",
      "| 14|hobbit|30000| rohan| rohan|46000.0|       10|   10.0|\n",
      "| 14|hobbit|30000| rohan|gondor|40000.0|       10|    9.0|\n",
      "| 15|hobbit|30000| rohan| rohan|46000.0|       10|   10.0|\n",
      "+---+------+-----+------+------+-------+---------+-------+\n",
      "only showing top 20 rows\n",
      "\n"
     ]
    }
   ],
   "source": [
    "df4.join(result, on = df4['id'] > result['count(id)'], how = 'left').show()"
   ]
  },
  {
   "cell_type": "markdown",
   "metadata": {
    "colab_type": "text",
    "collapsed": true,
    "id": "eETs17Aarsx1"
   },
   "source": [
    "#### Digression\n",
    "\n",
    "We can monitor our running jobs and storage used at the Spark Web UI. We can get its url with sc.uiWebUrl.\n",
    "\n",
    "StorageLevels represent how our DataFrame is cached: we can save the results of the computation up to that point, so that if we process several times the same data only the subsequent steps will be recomputed."
   ]
  },
  {
   "cell_type": "code",
   "execution_count": null,
   "metadata": {
    "colab": {},
    "colab_type": "code",
    "executionInfo": {
     "elapsed": 2687,
     "status": "aborted",
     "timestamp": 1593846814335,
     "user": {
      "displayName": "Felipe Fernandez pomar",
      "photoUrl": "https://lh3.googleusercontent.com/a-/AOh14GjAIBB1UUNahiuBW35nhzx_0hZxW-dTtBh-sbrK0Q=s64",
      "userId": "06620814048662575791"
     },
     "user_tz": -120
    },
    "id": "Fr68VLaLrsx3"
   },
   "outputs": [],
   "source": [
    ""
   ]
  },
  {
   "cell_type": "markdown",
   "metadata": {
    "colab_type": "text",
    "id": "rgmn5_2ursx7"
   },
   "source": [
    "We can erase it with `unpersist`"
   ]
  },
  {
   "cell_type": "code",
   "execution_count": 57,
   "metadata": {
    "colab": {},
    "colab_type": "code",
    "executionInfo": {
     "elapsed": 648,
     "status": "ok",
     "timestamp": 1593846815512,
     "user": {
      "displayName": "Felipe Fernandez pomar",
      "photoUrl": "https://lh3.googleusercontent.com/a-/AOh14GjAIBB1UUNahiuBW35nhzx_0hZxW-dTtBh-sbrK0Q=s64",
      "userId": "06620814048662575791"
     },
     "user_tz": -120
    },
    "id": "xx1GeCVQrsx8"
   },
   "outputs": [],
   "source": [
    ""
   ]
  },
  {
   "cell_type": "markdown",
   "metadata": {
    "colab_type": "text",
    "id": "pXK6m-wVrsx_"
   },
   "source": [
    "#### Exercise\n",
    "\n",
    "Calculate the [z-score](http://www.statisticshowto.com/probability-and-statistics/z-score/) of each employee's hitpoints for their location"
   ]
  },
  {
   "cell_type": "code",
   "execution_count": 57,
   "metadata": {
    "colab": {},
    "colab_type": "code",
    "executionInfo": {
     "elapsed": 423,
     "status": "ok",
     "timestamp": 1593846816379,
     "user": {
      "displayName": "Felipe Fernandez pomar",
      "photoUrl": "https://lh3.googleusercontent.com/a-/AOh14GjAIBB1UUNahiuBW35nhzx_0hZxW-dTtBh-sbrK0Q=s64",
      "userId": "06620814048662575791"
     },
     "user_tz": -120
    },
    "id": "EQ91O7EFrsyB"
   },
   "outputs": [],
   "source": [
    ""
   ]
  },
  {
   "cell_type": "markdown",
   "metadata": {
    "colab_type": "text",
    "id": "ZVH3VotWrsyI"
   },
   "source": [
    "1) Calculate the mean and std of hitpoints for each location"
   ]
  },
  {
   "cell_type": "code",
   "execution_count": 71,
   "metadata": {
    "colab": {},
    "colab_type": "code",
    "executionInfo": {
     "elapsed": 633,
     "status": "ok",
     "timestamp": 1593849866900,
     "user": {
      "displayName": "Felipe Fernandez pomar",
      "photoUrl": "https://lh3.googleusercontent.com/a-/AOh14GjAIBB1UUNahiuBW35nhzx_0hZxW-dTtBh-sbrK0Q=s64",
      "userId": "06620814048662575791"
     },
     "user_tz": -120
    },
    "id": "Qc369-ZXrsyJ"
   },
   "outputs": [],
   "source": [
    "stats = df4.groupby('land').agg(functions.mean('hp').alias('avg_hp'),\n",
    "                        functions.stddev('hp').alias('std_hp'))"
   ]
  },
  {
   "cell_type": "markdown",
   "metadata": {
    "colab_type": "text",
    "id": "8fXaDXKjrsyL"
   },
   "source": [
    "2) Annotate each employee with the stats corresponding to their location"
   ]
  },
  {
   "cell_type": "code",
   "execution_count": 72,
   "metadata": {
    "colab": {
     "base_uri": "https://localhost:8080/",
     "height": 442
    },
    "colab_type": "code",
    "executionInfo": {
     "elapsed": 1954,
     "status": "ok",
     "timestamp": 1593849870588,
     "user": {
      "displayName": "Felipe Fernandez pomar",
      "photoUrl": "https://lh3.googleusercontent.com/a-/AOh14GjAIBB1UUNahiuBW35nhzx_0hZxW-dTtBh-sbrK0Q=s64",
      "userId": "06620814048662575791"
     },
     "user_tz": -120
    },
    "id": "DZuMnrnsrsyN",
    "outputId": "28617281-e6ca-4aba-a7ea-fd136df8198e"
   },
   "outputs": [
    {
     "name": "stdout",
     "output_type": "stream",
     "text": [
      "+------+---+------+-----+-------+------------------+\n",
      "|  land| id|  race|   hp| avg_hp|            std_hp|\n",
      "+------+---+------+-----+-------+------------------+\n",
      "|gondor|  0|hobbit|30000|40000.0|11547.005383792515|\n",
      "| rohan|  1|   elf|40000|46000.0|17126.976771553505|\n",
      "|gondor|  2|   elf|40000|40000.0|11547.005383792515|\n",
      "|gondor|  3|   elf|40000|40000.0|11547.005383792515|\n",
      "| rohan|  4|   orc|70000|46000.0|17126.976771553505|\n",
      "| rohan|  5|   orc|70000|46000.0|17126.976771553505|\n",
      "| rohan|  6|   orc|70000|46000.0|17126.976771553505|\n",
      "|gondor|  7|   elf|40000|40000.0|11547.005383792515|\n",
      "|gondor|  8|hobbit|30000|40000.0|11547.005383792515|\n",
      "| rohan|  9|   elf|40000|46000.0|17126.976771553505|\n",
      "|gondor| 10|   elf|40000|40000.0|11547.005383792515|\n",
      "| rohan| 11|hobbit|30000|46000.0|17126.976771553505|\n",
      "|gondor| 12|   elf|40000|40000.0|11547.005383792515|\n",
      "|gondor| 13|   elf|40000|40000.0|11547.005383792515|\n",
      "| rohan| 14|hobbit|30000|46000.0|17126.976771553505|\n",
      "| rohan| 15|hobbit|30000|46000.0|17126.976771553505|\n",
      "| rohan| 16|   elf|40000|46000.0|17126.976771553505|\n",
      "|gondor| 17|hobbit|30000|40000.0|11547.005383792515|\n",
      "|gondor| 18|   orc|70000|40000.0|11547.005383792515|\n",
      "| rohan| 19|   elf|40000|46000.0|17126.976771553505|\n",
      "+------+---+------+-----+-------+------------------+\n",
      "\n"
     ]
    }
   ],
   "source": [
    "annotated = df4.join(stats, on = 'land')\n",
    "annotated.show()"
   ]
  },
  {
   "cell_type": "markdown",
   "metadata": {
    "colab_type": "text",
    "id": "0Re_N6d8rsyQ"
   },
   "source": [
    "3) Calculate the z-score"
   ]
  },
  {
   "cell_type": "code",
   "execution_count": 73,
   "metadata": {
    "colab": {
     "base_uri": "https://localhost:8080/",
     "height": 442
    },
    "colab_type": "code",
    "executionInfo": {
     "elapsed": 1697,
     "status": "ok",
     "timestamp": 1593849874548,
     "user": {
      "displayName": "Felipe Fernandez pomar",
      "photoUrl": "https://lh3.googleusercontent.com/a-/AOh14GjAIBB1UUNahiuBW35nhzx_0hZxW-dTtBh-sbrK0Q=s64",
      "userId": "06620814048662575791"
     },
     "user_tz": -120
    },
    "id": "XQjF1M-0rsyR",
    "outputId": "dfe3bdca-2f83-43e0-b15f-03095559187f"
   },
   "outputs": [
    {
     "name": "stdout",
     "output_type": "stream",
     "text": [
      "+------+---+------+-----+-------+------------------+--------------------+\n",
      "|  land| id|  race|   hp| avg_hp|            std_hp|                   z|\n",
      "+------+---+------+-----+-------+------------------+--------------------+\n",
      "|gondor|  0|hobbit|30000|40000.0|11547.005383792515| -0.8660254037844387|\n",
      "| rohan|  1|   elf|40000|46000.0|17126.976771553505|-0.35032452487268534|\n",
      "|gondor|  2|   elf|40000|40000.0|11547.005383792515|                 0.0|\n",
      "|gondor|  3|   elf|40000|40000.0|11547.005383792515|                 0.0|\n",
      "| rohan|  4|   orc|70000|46000.0|17126.976771553505|  1.4012980994907414|\n",
      "| rohan|  5|   orc|70000|46000.0|17126.976771553505|  1.4012980994907414|\n",
      "| rohan|  6|   orc|70000|46000.0|17126.976771553505|  1.4012980994907414|\n",
      "|gondor|  7|   elf|40000|40000.0|11547.005383792515|                 0.0|\n",
      "|gondor|  8|hobbit|30000|40000.0|11547.005383792515| -0.8660254037844387|\n",
      "| rohan|  9|   elf|40000|46000.0|17126.976771553505|-0.35032452487268534|\n",
      "|gondor| 10|   elf|40000|40000.0|11547.005383792515|                 0.0|\n",
      "| rohan| 11|hobbit|30000|46000.0|17126.976771553505| -0.9341987329938276|\n",
      "|gondor| 12|   elf|40000|40000.0|11547.005383792515|                 0.0|\n",
      "|gondor| 13|   elf|40000|40000.0|11547.005383792515|                 0.0|\n",
      "| rohan| 14|hobbit|30000|46000.0|17126.976771553505| -0.9341987329938276|\n",
      "| rohan| 15|hobbit|30000|46000.0|17126.976771553505| -0.9341987329938276|\n",
      "| rohan| 16|   elf|40000|46000.0|17126.976771553505|-0.35032452487268534|\n",
      "|gondor| 17|hobbit|30000|40000.0|11547.005383792515| -0.8660254037844387|\n",
      "|gondor| 18|   orc|70000|40000.0|11547.005383792515|   2.598076211353316|\n",
      "| rohan| 19|   elf|40000|46000.0|17126.976771553505|-0.35032452487268534|\n",
      "+------+---+------+-----+-------+------------------+--------------------+\n",
      "\n"
     ]
    }
   ],
   "source": [
    "annotated.select('*',\n",
    "                 ((annotated['hp'] - annotated['avg_hp']) / annotated['std_hp']).alias('z')).show()"
   ]
  },
  {
   "cell_type": "markdown",
   "metadata": {
    "colab_type": "text",
    "id": "vUKTZiqarsyU"
   },
   "source": [
    "Note that we can build more complex boolean conditions for joining, as well as joining on columns that do not have the same name:"
   ]
  },
  {
   "cell_type": "code",
   "execution_count": null,
   "metadata": {
    "colab": {},
    "colab_type": "code",
    "executionInfo": {
     "elapsed": 82369,
     "status": "aborted",
     "timestamp": 1593846558988,
     "user": {
      "displayName": "Felipe Fernandez pomar",
      "photoUrl": "https://lh3.googleusercontent.com/a-/AOh14GjAIBB1UUNahiuBW35nhzx_0hZxW-dTtBh-sbrK0Q=s64",
      "userId": "06620814048662575791"
     },
     "user_tz": -120
    },
    "id": "uWCY_e1mrsyV"
   },
   "outputs": [],
   "source": [
    ""
   ]
  },
  {
   "cell_type": "markdown",
   "metadata": {
    "colab_type": "text",
    "id": "BvIAIPWTrsyY"
   },
   "source": [
    "### Handling null values"
   ]
  },
  {
   "cell_type": "code",
   "execution_count": 70,
   "metadata": {
    "colab": {
     "base_uri": "https://localhost:8080/",
     "height": 136
    },
    "colab_type": "code",
    "executionInfo": {
     "elapsed": 621,
     "status": "ok",
     "timestamp": 1593849840788,
     "user": {
      "displayName": "Felipe Fernandez pomar",
      "photoUrl": "https://lh3.googleusercontent.com/a-/AOh14GjAIBB1UUNahiuBW35nhzx_0hZxW-dTtBh-sbrK0Q=s64",
      "userId": "06620814048662575791"
     },
     "user_tz": -120
    },
    "id": "Nxu-trYirsyY",
    "outputId": "13e4c1a9-2a6d-4ed4-9264-30213fbd4848"
   },
   "outputs": [
    {
     "name": "stdout",
     "output_type": "stream",
     "text": [
      "+------+-----+------------+\n",
      "|  land|mount|burned_alive|\n",
      "+------+-----+------------+\n",
      "| rohan|horse|        null|\n",
      "|gondor| null|           1|\n",
      "+------+-----+------------+\n",
      "\n"
     ]
    }
   ],
   "source": [
    "# O los descarto o los invento\n",
    "mounts = spark.createDataFrame([['rohan', 'horse', None], ['gondor', None, 1]], schema = ['land', 'mount', 'burned_alive'])\n",
    "mounts.show()"
   ]
  },
  {
   "cell_type": "code",
   "execution_count": 79,
   "metadata": {
    "colab": {
     "base_uri": "https://localhost:8080/",
     "height": 442
    },
    "colab_type": "code",
    "executionInfo": {
     "elapsed": 1944,
     "status": "ok",
     "timestamp": 1593850069931,
     "user": {
      "displayName": "Felipe Fernandez pomar",
      "photoUrl": "https://lh3.googleusercontent.com/a-/AOh14GjAIBB1UUNahiuBW35nhzx_0hZxW-dTtBh-sbrK0Q=s64",
      "userId": "06620814048662575791"
     },
     "user_tz": -120
    },
    "id": "6HtjzX1V2xpm",
    "outputId": "0ac87456-1f18-4efc-ca89-a1d97edc9306"
   },
   "outputs": [
    {
     "name": "stdout",
     "output_type": "stream",
     "text": [
      "+------+---+------+-----+-------+------------------+-----+------------+\n",
      "|  land| id|  race|   hp| avg_hp|            std_hp|mount|burned_alive|\n",
      "+------+---+------+-----+-------+------------------+-----+------------+\n",
      "| rohan| 19|   elf|40000|46000.0|17126.976771553505|horse|        null|\n",
      "| rohan| 16|   elf|40000|46000.0|17126.976771553505|horse|        null|\n",
      "| rohan| 15|hobbit|30000|46000.0|17126.976771553505|horse|        null|\n",
      "| rohan| 14|hobbit|30000|46000.0|17126.976771553505|horse|        null|\n",
      "| rohan| 11|hobbit|30000|46000.0|17126.976771553505|horse|        null|\n",
      "| rohan|  9|   elf|40000|46000.0|17126.976771553505|horse|        null|\n",
      "| rohan|  6|   orc|70000|46000.0|17126.976771553505|horse|        null|\n",
      "| rohan|  5|   orc|70000|46000.0|17126.976771553505|horse|        null|\n",
      "| rohan|  4|   orc|70000|46000.0|17126.976771553505|horse|        null|\n",
      "| rohan|  1|   elf|40000|46000.0|17126.976771553505|horse|        null|\n",
      "|gondor| 18|   orc|70000|40000.0|11547.005383792515| null|           1|\n",
      "|gondor| 17|hobbit|30000|40000.0|11547.005383792515| null|           1|\n",
      "|gondor| 13|   elf|40000|40000.0|11547.005383792515| null|           1|\n",
      "|gondor| 12|   elf|40000|40000.0|11547.005383792515| null|           1|\n",
      "|gondor| 10|   elf|40000|40000.0|11547.005383792515| null|           1|\n",
      "|gondor|  8|hobbit|30000|40000.0|11547.005383792515| null|           1|\n",
      "|gondor|  7|   elf|40000|40000.0|11547.005383792515| null|           1|\n",
      "|gondor|  3|   elf|40000|40000.0|11547.005383792515| null|           1|\n",
      "|gondor|  2|   elf|40000|40000.0|11547.005383792515| null|           1|\n",
      "|gondor|  0|hobbit|30000|40000.0|11547.005383792515| null|           1|\n",
      "+------+---+------+-----+-------+------------------+-----+------------+\n",
      "\n"
     ]
    }
   ],
   "source": [
    "with_nulls = annotated.join(mounts, on = 'land')\n",
    "with_nulls.show()"
   ]
  },
  {
   "cell_type": "code",
   "execution_count": 80,
   "metadata": {
    "colab": {
     "base_uri": "https://localhost:8080/",
     "height": 102
    },
    "colab_type": "code",
    "executionInfo": {
     "elapsed": 1832,
     "status": "ok",
     "timestamp": 1593850073223,
     "user": {
      "displayName": "Felipe Fernandez pomar",
      "photoUrl": "https://lh3.googleusercontent.com/a-/AOh14GjAIBB1UUNahiuBW35nhzx_0hZxW-dTtBh-sbrK0Q=s64",
      "userId": "06620814048662575791"
     },
     "user_tz": -120
    },
    "id": "pLbZhQmV3JzU",
    "outputId": "a726c12b-618e-451f-9953-4548efaf5417"
   },
   "outputs": [
    {
     "name": "stdout",
     "output_type": "stream",
     "text": [
      "+----+---+----+---+------+------+-----+------------+\n",
      "|land| id|race| hp|avg_hp|std_hp|mount|burned_alive|\n",
      "+----+---+----+---+------+------+-----+------------+\n",
      "+----+---+----+---+------+------+-----+------------+\n",
      "\n"
     ]
    }
   ],
   "source": [
    "with_nulls.dropna().show()"
   ]
  },
  {
   "cell_type": "markdown",
   "metadata": {
    "colab_type": "text",
    "id": "lwhV3eZMrsya"
   },
   "source": [
    "## SQL querying\n",
    "\n",
    "We need to register our DataFrame as a table in the SQL context in order to be able to query against it."
   ]
  },
  {
   "cell_type": "code",
   "execution_count": null,
   "metadata": {
    "colab": {},
    "colab_type": "code",
    "executionInfo": {
     "elapsed": 82361,
     "status": "aborted",
     "timestamp": 1593846558990,
     "user": {
      "displayName": "Felipe Fernandez pomar",
      "photoUrl": "https://lh3.googleusercontent.com/a-/AOh14GjAIBB1UUNahiuBW35nhzx_0hZxW-dTtBh-sbrK0Q=s64",
      "userId": "06620814048662575791"
     },
     "user_tz": -120
    },
    "id": "QDIyTPzyrsyb"
   },
   "outputs": [],
   "source": [
    "spark.createDataFrame(pd_df)"
   ]
  },
  {
   "cell_type": "markdown",
   "metadata": {
    "colab_type": "text",
    "id": "W4XKrHVKrsyd"
   },
   "source": [
    "Once registered, we can perform queries as complex as we want."
   ]
  },
  {
   "cell_type": "code",
   "execution_count": null,
   "metadata": {
    "colab": {},
    "colab_type": "code",
    "executionInfo": {
     "elapsed": 82357,
     "status": "aborted",
     "timestamp": 1593846558991,
     "user": {
      "displayName": "Felipe Fernandez pomar",
      "photoUrl": "https://lh3.googleusercontent.com/a-/AOh14GjAIBB1UUNahiuBW35nhzx_0hZxW-dTtBh-sbrK0Q=s64",
      "userId": "06620814048662575791"
     },
     "user_tz": -120
    },
    "id": "l3VGbATHrsye"
   },
   "outputs": [],
   "source": [
    "filled.registerTemplate()"
   ]
  },
  {
   "cell_type": "markdown",
   "metadata": {
    "colab_type": "text",
    "id": "NKVD6sfOrsyh"
   },
   "source": [
    "## Interoperation with Pandas\n",
    "\n",
    "Easy peasy. We can convert a spark DataFrame into a Pandas one, which will `collect` it, and viceversa, which will distribute it."
   ]
  },
  {
   "cell_type": "code",
   "execution_count": null,
   "metadata": {
    "colab": {},
    "colab_type": "code",
    "executionInfo": {
     "elapsed": 82351,
     "status": "aborted",
     "timestamp": 1593846558992,
     "user": {
      "displayName": "Felipe Fernandez pomar",
      "photoUrl": "https://lh3.googleusercontent.com/a-/AOh14GjAIBB1UUNahiuBW35nhzx_0hZxW-dTtBh-sbrK0Q=s64",
      "userId": "06620814048662575791"
     },
     "user_tz": -120
    },
    "id": "K5vPnr_Hrsyj"
   },
   "outputs": [],
   "source": [
    ""
   ]
  },
  {
   "cell_type": "markdown",
   "metadata": {
    "colab_type": "text",
    "id": "Y8diG6nKrsyo"
   },
   "source": [
    "## Writing out\n"
   ]
  },
  {
   "cell_type": "code",
   "execution_count": null,
   "metadata": {
    "colab": {},
    "colab_type": "code",
    "executionInfo": {
     "elapsed": 82346,
     "status": "aborted",
     "timestamp": 1593846558993,
     "user": {
      "displayName": "Felipe Fernandez pomar",
      "photoUrl": "https://lh3.googleusercontent.com/a-/AOh14GjAIBB1UUNahiuBW35nhzx_0hZxW-dTtBh-sbrK0Q=s64",
      "userId": "06620814048662575791"
     },
     "user_tz": -120
    },
    "id": "vigebLnBrsyp"
   },
   "outputs": [],
   "source": [
    "filled.write.csv('filled.csv')"
   ]
  },
  {
   "cell_type": "code",
   "execution_count": null,
   "metadata": {
    "colab": {},
    "colab_type": "code",
    "id": "VL73mnIi7unY"
   },
   "outputs": [],
   "source": [
    "filled.write.json\n",
    "filled.write.jdbc"
   ]
  },
  {
   "cell_type": "markdown",
   "metadata": {
    "colab_type": "text",
    "id": "C6ZzD8narsyt"
   },
   "source": [
    "#### Exercise\n",
    "\n",
    "Repeat the exercise from the previous notebook, but this time with DataFrames.\n",
    "\n",
    "Get stats for all tickets with destination MAD from `coupons150720.csv`.\n",
    "\n",
    "You will need to extract ticket amounts with destination MAD, and then calculate:\n",
    "\n",
    "1. Total ticket amounts per origin\n",
    "2. Top 10 airlines by average amount"
   ]
  },
  {
   "cell_type": "code",
   "execution_count": 81,
   "metadata": {
    "colab": {
     "base_uri": "https://localhost:8080/",
     "height": 459
    },
    "colab_type": "code",
    "executionInfo": {
     "elapsed": 1231,
     "status": "ok",
     "timestamp": 1593852707005,
     "user": {
      "displayName": "Felipe Fernandez pomar",
      "photoUrl": "https://lh3.googleusercontent.com/a-/AOh14GjAIBB1UUNahiuBW35nhzx_0hZxW-dTtBh-sbrK0Q=s64",
      "userId": "06620814048662575791"
     },
     "user_tz": -120
    },
    "id": "rwg72cK4rsyt",
    "outputId": "4313d476-3214-4ce7-a553-7fed609f0ee9"
   },
   "outputs": [
    {
     "name": "stdout",
     "output_type": "stream",
     "text": [
      "+--------------+----------+--------------+----------+------+----+-------+------+\n",
      "|    tkt_number|cpn_number|    tkt_number|cpn_number|origin|dest|carrier|amount|\n",
      "+--------------+----------+--------------+----------+------+----+-------+------+\n",
      "|79062005698500|         1|79062005698500|         1|   MAA| AUH|     9W| 56.79|\n",
      "|79062005698500|         2|79062005698500|         2|   AUH| CDG|     9W| 84.34|\n",
      "|79062005924069|         1|79062005924069|         1|   CJB| MAA|     9W|  60.0|\n",
      "|79065668570385|         1|79065668570385|         1|   DEL| DXB|     9W|160.63|\n",
      "|79065668737021|         1|79065668737021|         1|   AUH| IXE|     9W|152.46|\n",
      "|79062006192650|         1|79062006192650|         1|   RPR| BOM|     9W|  68.5|\n",
      "|79062006192650|         2|79062006192650|         2|   BOM| RPR|     9W|  68.5|\n",
      "|79062005733853|         1|79062005733853|         1|   DEL| DED|     9W| 56.16|\n",
      "|79062005836987|         1|79062005836987|         1|   ATL| LGA|     AA|  28.3|\n",
      "|79062005836987|         2|79062005836987|         2|   LGA| EWR|   null|   0.0|\n",
      "|79062005836987|         3|79062005836987|         3|   EWR| BOM|     9W|176.09|\n",
      "|79062005836987|         4|79062005836987|         4|   BOM| AMD|     9W| 12.02|\n",
      "|79062005836987|         5|79062005836987|         5|   AMD| BOM|     9W| 12.02|\n",
      "|79062005836987|         6|79062005836987|         6|   BOM| EWR|     9W|176.09|\n",
      "|79062005836987|         7|79062005836987|         7|   EWR| ATL|     UA|  28.3|\n",
      "|79062005862818|         1|79062005862818|         1|   LHR| BOM|     9W|101.65|\n",
      "|79062005862818|         2|79062005862818|         2|   BOM| HKG|     9W| 57.76|\n",
      "|79065668498895|         1|79065668498895|         1|   DXB| BOM|     9W| 54.44|\n",
      "|79065668498895|         2|79065668498895|         2|   BOM| DXB|     9W|  73.5|\n",
      "|79062005534346|         1|79062005534346|         1|   KTM| DEL|     9W| 24.92|\n",
      "+--------------+----------+--------------+----------+------+----+-------+------+\n",
      "only showing top 20 rows\n",
      "\n"
     ]
    }
   ],
   "source": [
    "coupons = spark.sql('''SELECT\n",
    "                      CAST (_C0 AS BIGINT) as tkt_number,\n",
    "                      CAST (_C1 AS INT) as cpn_number,\n",
    "                      _c0 as tkt_number,\n",
    "                      _c1 as cpn_number,\n",
    "                      _c2 as origin,\n",
    "                      _c3 as dest,\n",
    "                      _c4 as carrier,\n",
    "                      cast(_c6 AS FLOAT) as amount\n",
    "                   FROM csv.`coupon150720.csv.gz`''')\n",
    "\n",
    "coupons.show()"
   ]
  },
  {
   "cell_type": "markdown",
   "metadata": {
    "colab_type": "text",
    "id": "2aJosPZ1rsy0"
   },
   "source": [
    "1) Extract the fields you need (c0,c1,c2,c3,c4 and c6) into a dataframe with proper names and types\n",
    "\n",
    "Remember, you want to calculate:\n",
    "\n",
    "Total ticket amounts per origin\n",
    "\n",
    "Top 10 airlines by average amount"
   ]
  },
  {
   "cell_type": "code",
   "execution_count": 84,
   "metadata": {
    "colab": {},
    "colab_type": "code",
    "executionInfo": {
     "elapsed": 614,
     "status": "ok",
     "timestamp": 1593852761984,
     "user": {
      "displayName": "Felipe Fernandez pomar",
      "photoUrl": "https://lh3.googleusercontent.com/a-/AOh14GjAIBB1UUNahiuBW35nhzx_0hZxW-dTtBh-sbrK0Q=s64",
      "userId": "06620814048662575791"
     },
     "user_tz": -120
    },
    "id": "ba3ixF6Wrsy0"
   },
   "outputs": [],
   "source": [
    "mad_tickets = coupons.filter(coupons['dest'] == 'MAD')"
   ]
  },
  {
   "cell_type": "markdown",
   "metadata": {
    "colab_type": "text",
    "id": "SUoUevV1rsy4"
   },
   "source": [
    "2) Total ticket amounts per origin"
   ]
  },
  {
   "cell_type": "code",
   "execution_count": 87,
   "metadata": {
    "colab": {
     "base_uri": "https://localhost:8080/",
     "height": 289
    },
    "colab_type": "code",
    "executionInfo": {
     "elapsed": 3935,
     "status": "ok",
     "timestamp": 1593852947107,
     "user": {
      "displayName": "Felipe Fernandez pomar",
      "photoUrl": "https://lh3.googleusercontent.com/a-/AOh14GjAIBB1UUNahiuBW35nhzx_0hZxW-dTtBh-sbrK0Q=s64",
      "userId": "06620814048662575791"
     },
     "user_tz": -120
    },
    "id": "1tCgsDPfrsy4",
    "outputId": "96eef26b-feb2-41c4-8fd3-fcd7cf0d0d9d"
   },
   "outputs": [
    {
     "name": "stdout",
     "output_type": "stream",
     "text": [
      "+------+------------------+\n",
      "|origin|       sum(amount)|\n",
      "+------+------------------+\n",
      "|   PMI| 40547.17005729675|\n",
      "|   YUL|284.44000244140625|\n",
      "|   HEL| 8195.760055541992|\n",
      "|   SXB| 264.4599914550781|\n",
      "|   UIO| 8547.599964141846|\n",
      "|   XRY| 9250.229990959167|\n",
      "|   OLB|1801.4999809265137|\n",
      "|   CCS| 94528.67986679077|\n",
      "|   VRN|1020.5400009155273|\n",
      "|   SPC| 7542.699995517731|\n",
      "+------+------------------+\n",
      "only showing top 10 rows\n",
      "\n"
     ]
    }
   ],
   "source": [
    "mad_tickets.groupBy('origin').sum('amount').show(10)"
   ]
  },
  {
   "cell_type": "markdown",
   "metadata": {
    "colab_type": "text",
    "id": "P4Ov0Bc7rsy6"
   },
   "source": [
    "3) Top 10 Airlines by average amount\n",
    "\n"
   ]
  },
  {
   "cell_type": "code",
   "execution_count": 90,
   "metadata": {
    "colab": {
     "base_uri": "https://localhost:8080/",
     "height": 289
    },
    "colab_type": "code",
    "executionInfo": {
     "elapsed": 5371,
     "status": "ok",
     "timestamp": 1593853063704,
     "user": {
      "displayName": "Felipe Fernandez pomar",
      "photoUrl": "https://lh3.googleusercontent.com/a-/AOh14GjAIBB1UUNahiuBW35nhzx_0hZxW-dTtBh-sbrK0Q=s64",
      "userId": "06620814048662575791"
     },
     "user_tz": -120
    },
    "id": "ubU4M7BLrsy7",
    "outputId": "974e6d56-324d-4fb3-f859-e2a382f7284a"
   },
   "outputs": [
    {
     "name": "stdout",
     "output_type": "stream",
     "text": [
      "+-------+------------------+\n",
      "|carrier|       avg(amount)|\n",
      "+-------+------------------+\n",
      "|     S3| 5225.068852659132|\n",
      "|     9V|1488.6739863189491|\n",
      "|     GA| 991.2527673277024|\n",
      "|     TN| 964.6472629731701|\n",
      "|     7F| 668.0350036621094|\n",
      "|     DT| 579.0006969363191|\n",
      "|     B8| 443.2950134277344|\n",
      "|     V0|438.61227978411614|\n",
      "|     NE| 430.1000061035156|\n",
      "|     4M| 377.7557483212701|\n",
      "+-------+------------------+\n",
      "only showing top 10 rows\n",
      "\n"
     ]
    }
   ],
   "source": [
    "coupons.groupby('carrier').mean('amount').sort('avg(amount)', ascending = False).show(10)"
   ]
  },
  {
   "cell_type": "markdown",
   "metadata": {
    "colab_type": "text",
    "id": "R7ZjL-nHrsy9"
   },
   "source": [
    "## Further Reading\n",
    "\n",
    "https://databricks.com/blog/2016/07/14/a-tale-of-three-apache-spark-apis-rdds-dataframes-and-datasets.html\n",
    "\n",
    "https://www.datacamp.com/community/tutorials/apache-spark-python\n",
    "\n",
    "https://spark.apache.org/docs/2.2.0/sql-programming-guide.html\n",
    "\n",
    "https://ogirardot.wordpress.com/2015/05/29/rdds-are-the-new-bytecode-of-apache-spark/\n",
    "\n",
    "https://stackoverflow.com/questions/36822224/what-are-the-pros-and-cons-of-parquet-format-compared-to-other-formats\n",
    "\n",
    "https://s3.amazonaws.com/assets.datacamp.com/blog_assets/PySpark_SQL_Cheat_Sheet_Python.pdf"
   ]
  },
  {
   "cell_type": "code",
   "execution_count": null,
   "metadata": {
    "colab": {},
    "colab_type": "code",
    "executionInfo": {
     "elapsed": 82327,
     "status": "aborted",
     "timestamp": 1593846558998,
     "user": {
      "displayName": "Felipe Fernandez pomar",
      "photoUrl": "https://lh3.googleusercontent.com/a-/AOh14GjAIBB1UUNahiuBW35nhzx_0hZxW-dTtBh-sbrK0Q=s64",
      "userId": "06620814048662575791"
     },
     "user_tz": -120
    },
    "id": "wN90z_wixCQ4"
   },
   "outputs": [],
   "source": [
    "\n"
   ]
  }
 ],
 "metadata": {
  "anaconda-cloud": {},
  "colab": {
   "collapsed_sections": [],
   "name": "02-SparkSQL-DataFrames.empty.ipynb",
   "provenance": []
  },
  "kernelspec": {
   "display_name": "Python 3",
   "language": "python",
   "name": "python3"
  },
  "language_info": {
   "codemirror_mode": {
    "name": "ipython",
    "version": 3
   },
   "file_extension": ".py",
   "mimetype": "text/x-python",
   "name": "python",
   "nbconvert_exporter": "python",
   "pygments_lexer": "ipython3",
   "version": "3.7.7"
  }
 },
 "nbformat": 4,
 "nbformat_minor": 0
}
