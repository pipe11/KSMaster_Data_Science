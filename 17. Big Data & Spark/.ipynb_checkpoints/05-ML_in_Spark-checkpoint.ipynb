{
 "cells": [
  {
   "cell_type": "markdown",
   "metadata": {
    "colab_type": "text",
    "id": "rMJ1UiyiwfM_"
   },
   "source": [
    "# Tuning Machine Learning models in Spark\n",
    "\n",
    "<a href = \"http://yogen.io\"><img src=\"http://yogen.io/assets/logo.svg\" alt=\"yogen\" style=\"width: 200px; float: right;\"/></a>"
   ]
  },
  {
   "cell_type": "markdown",
   "metadata": {
    "colab_type": "text",
    "id": "SX0XlK9FwfNA"
   },
   "source": [
    "## ML Pipelines in Spark\n",
    "\n",
    "ML model training and tuning often represents running the same steps once and again. Often, we run the same steps with small variations in order to evaluate combinations of parameters. \n",
    "\n",
    "In order to make this use case a lot easier, Spark provides the [Pipeline](https://spark.apache.org/docs/2.3.0/ml-pipeline.html) abstraction.\n",
    "\n",
    "A Pipeline represents a series of steps in the processing of a dataset. Each step is a Transformer or an Estimator. The whole Pipeline is an Estimator, so we can .fit the whole pipeline in one step. When we do that, the steps'  .fit and .transform methods will be called in turn."
   ]
  },
  {
   "cell_type": "markdown",
   "metadata": {
    "colab_type": "text",
    "id": "fT0R9-cqwfNB"
   },
   "source": [
    "![pipelineestimator](https://spark.apache.org/docs/2.3.0/img/ml-Pipeline.png)"
   ]
  },
  {
   "cell_type": "markdown",
   "metadata": {
    "colab_type": "text",
    "id": "GA5hd6n1wfNC"
   },
   "source": [
    "![PipelineModel](https://spark.apache.org/docs/2.3.0/img/ml-PipelineModel.png)"
   ]
  },
  {
   "cell_type": "markdown",
   "metadata": {
    "colab_type": "text",
    "id": "MlHSlGiuwfND"
   },
   "source": [
    "## Example: predicting flight delays\n",
    "\n",
    "We'll be using the same [Transtats'](https://www.transtats.bts.gov/) OTP performance data] from way back when. Remember it?\n",
    "\n",
    "It's a table that contains all domestic departures by US air air carriers that represent at least one percent of domestic scheduled passenger revenues, with data on each individual departure including [Tail Number](https://en.wikipedia.org/wiki/Tail_number), departure delay, origin, destination and carrier.\n"
   ]
  },
  {
   "cell_type": "markdown",
   "metadata": {
    "colab_type": "text",
    "id": "yWOyyYfgwfNE"
   },
   "source": [
    "### Load the data\n",
    "\n",
    "Opening .zip files in Spark is a bit of a pain. For now, let's just decompress the file we want to read. When we are ready to expand the processing to the cluster, we will need to do [this](https://stackoverflow.com/questions/28569788/how-to-open-stream-zip-files-through-spark).\n",
    "\n",
    "```python\n",
    "csvname = 'On_Time_Reporting_Carrier_On_Time_Performance_(1987_present)_2018_12.csv'\n",
    "columns_of_interest = ['Year', 'Month', 'DayofMonth', 'DayOfWeek', 'Reporting_Airline', \n",
    "                       'Tail_Number', 'Flight_Number_Reporting_Airline', 'Origin', \n",
    "                       'OriginCityName', 'OriginStateName', 'Dest', 'DestCityName', 'DestStateName',\n",
    "                       'DepTime', 'DepDelay', 'AirTime', 'Distance']\n",
    "```"
   ]
  },
  {
   "cell_type": "code",
   "execution_count": null,
   "metadata": {
    "colab": {},
    "colab_type": "code",
    "id": "XDHS1ScrwfNF"
   },
   "outputs": [],
   "source": [
    "!unzip -o On_Time_Reporting_Carrier_On_Time_Performance_1987_present_2018_12.zip"
   ]
  },
  {
   "cell_type": "code",
   "execution_count": null,
   "metadata": {
    "colab": {},
    "colab_type": "code",
    "id": "elOyFfOiwfNK",
    "outputId": "b00749b0-7c98-4795-b0df-41491633cf34"
   },
   "outputs": [
    {
     "name": "stdout",
     "output_type": "stream",
     "text": [
      "total 1228216\r\n",
      "-rw-r--r--@ 1 aalmagro  staff  268702484 Mar 12  2019 input.csv\r\n",
      "-rw-r--r--@ 1 aalmagro  staff  268702484 Mar 12  2019 On_Time_Reporting_Carrier_On_Time_Performance_(1987_present)_2018_12.csv\r\n",
      "-rw-r--r--@ 1 aalmagro  staff   82317299 Jun 27 08:53 coupon150720.csv\r\n",
      "drwxr-xr-x  4 aalmagro  staff        128 Jul 10 16:35 \u001b[1m\u001b[36mclean\u001b[m\u001b[m\r\n",
      "-rw-r--r--@ 1 aalmagro  staff      21513 Jul 10 16:37 04-working_on_cluster.ipynb\r\n",
      "drwxr-xr-x  3 aalmagro  staff         96 Jul 10 18:55 \u001b[1m\u001b[36mkk\u001b[m\u001b[m\r\n",
      "-rw-r--r--@ 1 aalmagro  staff       2134 Jul 10 18:57 myscript.py\r\n",
      "-rw-r--r--@ 1 aalmagro  staff     651801 Jul 10 20:07 03_porting_to_spark_empty.ipynb\r\n",
      "-rw-r--r--@ 1 aalmagro  staff     198174 Jul 10 20:09 05-ML_in_Spark.ipynb\r\n",
      "drwxr-xr-x  9 aalmagro  staff        288 Jul 10 20:11 \u001b[1m\u001b[36mmetastore_db\u001b[m\u001b[m\r\n",
      "-rw-r--r--  1 aalmagro  staff        784 Jul 10 20:11 derby.log\r\n"
     ]
    }
   ],
   "source": [
    "!ls -lrt"
   ]
  },
  {
   "cell_type": "code",
   "execution_count": null,
   "metadata": {
    "colab": {},
    "colab_type": "code",
    "collapsed": true,
    "id": "OW8rqyC6wfNO",
    "outputId": "12294c03-7cb7-4270-8db6-eb6363ea5721"
   },
   "outputs": [
    {
     "name": "stdout",
     "output_type": "stream",
     "text": [
      "root\n",
      " |-- Year: integer (nullable = true)\n",
      " |-- Quarter: integer (nullable = true)\n",
      " |-- Month: integer (nullable = true)\n",
      " |-- DayofMonth: integer (nullable = true)\n",
      " |-- DayOfWeek: integer (nullable = true)\n",
      " |-- FlightDate: timestamp (nullable = true)\n",
      " |-- Reporting_Airline: string (nullable = true)\n",
      " |-- DOT_ID_Reporting_Airline: integer (nullable = true)\n",
      " |-- IATA_CODE_Reporting_Airline: string (nullable = true)\n",
      " |-- Tail_Number: string (nullable = true)\n",
      " |-- Flight_Number_Reporting_Airline: integer (nullable = true)\n",
      " |-- OriginAirportID: integer (nullable = true)\n",
      " |-- OriginAirportSeqID: integer (nullable = true)\n",
      " |-- OriginCityMarketID: integer (nullable = true)\n",
      " |-- Origin: string (nullable = true)\n",
      " |-- OriginCityName: string (nullable = true)\n",
      " |-- OriginState: string (nullable = true)\n",
      " |-- OriginStateFips: integer (nullable = true)\n",
      " |-- OriginStateName: string (nullable = true)\n",
      " |-- OriginWac: integer (nullable = true)\n",
      " |-- DestAirportID: integer (nullable = true)\n",
      " |-- DestAirportSeqID: integer (nullable = true)\n",
      " |-- DestCityMarketID: integer (nullable = true)\n",
      " |-- Dest: string (nullable = true)\n",
      " |-- DestCityName: string (nullable = true)\n",
      " |-- DestState: string (nullable = true)\n",
      " |-- DestStateFips: integer (nullable = true)\n",
      " |-- DestStateName: string (nullable = true)\n",
      " |-- DestWac: integer (nullable = true)\n",
      " |-- CRSDepTime: integer (nullable = true)\n",
      " |-- DepTime: integer (nullable = true)\n",
      " |-- DepDelay: double (nullable = true)\n",
      " |-- DepDelayMinutes: double (nullable = true)\n",
      " |-- DepDel15: double (nullable = true)\n",
      " |-- DepartureDelayGroups: integer (nullable = true)\n",
      " |-- DepTimeBlk: string (nullable = true)\n",
      " |-- TaxiOut: double (nullable = true)\n",
      " |-- WheelsOff: integer (nullable = true)\n",
      " |-- WheelsOn: integer (nullable = true)\n",
      " |-- TaxiIn: double (nullable = true)\n",
      " |-- CRSArrTime: integer (nullable = true)\n",
      " |-- ArrTime: integer (nullable = true)\n",
      " |-- ArrDelay: double (nullable = true)\n",
      " |-- ArrDelayMinutes: double (nullable = true)\n",
      " |-- ArrDel15: double (nullable = true)\n",
      " |-- ArrivalDelayGroups: integer (nullable = true)\n",
      " |-- ArrTimeBlk: string (nullable = true)\n",
      " |-- Cancelled: double (nullable = true)\n",
      " |-- CancellationCode: string (nullable = true)\n",
      " |-- Diverted: double (nullable = true)\n",
      " |-- CRSElapsedTime: double (nullable = true)\n",
      " |-- ActualElapsedTime: double (nullable = true)\n",
      " |-- AirTime: double (nullable = true)\n",
      " |-- Flights: double (nullable = true)\n",
      " |-- Distance: double (nullable = true)\n",
      " |-- DistanceGroup: integer (nullable = true)\n",
      " |-- CarrierDelay: double (nullable = true)\n",
      " |-- WeatherDelay: double (nullable = true)\n",
      " |-- NASDelay: double (nullable = true)\n",
      " |-- SecurityDelay: double (nullable = true)\n",
      " |-- LateAircraftDelay: double (nullable = true)\n",
      " |-- FirstDepTime: integer (nullable = true)\n",
      " |-- TotalAddGTime: double (nullable = true)\n",
      " |-- LongestAddGTime: double (nullable = true)\n",
      " |-- DivAirportLandings: integer (nullable = true)\n",
      " |-- DivReachedDest: double (nullable = true)\n",
      " |-- DivActualElapsedTime: double (nullable = true)\n",
      " |-- DivArrDelay: double (nullable = true)\n",
      " |-- DivDistance: double (nullable = true)\n",
      " |-- Div1Airport: string (nullable = true)\n",
      " |-- Div1AirportID: integer (nullable = true)\n",
      " |-- Div1AirportSeqID: integer (nullable = true)\n",
      " |-- Div1WheelsOn: integer (nullable = true)\n",
      " |-- Div1TotalGTime: double (nullable = true)\n",
      " |-- Div1LongestGTime: double (nullable = true)\n",
      " |-- Div1WheelsOff: integer (nullable = true)\n",
      " |-- Div1TailNum: string (nullable = true)\n",
      " |-- Div2Airport: string (nullable = true)\n",
      " |-- Div2AirportID: integer (nullable = true)\n",
      " |-- Div2AirportSeqID: integer (nullable = true)\n",
      " |-- Div2WheelsOn: integer (nullable = true)\n",
      " |-- Div2TotalGTime: double (nullable = true)\n",
      " |-- Div2LongestGTime: double (nullable = true)\n",
      " |-- Div2WheelsOff: integer (nullable = true)\n",
      " |-- Div2TailNum: string (nullable = true)\n",
      " |-- Div3Airport: string (nullable = true)\n",
      " |-- Div3AirportID: string (nullable = true)\n",
      " |-- Div3AirportSeqID: string (nullable = true)\n",
      " |-- Div3WheelsOn: string (nullable = true)\n",
      " |-- Div3TotalGTime: string (nullable = true)\n",
      " |-- Div3LongestGTime: string (nullable = true)\n",
      " |-- Div3WheelsOff: string (nullable = true)\n",
      " |-- Div3TailNum: string (nullable = true)\n",
      " |-- Div4Airport: string (nullable = true)\n",
      " |-- Div4AirportID: string (nullable = true)\n",
      " |-- Div4AirportSeqID: string (nullable = true)\n",
      " |-- Div4WheelsOn: string (nullable = true)\n",
      " |-- Div4TotalGTime: string (nullable = true)\n",
      " |-- Div4LongestGTime: string (nullable = true)\n",
      " |-- Div4WheelsOff: string (nullable = true)\n",
      " |-- Div4TailNum: string (nullable = true)\n",
      " |-- Div5Airport: string (nullable = true)\n",
      " |-- Div5AirportID: string (nullable = true)\n",
      " |-- Div5AirportSeqID: string (nullable = true)\n",
      " |-- Div5WheelsOn: string (nullable = true)\n",
      " |-- Div5TotalGTime: string (nullable = true)\n",
      " |-- Div5LongestGTime: string (nullable = true)\n",
      " |-- Div5WheelsOff: string (nullable = true)\n",
      " |-- Div5TailNum: string (nullable = true)\n",
      " |-- _c109: string (nullable = true)\n",
      "\n"
     ]
    }
   ],
   "source": [
    "from pyspark.sql import SparkSession\n",
    "\n",
    "\n",
    "csvname = 'On_Time_Reporting_Carrier_On_Time_Performance_(1987_present)_2018_12.csv'\n",
    "columns_of_interest = ['Year', 'Month', 'DayofMonth', 'DayOfWeek', 'Reporting_Airline', 'Tail_Number', 'Flight_Number_Reporting_Airline', 'Origin', \n",
    "                       'OriginCityName', 'OriginStateName', 'Dest', 'DestCityName', 'DestStateName',\n",
    "                       'DepTime', 'DepDelay', 'AirTime', 'Distance']\n",
    "\n",
    "spark = SparkSession.builder.getOrCreate()\n",
    "df = spark.read.csv(csvname, header= True, inferSchema=True)\n",
    "df.printSchema()"
   ]
  },
  {
   "cell_type": "code",
   "execution_count": null,
   "metadata": {
    "colab": {},
    "colab_type": "code",
    "id": "K8nyDXwawfNT",
    "outputId": "e82e2ef0-53da-4d85-c2bf-e31c8fe848ce",
    "scrolled": true
   },
   "outputs": [
    {
     "name": "stdout",
     "output_type": "stream",
     "text": [
      "root\n",
      " |-- Year: integer (nullable = true)\n",
      " |-- Month: integer (nullable = true)\n",
      " |-- DayofMonth: integer (nullable = true)\n",
      " |-- DayOfWeek: integer (nullable = true)\n",
      " |-- Reporting_Airline: string (nullable = true)\n",
      " |-- Tail_Number: string (nullable = true)\n",
      " |-- Flight_Number_Reporting_Airline: integer (nullable = true)\n",
      " |-- Origin: string (nullable = true)\n",
      " |-- OriginCityName: string (nullable = true)\n",
      " |-- OriginStateName: string (nullable = true)\n",
      " |-- Dest: string (nullable = true)\n",
      " |-- DestCityName: string (nullable = true)\n",
      " |-- DestStateName: string (nullable = true)\n",
      " |-- DepTime: integer (nullable = true)\n",
      " |-- DepDelay: double (nullable = true)\n",
      " |-- AirTime: double (nullable = true)\n",
      " |-- Distance: double (nullable = true)\n",
      "\n"
     ]
    }
   ],
   "source": [
    "flights = df.select(columns_of_interest)\n",
    "\n",
    "flights.printSchema()"
   ]
  },
  {
   "cell_type": "markdown",
   "metadata": {
    "colab_type": "text",
    "id": "7b2qN19qwfNW"
   },
   "source": [
    "### Drop nas\n",
    "\n",
    "There are only a few departures for which any of the columns of interest contains null values. The most expedient way to handle them is to just drop them, since they won't make much of a difference."
   ]
  },
  {
   "cell_type": "code",
   "execution_count": null,
   "metadata": {
    "colab": {},
    "colab_type": "code",
    "id": "DvrKZnLbwfNX",
    "outputId": "24e19512-97e4-4fe9-88a1-a2de1582c060"
   },
   "outputs": [
    {
     "name": "stdout",
     "output_type": "stream",
     "text": [
      "+-------+------+------+------------------+------------------+-----------------+-----------+-------------------------------+------+--------------+---------------+------+------------+-------------+------------------+------------------+------------------+-----------------+\n",
      "|summary|  Year| Month|        DayofMonth|         DayOfWeek|Reporting_Airline|Tail_Number|Flight_Number_Reporting_Airline|Origin|OriginCityName|OriginStateName|  Dest|DestCityName|DestStateName|           DepTime|          DepDelay|           AirTime|         Distance|\n",
      "+-------+------+------+------------------+------------------+-----------------+-----------+-------------------------------+------+--------------+---------------+------+------------+-------------+------------------+------------------+------------------+-----------------+\n",
      "|  count|593842|593842|            593842|            593842|           593842|     592744|                         593842|593842|        593842|         593842|593842|      593842|       593842|            587316|            587316|            585737|           593842|\n",
      "|   mean|2018.0|  12.0|16.097707807800727| 4.068541800680989|             null|       null|             2662.9640897747213|  null|          null|           null|  null|        null|         null|1332.8357477065158| 8.993885744641727|113.39116531822303|808.3849374075933|\n",
      "| stddev|   0.0|   0.0| 8.882057478463308|2.0560231270691367|             null|       null|             1849.1157912855813|  null|          null|           null|  null|        null|         null| 498.7265859627444|42.968370098610464| 71.68438472757656|597.8730831895629|\n",
      "|    min|  2018|    12|                 1|                 1|               9E|      215NV|                              1|   ABE|  Aberdeen, SD|        Alabama|   ABE|Aberdeen, SD|      Alabama|                 1|             -72.0|               7.0|             31.0|\n",
      "|    25%|  2018|    12|                 8|                 2|             null|       null|                           1104|  null|          null|           null|  null|        null|         null|               920|              -5.0|              61.0|            369.0|\n",
      "|    50%|  2018|    12|                16|                 4|             null|       null|                           2239|  null|          null|           null|  null|        null|         null|              1327|              -2.0|              95.0|            645.0|\n",
      "|    75%|  2018|    12|                24|                 6|             null|       null|                           4067|  null|          null|           null|  null|        null|         null|              1740|               6.0|             144.0|           1046.0|\n",
      "|    max|  2018|    12|                31|                 7|               YX|     N999JB|                           7909|   YUM|      Yuma, AZ|        Wyoming|   YUM|    Yuma, AZ|      Wyoming|              2400|            2098.0|             695.0|           4983.0|\n",
      "+-------+------+------+------------------+------------------+-----------------+-----------+-------------------------------+------+--------------+---------------+------+------------+-------------+------------------+------------------+------------------+-----------------+\n",
      "\n"
     ]
    }
   ],
   "source": [
    "flights.summary().show()"
   ]
  },
  {
   "cell_type": "code",
   "execution_count": null,
   "metadata": {
    "colab": {},
    "colab_type": "code",
    "id": "iCGFi6DTwfNd",
    "outputId": "255a5afc-38a4-42cb-9690-9f5d1d845965"
   },
   "outputs": [
    {
     "name": "stdout",
     "output_type": "stream",
     "text": [
      "+-------+------+------+------------------+------------------+-----------------+-----------+-------------------------------+------+--------------+---------------+------+------------+-------------+------------------+------------------+------------------+-----------------+\n",
      "|summary|  Year| Month|        DayofMonth|         DayOfWeek|Reporting_Airline|Tail_Number|Flight_Number_Reporting_Airline|Origin|OriginCityName|OriginStateName|  Dest|DestCityName|DestStateName|           DepTime|          DepDelay|           AirTime|         Distance|\n",
      "+-------+------+------+------------------+------------------+-----------------+-----------+-------------------------------+------+--------------+---------------+------+------------+-------------+------------------+------------------+------------------+-----------------+\n",
      "|  count|593842|593842|            593842|            593842|           593842|     592744|                         593842|593842|        593842|         593842|593842|      593842|       593842|            587316|            587316|            585737|           593842|\n",
      "|   mean|2018.0|  12.0|16.097707807800727| 4.068541800680989|             null|       null|             2662.9640897747213|  null|          null|           null|  null|        null|         null|1332.8357477065158| 8.993885744641727|113.39116531822303|808.3849374075933|\n",
      "| stddev|   0.0|   0.0| 8.882057478463308|2.0560231270691367|             null|       null|             1849.1157912855813|  null|          null|           null|  null|        null|         null| 498.7265859627444|42.968370098610464| 71.68438472757656|597.8730831895629|\n",
      "|    min|  2018|    12|                 1|                 1|               9E|      215NV|                              1|   ABE|  Aberdeen, SD|        Alabama|   ABE|Aberdeen, SD|      Alabama|                 1|             -72.0|               7.0|             31.0|\n",
      "|    max|  2018|    12|                31|                 7|               YX|     N999JB|                           7909|   YUM|      Yuma, AZ|        Wyoming|   YUM|    Yuma, AZ|      Wyoming|              2400|            2098.0|             695.0|           4983.0|\n",
      "+-------+------+------+------------------+------------------+-----------------+-----------+-------------------------------+------+--------------+---------------+------+------------+-------------+------------------+------------------+------------------+-----------------+\n",
      "\n"
     ]
    }
   ],
   "source": [
    "flights.describe().show()"
   ]
  },
  {
   "cell_type": "code",
   "execution_count": null,
   "metadata": {
    "colab": {},
    "colab_type": "code",
    "id": "6M13UA3DwfNi",
    "outputId": "6f3152c1-9529-4be7-8ac9-b72cf1c30a30"
   },
   "outputs": [
    {
     "name": "stdout",
     "output_type": "stream",
     "text": [
      "+-------+\n",
      "|AirTime|\n",
      "+-------+\n",
      "|  111.0|\n",
      "|  204.0|\n",
      "|  207.0|\n",
      "|  204.0|\n",
      "|  205.0|\n",
      "|  216.0|\n",
      "|   64.0|\n",
      "|   62.0|\n",
      "|   62.0|\n",
      "|   67.0|\n",
      "|   62.0|\n",
      "|   66.0|\n",
      "|   62.0|\n",
      "|   56.0|\n",
      "|   52.0|\n",
      "|   49.0|\n",
      "|   51.0|\n",
      "|   50.0|\n",
      "|   54.0|\n",
      "|   49.0|\n",
      "+-------+\n",
      "only showing top 20 rows\n",
      "\n"
     ]
    }
   ],
   "source": [
    "flights.select(\"AirTime\").show(20)"
   ]
  },
  {
   "cell_type": "code",
   "execution_count": null,
   "metadata": {
    "colab": {},
    "colab_type": "code",
    "id": "rjKxxx6LwfNl",
    "outputId": "8fff8940-fefd-4e94-ff8c-18be6e4c4325"
   },
   "outputs": [
    {
     "data": {
      "text/plain": [
       "593842"
      ]
     },
     "execution_count": 7,
     "metadata": {
      "tags": []
     },
     "output_type": "execute_result"
    }
   ],
   "source": [
    "flights.count()"
   ]
  },
  {
   "cell_type": "code",
   "execution_count": null,
   "metadata": {
    "colab": {},
    "colab_type": "code",
    "id": "EE-fi_68wfNo",
    "outputId": "609a573a-5df0-4f10-bc1b-0a4f9e7566c4"
   },
   "outputs": [
    {
     "name": "stdout",
     "output_type": "stream",
     "text": [
      "+--------------------------------+---------------------------------+--------------------------------------+-------------------------------------+---------------------------------------------+---------------------------------------+-----------------------------------------------------------+----------------------------------+------------------------------------------+-------------------------------------------+--------------------------------+----------------------------------------+-----------------------------------------+-----------------------------------+------------------------------------+-----------------------------------+------------------------------------+\n",
      "|sum(CAST((Year IS NULL) AS INT))|sum(CAST((Month IS NULL) AS INT))|sum(CAST((DayofMonth IS NULL) AS INT))|sum(CAST((DayOfWeek IS NULL) AS INT))|sum(CAST((Reporting_Airline IS NULL) AS INT))|sum(CAST((Tail_Number IS NULL) AS INT))|sum(CAST((Flight_Number_Reporting_Airline IS NULL) AS INT))|sum(CAST((Origin IS NULL) AS INT))|sum(CAST((OriginCityName IS NULL) AS INT))|sum(CAST((OriginStateName IS NULL) AS INT))|sum(CAST((Dest IS NULL) AS INT))|sum(CAST((DestCityName IS NULL) AS INT))|sum(CAST((DestStateName IS NULL) AS INT))|sum(CAST((DepTime IS NULL) AS INT))|sum(CAST((DepDelay IS NULL) AS INT))|sum(CAST((AirTime IS NULL) AS INT))|sum(CAST((Distance IS NULL) AS INT))|\n",
      "+--------------------------------+---------------------------------+--------------------------------------+-------------------------------------+---------------------------------------------+---------------------------------------+-----------------------------------------------------------+----------------------------------+------------------------------------------+-------------------------------------------+--------------------------------+----------------------------------------+-----------------------------------------+-----------------------------------+------------------------------------+-----------------------------------+------------------------------------+\n",
      "|                               0|                                0|                                     0|                                    0|                                            0|                                   1098|                                                          0|                                 0|                                         0|                                          0|                               0|                                       0|                                        0|                               6526|                                6526|                               8105|                                   0|\n",
      "+--------------------------------+---------------------------------+--------------------------------------+-------------------------------------+---------------------------------------------+---------------------------------------+-----------------------------------------------------------+----------------------------------+------------------------------------------+-------------------------------------------+--------------------------------+----------------------------------------+-----------------------------------------+-----------------------------------+------------------------------------+-----------------------------------+------------------------------------+\n",
      "\n"
     ]
    }
   ],
   "source": [
    "from pyspark.sql import functions, types\n",
    "\n",
    "flights.select(\n",
    "    *[functions.sum(flights[col].isNull().cast(types.IntegerType())) for col in flights.columns]\n",
    ").show()"
   ]
  },
  {
   "cell_type": "code",
   "execution_count": null,
   "metadata": {
    "colab": {},
    "colab_type": "code",
    "id": "nFan06D5wfNs"
   },
   "outputs": [],
   "source": [
    ""
   ]
  },
  {
   "cell_type": "markdown",
   "metadata": {
    "colab_type": "text",
    "id": "5CJu296GwfNw"
   },
   "source": [
    "NA-related functions are grouped in a .na attribute of DataFrames."
   ]
  },
  {
   "cell_type": "code",
   "execution_count": null,
   "metadata": {
    "colab": {},
    "colab_type": "code",
    "id": "1m65OCcywfNw",
    "outputId": "6dbe16de-e4c5-4c94-a759-e5f9b17b0519"
   },
   "outputs": [
    {
     "data": {
      "text/plain": [
       "<pyspark.sql.dataframe.DataFrameNaFunctions at 0x7fd10d87ada0>"
      ]
     },
     "execution_count": 8,
     "metadata": {
      "tags": []
     },
     "output_type": "execute_result"
    }
   ],
   "source": [
    "flights.na"
   ]
  },
  {
   "cell_type": "code",
   "execution_count": null,
   "metadata": {
    "colab": {},
    "colab_type": "code",
    "id": "6Gso2IBrwfNz"
   },
   "outputs": [],
   "source": [
    "flights2 = flights.na.drop()"
   ]
  },
  {
   "cell_type": "code",
   "execution_count": null,
   "metadata": {
    "colab": {},
    "colab_type": "code",
    "id": "ghoT-fyNwfN2",
    "outputId": "288b2f6d-1bf1-4efa-f01b-af71b284c475"
   },
   "outputs": [
    {
     "name": "stdout",
     "output_type": "stream",
     "text": [
      "+-------+------+------+------------------+-----------------+-----------------+-----------+-------------------------------+------+--------------+---------------+------+------------+-------------+-----------------+------------------+------------------+-----------------+\n",
      "|summary|  Year| Month|        DayofMonth|        DayOfWeek|Reporting_Airline|Tail_Number|Flight_Number_Reporting_Airline|Origin|OriginCityName|OriginStateName|  Dest|DestCityName|DestStateName|          DepTime|          DepDelay|           AirTime|         Distance|\n",
      "+-------+------+------+------------------+-----------------+-----------------+-----------+-------------------------------+------+--------------+---------------+------+------------+-------------+-----------------+------------------+------------------+-----------------+\n",
      "|  count|585737|585737|            585737|           585737|           585737|     585737|                         585737|585737|        585737|         585737|585737|      585737|       585737|           585737|            585737|            585737|           585737|\n",
      "|   mean|2018.0|  12.0|16.081123439359303|4.062505868674849|             null|       null|             2652.0830219023214|  null|          null|           null|  null|        null|         null|1332.735956581196| 8.937229507441053|113.39116531822303| 810.832288211262|\n",
      "| stddev|   0.0|   0.0| 8.876294545706704|2.055160236233805|             null|       null|             1846.9631261215466|  null|          null|           null|  null|        null|         null|498.7060314360976|42.810522667064454| 71.68438472757656|598.9523413942762|\n",
      "|    min|  2018|    12|                 1|                1|               9E|      215NV|                              1|   ABE|  Aberdeen, SD|        Alabama|   ABE|Aberdeen, SD|      Alabama|                1|             -72.0|               7.0|             31.0|\n",
      "|    25%|  2018|    12|                 8|                2|             null|       null|                           1097|  null|          null|           null|  null|        null|         null|              920|              -5.0|              61.0|            369.0|\n",
      "|    50%|  2018|    12|                16|                4|             null|       null|                           2228|  null|          null|           null|  null|        null|         null|             1327|              -2.0|              95.0|            646.0|\n",
      "|    75%|  2018|    12|                24|                6|             null|       null|                           4051|  null|          null|           null|  null|        null|         null|             1740|               6.0|             144.0|           1050.0|\n",
      "|    max|  2018|    12|                31|                7|               YX|     N999JB|                           7909|   YUM|      Yuma, AZ|        Wyoming|   YUM|    Yuma, AZ|      Wyoming|             2400|            2098.0|             695.0|           4983.0|\n",
      "+-------+------+------+------------------+-----------------+-----------------+-----------+-------------------------------+------+--------------+---------------+------+------------+-------------+-----------------+------------------+------------------+-----------------+\n",
      "\n"
     ]
    }
   ],
   "source": [
    "flights2.summary().show(10)"
   ]
  },
  {
   "cell_type": "markdown",
   "metadata": {
    "colab_type": "text",
    "id": "vt4UX8oxwfN5"
   },
   "source": [
    "## Feature extraction and generation of target variable\n",
    "\n",
    "The departing hour is the most important factor in delays, so we need to calculate it from the departure time. Since the input file uses a funny format for times, Spark has interpreted them as floats:"
   ]
  },
  {
   "cell_type": "code",
   "execution_count": null,
   "metadata": {
    "colab": {},
    "colab_type": "code",
    "id": "hd6E29PMwfN6",
    "outputId": "d810ad4d-d880-4323-8437-b93a58d9e12a"
   },
   "outputs": [
    {
     "name": "stdout",
     "output_type": "stream",
     "text": [
      "root\n",
      " |-- Year: integer (nullable = true)\n",
      " |-- Month: integer (nullable = true)\n",
      " |-- DayofMonth: integer (nullable = true)\n",
      " |-- DayOfWeek: integer (nullable = true)\n",
      " |-- Reporting_Airline: string (nullable = true)\n",
      " |-- Tail_Number: string (nullable = true)\n",
      " |-- Flight_Number_Reporting_Airline: integer (nullable = true)\n",
      " |-- Origin: string (nullable = true)\n",
      " |-- OriginCityName: string (nullable = true)\n",
      " |-- OriginStateName: string (nullable = true)\n",
      " |-- Dest: string (nullable = true)\n",
      " |-- DestCityName: string (nullable = true)\n",
      " |-- DestStateName: string (nullable = true)\n",
      " |-- DepTime: integer (nullable = true)\n",
      " |-- DepDelay: double (nullable = true)\n",
      " |-- AirTime: double (nullable = true)\n",
      " |-- Distance: double (nullable = true)\n",
      "\n"
     ]
    }
   ],
   "source": [
    "flights2.printSchema()"
   ]
  },
  {
   "cell_type": "code",
   "execution_count": null,
   "metadata": {
    "colab": {},
    "colab_type": "code",
    "id": "F4eyq7iswfN_",
    "outputId": "0b78380c-90d5-40f2-e9a8-77365e7e0eff"
   },
   "outputs": [
    {
     "name": "stdout",
     "output_type": "stream",
     "text": [
      "+----+-----+----------+---------+-----------------+-----------+-------------------------------+------+--------------+---------------+----+------------+-------------+-------+--------+-------+--------+\n",
      "|Year|Month|DayofMonth|DayOfWeek|Reporting_Airline|Tail_Number|Flight_Number_Reporting_Airline|Origin|OriginCityName|OriginStateName|Dest|DestCityName|DestStateName|DepTime|DepDelay|AirTime|Distance|\n",
      "+----+-----+----------+---------+-----------------+-----------+-------------------------------+------+--------------+---------------+----+------------+-------------+-------+--------+-------+--------+\n",
      "|2018|   12|        25|        2|               WN|     N566WN|                           1823|   OAK|   Oakland, CA|     California| GEG| Spokane, WA|   Washington|   1048|    18.0|  111.0|   723.0|\n",
      "|2018|   12|        25|        2|               WN|     N562WN|                            982|   OAK|   Oakland, CA|     California| HOU| Houston, TX|        Texas|    638|    -2.0|  204.0|  1642.0|\n",
      "|2018|   12|        25|        2|               WN|     N8611F|                           1562|   OAK|   Oakland, CA|     California| HOU| Houston, TX|        Texas|   1710|     0.0|  207.0|  1642.0|\n",
      "|2018|   12|        25|        2|               WN|     N7721E|                           1687|   OAK|   Oakland, CA|     California| HOU| Houston, TX|        Texas|   1318|    -2.0|  204.0|  1642.0|\n",
      "|2018|   12|        25|        2|               WN|     N218WN|                           1877|   OAK|   Oakland, CA|     California| HOU| Houston, TX|        Texas|    953|    -2.0|  205.0|  1642.0|\n",
      "+----+-----+----------+---------+-----------------+-----------+-------------------------------+------+--------------+---------------+----+------------+-------------+-------+--------+-------+--------+\n",
      "only showing top 5 rows\n",
      "\n"
     ]
    }
   ],
   "source": [
    "flights2.show(5)"
   ]
  },
  {
   "cell_type": "code",
   "execution_count": null,
   "metadata": {
    "colab": {},
    "colab_type": "code",
    "id": "VNBBCEDDwfOC",
    "outputId": "2e564c8f-e5ad-4030-c5de-d0218989dd44",
    "scrolled": true
   },
   "outputs": [
    {
     "name": "stdout",
     "output_type": "stream",
     "text": [
      "+-------+\n",
      "|DepTime|\n",
      "+-------+\n",
      "|   1048|\n",
      "|    638|\n",
      "|   1710|\n",
      "|   1318|\n",
      "|    953|\n",
      "+-------+\n",
      "only showing top 5 rows\n",
      "\n"
     ]
    }
   ],
   "source": [
    "flights2.select('DepTime').show(5)"
   ]
  },
  {
   "cell_type": "markdown",
   "metadata": {
    "colab_type": "text",
    "id": "A_kPhwArwfOG"
   },
   "source": [
    "#### Exercise\n",
    "\n",
    "Calculated the 'DepHour' column that represents the hour as an int."
   ]
  },
  {
   "cell_type": "code",
   "execution_count": null,
   "metadata": {
    "colab": {},
    "colab_type": "code",
    "id": "X-y_wCALwfOI"
   },
   "outputs": [],
   "source": [
    "str(num)[:-2]"
   ]
  },
  {
   "cell_type": "markdown",
   "metadata": {
    "colab_type": "text",
    "id": "yDjh8PDcwfOL"
   },
   "source": [
    "Implement this Extract hour function as UDF using str(num)[:-2]:\n",
    "\n",
    "1) Define python function / Skip and lambda function.\n",
    "\n",
    "2) Create udf object from function / lambda function.\n",
    "\n",
    "3) Create new column (withColumn) using this udf."
   ]
  },
  {
   "cell_type": "code",
   "execution_count": null,
   "metadata": {
    "colab": {},
    "colab_type": "code",
    "id": "KbN-1vIewfOM"
   },
   "outputs": [],
   "source": [
    "from pyspark.sql import functions, types"
   ]
  },
  {
   "cell_type": "code",
   "execution_count": null,
   "metadata": {
    "colab": {},
    "colab_type": "code",
    "id": "9TKNiyxhwfOP",
    "outputId": "99374e72-3af1-4031-ff3d-80947e145e88"
   },
   "outputs": [
    {
     "data": {
      "text/plain": [
       "10"
      ]
     },
     "execution_count": 20,
     "metadata": {
      "tags": []
     },
     "output_type": "execute_result"
    }
   ],
   "source": [
    "time = 1034\n",
    "def strHour(time):\n",
    "    return int(str(time)[:-2])\n",
    "strHour(time)"
   ]
  },
  {
   "cell_type": "code",
   "execution_count": null,
   "metadata": {
    "colab": {},
    "colab_type": "code",
    "id": "V6eC6pB6wfOR"
   },
   "outputs": [],
   "source": [
    ""
   ]
  },
  {
   "cell_type": "code",
   "execution_count": null,
   "metadata": {
    "colab": {},
    "colab_type": "code",
    "id": "5tfJiopTwfOU"
   },
   "outputs": [],
   "source": [
    "takeHour_udf = functions.udf(lambda time:int(str(time)[:-2]),returnType=types.IntegerType())"
   ]
  },
  {
   "cell_type": "code",
   "execution_count": null,
   "metadata": {
    "colab": {},
    "colab_type": "code",
    "id": "gkwPL-XKwfOW"
   },
   "outputs": [],
   "source": [
    "flights3b = flights2.withColumn(\"DepHour\",takeHour_udf(\"DepTime\").cast(types.IntegerType()))"
   ]
  },
  {
   "cell_type": "code",
   "execution_count": null,
   "metadata": {
    "colab": {},
    "colab_type": "code",
    "id": "eHPhuZQNwfOZ"
   },
   "outputs": [],
   "source": [
    "flights3 = flights2.withColumn('DepHour', (flights['DepTime'] / 100).cast(types.IntegerType()))"
   ]
  },
  {
   "cell_type": "code",
   "execution_count": null,
   "metadata": {
    "colab": {},
    "colab_type": "code",
    "collapsed": true,
    "id": "CRk61W_TwfOg",
    "outputId": "7c15fb94-3842-4d81-b631-175b6ba1d1ce"
   },
   "outputs": [
    {
     "name": "stdout",
     "output_type": "stream",
     "text": [
      "+----+-----+----------+---------+-----------------+-----------+-------------------------------+------+--------------+---------------+----+------------+-------------+-------+--------+-------+--------+-------+\n",
      "|Year|Month|DayofMonth|DayOfWeek|Reporting_Airline|Tail_Number|Flight_Number_Reporting_Airline|Origin|OriginCityName|OriginStateName|Dest|DestCityName|DestStateName|DepTime|DepDelay|AirTime|Distance|DepHour|\n",
      "+----+-----+----------+---------+-----------------+-----------+-------------------------------+------+--------------+---------------+----+------------+-------------+-------+--------+-------+--------+-------+\n",
      "|2018|   12|        25|        2|               WN|     N566WN|                           1823|   OAK|   Oakland, CA|     California| GEG| Spokane, WA|   Washington|   1048|    18.0|  111.0|   723.0|     10|\n",
      "|2018|   12|        25|        2|               WN|     N562WN|                            982|   OAK|   Oakland, CA|     California| HOU| Houston, TX|        Texas|    638|    -2.0|  204.0|  1642.0|      6|\n",
      "|2018|   12|        25|        2|               WN|     N8611F|                           1562|   OAK|   Oakland, CA|     California| HOU| Houston, TX|        Texas|   1710|     0.0|  207.0|  1642.0|     17|\n",
      "|2018|   12|        25|        2|               WN|     N7721E|                           1687|   OAK|   Oakland, CA|     California| HOU| Houston, TX|        Texas|   1318|    -2.0|  204.0|  1642.0|     13|\n",
      "|2018|   12|        25|        2|               WN|     N218WN|                           1877|   OAK|   Oakland, CA|     California| HOU| Houston, TX|        Texas|    953|    -2.0|  205.0|  1642.0|      9|\n",
      "+----+-----+----------+---------+-----------------+-----------+-------------------------------+------+--------------+---------------+----+------------+-------------+-------+--------+-------+--------+-------+\n",
      "only showing top 5 rows\n",
      "\n"
     ]
    }
   ],
   "source": [
    "flights3b.show(5)"
   ]
  },
  {
   "cell_type": "code",
   "execution_count": null,
   "metadata": {
    "colab": {},
    "colab_type": "code",
    "id": "ZqNHuDsuwfOk",
    "outputId": "de30ba7e-1037-4bfc-b938-85ab84f10780"
   },
   "outputs": [
    {
     "data": {
      "text/plain": [
       "585737"
      ]
     },
     "execution_count": 19,
     "metadata": {
      "tags": []
     },
     "output_type": "execute_result"
    }
   ],
   "source": [
    "flights3.count()"
   ]
  },
  {
   "cell_type": "code",
   "execution_count": null,
   "metadata": {
    "colab": {},
    "colab_type": "code",
    "id": "yyaWOsG0wfOm",
    "outputId": "749535db-b7b6-4804-d9f4-1fed4e776e7d"
   },
   "outputs": [
    {
     "data": {
      "text/plain": [
       "585737"
      ]
     },
     "execution_count": 24,
     "metadata": {
      "tags": []
     },
     "output_type": "execute_result"
    }
   ],
   "source": [
    "flights3b.count()"
   ]
  },
  {
   "cell_type": "code",
   "execution_count": null,
   "metadata": {
    "colab": {},
    "colab_type": "code",
    "id": "dDrVCP-_wfOp",
    "outputId": "43ab2959-3fc3-47a0-8d31-7d2e7e061343"
   },
   "outputs": [
    {
     "name": "stdout",
     "output_type": "stream",
     "text": [
      "root\n",
      " |-- Year: integer (nullable = true)\n",
      " |-- Month: integer (nullable = true)\n",
      " |-- DayofMonth: integer (nullable = true)\n",
      " |-- DayOfWeek: integer (nullable = true)\n",
      " |-- Reporting_Airline: string (nullable = true)\n",
      " |-- Tail_Number: string (nullable = true)\n",
      " |-- Flight_Number_Reporting_Airline: integer (nullable = true)\n",
      " |-- Origin: string (nullable = true)\n",
      " |-- OriginCityName: string (nullable = true)\n",
      " |-- OriginStateName: string (nullable = true)\n",
      " |-- Dest: string (nullable = true)\n",
      " |-- DestCityName: string (nullable = true)\n",
      " |-- DestStateName: string (nullable = true)\n",
      " |-- DepTime: integer (nullable = true)\n",
      " |-- DepDelay: double (nullable = true)\n",
      " |-- AirTime: double (nullable = true)\n",
      " |-- Distance: double (nullable = true)\n",
      " |-- DepHour: integer (nullable = true)\n",
      "\n"
     ]
    }
   ],
   "source": [
    "flights3b.printSchema()"
   ]
  },
  {
   "cell_type": "markdown",
   "metadata": {
    "colab_type": "text",
    "id": "7-9s5aChwfOr"
   },
   "source": [
    "We will also generate a binary target variable. The aviation industry considers a flight delayed when it departs more than 15 minutes after its scheduled departure time, so we will use that. We will create it as an integer, since that is what the learning algorithms expect."
   ]
  },
  {
   "cell_type": "code",
   "execution_count": null,
   "metadata": {
    "colab": {},
    "colab_type": "code",
    "id": "yLhAgfTlwfOs"
   },
   "outputs": [],
   "source": [
    "flights4 = flights3.withColumn('Delayed', (flights3['DepDelay'] > 15).cast(types.IntegerType()))"
   ]
  },
  {
   "cell_type": "code",
   "execution_count": null,
   "metadata": {
    "colab": {},
    "colab_type": "code",
    "id": "qafRSnKKwfOw",
    "outputId": "c4b33b53-e1bb-4ef4-9fda-8d25ce5fff37"
   },
   "outputs": [
    {
     "data": {
      "text/plain": [
       "585737"
      ]
     },
     "execution_count": 31,
     "metadata": {
      "tags": []
     },
     "output_type": "execute_result"
    }
   ],
   "source": [
    "flights4.count()"
   ]
  },
  {
   "cell_type": "markdown",
   "metadata": {
    "colab_type": "text",
    "id": "wUthmBw-wfOy"
   },
   "source": [
    "In order to make the training times manageable, let's pick only 10% of the data to train."
   ]
  },
  {
   "cell_type": "code",
   "execution_count": null,
   "metadata": {
    "colab": {},
    "colab_type": "code",
    "id": "VRQZh6EAwfOz"
   },
   "outputs": [],
   "source": [
    "train, rest = flights4.randomSplit([0.1, 0.9])"
   ]
  },
  {
   "cell_type": "code",
   "execution_count": null,
   "metadata": {
    "colab": {},
    "colab_type": "code",
    "id": "C2nQV7ucwfO2",
    "outputId": "941fe975-7f4c-4614-9586-2dcb050c1210"
   },
   "outputs": [
    {
     "name": "stdout",
     "output_type": "stream",
     "text": [
      "+----+-----+----------+---------+-----------------+-----------+-------------------------------+------+------------------+---------------+----+------------------+--------------+-------+--------+-------+--------+-------+-------+\n",
      "|Year|Month|DayofMonth|DayOfWeek|Reporting_Airline|Tail_Number|Flight_Number_Reporting_Airline|Origin|    OriginCityName|OriginStateName|Dest|      DestCityName| DestStateName|DepTime|DepDelay|AirTime|Distance|DepHour|Delayed|\n",
      "+----+-----+----------+---------+-----------------+-----------+-------------------------------+------+------------------+---------------+----+------------------+--------------+-------+--------+-------+--------+-------+-------+\n",
      "|2018|   12|         1|        6|               F9|     N216FR|                            488|   DEN|        Denver, CO|       Colorado| RSW|    Fort Myers, FL|       Florida|     52|    -1.0|  201.0|  1607.0|      0|      0|\n",
      "|2018|   12|         1|        6|               F9|     N216FR|                           1577|   RSW|    Fort Myers, FL|        Florida| BNA|     Nashville, TN|     Tennessee|    759|    -6.0|   99.0|   722.0|      7|      0|\n",
      "|2018|   12|         1|        6|               F9|     N220FR|                           1241|   RDU|Raleigh/Durham, NC| North Carolina| MCI|   Kansas City, MO|      Missouri|   1446|    -9.0|  133.0|   904.0|     14|      0|\n",
      "|2018|   12|         1|        6|               F9|     N228FR|                           1723|   MCO|       Orlando, FL|        Florida| STL|     St. Louis, MO|      Missouri|   1903|    -8.0|  122.0|   882.0|     19|      0|\n",
      "|2018|   12|         1|        6|               F9|     N228FR|                           1792|   GSP|         Greer, SC| South Carolina| MCO|       Orlando, FL|       Florida|   1640|    -9.0|   72.0|   449.0|     16|      0|\n",
      "|2018|   12|         1|        6|               F9|     N229FR|                           1124|   LAS|     Las Vegas, NV|         Nevada| RDU|Raleigh/Durham, NC|North Carolina|   2245|    -9.0|  210.0|  2026.0|     22|      0|\n",
      "|2018|   12|         1|        6|               F9|     N238FR|                           2340|   PHX|       Phoenix, AZ|        Arizona| ORF|       Norfolk, VA|      Virginia|    804|    39.0|  214.0|  2029.0|      8|      1|\n",
      "|2018|   12|         1|        6|               F9|     N304FR|                            532|   RNO|          Reno, NV|         Nevada| DEN|        Denver, CO|      Colorado|   1924|    -9.0|  102.0|   804.0|     19|      0|\n",
      "|2018|   12|         1|        6|               F9|     N308FR|                           1640|   MSP|   Minneapolis, MN|      Minnesota| MCO|       Orlando, FL|       Florida|   1017|   -10.0|  183.0|  1310.0|     10|      0|\n",
      "|2018|   12|         1|        6|               F9|     N309FR|                           1027|   AUS|        Austin, TX|          Texas| LAS|     Las Vegas, NV|        Nevada|   2146|   -13.0|  192.0|  1090.0|     21|      0|\n",
      "+----+-----+----------+---------+-----------------+-----------+-------------------------------+------+------------------+---------------+----+------------------+--------------+-------+--------+-------+--------+-------+-------+\n",
      "only showing top 10 rows\n",
      "\n"
     ]
    }
   ],
   "source": [
    "train.show(10)"
   ]
  },
  {
   "cell_type": "markdown",
   "metadata": {
    "colab_type": "text",
    "id": "KK7VjjO1wfO5"
   },
   "source": [
    "## Handle different fields in different ways\n",
    "\n",
    "We have features of at least three kinds:\n",
    "\n",
    "* Numeric continuous fields, which we can use as input to many algorithms as they are. In particular, decision trees can take continuous variables with any value as input, since they only look for the cutoff point that most increases the homogeneity of the resulting groups. In contrast, if we were using a logistic regression with regularization, for example, we would need to first scale the variables to have comparable magnitudes.\n",
    "\n",
    "* There are fields which we will treat as categorical variables, but which are already integers. These need to be one-hot encoded.\n",
    "\n",
    "* Finally, there are several categorical variables that are encoded as strings. These need to be one-hot encoded, but OneHotEncoder requires numeric input. Therefore, we will need to apply a StringIndexer to each of them before one-hot encoding.\n",
    "\n",
    "```python\n",
    "# Reminder:\n",
    "\n",
    "categorical_fields = ['Year', 'Month', 'DayofMonth', 'DayOfWeek', 'Reporting_Airline', \n",
    "                      'Origin', 'OriginCityName', 'OriginStateName', \n",
    "                      'Dest', 'DestCityName', 'DestStateName']\n",
    "\n",
    "string_fields = [field.name for field in flights_sample.schema.fields if field.dataType == types.StringType()]\n",
    "\n",
    "continuous_fields = ['Distance', 'DepHour']\n",
    "\n",
    "target_field = 'Delayed'\n",
    "```"
   ]
  },
  {
   "cell_type": "code",
   "execution_count": null,
   "metadata": {
    "colab": {},
    "colab_type": "code",
    "id": "_fOnHhDWwfO5",
    "outputId": "ba3e7819-af6f-4354-c4fa-cd0418164404"
   },
   "outputs": [
    {
     "name": "stdout",
     "output_type": "stream",
     "text": [
      "root\n",
      " |-- Year: integer (nullable = true)\n",
      " |-- Month: integer (nullable = true)\n",
      " |-- DayofMonth: integer (nullable = true)\n",
      " |-- DayOfWeek: integer (nullable = true)\n",
      " |-- Reporting_Airline: string (nullable = true)\n",
      " |-- Tail_Number: string (nullable = true)\n",
      " |-- Flight_Number_Reporting_Airline: integer (nullable = true)\n",
      " |-- Origin: string (nullable = true)\n",
      " |-- OriginCityName: string (nullable = true)\n",
      " |-- OriginStateName: string (nullable = true)\n",
      " |-- Dest: string (nullable = true)\n",
      " |-- DestCityName: string (nullable = true)\n",
      " |-- DestStateName: string (nullable = true)\n",
      " |-- DepTime: integer (nullable = true)\n",
      " |-- DepDelay: double (nullable = true)\n",
      " |-- AirTime: double (nullable = true)\n",
      " |-- Distance: double (nullable = true)\n",
      " |-- DepHour: integer (nullable = true)\n",
      " |-- Delayed: integer (nullable = true)\n",
      "\n"
     ]
    }
   ],
   "source": [
    "train.printSchema()"
   ]
  },
  {
   "cell_type": "code",
   "execution_count": null,
   "metadata": {
    "colab": {},
    "colab_type": "code",
    "id": "gXmtcsE_wfO7",
    "outputId": "2c9fd99c-2896-413c-9461-85298a688f9c"
   },
   "outputs": [
    {
     "data": {
      "text/plain": [
       "StructType(List(StructField(Year,IntegerType,true),StructField(Month,IntegerType,true),StructField(DayofMonth,IntegerType,true),StructField(DayOfWeek,IntegerType,true),StructField(Reporting_Airline,StringType,true),StructField(Tail_Number,StringType,true),StructField(Flight_Number_Reporting_Airline,IntegerType,true),StructField(Origin,StringType,true),StructField(OriginCityName,StringType,true),StructField(OriginStateName,StringType,true),StructField(Dest,StringType,true),StructField(DestCityName,StringType,true),StructField(DestStateName,StringType,true),StructField(DepTime,IntegerType,true),StructField(DepDelay,DoubleType,true),StructField(AirTime,DoubleType,true),StructField(Distance,DoubleType,true),StructField(DepHour,IntegerType,true),StructField(Delayed,IntegerType,true)))"
      ]
     },
     "execution_count": 37,
     "metadata": {
      "tags": []
     },
     "output_type": "execute_result"
    }
   ],
   "source": [
    "train.schema"
   ]
  },
  {
   "cell_type": "code",
   "execution_count": null,
   "metadata": {
    "colab": {},
    "colab_type": "code",
    "id": "D6Sy9IHRwfO-",
    "outputId": "493d5de9-4ccc-42dc-8693-16ef8fc679c8"
   },
   "outputs": [
    {
     "name": "stdout",
     "output_type": "stream",
     "text": [
      "Year IntegerType\n",
      "Month IntegerType\n",
      "DayofMonth IntegerType\n",
      "DayOfWeek IntegerType\n",
      "Reporting_Airline StringType\n",
      "Tail_Number StringType\n",
      "Flight_Number_Reporting_Airline IntegerType\n",
      "Origin StringType\n",
      "OriginCityName StringType\n",
      "OriginStateName StringType\n",
      "Dest StringType\n",
      "DestCityName StringType\n",
      "DestStateName StringType\n",
      "DepTime IntegerType\n",
      "DepDelay DoubleType\n",
      "AirTime DoubleType\n",
      "Distance DoubleType\n",
      "DepHour IntegerType\n",
      "Delayed IntegerType\n"
     ]
    }
   ],
   "source": [
    "for field in train.schema.fields:\n",
    "    print(field.name,field.dataType)"
   ]
  },
  {
   "cell_type": "code",
   "execution_count": null,
   "metadata": {
    "colab": {},
    "colab_type": "code",
    "id": "1S8NoZ29wfPD"
   },
   "outputs": [],
   "source": [
    "categorical_fields = ['Year', 'Month', 'DayofMonth', 'DayOfWeek', 'Reporting_Airline', \n",
    "                      'Origin', 'OriginCityName', 'OriginStateName', \n",
    "                      'Dest', 'DestCityName', 'DestStateName']\n",
    "\n",
    "string_fields = [field.name for field in train.schema.fields if field.dataType == types.StringType()]\n",
    "\n",
    "continuous_fields = ['Distance', 'DepHour']\n",
    "\n",
    "target_field = 'Delayed'"
   ]
  },
  {
   "cell_type": "code",
   "execution_count": null,
   "metadata": {
    "colab": {},
    "colab_type": "code",
    "id": "F7j-gKI-wfPG",
    "outputId": "c187308f-060a-4d25-af3b-b2ddb0cb870d"
   },
   "outputs": [
    {
     "data": {
      "text/plain": [
       "['Reporting_Airline',\n",
       " 'Tail_Number',\n",
       " 'Origin',\n",
       " 'OriginCityName',\n",
       " 'OriginStateName',\n",
       " 'Dest',\n",
       " 'DestCityName',\n",
       " 'DestStateName']"
      ]
     },
     "execution_count": 37,
     "metadata": {
      "tags": []
     },
     "output_type": "execute_result"
    }
   ],
   "source": [
    "string_fields"
   ]
  },
  {
   "cell_type": "markdown",
   "metadata": {
    "colab_type": "text",
    "id": "NrYrc6k5wfPI"
   },
   "source": [
    "We have generated the list of names of columns that have dataType string with a list comprehension, rather than hard-coding it, but it is just like the other ones."
   ]
  },
  {
   "cell_type": "code",
   "execution_count": null,
   "metadata": {
    "colab": {},
    "colab_type": "code",
    "id": "NbrUJ5WEwfPI",
    "outputId": "b78cd00c-5f97-46f8-855d-7cb44610f254"
   },
   "outputs": [
    {
     "name": "stdout",
     "output_type": "stream",
     "text": [
      "root\n",
      " |-- Year: integer (nullable = true)\n",
      " |-- Month: integer (nullable = true)\n",
      " |-- DayofMonth: integer (nullable = true)\n",
      " |-- DayOfWeek: integer (nullable = true)\n",
      " |-- Reporting_Airline: string (nullable = true)\n",
      " |-- Tail_Number: string (nullable = true)\n",
      " |-- Flight_Number_Reporting_Airline: integer (nullable = true)\n",
      " |-- Origin: string (nullable = true)\n",
      " |-- OriginCityName: string (nullable = true)\n",
      " |-- OriginStateName: string (nullable = true)\n",
      " |-- Dest: string (nullable = true)\n",
      " |-- DestCityName: string (nullable = true)\n",
      " |-- DestStateName: string (nullable = true)\n",
      " |-- DepTime: integer (nullable = true)\n",
      " |-- DepDelay: double (nullable = true)\n",
      " |-- AirTime: double (nullable = true)\n",
      " |-- Distance: double (nullable = true)\n",
      " |-- DepHour: integer (nullable = true)\n",
      " |-- Delayed: integer (nullable = true)\n",
      "\n"
     ]
    }
   ],
   "source": [
    "train.printSchema()"
   ]
  },
  {
   "cell_type": "markdown",
   "metadata": {
    "colab_type": "text",
    "id": "myKpjrE_wfPL"
   },
   "source": [
    "## Handling categorical fields\n",
    "\n",
    "Let's do the processing of just one field first, as an example. Then we will process the rest."
   ]
  },
  {
   "cell_type": "markdown",
   "metadata": {
    "colab_type": "text",
    "id": "eUVwKDojwfPM"
   },
   "source": [
    "### StringIndexer \n",
    "\n",
    "A [StringIndexer](https://spark.apache.org/docs/2.2.0/ml-features.html#stringindexer) is an estimator that takes a single string field, then produces a transformer that codifies said field as numeric labels that are fit for feeding to a one-hot encoding. \n",
    "\n",
    "We need to specify an input column, an output column, and a way to handle invalids. In this case, invalids are values that the indexer has not seen during fitting but that the transformer finds during processing. Its values are 'error' (the default), which is pretty self-explanatory, 'skip', which drops them, and 'keep', which is what we want. It will assign all unseen labels to a single category index."
   ]
  },
  {
   "cell_type": "code",
   "execution_count": null,
   "metadata": {
    "colab": {},
    "colab_type": "code",
    "id": "_QNnilCbwfPM"
   },
   "outputs": [],
   "source": [
    "from pyspark.ml.feature import StringIndexer\n",
    "\n",
    "carrier_indexer = StringIndexer(inputCol='Reporting_Airline', outputCol='Reporting_Airline_index',\\\n",
    "                                handleInvalid='keep')"
   ]
  },
  {
   "cell_type": "code",
   "execution_count": null,
   "metadata": {
    "colab": {},
    "colab_type": "code",
    "id": "fxvv_s_WwfPS"
   },
   "outputs": [],
   "source": [
    "carriers = train.select('Reporting_Airline')"
   ]
  },
  {
   "cell_type": "code",
   "execution_count": null,
   "metadata": {
    "colab": {},
    "colab_type": "code",
    "id": "dU7ow3RnwfPW"
   },
   "outputs": [],
   "source": [
    "carrier_indexer_transformer = carrier_indexer.fit(carriers)"
   ]
  },
  {
   "cell_type": "code",
   "execution_count": null,
   "metadata": {
    "colab": {},
    "colab_type": "code",
    "id": "O7O7vMi8wfPa",
    "outputId": "d435af3d-2198-4ac0-a28e-f92ae0373bf6"
   },
   "outputs": [
    {
     "name": "stdout",
     "output_type": "stream",
     "text": [
      "+-----------------+-----------------------+\n",
      "|Reporting_Airline|Reporting_Airline_index|\n",
      "+-----------------+-----------------------+\n",
      "|               F9|                   14.0|\n",
      "|               F9|                   14.0|\n",
      "|               F9|                   14.0|\n",
      "|               F9|                   14.0|\n",
      "|               F9|                   14.0|\n",
      "+-----------------+-----------------------+\n",
      "only showing top 5 rows\n",
      "\n"
     ]
    }
   ],
   "source": [
    "carrier_indexer_transformer.transform(carriers2).show(5)"
   ]
  },
  {
   "cell_type": "markdown",
   "metadata": {
    "colab_type": "text",
    "id": "809KTBgawfPc"
   },
   "source": [
    "### OneHotEncoder\n",
    "\n",
    "A [OneHotEncoder](https://spark.apache.org/docs/latest/ml-features#onehotencoderestimator) generates a n-1 length vector column for an n-category column of category indices. \n",
    "\n",
    "We need to specify an input and an output column."
   ]
  },
  {
   "cell_type": "code",
   "execution_count": null,
   "metadata": {
    "colab": {},
    "colab_type": "code",
    "id": "HVMz5Vx_wfPd"
   },
   "outputs": [],
   "source": [
    "from pyspark.ml.feature import OneHotEncoderEstimator\n",
    "\n",
    "onehot_encoder = OneHotEncoderEstimator(inputCols=['Reporting_Airline_index'], outputCols=['Reporting_Airline_onehot'])"
   ]
  },
  {
   "cell_type": "code",
   "execution_count": null,
   "metadata": {
    "colab": {},
    "colab_type": "code",
    "id": "ixmB7B08wfPh",
    "outputId": "29cad615-94a0-4d08-fa6c-68181cddfd78"
   },
   "outputs": [
    {
     "data": {
      "text/plain": [
       "DataFrame[Reporting_Airline: string, Reporting_Airline_index: double, Reporting_Airline_onehot: vector]"
      ]
     },
     "execution_count": 49,
     "metadata": {
      "tags": []
     },
     "output_type": "execute_result"
    }
   ],
   "source": [
    "# The whole process for a single field would be like this:\n",
    "\n",
    "carrier_indexer_transformer = carrier_indexer.fit(carriers)\n",
    "indexed = carrier_indexer_transformer.transform(carriers)\n",
    "\n",
    "onehot_encoder_model = onehot_encoder.fit(indexed)\n",
    "onehot_encoded = onehot_encoder_model.transform(indexed)\n",
    "\n",
    "onehot_encoded"
   ]
  },
  {
   "cell_type": "code",
   "execution_count": null,
   "metadata": {
    "colab": {},
    "colab_type": "code",
    "id": "4Vkesc7VwfPm",
    "outputId": "d246f46c-186e-4f58-831d-baecc6795231"
   },
   "outputs": [
    {
     "name": "stdout",
     "output_type": "stream",
     "text": [
      "+-----------------+-----------------------+------------------------+\n",
      "|Reporting_Airline|Reporting_Airline_index|Reporting_Airline_onehot|\n",
      "+-----------------+-----------------------+------------------------+\n",
      "|               F9|                   14.0|         (17,[14],[1.0])|\n",
      "|               F9|                   14.0|         (17,[14],[1.0])|\n",
      "|               F9|                   14.0|         (17,[14],[1.0])|\n",
      "|               F9|                   14.0|         (17,[14],[1.0])|\n",
      "|               F9|                   14.0|         (17,[14],[1.0])|\n",
      "+-----------------+-----------------------+------------------------+\n",
      "only showing top 5 rows\n",
      "\n"
     ]
    }
   ],
   "source": [
    "onehot_encoded.show(5)"
   ]
  },
  {
   "cell_type": "code",
   "execution_count": null,
   "metadata": {
    "colab": {
     "base_uri": "https://localhost:8080/",
     "height": 301
    },
    "colab_type": "code",
    "executionInfo": {
     "elapsed": 1610,
     "status": "error",
     "timestamp": 1594452529639,
     "user": {
      "displayName": "Felipe Fernandez pomar",
      "photoUrl": "https://lh3.googleusercontent.com/a-/AOh14GjAIBB1UUNahiuBW35nhzx_0hZxW-dTtBh-sbrK0Q=s64",
      "userId": "06620814048662575791"
     },
     "user_tz": -120
    },
    "id": "JXDC05BRxm97",
    "outputId": "09372664-4d03-451b-bc70-30773955492f"
   },
   "outputs": [
    {
     "ename": "ModuleNotFoundError",
     "evalue": "ignored",
     "output_type": "error",
     "traceback": [
      "\u001b[0;31m---------------------------------------------------------------------------\u001b[0m",
      "\u001b[0;31mModuleNotFoundError\u001b[0m                       Traceback (most recent call last)",
      "\u001b[0;32m<ipython-input-1-4679ea2ce4af>\u001b[0m in \u001b[0;36m<module>\u001b[0;34m()\u001b[0m\n\u001b[0;32m----> 1\u001b[0;31m \u001b[0;32mfrom\u001b[0m \u001b[0mpyspark\u001b[0m\u001b[0;34m.\u001b[0m\u001b[0mml\u001b[0m\u001b[0;34m.\u001b[0m\u001b[0mlinalg\u001b[0m \u001b[0;32mimport\u001b[0m \u001b[0mSparseVector\u001b[0m\u001b[0;34m\u001b[0m\u001b[0;34m\u001b[0m\u001b[0m\n\u001b[0m",
      "\u001b[0;31mModuleNotFoundError\u001b[0m: No module named 'pyspark'",
      "",
      "\u001b[0;31m---------------------------------------------------------------------------\u001b[0;32m\nNOTE: If your import is failing due to a missing package, you can\nmanually install dependencies using either !pip or !apt.\n\nTo view examples of installing some common dependencies, click the\n\"Open Examples\" button below.\n\u001b[0;31m---------------------------------------------------------------------------\u001b[0m\n"
     ]
    }
   ],
   "source": [
    ""
   ]
  },
  {
   "cell_type": "markdown",
   "metadata": {
    "colab_type": "text",
    "id": "KYVJzcl6wfPq"
   },
   "source": [
    "### SparseVectors\n",
    "\n",
    "The vectors produced by OneHotEncoder will each have only one non-zero value, but can potentially be very long. An efficient way to represent them is therefore a SparseVector, and that is what OneHotEncoder generates. \n",
    "\n",
    "A SparseVector is a data structure that only stores the length of the vector, a list of positions, and a list of values. All other values are assumed to be 0s.\n",
    "\n",
    "This way, a vector like the following, with lenght 15 and non-zero values only on positions 3 and 9:\n",
    "\n",
    "```python\n",
    "[0.0, 0.0, 0.0, 6.0, 0.0, 0.0, 0.0, 0.0, 0.0, 4.0, 0.0, 0.0, 0.0, 0.0, 0.0]\n",
    "```\n",
    "\n",
    "can be compactly expressed as\n",
    "\n",
    "```python\n",
    "(15, [3, 9], [6.0, 4.0])\n",
    "```"
   ]
  },
  {
   "cell_type": "code",
   "execution_count": null,
   "metadata": {
    "colab": {},
    "colab_type": "code",
    "id": "zxvsBRjUwfPq"
   },
   "outputs": [],
   "source": [
    "from pyspark.ml.linalg import SparseVector"
   ]
  },
  {
   "cell_type": "markdown",
   "metadata": {
    "colab_type": "text",
    "id": "7Oj75FECwfPt"
   },
   "source": [
    "## Let's build our first Pipeline!\n",
    "\n",
    "Our pipeline consists of a number of StringIndexers, followed by one OneHotEncoder, followed by a VectorAssembler, with a RandomForestClassifier at the end.\n",
    "\n",
    "A Spark Pipeline is a single Estimator. We build it secifying the stages it comprises, and then we are ready to .fit it in one go. This will save us a lot of trouble, since we don't need to fit and transform each stage individually."
   ]
  },
  {
   "cell_type": "code",
   "execution_count": null,
   "metadata": {
    "colab": {},
    "colab_type": "code",
    "id": "3fZtSTJEwfPu",
    "outputId": "37da8653-3c07-437f-dfed-0d27a005aee3"
   },
   "outputs": [
    {
     "data": {
      "text/plain": [
       "pyspark.ml.pipeline.Pipeline"
      ]
     },
     "execution_count": 52,
     "metadata": {
      "tags": []
     },
     "output_type": "execute_result"
    }
   ],
   "source": [
    "from pyspark.ml.pipeline import Pipeline\n",
    "\n",
    "Pipeline"
   ]
  },
  {
   "cell_type": "markdown",
   "metadata": {
    "colab_type": "text",
    "id": "FvGJI5-NwfPy"
   },
   "source": [
    "### StringIndexer stages\n",
    "\n",
    "We only need to StringIndex some of the fields. We are going to build the input and output column names programatically.\n"
   ]
  },
  {
   "cell_type": "code",
   "execution_count": null,
   "metadata": {
    "colab": {},
    "colab_type": "code",
    "id": "DJt72DE_wfPy"
   },
   "outputs": [],
   "source": [
    "# Reminder:\n",
    "\n",
    "categorical_fields = ['Year', 'Month', 'DayofMonth', 'DayOfWeek', 'Reporting_Airline', \n",
    "                      'Origin', 'OriginCityName', 'OriginStateName', \n",
    "                      'Dest', 'DestCityName', 'DestStateName']\n",
    "\n",
    "string_fields = [field.name for field in train.schema.fields if field.dataType == types.StringType()]\n",
    "\n",
    "continuous_fields = ['Distance', 'DepHour']\n",
    "\n",
    "target_field = 'Delayed'"
   ]
  },
  {
   "cell_type": "code",
   "execution_count": null,
   "metadata": {
    "colab": {},
    "colab_type": "code",
    "id": "3LHdkITCwfP0",
    "outputId": "d254875e-1c64-4c1b-eba6-0e2c221af637"
   },
   "outputs": [
    {
     "data": {
      "text/plain": [
       "['Reporting_Airline',\n",
       " 'Tail_Number',\n",
       " 'Origin',\n",
       " 'OriginCityName',\n",
       " 'OriginStateName',\n",
       " 'Dest',\n",
       " 'DestCityName',\n",
       " 'DestStateName']"
      ]
     },
     "execution_count": 55,
     "metadata": {
      "tags": []
     },
     "output_type": "execute_result"
    }
   ],
   "source": [
    "string_fields"
   ]
  },
  {
   "cell_type": "code",
   "execution_count": null,
   "metadata": {
    "colab": {},
    "colab_type": "code",
    "id": "09VpI1mkwfP4"
   },
   "outputs": [],
   "source": [
    "indexers = [StringIndexer(inputCol=field, outputCol=field + '_index', handleInvalid='keep') for field in string_fields]"
   ]
  },
  {
   "cell_type": "code",
   "execution_count": null,
   "metadata": {
    "colab": {},
    "colab_type": "code",
    "id": "q7a6b3zuwfP6",
    "outputId": "e812e198-03c5-43bd-d933-6f03cd1eaf72"
   },
   "outputs": [
    {
     "data": {
      "text/plain": [
       "[StringIndexer_4064a7a3061aba4aa48f,\n",
       " StringIndexer_453ca8d5b7effe1e19c9,\n",
       " StringIndexer_4d199d9aee8eb0097d23,\n",
       " StringIndexer_498cb6027c097c104858,\n",
       " StringIndexer_496eaaaa62a759fa6162,\n",
       " StringIndexer_4a61b1b1ca29d0fc46c6,\n",
       " StringIndexer_41cfb78f039e052e570c,\n",
       " StringIndexer_445696072e4d39a1a1d1]"
      ]
     },
     "execution_count": 58,
     "metadata": {
      "tags": []
     },
     "output_type": "execute_result"
    }
   ],
   "source": [
    "indexers"
   ]
  },
  {
   "cell_type": "markdown",
   "metadata": {
    "colab_type": "text",
    "id": "wzQwGAufwfQB"
   },
   "source": [
    "### OneHotEncoderEstimator\n",
    "\n",
    "One OneHotEncoderEstimator can handle all categorical columns. We are also going to build it programatically"
   ]
  },
  {
   "cell_type": "code",
   "execution_count": null,
   "metadata": {
    "colab": {},
    "colab_type": "code",
    "id": "yG87r86hwfQB",
    "outputId": "e6740404-cae0-456f-d387-d54932f86cd5"
   },
   "outputs": [
    {
     "data": {
      "text/plain": [
       "['Year', 'Month', 'DayofMonth', 'DayOfWeek']"
      ]
     },
     "execution_count": 59,
     "metadata": {
      "tags": []
     },
     "output_type": "execute_result"
    }
   ],
   "source": [
    "non_string_categoricals = [field for field in categorical_fields if field not in string_fields]\n",
    "non_string_categoricals"
   ]
  },
  {
   "cell_type": "code",
   "execution_count": null,
   "metadata": {
    "colab": {},
    "colab_type": "code",
    "id": "Rry8rUWtwfQH"
   },
   "outputs": [],
   "source": [
    "nsc_onehot_output = [ field + '_1hot' for field in non_string_categoricals]"
   ]
  },
  {
   "cell_type": "code",
   "execution_count": null,
   "metadata": {
    "colab": {},
    "colab_type": "code",
    "id": "aNjAY1GawfQM",
    "outputId": "32d89dd5-a80f-444b-baf6-e29536c5641a"
   },
   "outputs": [
    {
     "data": {
      "text/plain": [
       "['Reporting_Airline',\n",
       " 'Tail_Number',\n",
       " 'Origin',\n",
       " 'OriginCityName',\n",
       " 'OriginStateName',\n",
       " 'Dest',\n",
       " 'DestCityName',\n",
       " 'DestStateName']"
      ]
     },
     "execution_count": 61,
     "metadata": {
      "tags": []
     },
     "output_type": "execute_result"
    }
   ],
   "source": [
    "string_fields"
   ]
  },
  {
   "cell_type": "code",
   "execution_count": null,
   "metadata": {
    "colab": {},
    "colab_type": "code",
    "id": "YEtc0acrwfQP"
   },
   "outputs": [],
   "source": [
    "sc_onehot_input = [ field+'_index' for field in string_fields]\n",
    "sc_onehot_output = [ field + '_1hot' for field in string_fields]"
   ]
  },
  {
   "cell_type": "code",
   "execution_count": null,
   "metadata": {
    "colab": {},
    "colab_type": "code",
    "id": "MbXvBXTowfQS",
    "outputId": "ad359289-39c9-47a0-ccd7-c4ec42e8bf99"
   },
   "outputs": [
    {
     "data": {
      "text/plain": [
       "['Year_1hot', 'Month_1hot', 'DayofMonth_1hot', 'DayOfWeek_1hot']"
      ]
     },
     "execution_count": 63,
     "metadata": {
      "tags": []
     },
     "output_type": "execute_result"
    }
   ],
   "source": [
    "nsc_onehot_output"
   ]
  },
  {
   "cell_type": "code",
   "execution_count": null,
   "metadata": {
    "colab": {},
    "colab_type": "code",
    "id": "ToRs-ab8wfQV",
    "outputId": "4a55a244-73dd-4b72-df00-d74b51227e0b"
   },
   "outputs": [
    {
     "data": {
      "text/plain": [
       "['Reporting_Airline_index',\n",
       " 'Tail_Number_index',\n",
       " 'Origin_index',\n",
       " 'OriginCityName_index',\n",
       " 'OriginStateName_index',\n",
       " 'Dest_index',\n",
       " 'DestCityName_index',\n",
       " 'DestStateName_index']"
      ]
     },
     "execution_count": 65,
     "metadata": {
      "tags": []
     },
     "output_type": "execute_result"
    }
   ],
   "source": [
    "sc_onehot_input "
   ]
  },
  {
   "cell_type": "code",
   "execution_count": null,
   "metadata": {
    "colab": {},
    "colab_type": "code",
    "id": "ROeMd0mnwfQY",
    "outputId": "d019ecfc-0d1e-44f5-eafe-d25bfc4e772b"
   },
   "outputs": [
    {
     "data": {
      "text/plain": [
       "['Reporting_Airline_1hot',\n",
       " 'Tail_Number_1hot',\n",
       " 'Origin_1hot',\n",
       " 'OriginCityName_1hot',\n",
       " 'OriginStateName_1hot',\n",
       " 'Dest_1hot',\n",
       " 'DestCityName_1hot',\n",
       " 'DestStateName_1hot']"
      ]
     },
     "execution_count": 64,
     "metadata": {
      "tags": []
     },
     "output_type": "execute_result"
    }
   ],
   "source": [
    "sc_onehot_output"
   ]
  },
  {
   "cell_type": "code",
   "execution_count": null,
   "metadata": {
    "colab": {},
    "colab_type": "code",
    "id": "ELNGf1WAwfQb",
    "outputId": "b876e3ba-cac0-441d-c820-560ff3e95df5"
   },
   "outputs": [
    {
     "data": {
      "text/plain": [
       "['Year',\n",
       " 'Month',\n",
       " 'DayofMonth',\n",
       " 'DayOfWeek',\n",
       " 'Reporting_Airline_index',\n",
       " 'Tail_Number_index',\n",
       " 'Origin_index',\n",
       " 'OriginCityName_index',\n",
       " 'OriginStateName_index',\n",
       " 'Dest_index',\n",
       " 'DestCityName_index',\n",
       " 'DestStateName_index']"
      ]
     },
     "execution_count": 66,
     "metadata": {
      "tags": []
     },
     "output_type": "execute_result"
    }
   ],
   "source": [
    "non_string_categoricals + sc_onehot_input"
   ]
  },
  {
   "cell_type": "code",
   "execution_count": null,
   "metadata": {
    "colab": {},
    "colab_type": "code",
    "id": "LnNkm3ojwfQd",
    "outputId": "6d44b8f0-be5f-4459-dd07-461cf94d7564"
   },
   "outputs": [
    {
     "data": {
      "text/plain": [
       "['Year_1hot',\n",
       " 'Month_1hot',\n",
       " 'DayofMonth_1hot',\n",
       " 'DayOfWeek_1hot',\n",
       " 'Reporting_Airline_1hot',\n",
       " 'Tail_Number_1hot',\n",
       " 'Origin_1hot',\n",
       " 'OriginCityName_1hot',\n",
       " 'OriginStateName_1hot',\n",
       " 'Dest_1hot',\n",
       " 'DestCityName_1hot',\n",
       " 'DestStateName_1hot']"
      ]
     },
     "execution_count": 67,
     "metadata": {
      "tags": []
     },
     "output_type": "execute_result"
    }
   ],
   "source": [
    "nsc_onehot_output + sc_onehot_output"
   ]
  },
  {
   "cell_type": "code",
   "execution_count": null,
   "metadata": {
    "colab": {},
    "colab_type": "code",
    "id": "KsjZBt9PwfQf"
   },
   "outputs": [],
   "source": [
    "onehotencoder = OneHotEncoderEstimator(inputCols = non_string_categoricals + sc_onehot_input, \n",
    "                                       outputCols = nsc_onehot_output + sc_onehot_output)"
   ]
  },
  {
   "cell_type": "markdown",
   "metadata": {
    "colab_type": "text",
    "id": "pzDOkThFwfQh"
   },
   "source": [
    "### VectorAssembler\n",
    "\n",
    "Once we have generated our features, we can assemble them into a single features column, together with the continuous_fields."
   ]
  },
  {
   "cell_type": "code",
   "execution_count": null,
   "metadata": {
    "colab": {},
    "colab_type": "code",
    "id": "MFAHvBjPwfQi"
   },
   "outputs": [],
   "source": [
    "from pyspark.ml.feature import VectorAssembler\n",
    "\n",
    "vectorAssembling = VectorAssembler(inputCols= nsc_onehot_output + sc_onehot_output + continuous_fields, \n",
    "                   outputCol='features')"
   ]
  },
  {
   "cell_type": "markdown",
   "metadata": {
    "colab_type": "text",
    "id": "PSzb_ULvwfQk"
   },
   "source": [
    "# Full ML with Spark\n",
    "\n",
    "## 1) PIPELINE preparation\n",
    "\n",
    "### Steps:\n",
    "\n",
    "0) Prepare label/target column.\n",
    "\n",
    "1) String => StringIndex => Estimator called \"indexers\".\n",
    "\n",
    "2) StringIndex => OneHotEncoding => Estimator called \"onehotencoder\".\n",
    "\n",
    "3) Assembling Features => Assembling all features in the same column.\n",
    "\n",
    "4) Prepare ML Model (Estimator).\n",
    "\n",
    "==> Results on a Estimator\n",
    "\n",
    "## 2) Fit the pipeline\n",
    "\n",
    "## 3) Apply pipeline to test data in order to obtain predictions.\n"
   ]
  },
  {
   "cell_type": "markdown",
   "metadata": {
    "colab_type": "text",
    "id": "MuQZeBnjwfQl"
   },
   "source": [
    "### RandomForestClassifier\n",
    "\n",
    "Aaaaand we are ready to do some Machine Learning! We'll use a RandomForestClassifier to try to predict delayed versus non delayed flights, a binary classification task."
   ]
  },
  {
   "cell_type": "code",
   "execution_count": null,
   "metadata": {
    "colab": {},
    "colab_type": "code",
    "id": "x4dgaovvwfQm"
   },
   "outputs": [],
   "source": [
    "from pyspark.ml.classification import RandomForestClassifier\n",
    "\n",
    "rf_classifier = RandomForestClassifier(featuresCol='features', labelCol='Delayed')"
   ]
  },
  {
   "cell_type": "markdown",
   "metadata": {
    "colab_type": "text",
    "id": "XdM2q4u8wfQq"
   },
   "source": [
    "### Pipeline!\n",
    "\n",
    "Now that we have all the stages, we are finally ready to put them together into a single Estimator, our Pipeline."
   ]
  },
  {
   "cell_type": "code",
   "execution_count": null,
   "metadata": {
    "colab": {},
    "colab_type": "code",
    "id": "_EIK_l-MwfQq",
    "outputId": "02a3096d-7197-4f4b-91bb-c454c567d527"
   },
   "outputs": [
    {
     "data": {
      "text/plain": [
       "[StringIndexer_4064a7a3061aba4aa48f,\n",
       " StringIndexer_453ca8d5b7effe1e19c9,\n",
       " StringIndexer_4d199d9aee8eb0097d23,\n",
       " StringIndexer_498cb6027c097c104858,\n",
       " StringIndexer_496eaaaa62a759fa6162,\n",
       " StringIndexer_4a61b1b1ca29d0fc46c6,\n",
       " StringIndexer_41cfb78f039e052e570c,\n",
       " StringIndexer_445696072e4d39a1a1d1]"
      ]
     },
     "execution_count": 71,
     "metadata": {
      "tags": []
     },
     "output_type": "execute_result"
    }
   ],
   "source": [
    "indexers"
   ]
  },
  {
   "cell_type": "code",
   "execution_count": null,
   "metadata": {
    "colab": {},
    "colab_type": "code",
    "id": "zhZ11uikwfQs",
    "outputId": "91196e2b-8745-400c-ce6f-38c78293ecf9"
   },
   "outputs": [
    {
     "data": {
      "text/plain": [
       "OneHotEncoderEstimator_4edfadc3445c0608971f"
      ]
     },
     "execution_count": 72,
     "metadata": {
      "tags": []
     },
     "output_type": "execute_result"
    }
   ],
   "source": [
    "onehotencoder"
   ]
  },
  {
   "cell_type": "code",
   "execution_count": null,
   "metadata": {
    "colab": {},
    "colab_type": "code",
    "id": "dwk0VoiRwfQu"
   },
   "outputs": [],
   "source": [
    "stages = indexers + [onehotencoder, vectorAssembling, rf_classifier]"
   ]
  },
  {
   "cell_type": "code",
   "execution_count": null,
   "metadata": {
    "colab": {},
    "colab_type": "code",
    "id": "nxpfqCrLwfQ0",
    "outputId": "d293d010-965c-470b-da1b-55ed951f96ad"
   },
   "outputs": [
    {
     "data": {
      "text/plain": [
       "[StringIndexer_4064a7a3061aba4aa48f,\n",
       " StringIndexer_453ca8d5b7effe1e19c9,\n",
       " StringIndexer_4d199d9aee8eb0097d23,\n",
       " StringIndexer_498cb6027c097c104858,\n",
       " StringIndexer_496eaaaa62a759fa6162,\n",
       " StringIndexer_4a61b1b1ca29d0fc46c6,\n",
       " StringIndexer_41cfb78f039e052e570c,\n",
       " StringIndexer_445696072e4d39a1a1d1,\n",
       " OneHotEncoderEstimator_4edfadc3445c0608971f,\n",
       " VectorAssembler_4d708870724074fa44e6,\n",
       " RandomForestClassifier_4db5b2a79c3c52e5f5e9]"
      ]
     },
     "execution_count": 78,
     "metadata": {
      "tags": []
     },
     "output_type": "execute_result"
    }
   ],
   "source": [
    "stages"
   ]
  },
  {
   "cell_type": "code",
   "execution_count": null,
   "metadata": {
    "colab": {},
    "colab_type": "code",
    "id": "QdNhEfVhwfQ4",
    "outputId": "cfb1461d-89f4-482e-8733-5971a4fb6e3b"
   },
   "outputs": [
    {
     "data": {
      "text/plain": [
       "Pipeline_412ab7ae34307a5ca9d8"
      ]
     },
     "execution_count": 79,
     "metadata": {
      "tags": []
     },
     "output_type": "execute_result"
    }
   ],
   "source": [
    "pipeline = Pipeline(stages=stages)\n",
    "\n",
    "pipeline"
   ]
  },
  {
   "cell_type": "markdown",
   "metadata": {
    "colab_type": "text",
    "id": "zzW_L_ocwfQ6"
   },
   "source": [
    "Now that we have gone to the trouble of building our Pipeline, fitting it and using it to predict the probabilty of delay on unseen data is as easy as using a single Estimator:"
   ]
  },
  {
   "cell_type": "code",
   "execution_count": null,
   "metadata": {
    "colab": {},
    "colab_type": "code",
    "id": "fQx8EqqUwfQ6",
    "outputId": "18e13bcd-d57b-4a79-ab62-944fab00f16a",
    "scrolled": false
   },
   "outputs": [
    {
     "name": "stdout",
     "output_type": "stream",
     "text": [
      "CPU times: user 94.7 ms, sys: 25.9 ms, total: 121 ms\n",
      "Wall time: 2min 25s\n"
     ]
    }
   ],
   "source": [
    "%%time\n",
    "\n",
    "pipeline_model = pipeline.fit(train)"
   ]
  },
  {
   "cell_type": "code",
   "execution_count": null,
   "metadata": {
    "colab": {},
    "colab_type": "code",
    "id": "4h5iUMWiwfQ8",
    "outputId": "364a1f64-9228-4cae-befd-07ade6f6dda3"
   },
   "outputs": [
    {
     "data": {
      "text/plain": [
       "DataFrame[Year: int, Month: int, DayofMonth: int, DayOfWeek: int, Reporting_Airline: string, Tail_Number: string, Flight_Number_Reporting_Airline: int, Origin: string, OriginCityName: string, OriginStateName: string, Dest: string, DestCityName: string, DestStateName: string, DepTime: int, DepDelay: double, AirTime: double, Distance: double, DepHour: int, Delayed: int, Reporting_Airline_index: double, Tail_Number_index: double, Origin_index: double, OriginCityName_index: double, OriginStateName_index: double, Dest_index: double, DestCityName_index: double, DestStateName_index: double, Origin_1hot: vector, Year_1hot: vector, Reporting_Airline_1hot: vector, OriginStateName_1hot: vector, DestStateName_1hot: vector, DayofMonth_1hot: vector, Dest_1hot: vector, Month_1hot: vector, OriginCityName_1hot: vector, Tail_Number_1hot: vector, DayOfWeek_1hot: vector, DestCityName_1hot: vector, features: vector, rawPrediction: vector, probability: vector, prediction: double]"
      ]
     },
     "execution_count": 82,
     "metadata": {
      "tags": []
     },
     "output_type": "execute_result"
    }
   ],
   "source": [
    "predicted = pipeline_model.transform(rest)\n",
    "predicted"
   ]
  },
  {
   "cell_type": "code",
   "execution_count": null,
   "metadata": {
    "colab": {},
    "colab_type": "code",
    "id": "GCrM52BKwfQ-",
    "outputId": "18e536b4-7298-4868-e985-642d7d4aa62e"
   },
   "outputs": [
    {
     "name": "stdout",
     "output_type": "stream",
     "text": [
      "root\n",
      " |-- Year: integer (nullable = true)\n",
      " |-- Month: integer (nullable = true)\n",
      " |-- DayofMonth: integer (nullable = true)\n",
      " |-- DayOfWeek: integer (nullable = true)\n",
      " |-- Reporting_Airline: string (nullable = true)\n",
      " |-- Tail_Number: string (nullable = true)\n",
      " |-- Flight_Number_Reporting_Airline: integer (nullable = true)\n",
      " |-- Origin: string (nullable = true)\n",
      " |-- OriginCityName: string (nullable = true)\n",
      " |-- OriginStateName: string (nullable = true)\n",
      " |-- Dest: string (nullable = true)\n",
      " |-- DestCityName: string (nullable = true)\n",
      " |-- DestStateName: string (nullable = true)\n",
      " |-- DepTime: integer (nullable = true)\n",
      " |-- DepDelay: double (nullable = true)\n",
      " |-- AirTime: double (nullable = true)\n",
      " |-- Distance: double (nullable = true)\n",
      " |-- DepHour: integer (nullable = true)\n",
      " |-- Delayed: integer (nullable = true)\n",
      " |-- Reporting_Airline_index: double (nullable = false)\n",
      " |-- Tail_Number_index: double (nullable = false)\n",
      " |-- Origin_index: double (nullable = false)\n",
      " |-- OriginCityName_index: double (nullable = false)\n",
      " |-- OriginStateName_index: double (nullable = false)\n",
      " |-- Dest_index: double (nullable = false)\n",
      " |-- DestCityName_index: double (nullable = false)\n",
      " |-- DestStateName_index: double (nullable = false)\n",
      " |-- Origin_1hot: vector (nullable = true)\n",
      " |-- Year_1hot: vector (nullable = true)\n",
      " |-- Reporting_Airline_1hot: vector (nullable = true)\n",
      " |-- OriginStateName_1hot: vector (nullable = true)\n",
      " |-- DestStateName_1hot: vector (nullable = true)\n",
      " |-- DayofMonth_1hot: vector (nullable = true)\n",
      " |-- Dest_1hot: vector (nullable = true)\n",
      " |-- Month_1hot: vector (nullable = true)\n",
      " |-- OriginCityName_1hot: vector (nullable = true)\n",
      " |-- Tail_Number_1hot: vector (nullable = true)\n",
      " |-- DayOfWeek_1hot: vector (nullable = true)\n",
      " |-- DestCityName_1hot: vector (nullable = true)\n",
      " |-- features: vector (nullable = true)\n",
      " |-- rawPrediction: vector (nullable = true)\n",
      " |-- probability: vector (nullable = true)\n",
      " |-- prediction: double (nullable = false)\n",
      "\n"
     ]
    }
   ],
   "source": [
    "predicted.printSchema()"
   ]
  },
  {
   "cell_type": "code",
   "execution_count": null,
   "metadata": {
    "colab": {},
    "colab_type": "code",
    "id": "1fGQFQcqwfQ_",
    "outputId": "d74487d2-43e0-4e60-d8a2-63953f917763"
   },
   "outputs": [
    {
     "data": {
      "text/plain": [
       "[Row(probability=DenseVector([0.8293, 0.1707])),\n",
       " Row(probability=DenseVector([0.8244, 0.1756])),\n",
       " Row(probability=DenseVector([0.8244, 0.1756])),\n",
       " Row(probability=DenseVector([0.8159, 0.1841])),\n",
       " Row(probability=DenseVector([0.8347, 0.1653]))]"
      ]
     },
     "execution_count": 84,
     "metadata": {
      "tags": []
     },
     "output_type": "execute_result"
    }
   ],
   "source": [
    "predicted.select('probability').take(5)"
   ]
  },
  {
   "cell_type": "code",
   "execution_count": null,
   "metadata": {
    "colab": {},
    "colab_type": "code",
    "id": "5PirabxJwfRC",
    "outputId": "c80f83eb-c56f-4ab1-df33-83c864e9d670",
    "scrolled": true
   },
   "outputs": [
    {
     "data": {
      "text/plain": [
       "[Row(prediction=0.0),\n",
       " Row(prediction=0.0),\n",
       " Row(prediction=0.0),\n",
       " Row(prediction=0.0),\n",
       " Row(prediction=0.0)]"
      ]
     },
     "execution_count": 85,
     "metadata": {
      "tags": []
     },
     "output_type": "execute_result"
    }
   ],
   "source": [
    "predicted.select('prediction').take(5)"
   ]
  },
  {
   "cell_type": "markdown",
   "metadata": {
    "colab_type": "text",
    "id": "DmS_Y-RUwfRF"
   },
   "source": [
    "## Evaluating and tuning our Pipeline\n",
    "\n",
    "Probably the most interesting use of Spark Pipelines is quickly (in terms of coding time) evaluating many combinations of hyperparameters to feed our model and choosing the best ones. For that, we can use a TrainValidationSplit or a CrossValidator. The CrossValidator will generally perform better, but it will take several times as much. I'm using here the TrainValidationSplit because the API is the same."
   ]
  },
  {
   "cell_type": "code",
   "execution_count": null,
   "metadata": {
    "colab": {},
    "colab_type": "code",
    "id": "8M6AMIZ0wfRG",
    "outputId": "957c0401-8754-4542-8d3f-cc61a8275564"
   },
   "outputs": [
    {
     "name": "stdout",
     "output_type": "stream",
     "text": [
      "Help on class TrainValidationSplit in module pyspark.ml.tuning:\n",
      "\n",
      "class TrainValidationSplit(pyspark.ml.base.Estimator, ValidatorParams, pyspark.ml.param.shared.HasParallelism, pyspark.ml.util.MLReadable, pyspark.ml.util.MLWritable)\n",
      " |  .. note:: Experimental\n",
      " |  \n",
      " |  Validation for hyper-parameter tuning. Randomly splits the input dataset into train and\n",
      " |  validation sets, and uses evaluation metric on the validation set to select the best model.\n",
      " |  Similar to :class:`CrossValidator`, but only splits the set once.\n",
      " |  \n",
      " |  >>> from pyspark.ml.classification import LogisticRegression\n",
      " |  >>> from pyspark.ml.evaluation import BinaryClassificationEvaluator\n",
      " |  >>> from pyspark.ml.linalg import Vectors\n",
      " |  >>> dataset = spark.createDataFrame(\n",
      " |  ...     [(Vectors.dense([0.0]), 0.0),\n",
      " |  ...      (Vectors.dense([0.4]), 1.0),\n",
      " |  ...      (Vectors.dense([0.5]), 0.0),\n",
      " |  ...      (Vectors.dense([0.6]), 1.0),\n",
      " |  ...      (Vectors.dense([1.0]), 1.0)] * 10,\n",
      " |  ...     [\"features\", \"label\"])\n",
      " |  >>> lr = LogisticRegression()\n",
      " |  >>> grid = ParamGridBuilder().addGrid(lr.maxIter, [0, 1]).build()\n",
      " |  >>> evaluator = BinaryClassificationEvaluator()\n",
      " |  >>> tvs = TrainValidationSplit(estimator=lr, estimatorParamMaps=grid, evaluator=evaluator,\n",
      " |  ...     parallelism=2)\n",
      " |  >>> tvsModel = tvs.fit(dataset)\n",
      " |  >>> evaluator.evaluate(tvsModel.transform(dataset))\n",
      " |  0.8333...\n",
      " |  \n",
      " |  .. versionadded:: 2.0.0\n",
      " |  \n",
      " |  Method resolution order:\n",
      " |      TrainValidationSplit\n",
      " |      pyspark.ml.base.Estimator\n",
      " |      ValidatorParams\n",
      " |      pyspark.ml.param.shared.HasSeed\n",
      " |      pyspark.ml.param.shared.HasParallelism\n",
      " |      pyspark.ml.param.Params\n",
      " |      pyspark.ml.util.Identifiable\n",
      " |      pyspark.ml.util.MLReadable\n",
      " |      pyspark.ml.util.MLWritable\n",
      " |      builtins.object\n",
      " |  \n",
      " |  Methods defined here:\n",
      " |  \n",
      " |  __init__(self, estimator=None, estimatorParamMaps=None, evaluator=None, trainRatio=0.75, parallelism=1, seed=None)\n",
      " |      __init__(self, estimator=None, estimatorParamMaps=None, evaluator=None, trainRatio=0.75,                 parallelism=1, seed=None)\n",
      " |  \n",
      " |  copy(self, extra=None)\n",
      " |      Creates a copy of this instance with a randomly generated uid\n",
      " |      and some extra params. This copies creates a deep copy of\n",
      " |      the embedded paramMap, and copies the embedded and extra parameters over.\n",
      " |      \n",
      " |      :param extra: Extra parameters to copy to the new instance\n",
      " |      :return: Copy of this instance\n",
      " |      \n",
      " |      .. versionadded:: 2.0.0\n",
      " |  \n",
      " |  getTrainRatio(self)\n",
      " |      Gets the value of trainRatio or its default value.\n",
      " |      \n",
      " |      .. versionadded:: 2.0.0\n",
      " |  \n",
      " |  setParams(self, estimator=None, estimatorParamMaps=None, evaluator=None, trainRatio=0.75, parallelism=1, seed=None)\n",
      " |      setParams(self, estimator=None, estimatorParamMaps=None, evaluator=None, trainRatio=0.75,                  parallelism=1, seed=None):\n",
      " |      Sets params for the train validation split.\n",
      " |      \n",
      " |      .. versionadded:: 2.0.0\n",
      " |  \n",
      " |  setTrainRatio(self, value)\n",
      " |      Sets the value of :py:attr:`trainRatio`.\n",
      " |      \n",
      " |      .. versionadded:: 2.0.0\n",
      " |  \n",
      " |  write(self)\n",
      " |      Returns an MLWriter instance for this ML instance.\n",
      " |      \n",
      " |      .. versionadded:: 2.3.0\n",
      " |  \n",
      " |  ----------------------------------------------------------------------\n",
      " |  Class methods defined here:\n",
      " |  \n",
      " |  read() from builtins.type\n",
      " |      Returns an MLReader instance for this class.\n",
      " |      \n",
      " |      .. versionadded:: 2.3.0\n",
      " |  \n",
      " |  ----------------------------------------------------------------------\n",
      " |  Data and other attributes defined here:\n",
      " |  \n",
      " |  trainRatio = Param(parent='undefined', name='trainRatio', doc...d     ...\n",
      " |  \n",
      " |  ----------------------------------------------------------------------\n",
      " |  Methods inherited from pyspark.ml.base.Estimator:\n",
      " |  \n",
      " |  fit(self, dataset, params=None)\n",
      " |      Fits a model to the input dataset with optional parameters.\n",
      " |      \n",
      " |      :param dataset: input dataset, which is an instance of :py:class:`pyspark.sql.DataFrame`\n",
      " |      :param params: an optional param map that overrides embedded params. If a list/tuple of\n",
      " |                     param maps is given, this calls fit on each param map and returns a list of\n",
      " |                     models.\n",
      " |      :returns: fitted model(s)\n",
      " |      \n",
      " |      .. versionadded:: 1.3.0\n",
      " |  \n",
      " |  fitMultiple(self, dataset, paramMaps)\n",
      " |      Fits a model to the input dataset for each param map in `paramMaps`.\n",
      " |      \n",
      " |      :param dataset: input dataset, which is an instance of :py:class:`pyspark.sql.DataFrame`.\n",
      " |      :param paramMaps: A Sequence of param maps.\n",
      " |      :return: A thread safe iterable which contains one model for each param map. Each\n",
      " |               call to `next(modelIterator)` will return `(index, model)` where model was fit\n",
      " |               using `paramMaps[index]`. `index` values may not be sequential.\n",
      " |      \n",
      " |      .. note:: DeveloperApi\n",
      " |      .. note:: Experimental\n",
      " |      \n",
      " |      .. versionadded:: 2.3.0\n",
      " |  \n",
      " |  ----------------------------------------------------------------------\n",
      " |  Data and other attributes inherited from pyspark.ml.base.Estimator:\n",
      " |  \n",
      " |  __metaclass__ = <class 'abc.ABCMeta'>\n",
      " |      Metaclass for defining Abstract Base Classes (ABCs).\n",
      " |      \n",
      " |      Use this metaclass to create an ABC.  An ABC can be subclassed\n",
      " |      directly, and then acts as a mix-in class.  You can also register\n",
      " |      unrelated concrete classes (even built-in classes) and unrelated\n",
      " |      ABCs as 'virtual subclasses' -- these and their descendants will\n",
      " |      be considered subclasses of the registering ABC by the built-in\n",
      " |      issubclass() function, but the registering ABC won't show up in\n",
      " |      their MRO (Method Resolution Order) nor will method\n",
      " |      implementations defined by the registering ABC be callable (not\n",
      " |      even via super()).\n",
      " |  \n",
      " |  ----------------------------------------------------------------------\n",
      " |  Methods inherited from ValidatorParams:\n",
      " |  \n",
      " |  getEstimator(self)\n",
      " |      Gets the value of estimator or its default value.\n",
      " |  \n",
      " |  getEstimatorParamMaps(self)\n",
      " |      Gets the value of estimatorParamMaps or its default value.\n",
      " |  \n",
      " |  getEvaluator(self)\n",
      " |      Gets the value of evaluator or its default value.\n",
      " |  \n",
      " |  setEstimator(self, value)\n",
      " |      Sets the value of :py:attr:`estimator`.\n",
      " |  \n",
      " |  setEstimatorParamMaps(self, value)\n",
      " |      Sets the value of :py:attr:`estimatorParamMaps`.\n",
      " |  \n",
      " |  setEvaluator(self, value)\n",
      " |      Sets the value of :py:attr:`evaluator`.\n",
      " |  \n",
      " |  ----------------------------------------------------------------------\n",
      " |  Data and other attributes inherited from ValidatorParams:\n",
      " |  \n",
      " |  estimator = Param(parent='undefined', name='estimator', doc='estimator...\n",
      " |  \n",
      " |  estimatorParamMaps = Param(parent='undefined', name='estimatorParamMap...\n",
      " |  \n",
      " |  evaluator = Param(parent='undefined', name='evaluator', doc=...r-param...\n",
      " |  \n",
      " |  ----------------------------------------------------------------------\n",
      " |  Methods inherited from pyspark.ml.param.shared.HasSeed:\n",
      " |  \n",
      " |  getSeed(self)\n",
      " |      Gets the value of seed or its default value.\n",
      " |  \n",
      " |  setSeed(self, value)\n",
      " |      Sets the value of :py:attr:`seed`.\n",
      " |  \n",
      " |  ----------------------------------------------------------------------\n",
      " |  Data and other attributes inherited from pyspark.ml.param.shared.HasSeed:\n",
      " |  \n",
      " |  seed = Param(parent='undefined', name='seed', doc='random seed.')\n",
      " |  \n",
      " |  ----------------------------------------------------------------------\n",
      " |  Methods inherited from pyspark.ml.param.shared.HasParallelism:\n",
      " |  \n",
      " |  getParallelism(self)\n",
      " |      Gets the value of parallelism or its default value.\n",
      " |  \n",
      " |  setParallelism(self, value)\n",
      " |      Sets the value of :py:attr:`parallelism`.\n",
      " |  \n",
      " |  ----------------------------------------------------------------------\n",
      " |  Data and other attributes inherited from pyspark.ml.param.shared.HasParallelism:\n",
      " |  \n",
      " |  parallelism = Param(parent='undefined', name='parallelism', do...to us...\n",
      " |  \n",
      " |  ----------------------------------------------------------------------\n",
      " |  Methods inherited from pyspark.ml.param.Params:\n",
      " |  \n",
      " |  explainParam(self, param)\n",
      " |      Explains a single param and returns its name, doc, and optional\n",
      " |      default value and user-supplied value in a string.\n",
      " |  \n",
      " |  explainParams(self)\n",
      " |      Returns the documentation of all params with their optionally\n",
      " |      default values and user-supplied values.\n",
      " |  \n",
      " |  extractParamMap(self, extra=None)\n",
      " |      Extracts the embedded default param values and user-supplied\n",
      " |      values, and then merges them with extra values from input into\n",
      " |      a flat param map, where the latter value is used if there exist\n",
      " |      conflicts, i.e., with ordering: default param values <\n",
      " |      user-supplied values < extra.\n",
      " |      \n",
      " |      :param extra: extra param values\n",
      " |      :return: merged param map\n",
      " |  \n",
      " |  getOrDefault(self, param)\n",
      " |      Gets the value of a param in the user-supplied param map or its\n",
      " |      default value. Raises an error if neither is set.\n",
      " |  \n",
      " |  getParam(self, paramName)\n",
      " |      Gets a param by its name.\n",
      " |  \n",
      " |  hasDefault(self, param)\n",
      " |      Checks whether a param has a default value.\n",
      " |  \n",
      " |  hasParam(self, paramName)\n",
      " |      Tests whether this instance contains a param with a given\n",
      " |      (string) name.\n",
      " |  \n",
      " |  isDefined(self, param)\n",
      " |      Checks whether a param is explicitly set by user or has\n",
      " |      a default value.\n",
      " |  \n",
      " |  isSet(self, param)\n",
      " |      Checks whether a param is explicitly set by user.\n",
      " |  \n",
      " |  set(self, param, value)\n",
      " |      Sets a parameter in the embedded param map.\n",
      " |  \n",
      " |  ----------------------------------------------------------------------\n",
      " |  Data descriptors inherited from pyspark.ml.param.Params:\n",
      " |  \n",
      " |  params\n",
      " |      Returns all params ordered by name. The default implementation\n",
      " |      uses :py:func:`dir` to get all attributes of type\n",
      " |      :py:class:`Param`.\n",
      " |  \n",
      " |  ----------------------------------------------------------------------\n",
      " |  Methods inherited from pyspark.ml.util.Identifiable:\n",
      " |  \n",
      " |  __repr__(self)\n",
      " |      Return repr(self).\n",
      " |  \n",
      " |  ----------------------------------------------------------------------\n",
      " |  Data descriptors inherited from pyspark.ml.util.Identifiable:\n",
      " |  \n",
      " |  __dict__\n",
      " |      dictionary for instance variables (if defined)\n",
      " |  \n",
      " |  __weakref__\n",
      " |      list of weak references to the object (if defined)\n",
      " |  \n",
      " |  ----------------------------------------------------------------------\n",
      " |  Class methods inherited from pyspark.ml.util.MLReadable:\n",
      " |  \n",
      " |  load(path) from builtins.type\n",
      " |      Reads an ML instance from the input path, a shortcut of `read().load(path)`.\n",
      " |  \n",
      " |  ----------------------------------------------------------------------\n",
      " |  Methods inherited from pyspark.ml.util.MLWritable:\n",
      " |  \n",
      " |  save(self, path)\n",
      " |      Save this ML instance to the given path, a shortcut of 'write().save(path)'.\n",
      "\n"
     ]
    }
   ],
   "source": [
    "from pyspark.ml.tuning import TrainValidationSplit, CrossValidator\n",
    "\n",
    "help(TrainValidationSplit)"
   ]
  },
  {
   "cell_type": "markdown",
   "metadata": {
    "colab_type": "text",
    "id": "yClSvFDkwfRM"
   },
   "source": [
    "### Params and Evaluators\n",
    "\n",
    "In order to evaluate different sets of parameters, we need a) the set of parameters to iterate through and b) a metric to compare the results. \n",
    "\n",
    "The first element is represented by ParamMaps, which we build with a ParamGridBuilder, and the second by an Evaluator that needs to be specific to the relevant task."
   ]
  },
  {
   "cell_type": "code",
   "execution_count": null,
   "metadata": {
    "colab": {},
    "colab_type": "code",
    "id": "1z_bqh4CwfRN"
   },
   "outputs": [],
   "source": [
    "from pyspark.ml.tuning import ParamGridBuilder\n",
    "\n",
    "builder = ParamGridBuilder()\n",
    "\n",
    "our_param_map = builder.addGrid(rf_classifier.maxDepth, [5, 15])\\\n",
    "                       .addGrid(rf_classifier.numTrees, [10, 30])\\\n",
    "                       .build()"
   ]
  },
  {
   "cell_type": "code",
   "execution_count": null,
   "metadata": {
    "colab": {},
    "colab_type": "code",
    "id": "u8Mm47pGwfRP"
   },
   "outputs": [],
   "source": [
    "from pyspark.ml.evaluation import BinaryClassificationEvaluator\n",
    "\n",
    "our_evaluator = BinaryClassificationEvaluator(labelCol='Delayed')"
   ]
  },
  {
   "cell_type": "markdown",
   "metadata": {
    "colab_type": "text",
    "id": "maqbBSJuwfRQ"
   },
   "source": [
    "We now have all the elements in place to perform our fit:"
   ]
  },
  {
   "cell_type": "code",
   "execution_count": null,
   "metadata": {
    "colab": {},
    "colab_type": "code",
    "id": "Wb2-fizxwfRR"
   },
   "outputs": [],
   "source": [
    "split = TrainValidationSplit(estimator=pipeline, \n",
    "                             evaluator=our_evaluator, \n",
    "                             estimatorParamMaps=our_param_map)"
   ]
  },
  {
   "cell_type": "code",
   "execution_count": null,
   "metadata": {
    "colab": {},
    "colab_type": "code",
    "id": "3bmrU5zgwfRS",
    "outputId": "15f0ada4-d55c-4ae7-fd3b-b0e06cd3cb87"
   },
   "outputs": [
    {
     "name": "stdout",
     "output_type": "stream",
     "text": [
      "CPU times: user 1.19 s, sys: 293 ms, total: 1.49 s\n",
      "Wall time: 6min 49s\n"
     ]
    }
   ],
   "source": [
    "%%time\n",
    "\n",
    "split_model_chosen = split.fit(train)"
   ]
  },
  {
   "cell_type": "markdown",
   "metadata": {
    "colab_type": "text",
    "id": "BdUXHUBCwfRY"
   },
   "source": [
    "And now we can predict on the rest of the flights and compare them with reality:"
   ]
  },
  {
   "cell_type": "code",
   "execution_count": null,
   "metadata": {
    "colab": {},
    "colab_type": "code",
    "id": "___6D_wIwfRY",
    "outputId": "c2e0d3cd-1bdd-4d8d-cbe6-8c00a93b218b"
   },
   "outputs": [
    {
     "name": "stdout",
     "output_type": "stream",
     "text": [
      "CPU times: user 32.8 ms, sys: 9.44 ms, total: 42.2 ms\n",
      "Wall time: 347 ms\n"
     ]
    }
   ],
   "source": [
    "%%time\n",
    "\n",
    "predictions = split_model_chosen.transform(rest).select('features',\n",
    "                                                        'Delayed',\n",
    "                                                        'rawPrediction',\n",
    "                                                        'probability',\n",
    "                                                        'prediction')"
   ]
  },
  {
   "cell_type": "code",
   "execution_count": null,
   "metadata": {
    "colab": {},
    "colab_type": "code",
    "id": "bXCQKWdLwfRa",
    "outputId": "86fd29ab-d68d-4aab-a135-418ce7391192"
   },
   "outputs": [
    {
     "name": "stdout",
     "output_type": "stream",
     "text": [
      "+--------------------+-------+--------------------+--------------------+----------+\n",
      "|            features|Delayed|       rawPrediction|         probability|prediction|\n",
      "+--------------------+-------+--------------------+--------------------+----------+\n",
      "|(8806,[2031,2067,...|      0|[25.0429376411858...|[0.83476458803952...|       0.0|\n",
      "|(8806,[2031,2067,...|      0|[24.9557303434746...|[0.83185767811582...|       0.0|\n",
      "|(8806,[2031,2067,...|      1|[24.9557303434746...|[0.83185767811582...|       0.0|\n",
      "|(8806,[2031,2067,...|      1|[24.7473745611913...|[0.82491248537304...|       0.0|\n",
      "|(8806,[2031,2067,...|      0|[24.9736225660102...|[0.83245408553367...|       0.0|\n",
      "|(8806,[2031,2067,...|      0|[25.0620985385516...|[0.83540328461838...|       0.0|\n",
      "|(8806,[2031,2067,...|      0|[25.3148713974201...|[0.84382904658067...|       0.0|\n",
      "|(8806,[2031,2067,...|      0|[25.0726647085196...|[0.83575549028398...|       0.0|\n",
      "|(8806,[2031,2067,...|      0|[25.0360989682475...|[0.83453663227491...|       0.0|\n",
      "|(8806,[2031,2067,...|      0|[24.9557303434746...|[0.83185767811582...|       0.0|\n",
      "|(8806,[2031,2067,...|      0|[25.4502920482448...|[0.84834306827482...|       0.0|\n",
      "|(8806,[2031,2067,...|      0|[25.3874067669006...|[0.84624689223002...|       0.0|\n",
      "|(8806,[2031,2067,...|      0|[25.0360989682475...|[0.83453663227491...|       0.0|\n",
      "|(8806,[2031,2067,...|      0|[24.9557303434746...|[0.83185767811582...|       0.0|\n",
      "|(8806,[2031,2067,...|      0|[25.0360989682475...|[0.83453663227491...|       0.0|\n",
      "|(8806,[2031,2067,...|      0|[24.9048063097014...|[0.83016021032338...|       0.0|\n",
      "|(8806,[2031,2067,...|      0|[25.1713683750072...|[0.83904561250024...|       0.0|\n",
      "|(8806,[2031,2067,...|      0|[25.0163483436269...|[0.83387827812089...|       0.0|\n",
      "|(8806,[2031,2067,...|      0|[25.5280023047941...|[0.85093341015980...|       0.0|\n",
      "|(8806,[2031,2067,...|      0|[25.2238347808095...|[0.84079449269365...|       0.0|\n",
      "+--------------------+-------+--------------------+--------------------+----------+\n",
      "only showing top 20 rows\n",
      "\n"
     ]
    }
   ],
   "source": [
    "predictions.show(20)"
   ]
  },
  {
   "cell_type": "markdown",
   "metadata": {
    "colab_type": "text",
    "id": "LFyQSwgmwfRc"
   },
   "source": [
    "### Let's have a look\n",
    "\n",
    "We are now ready to compare our predictions with reality. Do these features have any predictive power at all?"
   ]
  },
  {
   "cell_type": "code",
   "execution_count": null,
   "metadata": {
    "colab": {},
    "colab_type": "code",
    "id": "aaUyjgncwfRc"
   },
   "outputs": [],
   "source": [
    "predicted_probs = predictions.select('Delayed', 'probability').toPandas()"
   ]
  },
  {
   "cell_type": "code",
   "execution_count": null,
   "metadata": {
    "colab": {},
    "colab_type": "code",
    "id": "cghAjtviwfRe"
   },
   "outputs": [],
   "source": [
    "y_true = predicted_probs['Delayed']\n",
    "y_prob_predicted = predicted_probs['probability'].map(lambda vector: vector[1])"
   ]
  },
  {
   "cell_type": "code",
   "execution_count": null,
   "metadata": {
    "colab": {},
    "colab_type": "code",
    "id": "JAuvp3NiwfRg"
   },
   "outputs": [],
   "source": [
    "from sklearn.metrics import roc_curve\n",
    "\n",
    "fpr, tpr, thresholds = roc_curve(y_true, y_prob_predicted)"
   ]
  },
  {
   "cell_type": "code",
   "execution_count": null,
   "metadata": {
    "colab": {},
    "colab_type": "code",
    "id": "NIZ5ZwlRwfRj",
    "outputId": "54196086-d14f-4de6-b61c-c1b4f317d034"
   },
   "outputs": [
    {
     "data": {
      "text/plain": [
       "[<matplotlib.lines.Line2D at 0x7ff2e8a4ab38>]"
      ]
     },
     "execution_count": 100,
     "metadata": {
      "tags": []
     },
     "output_type": "execute_result"
    },
    {
     "data": {
      "image/png": "[encoded data removed]",
      "text/plain": [
       "<Figure size 432x288 with 1 Axes>"
      ]
     },
     "metadata": {
      "needs_background": "light",
      "tags": []
     },
     "output_type": "display_data"
    }
   ],
   "source": [
    "import matplotlib.pyplot as plt\n",
    "import numpy as np\n",
    "%matplotlib inline\n",
    "\n",
    "plt.plot(fpr, tpr)\n",
    "plt.plot(np.linspace(0,1, 10), np.linspace(0,1, 10))"
   ]
  },
  {
   "cell_type": "markdown",
   "metadata": {
    "colab_type": "text",
    "id": "0Xn_MOF1wfRl"
   },
   "source": [
    "Not bad, considering we have not performed any feature engineering at all!"
   ]
  },
  {
   "cell_type": "markdown",
   "metadata": {
    "colab_type": "text",
    "id": "6kLeLz_nwfRl"
   },
   "source": [
    "### Further Reading\n",
    "\n",
    "https://spark.apache.org/docs/latest/ml-tuning.html\n",
    "\n",
    "https://stackoverflow.com/questions/28569788/how-to-open-stream-zip-files-through-spark"
   ]
  },
  {
   "cell_type": "code",
   "execution_count": null,
   "metadata": {
    "colab": {
     "base_uri": "https://localhost:8080/",
     "height": 369
    },
    "colab_type": "code",
    "executionInfo": {
     "elapsed": 541,
     "status": "error",
     "timestamp": 1594462444707,
     "user": {
      "displayName": "Felipe Fernandez pomar",
      "photoUrl": "https://lh3.googleusercontent.com/a-/AOh14GjAIBB1UUNahiuBW35nhzx_0hZxW-dTtBh-sbrK0Q=s64",
      "userId": "06620814048662575791"
     },
     "user_tz": -120
    },
    "id": "RPBMn9FmXhOF",
    "outputId": "1b90274a-9767-49ab-f6fe-6dc501bbd420"
   },
   "outputs": [
    {
     "ename": "ModuleNotFoundError",
     "evalue": "ignored",
     "output_type": "error",
     "traceback": [
      "\u001b[0;31m---------------------------------------------------------------------------\u001b[0m",
      "\u001b[0;31mModuleNotFoundError\u001b[0m                       Traceback (most recent call last)",
      "\u001b[0;32m<ipython-input-3-239ae325061b>\u001b[0m in \u001b[0;36m<module>\u001b[0;34m()\u001b[0m\n\u001b[0;32m----> 1\u001b[0;31m \u001b[0;32mfrom\u001b[0m \u001b[0mpyspark\u001b[0m\u001b[0;34m.\u001b[0m\u001b[0msql\u001b[0m \u001b[0;32mimport\u001b[0m \u001b[0mSparkSession\u001b[0m\u001b[0;34m,\u001b[0m \u001b[0mtypes\u001b[0m\u001b[0;34m,\u001b[0m \u001b[0mfunctions\u001b[0m\u001b[0;34m\u001b[0m\u001b[0;34m\u001b[0m\u001b[0m\n\u001b[0m\u001b[1;32m      2\u001b[0m \u001b[0;32mfrom\u001b[0m \u001b[0mpyspark\u001b[0m\u001b[0;34m.\u001b[0m\u001b[0mml\u001b[0m\u001b[0;34m.\u001b[0m\u001b[0mclassification\u001b[0m \u001b[0;32mimport\u001b[0m \u001b[0mRandomForestClassifier\u001b[0m\u001b[0;34m\u001b[0m\u001b[0;34m\u001b[0m\u001b[0m\n\u001b[1;32m      3\u001b[0m \u001b[0;32mfrom\u001b[0m \u001b[0mpyspark\u001b[0m\u001b[0;34m.\u001b[0m\u001b[0mml\u001b[0m\u001b[0;34m.\u001b[0m\u001b[0mevaluation\u001b[0m \u001b[0;32mimport\u001b[0m \u001b[0mBinaryClassificationEvaluator\u001b[0m\u001b[0;34m\u001b[0m\u001b[0;34m\u001b[0m\u001b[0m\n\u001b[1;32m      4\u001b[0m \u001b[0;32mfrom\u001b[0m \u001b[0mpyspark\u001b[0m\u001b[0;34m.\u001b[0m\u001b[0mml\u001b[0m\u001b[0;34m.\u001b[0m\u001b[0mfeature\u001b[0m \u001b[0;32mimport\u001b[0m \u001b[0mOneHotEncoder\u001b[0m\u001b[0;34m,\u001b[0m \u001b[0mStringIndexer\u001b[0m\u001b[0;34m,\u001b[0m \u001b[0mVectorAssembler\u001b[0m\u001b[0;34m\u001b[0m\u001b[0;34m\u001b[0m\u001b[0m\n\u001b[1;32m      5\u001b[0m \u001b[0;32mfrom\u001b[0m \u001b[0mpyspark\u001b[0m\u001b[0;34m.\u001b[0m\u001b[0mml\u001b[0m\u001b[0;34m.\u001b[0m\u001b[0mpipeline\u001b[0m \u001b[0;32mimport\u001b[0m \u001b[0mPipeline\u001b[0m\u001b[0;34m\u001b[0m\u001b[0;34m\u001b[0m\u001b[0m\n",
      "\u001b[0;31mModuleNotFoundError\u001b[0m: No module named 'pyspark'",
      "",
      "\u001b[0;31m---------------------------------------------------------------------------\u001b[0;32m\nNOTE: If your import is failing due to a missing package, you can\nmanually install dependencies using either !pip or !apt.\n\nTo view examples of installing some common dependencies, click the\n\"Open Examples\" button below.\n\u001b[0;31m---------------------------------------------------------------------------\u001b[0m\n"
     ]
    }
   ],
   "source": [
    ""
   ]
  },
  {
   "cell_type": "code",
   "execution_count": null,
   "metadata": {
    "colab": {
     "base_uri": "https://localhost:8080/",
     "height": 369
    },
    "colab_type": "code",
    "executionInfo": {
     "elapsed": 608,
     "status": "error",
     "timestamp": 1594462361504,
     "user": {
      "displayName": "Felipe Fernandez pomar",
      "photoUrl": "https://lh3.googleusercontent.com/a-/AOh14GjAIBB1UUNahiuBW35nhzx_0hZxW-dTtBh-sbrK0Q=s64",
      "userId": "06620814048662575791"
     },
     "user_tz": -120
    },
    "id": "QljlebxcwfRm",
    "outputId": "dbc84af0-0210-4e0c-eaa5-0d78af5a63d6"
   },
   "outputs": [
    {
     "ename": "ModuleNotFoundError",
     "evalue": "ignored",
     "output_type": "error",
     "traceback": [
      "\u001b[0;31m---------------------------------------------------------------------------\u001b[0m",
      "\u001b[0;31mModuleNotFoundError\u001b[0m                       Traceback (most recent call last)",
      "\u001b[0;32m<ipython-input-2-6a21fe264069>\u001b[0m in \u001b[0;36m<module>\u001b[0;34m()\u001b[0m\n\u001b[1;32m      1\u001b[0m \u001b[0;31m# Spark job for the cluster\u001b[0m\u001b[0;34m\u001b[0m\u001b[0;34m\u001b[0m\u001b[0;34m\u001b[0m\u001b[0m\n\u001b[1;32m      2\u001b[0m \u001b[0;34m\u001b[0m\u001b[0m\n\u001b[0;32m----> 3\u001b[0;31m \u001b[0;32mfrom\u001b[0m \u001b[0mpyspark\u001b[0m\u001b[0;34m.\u001b[0m\u001b[0msql\u001b[0m \u001b[0;32mimport\u001b[0m \u001b[0mSparkSession\u001b[0m\u001b[0;34m,\u001b[0m \u001b[0mtypes\u001b[0m\u001b[0;34m,\u001b[0m \u001b[0mfunctions\u001b[0m\u001b[0;34m\u001b[0m\u001b[0;34m\u001b[0m\u001b[0m\n\u001b[0m\u001b[1;32m      4\u001b[0m \u001b[0;32mfrom\u001b[0m \u001b[0mpyspark\u001b[0m\u001b[0;34m.\u001b[0m\u001b[0mml\u001b[0m\u001b[0;34m.\u001b[0m\u001b[0mclassification\u001b[0m \u001b[0;32mimport\u001b[0m \u001b[0mRandomForestClassifier\u001b[0m\u001b[0;34m\u001b[0m\u001b[0;34m\u001b[0m\u001b[0m\n\u001b[1;32m      5\u001b[0m \u001b[0;32mfrom\u001b[0m \u001b[0mpyspark\u001b[0m\u001b[0;34m.\u001b[0m\u001b[0mml\u001b[0m\u001b[0;34m.\u001b[0m\u001b[0mevaluation\u001b[0m \u001b[0;32mimport\u001b[0m \u001b[0mBinaryClassificationEvaluator\u001b[0m\u001b[0;34m\u001b[0m\u001b[0;34m\u001b[0m\u001b[0m\n",
      "\u001b[0;31mModuleNotFoundError\u001b[0m: No module named 'pyspark'",
      "",
      "\u001b[0;31m---------------------------------------------------------------------------\u001b[0;32m\nNOTE: If your import is failing due to a missing package, you can\nmanually install dependencies using either !pip or !apt.\n\nTo view examples of installing some common dependencies, click the\n\"Open Examples\" button below.\n\u001b[0;31m---------------------------------------------------------------------------\u001b[0m\n"
     ]
    }
   ],
   "source": [
    "# Spark job for the cluster\n",
    "\n",
    "from pyspark.sql import SparkSession, types, functions\n",
    "from pyspark.ml.classification import RandomForestClassifier\n",
    "from pyspark.ml.evaluation import BinaryClassificationEvaluator\n",
    "from pyspark.ml.feature import OneHotEncoder, StringIndexer, VectorAssembler\n",
    "from pyspark.ml.pipeline import Pipeline\n",
    "from pyspark.ml.tuning import TrainValidationSplit, ParamGridBuilder\n",
    "\n",
    "\n",
    "spark = SparkSession.builder.getOrCreate()\n",
    "df = spark.read.csv(csvname, header= True, inferSchema=True)\n",
    "\n",
    "# Preprocessing\n",
    "csvname = 'On_Time_Reporting_Carrier_On_Time_Performance_(1987_present)_2018_12.csv'\n",
    "columns_of_interest = ['Year', 'Month', 'DayofMonth', 'DayOfWeek', 'Reporting_Airline', 'Tail_Number', 'Flight_Number_Reporting_Airline', 'Origin', \n",
    "                       'OriginCityName', 'OriginStateName', 'Dest', 'DestCityName', 'DestStateName',\n",
    "                       'DepTime', 'DepDelay', 'AirTime', 'Distance']\n",
    "\n",
    "\n",
    "# Feature extraction\n",
    "flights = session.read.csv(csvname, header=True, inferSchema=True)\n",
    "flights = flights.select(columns_of_interest)\n",
    "\n",
    "flights = flights.na.drop()\n",
    "flights = flights.withColumn('DepHour', (flights['DepTime'] / 100).cast(types.IntegerType()))\n",
    "flights = flights.withColumn('Delayed', (flights['DepDelay'] > 15).cast(types.IntegerType()))\n",
    "\n",
    "# Train/test split\n",
    "flights_sample, rest = flights.randomSplit([.8, .2])\n",
    "\n",
    "# Build the Pipeline\n",
    "categorical_fields = ['Year', 'Month', 'DayofMonth', 'DayOfWeek', 'Reporting_Airline', \n",
    "                      'Origin', 'OriginCityName', 'OriginStateName', \n",
    "                      'Dest', 'DestCityName', 'DestStateName']\n",
    "\n",
    "string_fields = [field.name for field in flights_sample.schema.fields if field.dataType == types.StringType()]\n",
    "\n",
    "continuous_fields = ['Distance', 'DepHour']\n",
    "\n",
    "target_field = 'Delayed'\n",
    "\n",
    "indexers = [StringIndexer(inputCol=field, outputCol=field + 'Index', handleInvalid='keep') for field in string_fields]\n",
    "non_string_categoricals = [field for field in categorical_fields if field not in string_fields]\n",
    "non_string_categorical_onehotencoders = [OneHotEncoder(inputCol=field, outputCol=field + 'OneHot') for field in non_string_categoricals]\n",
    "string_categorical_onehotencoders = [OneHotEncoder(inputCol=field+'Index', outputCol=field + 'OneHot') for field in string_fields]\n",
    "\n",
    "input_cols_onehotencoded = [field + 'OneHot' for field in categorical_fields]\n",
    "\n",
    "va = VectorAssembler(inputCols= input_cols_onehotencoded + continuous_fields, outputCol='features')\n",
    "\n",
    "rf_classifier = RandomForestClassifier(featuresCol='features', labelCol='Delayed')\n",
    "\n",
    "pipeline = Pipeline(stages=indexers + \n",
    "                    string_categorical_onehotencoders + \n",
    "                    non_string_categorical_onehotencoders + \n",
    "                    [va] + \n",
    "                    [rf_classifier])\n",
    "\n",
    "# Tuning and Training\n",
    "builder = ParamGridBuilder()\n",
    "\n",
    "our_param_map = builder.addGrid(rf_classifier.maxDepth, [5, 15])\\\n",
    "                       .addGrid(rf_classifier.numTrees, [10, 30])\\\n",
    "                       .build()        \n",
    "\n",
    "our_evaluator = BinaryClassificationEvaluator(labelCol='Delayed')\n",
    "\n",
    "split = TrainValidationSplit(estimator=pipeline, \n",
    "                             evaluator=our_evaluator, \n",
    "                             estimatorParamMaps=our_param_map)\n",
    "\n",
    "split_model_chosen = split.fit(flights_sample)\n",
    "predicted = split_model_chosen.transform(rest)\n",
    "predictions = predicted.select('features',\n",
    "                               'Delayed',\n",
    "                               'rawPrediction',\n",
    "                               'probability',\n",
    "                               'prediction')\n",
    "\n",
    "predicted.write.json('out/predicted')\n",
    "split_model_chosen.bestModel.save('out/split_model_chosen')"
   ]
  },
  {
   "cell_type": "code",
   "execution_count": null,
   "metadata": {
    "colab": {},
    "colab_type": "code",
    "id": "YBNrtrIOwfRn",
    "outputId": "fb1a1c5d-8777-4115-f1f3-470134669382"
   },
   "outputs": [
    {
     "data": {
      "text/plain": [
       "[<matplotlib.lines.Line2D at 0x7fb154304c18>]"
      ]
     },
     "execution_count": 58,
     "metadata": {
      "tags": []
     },
     "output_type": "execute_result"
    },
    {
     "data": {
      "image/png": "[encoded data removed]",
      "text/plain": [
       "<Figure size 432x288 with 1 Axes>"
      ]
     },
     "metadata": {
      "needs_background": "light",
      "tags": []
     },
     "output_type": "display_data"
    }
   ],
   "source": [
    "# Check output\n",
    "predicted_probs = predictions.select('Delayed', 'probability').toPandas()\n",
    "y_true = predicted_probs['Delayed']\n",
    "y_prob_predicted = predicted_probs['probability'].map(lambda vector: vector[1])\n",
    "\n",
    "from sklearn.metrics import roc_curve\n",
    "\n",
    "fpr, tpr, thresholds = roc_curve(y_true, y_prob_predicted)\n",
    "import matplotlib.pyplot as plt\n",
    "import numpy as np\n",
    "%matplotlib inline\n",
    "\n",
    "plt.plot(fpr, tpr)\n",
    "plt.plot(np.linspace(0,1, 10), np.linspace(0,1, 10))"
   ]
  }
 ],
 "metadata": {
  "colab": {
   "collapsed_sections": [
    "eUVwKDojwfPM",
    "809KTBgawfPc",
    "KYVJzcl6wfPq",
    "FvGJI5-NwfPy",
    "wzQwGAufwfQB",
    "pzDOkThFwfQh",
    "MuQZeBnjwfQl",
    "XdM2q4u8wfQq",
    "yClSvFDkwfRM",
    "LFyQSwgmwfRc",
    "6kLeLz_nwfRl"
   ],
   "name": "05-ML_in_Spark.ipynb",
   "provenance": []
  },
  "kernelspec": {
   "display_name": "Python 3",
   "language": "python",
   "name": "python3"
  },
  "language_info": {
   "codemirror_mode": {
    "name": "ipython",
    "version": 3
   },
   "file_extension": ".py",
   "mimetype": "text/x-python",
   "name": "python",
   "nbconvert_exporter": "python",
   "pygments_lexer": "ipython3",
   "version": "3.6.8"
  }
 },
 "nbformat": 4,
 "nbformat_minor": 0
}
