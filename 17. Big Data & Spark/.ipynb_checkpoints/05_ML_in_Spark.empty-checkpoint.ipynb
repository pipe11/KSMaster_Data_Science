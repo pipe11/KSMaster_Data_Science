{
 "cells": [
  {
   "cell_type": "markdown",
   "metadata": {
    "colab_type": "text",
    "id": "wQPRMpiO5_il"
   },
   "source": [
    "# Tuning Machine Learning models in Spark\n",
    "\n",
    "<a href = \"http://yogen.io\"><img src=\"http://yogen.io/assets/logo.svg\" alt=\"yogen\" style=\"width: 200px; float: right;\"/></a>"
   ]
  },
  {
   "cell_type": "markdown",
   "metadata": {
    "colab_type": "text",
    "id": "GnOzAdda5_im"
   },
   "source": [
    "### If you are running this notebook in Google Colab\n",
    "\n",
    "Copy the following to a code cell and run it. It will install and set up Spark for you.\n",
    "\n",
    "```python\n",
    "!apt-get install openjdk-8-jdk-headless -qq > /dev/null\n",
    "!wget -q http://apache.uvigo.es/spark/spark-2.4.6/spark-2.4.6-bin-hadoop2.7.tgz\n",
    "!tar -xf spark-2.4.6-bin-hadoop2.7.tgz\n",
    "!pip install -q findspark\n",
    "\n",
    "import os\n",
    "import findspark\n",
    "from pyspark.sql import SparkSession\n",
    "\n",
    "os.environ[\"JAVA_HOME\"] = \"/usr/lib/jvm/java-8-openjdk-amd64\"\n",
    "os.environ[\"SPARK_HOME\"] = \"/content/spark-2.4.6-bin-hadoop2.7\"\n",
    "findspark.init()\n",
    "spark = SparkSession.builder.master(\"local[*]\").getOrCreate()\n",
    "```"
   ]
  },
  {
   "cell_type": "code",
   "execution_count": 114,
   "metadata": {
    "colab": {},
    "colab_type": "code",
    "executionInfo": {
     "elapsed": 84881,
     "status": "ok",
     "timestamp": 1594464383636,
     "user": {
      "displayName": "Felipe Fernandez pomar",
      "photoUrl": "https://lh3.googleusercontent.com/a-/AOh14GjAIBB1UUNahiuBW35nhzx_0hZxW-dTtBh-sbrK0Q=s64",
      "userId": "06620814048662575791"
     },
     "user_tz": -120
    },
    "id": "Ixi9IBZi5_in"
   },
   "outputs": [],
   "source": [
    "!apt-get install openjdk-8-jdk-headless -qq > /dev/null\n",
    "!wget -q http://apache.uvigo.es/spark/spark-2.4.6/spark-2.4.6-bin-hadoop2.7.tgz\n",
    "!tar -xf spark-2.4.6-bin-hadoop2.7.tgz\n",
    "!pip install -q findspark pyspark==2.4.6\n",
    " \n",
    "import os\n",
    "import findspark\n",
    "from pyspark.sql import SparkSession\n",
    " \n",
    "os.environ[\"JAVA_HOME\"] = \"/usr/lib/jvm/java-8-openjdk-amd64\"\n",
    "os.environ[\"SPARK_HOME\"] = \"/content/spark-2.4.6-bin-hadoop2.7\"\n",
    "findspark.init()\n",
    "spark = SparkSession.builder.master(\"local[*]\").getOrCreate()"
   ]
  },
  {
   "cell_type": "markdown",
   "metadata": {
    "colab_type": "text",
    "id": "-XJOYPon5_ir"
   },
   "source": [
    "## ML Pipelines in Spark\n",
    "\n",
    "ML model training and tuning often represents running the same steps once and again. Often, we run the same steps with small variations in order to evaluate combinations of parameters. \n",
    "\n",
    "In order to make this use case a lot easier, Spark provides the [Pipeline](https://spark.apache.org/docs/2.3.0/ml-pipeline.html) abstraction.\n",
    "\n",
    "A Pipeline represents a series of steps in the processing of a dataset. Each step is a Transformer or an Estimator. The whole Pipeline is an Estimator, so we can .fit the whole pipeline in one step. When we do that, the steps'  .fit and .transform methods will be called in turn."
   ]
  },
  {
   "cell_type": "markdown",
   "metadata": {
    "colab_type": "text",
    "id": "slKcdlQv5_ir"
   },
   "source": [
    "![pipelineestimator](https://spark.apache.org/docs/2.3.0/img/ml-Pipeline.png)"
   ]
  },
  {
   "cell_type": "markdown",
   "metadata": {
    "colab_type": "text",
    "id": "_kdhXV_q5_is"
   },
   "source": [
    "![PipelineModel](https://spark.apache.org/docs/2.3.0/img/ml-PipelineModel.png)"
   ]
  },
  {
   "cell_type": "markdown",
   "metadata": {
    "colab_type": "text",
    "id": "8iXJkPGU5_is"
   },
   "source": [
    "## Example: predicting flight delays\n",
    "\n",
    "We'll be using the same [Transtats'](https://www.transtats.bts.gov/) OTP performance data] from way back when. Remember it?\n",
    "\n",
    "It's a table that contains all domestic departures by US air air carriers that represent at least one percent of domestic scheduled passenger revenues, with data on each individual departure including [Tail Number](https://en.wikipedia.org/wiki/Tail_number), departure delay, origin, destination and carrier.\n"
   ]
  },
  {
   "cell_type": "markdown",
   "metadata": {
    "colab_type": "text",
    "id": "KkVSly275_it"
   },
   "source": [
    "### Load the data\n",
    "\n",
    "Opening .zip files in Spark is a bit of a pain. For now, let's just decompress the file we want to read. When we are ready to expand the processing to the cluster, we will need to do [this](https://stackoverflow.com/questions/28569788/how-to-open-stream-zip-files-through-spark).\n",
    "\n",
    "```python\n",
    "csvname = 'On_Time_Reporting_Carrier_On_Time_Performance_(1987_present)_2018_12.csv'\n",
    "columns_of_interest = ['Year', 'Month', 'DayofMonth', 'DayOfWeek', 'Reporting_Airline', \n",
    "                       'Tail_Number', 'Flight_Number_Reporting_Airline', 'Origin', \n",
    "                       'OriginCityName', 'OriginStateName', 'Dest', 'DestCityName', 'DestStateName',\n",
    "                       'DepTime', 'DepDelay', 'AirTime', 'Distance']\n",
    "```"
   ]
  },
  {
   "cell_type": "code",
   "execution_count": 115,
   "metadata": {
    "colab": {
     "base_uri": "https://localhost:8080/",
     "height": 1000
    },
    "colab_type": "code",
    "executionInfo": {
     "elapsed": 11870,
     "status": "ok",
     "timestamp": 1594464446409,
     "user": {
      "displayName": "Felipe Fernandez pomar",
      "photoUrl": "https://lh3.googleusercontent.com/a-/AOh14GjAIBB1UUNahiuBW35nhzx_0hZxW-dTtBh-sbrK0Q=s64",
      "userId": "06620814048662575791"
     },
     "user_tz": -120
    },
    "id": "g_ohXiVu5_iu",
    "outputId": "9961c7f4-4322-4c3e-d154-d6c8dd203e45",
    "scrolled": false
   },
   "outputs": [
    {
     "name": "stdout",
     "output_type": "stream",
     "text": [
      "root\n",
      " |-- Year: integer (nullable = true)\n",
      " |-- Quarter: integer (nullable = true)\n",
      " |-- Month: integer (nullable = true)\n",
      " |-- DayofMonth: integer (nullable = true)\n",
      " |-- DayOfWeek: integer (nullable = true)\n",
      " |-- FlightDate: timestamp (nullable = true)\n",
      " |-- Reporting_Airline: string (nullable = true)\n",
      " |-- DOT_ID_Reporting_Airline: integer (nullable = true)\n",
      " |-- IATA_CODE_Reporting_Airline: string (nullable = true)\n",
      " |-- Tail_Number: string (nullable = true)\n",
      " |-- Flight_Number_Reporting_Airline: integer (nullable = true)\n",
      " |-- OriginAirportID: integer (nullable = true)\n",
      " |-- OriginAirportSeqID: integer (nullable = true)\n",
      " |-- OriginCityMarketID: integer (nullable = true)\n",
      " |-- Origin: string (nullable = true)\n",
      " |-- OriginCityName: string (nullable = true)\n",
      " |-- OriginState: string (nullable = true)\n",
      " |-- OriginStateFips: integer (nullable = true)\n",
      " |-- OriginStateName: string (nullable = true)\n",
      " |-- OriginWac: integer (nullable = true)\n",
      " |-- DestAirportID: integer (nullable = true)\n",
      " |-- DestAirportSeqID: integer (nullable = true)\n",
      " |-- DestCityMarketID: integer (nullable = true)\n",
      " |-- Dest: string (nullable = true)\n",
      " |-- DestCityName: string (nullable = true)\n",
      " |-- DestState: string (nullable = true)\n",
      " |-- DestStateFips: integer (nullable = true)\n",
      " |-- DestStateName: string (nullable = true)\n",
      " |-- DestWac: integer (nullable = true)\n",
      " |-- CRSDepTime: integer (nullable = true)\n",
      " |-- DepTime: integer (nullable = true)\n",
      " |-- DepDelay: double (nullable = true)\n",
      " |-- DepDelayMinutes: double (nullable = true)\n",
      " |-- DepDel15: double (nullable = true)\n",
      " |-- DepartureDelayGroups: integer (nullable = true)\n",
      " |-- DepTimeBlk: string (nullable = true)\n",
      " |-- TaxiOut: double (nullable = true)\n",
      " |-- WheelsOff: integer (nullable = true)\n",
      " |-- WheelsOn: integer (nullable = true)\n",
      " |-- TaxiIn: double (nullable = true)\n",
      " |-- CRSArrTime: integer (nullable = true)\n",
      " |-- ArrTime: integer (nullable = true)\n",
      " |-- ArrDelay: double (nullable = true)\n",
      " |-- ArrDelayMinutes: double (nullable = true)\n",
      " |-- ArrDel15: double (nullable = true)\n",
      " |-- ArrivalDelayGroups: integer (nullable = true)\n",
      " |-- ArrTimeBlk: string (nullable = true)\n",
      " |-- Cancelled: double (nullable = true)\n",
      " |-- CancellationCode: string (nullable = true)\n",
      " |-- Diverted: double (nullable = true)\n",
      " |-- CRSElapsedTime: double (nullable = true)\n",
      " |-- ActualElapsedTime: double (nullable = true)\n",
      " |-- AirTime: double (nullable = true)\n",
      " |-- Flights: double (nullable = true)\n",
      " |-- Distance: double (nullable = true)\n",
      " |-- DistanceGroup: integer (nullable = true)\n",
      " |-- CarrierDelay: double (nullable = true)\n",
      " |-- WeatherDelay: double (nullable = true)\n",
      " |-- NASDelay: double (nullable = true)\n",
      " |-- SecurityDelay: double (nullable = true)\n",
      " |-- LateAircraftDelay: double (nullable = true)\n",
      " |-- FirstDepTime: integer (nullable = true)\n",
      " |-- TotalAddGTime: double (nullable = true)\n",
      " |-- LongestAddGTime: double (nullable = true)\n",
      " |-- DivAirportLandings: integer (nullable = true)\n",
      " |-- DivReachedDest: double (nullable = true)\n",
      " |-- DivActualElapsedTime: double (nullable = true)\n",
      " |-- DivArrDelay: double (nullable = true)\n",
      " |-- DivDistance: double (nullable = true)\n",
      " |-- Div1Airport: string (nullable = true)\n",
      " |-- Div1AirportID: integer (nullable = true)\n",
      " |-- Div1AirportSeqID: integer (nullable = true)\n",
      " |-- Div1WheelsOn: integer (nullable = true)\n",
      " |-- Div1TotalGTime: double (nullable = true)\n",
      " |-- Div1LongestGTime: double (nullable = true)\n",
      " |-- Div1WheelsOff: integer (nullable = true)\n",
      " |-- Div1TailNum: string (nullable = true)\n",
      " |-- Div2Airport: string (nullable = true)\n",
      " |-- Div2AirportID: integer (nullable = true)\n",
      " |-- Div2AirportSeqID: integer (nullable = true)\n",
      " |-- Div2WheelsOn: integer (nullable = true)\n",
      " |-- Div2TotalGTime: double (nullable = true)\n",
      " |-- Div2LongestGTime: double (nullable = true)\n",
      " |-- Div2WheelsOff: integer (nullable = true)\n",
      " |-- Div2TailNum: string (nullable = true)\n",
      " |-- Div3Airport: string (nullable = true)\n",
      " |-- Div3AirportID: string (nullable = true)\n",
      " |-- Div3AirportSeqID: string (nullable = true)\n",
      " |-- Div3WheelsOn: string (nullable = true)\n",
      " |-- Div3TotalGTime: string (nullable = true)\n",
      " |-- Div3LongestGTime: string (nullable = true)\n",
      " |-- Div3WheelsOff: string (nullable = true)\n",
      " |-- Div3TailNum: string (nullable = true)\n",
      " |-- Div4Airport: string (nullable = true)\n",
      " |-- Div4AirportID: string (nullable = true)\n",
      " |-- Div4AirportSeqID: string (nullable = true)\n",
      " |-- Div4WheelsOn: string (nullable = true)\n",
      " |-- Div4TotalGTime: string (nullable = true)\n",
      " |-- Div4LongestGTime: string (nullable = true)\n",
      " |-- Div4WheelsOff: string (nullable = true)\n",
      " |-- Div4TailNum: string (nullable = true)\n",
      " |-- Div5Airport: string (nullable = true)\n",
      " |-- Div5AirportID: string (nullable = true)\n",
      " |-- Div5AirportSeqID: string (nullable = true)\n",
      " |-- Div5WheelsOn: string (nullable = true)\n",
      " |-- Div5TotalGTime: string (nullable = true)\n",
      " |-- Div5LongestGTime: string (nullable = true)\n",
      " |-- Div5WheelsOff: string (nullable = true)\n",
      " |-- Div5TailNum: string (nullable = true)\n",
      " |-- _c109: string (nullable = true)\n",
      "\n"
     ]
    }
   ],
   "source": [
    "from pyspark.sql import SparkSession\n",
    "\n",
    "csvname = 'On_Time_Reporting_Carrier_On_Time_Performance_(1987_present)_2018_12.csv.gz'\n",
    "\n",
    "columns_of_interest = ['Year', 'Month', 'DayofMonth', 'DayOfWeek', 'Reporting_Airline', \n",
    "                       'Tail_Number', 'Flight_Number_Reporting_Airline', 'Origin', \n",
    "                       'OriginCityName', 'OriginStateName', 'Dest', 'DestCityName', 'DestStateName',\n",
    "                       'DepTime', 'DepDelay', 'AirTime', 'Distance']\n",
    "\n",
    "spark = SparkSession.builder.getOrCreate()\n",
    "df = spark.read.csv(csvname, header = True, inferSchema = True)\n",
    "#Darle el formato header si lo tiene y inferSchema, lea todos los datos e infiera los datos de cada columna\n",
    "df.printSchema()"
   ]
  },
  {
   "cell_type": "code",
   "execution_count": 116,
   "metadata": {
    "colab": {
     "base_uri": "https://localhost:8080/",
     "height": 340
    },
    "colab_type": "code",
    "executionInfo": {
     "elapsed": 1727,
     "status": "ok",
     "timestamp": 1594464456356,
     "user": {
      "displayName": "Felipe Fernandez pomar",
      "photoUrl": "https://lh3.googleusercontent.com/a-/AOh14GjAIBB1UUNahiuBW35nhzx_0hZxW-dTtBh-sbrK0Q=s64",
      "userId": "06620814048662575791"
     },
     "user_tz": -120
    },
    "id": "s9sm0C9p82kI",
    "outputId": "e25b0767-cb45-4f33-b541-20fea8762b8c"
   },
   "outputs": [
    {
     "name": "stdout",
     "output_type": "stream",
     "text": [
      "root\n",
      " |-- Year: integer (nullable = true)\n",
      " |-- Month: integer (nullable = true)\n",
      " |-- DayofMonth: integer (nullable = true)\n",
      " |-- DayOfWeek: integer (nullable = true)\n",
      " |-- Reporting_Airline: string (nullable = true)\n",
      " |-- Tail_Number: string (nullable = true)\n",
      " |-- Flight_Number_Reporting_Airline: integer (nullable = true)\n",
      " |-- Origin: string (nullable = true)\n",
      " |-- OriginCityName: string (nullable = true)\n",
      " |-- OriginStateName: string (nullable = true)\n",
      " |-- Dest: string (nullable = true)\n",
      " |-- DestCityName: string (nullable = true)\n",
      " |-- DestStateName: string (nullable = true)\n",
      " |-- DepTime: integer (nullable = true)\n",
      " |-- DepDelay: double (nullable = true)\n",
      " |-- AirTime: double (nullable = true)\n",
      " |-- Distance: double (nullable = true)\n",
      "\n"
     ]
    }
   ],
   "source": [
    "flights = df.select(columns_of_interest) #Nos cogemos las columnas que nos interesan\n",
    "\n",
    "flights.printSchema()"
   ]
  },
  {
   "cell_type": "markdown",
   "metadata": {
    "colab_type": "text",
    "id": "6466iCF75_i0"
   },
   "source": [
    "### Drop nas\n",
    "\n",
    "There are only a few departures for which any of the columns of interest contains null values. The most expedient way to handle them is to just drop them, since they won't make much of a difference."
   ]
  },
  {
   "cell_type": "code",
   "execution_count": 6,
   "metadata": {
    "colab": {
     "base_uri": "https://localhost:8080/",
     "height": 258
    },
    "colab_type": "code",
    "executionInfo": {
     "elapsed": 32661,
     "status": "ok",
     "timestamp": 1594451734255,
     "user": {
      "displayName": "Felipe Fernandez pomar",
      "photoUrl": "https://lh3.googleusercontent.com/a-/AOh14GjAIBB1UUNahiuBW35nhzx_0hZxW-dTtBh-sbrK0Q=s64",
      "userId": "06620814048662575791"
     },
     "user_tz": -120
    },
    "id": "kOAkAI1B9y9t",
    "outputId": "cd5ecceb-ae6c-4e0a-fdf7-826e359f277c"
   },
   "outputs": [
    {
     "name": "stdout",
     "output_type": "stream",
     "text": [
      "+-------+------+------+------------------+------------------+-----------------+-----------+-------------------------------+------+--------------+---------------+------+------------+-------------+------------------+-----------------+------------------+-----------------+\n",
      "|summary|  Year| Month|        DayofMonth|         DayOfWeek|Reporting_Airline|Tail_Number|Flight_Number_Reporting_Airline|Origin|OriginCityName|OriginStateName|  Dest|DestCityName|DestStateName|           DepTime|         DepDelay|           AirTime|         Distance|\n",
      "+-------+------+------+------------------+------------------+-----------------+-----------+-------------------------------+------+--------------+---------------+------+------------+-------------+------------------+-----------------+------------------+-----------------+\n",
      "|  count|355263|355263|            355263|            355263|           355263|     354211|                         355263|355263|        355263|         355263|355263|      355263|       355263|            350908|           350908|            349888|           355263|\n",
      "|   mean|2018.0|  12.0|17.033206385128764|4.2166563925880265|             null|       null|              3240.390043432612|  null|          null|           null|  null|        null|         null|1333.0073637534624|9.455908671218667|102.93579659776843| 718.750812778139|\n",
      "| stddev|   0.0|   0.0| 8.800816578421777|2.0178702660421943|             null|       null|              1892.473964624346|  null|          null|           null|  null|        null|         null| 492.3628646991268|45.31533643626724| 64.65898263374311|538.4039018643508|\n",
      "|    min|  2018|    12|                 1|                 1|               DL|      215NV|                              1|   ABE|  Aberdeen, SD|        Alabama|   ABE|Aberdeen, SD|      Alabama|                 1|            -60.0|               7.0|             55.0|\n",
      "|    25%|  2018|    12|                 9|                 3|             null|       null|                           1594|  null|          null|           null|  null|        null|         null|               925|             -6.0|              57.0|            335.0|\n",
      "|    50%|  2018|    12|                17|                 4|             null|       null|                           3438|  null|          null|           null|  null|        null|         null|              1326|             -2.0|              86.0|            581.0|\n",
      "|    75%|  2018|    12|                25|                 6|             null|       null|                           4791|  null|          null|           null|  null|        null|         null|              1736|              7.0|             131.0|            949.0|\n",
      "|    max|  2018|    12|                31|                 7|               YX|     N999DN|                           7909|   YUM|      Yuma, AZ|        Wyoming|   YUM|    Yuma, AZ|      Wyoming|              2400|           2098.0|             695.0|           4983.0|\n",
      "+-------+------+------+------------------+------------------+-----------------+-----------+-------------------------------+------+--------------+---------------+------+------------+-------------+------------------+-----------------+------------------+-----------------+\n",
      "\n"
     ]
    }
   ],
   "source": [
    "flights.summary().show()"
   ]
  },
  {
   "cell_type": "code",
   "execution_count": 7,
   "metadata": {
    "colab": {
     "base_uri": "https://localhost:8080/",
     "height": 207
    },
    "colab_type": "code",
    "executionInfo": {
     "elapsed": 51086,
     "status": "ok",
     "timestamp": 1594451753374,
     "user": {
      "displayName": "Felipe Fernandez pomar",
      "photoUrl": "https://lh3.googleusercontent.com/a-/AOh14GjAIBB1UUNahiuBW35nhzx_0hZxW-dTtBh-sbrK0Q=s64",
      "userId": "06620814048662575791"
     },
     "user_tz": -120
    },
    "id": "O66QDOTU-x1H",
    "outputId": "f7f6fed4-bded-4451-f693-5cc34528acc3"
   },
   "outputs": [
    {
     "name": "stdout",
     "output_type": "stream",
     "text": [
      "+-------+------+------+------------------+------------------+-----------------+-----------+-------------------------------+------+--------------+---------------+------+------------+-------------+------------------+-----------------+------------------+-----------------+\n",
      "|summary|  Year| Month|        DayofMonth|         DayOfWeek|Reporting_Airline|Tail_Number|Flight_Number_Reporting_Airline|Origin|OriginCityName|OriginStateName|  Dest|DestCityName|DestStateName|           DepTime|         DepDelay|           AirTime|         Distance|\n",
      "+-------+------+------+------------------+------------------+-----------------+-----------+-------------------------------+------+--------------+---------------+------+------------+-------------+------------------+-----------------+------------------+-----------------+\n",
      "|  count|355263|355263|            355263|            355263|           355263|     354211|                         355263|355263|        355263|         355263|355263|      355263|       355263|            350908|           350908|            349888|           355263|\n",
      "|   mean|2018.0|  12.0|17.033206385128764|4.2166563925880265|             null|       null|              3240.390043432612|  null|          null|           null|  null|        null|         null|1333.0073637534624|9.455908671218667|102.93579659776843| 718.750812778139|\n",
      "| stddev|   0.0|   0.0| 8.800816578421777|2.0178702660421943|             null|       null|              1892.473964624346|  null|          null|           null|  null|        null|         null| 492.3628646991268|45.31533643626724| 64.65898263374311|538.4039018643508|\n",
      "|    min|  2018|    12|                 1|                 1|               DL|      215NV|                              1|   ABE|  Aberdeen, SD|        Alabama|   ABE|Aberdeen, SD|      Alabama|                 1|            -60.0|               7.0|             55.0|\n",
      "|    max|  2018|    12|                31|                 7|               YX|     N999DN|                           7909|   YUM|      Yuma, AZ|        Wyoming|   YUM|    Yuma, AZ|      Wyoming|              2400|           2098.0|             695.0|           4983.0|\n",
      "+-------+------+------+------------------+------------------+-----------------+-----------+-------------------------------+------+--------------+---------------+------+------------+-------------+------------------+-----------------+------------------+-----------------+\n",
      "\n"
     ]
    }
   ],
   "source": [
    "flights.describe().show()"
   ]
  },
  {
   "cell_type": "code",
   "execution_count": null,
   "metadata": {
    "colab": {
     "base_uri": "https://localhost:8080/",
     "height": 156
    },
    "colab_type": "code",
    "executionInfo": {
     "elapsed": 3081,
     "status": "ok",
     "timestamp": 1594405183218,
     "user": {
      "displayName": "Felipe Fernandez pomar",
      "photoUrl": "https://lh3.googleusercontent.com/a-/AOh14GjAIBB1UUNahiuBW35nhzx_0hZxW-dTtBh-sbrK0Q=s64",
      "userId": "06620814048662575791"
     },
     "user_tz": -120
    },
    "id": "dtKBDSiV5_i2",
    "outputId": "0774c4fd-98c2-45b8-e938-9a87984ebf4b"
   },
   "outputs": [
    {
     "name": "stdout",
     "output_type": "stream",
     "text": [
      "Archive:  On_Time_Reporting_Carrier_On_Time_Performance_(1987_present)_2018_12.csv.gz\n",
      "  End-of-central-directory signature not found.  Either this file is not\n",
      "  a zipfile, or it constitutes one disk of a multi-part archive.  In the\n",
      "  latter case the central directory and zipfile comment will be found on\n",
      "  the last disk(s) of this archive.\n",
      "unzip:  cannot find zipfile directory in one of On_Time_Reporting_Carrier_On_Time_Performance_(1987_present)_2018_12.csv.gz or\n",
      "        On_Time_Reporting_Carrier_On_Time_Performance_(1987_present)_2018_12.csv.gz.zip, and cannot find On_Time_Reporting_Carrier_On_Time_Performance_(1987_present)_2018_12.csv.gz.ZIP, period.\n"
     ]
    }
   ],
   "source": [
    "!unzip -o 'On_Time_Reporting_Carrier_On_Time_Performance_(1987_present)_2018_12.csv.gz'"
   ]
  },
  {
   "cell_type": "code",
   "execution_count": null,
   "metadata": {
    "colab": {
     "base_uri": "https://localhost:8080/",
     "height": 173
    },
    "colab_type": "code",
    "executionInfo": {
     "elapsed": 3681,
     "status": "ok",
     "timestamp": 1594404939557,
     "user": {
      "displayName": "Felipe Fernandez pomar",
      "photoUrl": "https://lh3.googleusercontent.com/a-/AOh14GjAIBB1UUNahiuBW35nhzx_0hZxW-dTtBh-sbrK0Q=s64",
      "userId": "06620814048662575791"
     },
     "user_tz": -120
    },
    "id": "7dksN3ky7dJ1",
    "outputId": "cdbd40c4-272f-431d-8cd9-d9b1ec6a2e5c"
   },
   "outputs": [
    {
     "name": "stdout",
     "output_type": "stream",
     "text": [
      "total 940680\n",
      "drwxr-xr-x 13 1000 1000      4096 May 30 00:02  spark-2.4.6-bin-hadoop2.7\n",
      "-rw-r--r--  1 root root 233215067 May 30 00:54  spark-2.4.6-bin-hadoop2.7.tgz.3\n",
      "-rw-r--r--  1 root root 233215067 May 30 00:54  spark-2.4.6-bin-hadoop2.7.tgz.2\n",
      "-rw-r--r--  1 root root 233215067 May 30 00:54  spark-2.4.6-bin-hadoop2.7.tgz.1\n",
      "-rw-r--r--  1 root root 233215067 May 30 00:54  spark-2.4.6-bin-hadoop2.7.tgz\n",
      "drwxr-xr-x  1 root root      4096 Jun 26 16:26  sample_data\n",
      "-rw-r--r--  1 root root  30370816 Jul 10 18:12 'On_Time_Reporting_Carrier_On_Time_Performance_(1987_present)_2018_12.csv.gz'\n"
     ]
    }
   ],
   "source": [
    "!ls -lrt"
   ]
  },
  {
   "cell_type": "code",
   "execution_count": 117,
   "metadata": {
    "colab": {
     "base_uri": "https://localhost:8080/",
     "height": 34
    },
    "colab_type": "code",
    "executionInfo": {
     "elapsed": 1584,
     "status": "ok",
     "timestamp": 1594464464356,
     "user": {
      "displayName": "Felipe Fernandez pomar",
      "photoUrl": "https://lh3.googleusercontent.com/a-/AOh14GjAIBB1UUNahiuBW35nhzx_0hZxW-dTtBh-sbrK0Q=s64",
      "userId": "06620814048662575791"
     },
     "user_tz": -120
    },
    "id": "GncmYAyJ5_i8",
    "outputId": "54b1b9d0-8369-4557-cc9e-1753f4c2c356"
   },
   "outputs": [
    {
     "data": {
      "text/plain": [
       "DataFrame[AirTime: double]"
      ]
     },
     "execution_count": 117,
     "metadata": {
      "tags": []
     },
     "output_type": "execute_result"
    }
   ],
   "source": [
    "flights.select(\"AirTime\")"
   ]
  },
  {
   "cell_type": "code",
   "execution_count": 118,
   "metadata": {
    "colab": {
     "base_uri": "https://localhost:8080/",
     "height": 34
    },
    "colab_type": "code",
    "executionInfo": {
     "elapsed": 2954,
     "status": "ok",
     "timestamp": 1594464468655,
     "user": {
      "displayName": "Felipe Fernandez pomar",
      "photoUrl": "https://lh3.googleusercontent.com/a-/AOh14GjAIBB1UUNahiuBW35nhzx_0hZxW-dTtBh-sbrK0Q=s64",
      "userId": "06620814048662575791"
     },
     "user_tz": -120
    },
    "id": "TihXk2SX_QsP",
    "outputId": "267d6f83-5e8a-46d9-a44f-55e4ae267d0e"
   },
   "outputs": [
    {
     "data": {
      "text/plain": [
       "593842"
      ]
     },
     "execution_count": 118,
     "metadata": {
      "tags": []
     },
     "output_type": "execute_result"
    }
   ],
   "source": [
    "flights.count()"
   ]
  },
  {
   "cell_type": "markdown",
   "metadata": {
    "colab_type": "text",
    "id": "xBQAmJHP5_i7"
   },
   "source": [
    "NA-related functions are grouped in a .na attribute of DataFrames."
   ]
  },
  {
   "cell_type": "code",
   "execution_count": 119,
   "metadata": {
    "colab": {
     "base_uri": "https://localhost:8080/",
     "height": 34
    },
    "colab_type": "code",
    "executionInfo": {
     "elapsed": 1699,
     "status": "ok",
     "timestamp": 1594464471222,
     "user": {
      "displayName": "Felipe Fernandez pomar",
      "photoUrl": "https://lh3.googleusercontent.com/a-/AOh14GjAIBB1UUNahiuBW35nhzx_0hZxW-dTtBh-sbrK0Q=s64",
      "userId": "06620814048662575791"
     },
     "user_tz": -120
    },
    "id": "JliG-ej8_gxM",
    "outputId": "e63ff49c-8012-4890-9b56-a300b5198684"
   },
   "outputs": [
    {
     "data": {
      "text/plain": [
       "<pyspark.sql.dataframe.DataFrameNaFunctions at 0x7f26117ce9e8>"
      ]
     },
     "execution_count": 119,
     "metadata": {
      "tags": []
     },
     "output_type": "execute_result"
    }
   ],
   "source": [
    "flights.na"
   ]
  },
  {
   "cell_type": "code",
   "execution_count": 120,
   "metadata": {
    "colab": {},
    "colab_type": "code",
    "executionInfo": {
     "elapsed": 1700,
     "status": "ok",
     "timestamp": 1594464473702,
     "user": {
      "displayName": "Felipe Fernandez pomar",
      "photoUrl": "https://lh3.googleusercontent.com/a-/AOh14GjAIBB1UUNahiuBW35nhzx_0hZxW-dTtBh-sbrK0Q=s64",
      "userId": "06620814048662575791"
     },
     "user_tz": -120
    },
    "id": "ybyvZDQA_i_Z"
   },
   "outputs": [],
   "source": [
    "flights2 = flights.na.drop()"
   ]
  },
  {
   "cell_type": "code",
   "execution_count": 121,
   "metadata": {
    "colab": {
     "base_uri": "https://localhost:8080/",
     "height": 34
    },
    "colab_type": "code",
    "executionInfo": {
     "elapsed": 6397,
     "status": "ok",
     "timestamp": 1594464480873,
     "user": {
      "displayName": "Felipe Fernandez pomar",
      "photoUrl": "https://lh3.googleusercontent.com/a-/AOh14GjAIBB1UUNahiuBW35nhzx_0hZxW-dTtBh-sbrK0Q=s64",
      "userId": "06620814048662575791"
     },
     "user_tz": -120
    },
    "id": "eI_rQjbpAUHH",
    "outputId": "84dc6035-09b4-403d-8bd0-4cee86ae237b"
   },
   "outputs": [
    {
     "data": {
      "text/plain": [
       "585737"
      ]
     },
     "execution_count": 121,
     "metadata": {
      "tags": []
     },
     "output_type": "execute_result"
    }
   ],
   "source": [
    "flights2.count()"
   ]
  },
  {
   "cell_type": "code",
   "execution_count": 13,
   "metadata": {
    "colab": {
     "base_uri": "https://localhost:8080/",
     "height": 258
    },
    "colab_type": "code",
    "executionInfo": {
     "elapsed": 31218,
     "status": "ok",
     "timestamp": 1594451794270,
     "user": {
      "displayName": "Felipe Fernandez pomar",
      "photoUrl": "https://lh3.googleusercontent.com/a-/AOh14GjAIBB1UUNahiuBW35nhzx_0hZxW-dTtBh-sbrK0Q=s64",
      "userId": "06620814048662575791"
     },
     "user_tz": -120
    },
    "id": "Aj2mKF3Y_nCm",
    "outputId": "7a73bde8-375e-44ef-dcfa-d02962ebf406"
   },
   "outputs": [
    {
     "name": "stdout",
     "output_type": "stream",
     "text": [
      "+-------+------+------+------------------+------------------+-----------------+-----------+-------------------------------+------+--------------+---------------+------+------------+-------------+------------------+-----------------+------------------+-----------------+\n",
      "|summary|  Year| Month|        DayofMonth|         DayOfWeek|Reporting_Airline|Tail_Number|Flight_Number_Reporting_Airline|Origin|OriginCityName|OriginStateName|  Dest|DestCityName|DestStateName|           DepTime|         DepDelay|           AirTime|         Distance|\n",
      "+-------+------+------+------------------+------------------+-----------------+-----------+-------------------------------+------+--------------+---------------+------+------------+-------------+------------------+-----------------+------------------+-----------------+\n",
      "|  count|349888|349888|            349888|            349888|           349888|     349888|                         349888|349888|        349888|         349888|349888|      349888|       349888|            349888|           349888|            349888|           349888|\n",
      "|   mean|2018.0|  12.0|17.035631402048654| 4.211587708066581|             null|       null|             3225.4204545454545|  null|          null|           null|  null|        null|         null|1332.9796906438633|9.391782513261386|102.93579659776843|721.7012901271264|\n",
      "| stddev|   0.0|   0.0| 8.794073608462808|2.0156607177335597|             null|       null|             1893.5430257532512|  null|          null|           null|  null|        null|         null| 492.2922289246235|45.11643435513479| 64.65898263374311| 539.814424455529|\n",
      "|    min|  2018|    12|                 1|                 1|               DL|      215NV|                              1|   ABE|  Aberdeen, SD|        Alabama|   ABE|Aberdeen, SD|      Alabama|                 1|            -60.0|               7.0|             55.0|\n",
      "|    25%|  2018|    12|                 9|                 3|             null|       null|                           1577|  null|          null|           null|  null|        null|         null|               926|             -6.0|              57.0|            335.0|\n",
      "|    50%|  2018|    12|                18|                 4|             null|       null|                           3424|  null|          null|           null|  null|        null|         null|              1326|             -2.0|              86.0|            583.0|\n",
      "|    75%|  2018|    12|                25|                 6|             null|       null|                           4738|  null|          null|           null|  null|        null|         null|              1736|              7.0|             131.0|            954.0|\n",
      "|    max|  2018|    12|                31|                 7|               YX|     N999DN|                           7909|   YUM|      Yuma, AZ|        Wyoming|   YUM|    Yuma, AZ|      Wyoming|              2400|           2098.0|             695.0|           4983.0|\n",
      "+-------+------+------+------------------+------------------+-----------------+-----------+-------------------------------+------+--------------+---------------+------+------------+-------------+------------------+-----------------+------------------+-----------------+\n",
      "\n"
     ]
    }
   ],
   "source": [
    "flights2.summary().show(10)"
   ]
  },
  {
   "cell_type": "markdown",
   "metadata": {
    "colab_type": "text",
    "id": "ZM3rVMHJ5_jB"
   },
   "source": [
    "## Feature extraction and generation of target variable\n",
    "\n",
    "The departing hour is the most important factor in delays, so we need to calculate it from the departure time. Since the input file uses a funny format for times, Spark has interpreted them as floats:"
   ]
  },
  {
   "cell_type": "code",
   "execution_count": 21,
   "metadata": {
    "colab": {
     "base_uri": "https://localhost:8080/",
     "height": 340
    },
    "colab_type": "code",
    "executionInfo": {
     "elapsed": 18422,
     "status": "ok",
     "timestamp": 1594451993795,
     "user": {
      "displayName": "Felipe Fernandez pomar",
      "photoUrl": "https://lh3.googleusercontent.com/a-/AOh14GjAIBB1UUNahiuBW35nhzx_0hZxW-dTtBh-sbrK0Q=s64",
      "userId": "06620814048662575791"
     },
     "user_tz": -120
    },
    "id": "U_KSCXwWFPmP",
    "outputId": "221a6247-b49c-4f87-c892-6ec3a07234df"
   },
   "outputs": [
    {
     "name": "stdout",
     "output_type": "stream",
     "text": [
      "root\n",
      " |-- Year: integer (nullable = true)\n",
      " |-- Month: integer (nullable = true)\n",
      " |-- DayofMonth: integer (nullable = true)\n",
      " |-- DayOfWeek: integer (nullable = true)\n",
      " |-- Reporting_Airline: string (nullable = true)\n",
      " |-- Tail_Number: string (nullable = true)\n",
      " |-- Flight_Number_Reporting_Airline: integer (nullable = true)\n",
      " |-- Origin: string (nullable = true)\n",
      " |-- OriginCityName: string (nullable = true)\n",
      " |-- OriginStateName: string (nullable = true)\n",
      " |-- Dest: string (nullable = true)\n",
      " |-- DestCityName: string (nullable = true)\n",
      " |-- DestStateName: string (nullable = true)\n",
      " |-- DepTime: integer (nullable = true)\n",
      " |-- DepDelay: double (nullable = true)\n",
      " |-- AirTime: double (nullable = true)\n",
      " |-- Distance: double (nullable = true)\n",
      "\n"
     ]
    }
   ],
   "source": [
    "flights2.printSchema()"
   ]
  },
  {
   "cell_type": "code",
   "execution_count": 22,
   "metadata": {
    "colab": {
     "base_uri": "https://localhost:8080/",
     "height": 204
    },
    "colab_type": "code",
    "executionInfo": {
     "elapsed": 18402,
     "status": "ok",
     "timestamp": 1594451993796,
     "user": {
      "displayName": "Felipe Fernandez pomar",
      "photoUrl": "https://lh3.googleusercontent.com/a-/AOh14GjAIBB1UUNahiuBW35nhzx_0hZxW-dTtBh-sbrK0Q=s64",
      "userId": "06620814048662575791"
     },
     "user_tz": -120
    },
    "id": "0da2837kAeAk",
    "outputId": "2ed53a4b-bc54-4f8b-d663-ceb124d7b52a"
   },
   "outputs": [
    {
     "name": "stdout",
     "output_type": "stream",
     "text": [
      "+-------+\n",
      "|DepTime|\n",
      "+-------+\n",
      "|   1048|\n",
      "|    638|\n",
      "|   1710|\n",
      "|   1318|\n",
      "|    953|\n",
      "+-------+\n",
      "only showing top 5 rows\n",
      "\n"
     ]
    }
   ],
   "source": [
    "flights2.select('DepTime').show(5)"
   ]
  },
  {
   "cell_type": "markdown",
   "metadata": {
    "colab_type": "text",
    "id": "x4_HQTXv5_jG"
   },
   "source": [
    "#### Exercise\n",
    "\n",
    "Calculated the 'DepHour' column that represents the hour as an int."
   ]
  },
  {
   "cell_type": "code",
   "execution_count": 122,
   "metadata": {
    "colab": {
     "base_uri": "https://localhost:8080/",
     "height": 34
    },
    "colab_type": "code",
    "executionInfo": {
     "elapsed": 1350,
     "status": "ok",
     "timestamp": 1594464485084,
     "user": {
      "displayName": "Felipe Fernandez pomar",
      "photoUrl": "https://lh3.googleusercontent.com/a-/AOh14GjAIBB1UUNahiuBW35nhzx_0hZxW-dTtBh-sbrK0Q=s64",
      "userId": "06620814048662575791"
     },
     "user_tz": -120
    },
    "id": "8A4FVSKVIWTq",
    "outputId": "7d2d4010-294e-4c77-fc1e-29f09b3b02aa"
   },
   "outputs": [
    {
     "data": {
      "text/plain": [
       "10"
      ]
     },
     "execution_count": 122,
     "metadata": {
      "tags": []
     },
     "output_type": "execute_result"
    }
   ],
   "source": [
    "from pyspark.sql import types, functions\n",
    "\n",
    "time = 1034\n",
    "def strHour(time):\n",
    "  return int(str(time)[:-2])\n",
    "strHour(time)"
   ]
  },
  {
   "cell_type": "code",
   "execution_count": 123,
   "metadata": {
    "colab": {},
    "colab_type": "code",
    "executionInfo": {
     "elapsed": 1722,
     "status": "ok",
     "timestamp": 1594464488078,
     "user": {
      "displayName": "Felipe Fernandez pomar",
      "photoUrl": "https://lh3.googleusercontent.com/a-/AOh14GjAIBB1UUNahiuBW35nhzx_0hZxW-dTtBh-sbrK0Q=s64",
      "userId": "06620814048662575791"
     },
     "user_tz": -120
    },
    "id": "75Hfr-K4c2OR"
   },
   "outputs": [],
   "source": [
    "def toSegment(airTime):\n",
    "  if airTime<60:\n",
    "    return 0\n",
    "  elif (airTime<120):\n",
    "      return 1\n",
    "  else: return 2"
   ]
  },
  {
   "cell_type": "code",
   "execution_count": 124,
   "metadata": {
    "colab": {},
    "colab_type": "code",
    "executionInfo": {
     "elapsed": 1408,
     "status": "ok",
     "timestamp": 1594464494570,
     "user": {
      "displayName": "Felipe Fernandez pomar",
      "photoUrl": "https://lh3.googleusercontent.com/a-/AOh14GjAIBB1UUNahiuBW35nhzx_0hZxW-dTtBh-sbrK0Q=s64",
      "userId": "06620814048662575791"
     },
     "user_tz": -120
    },
    "id": "yawtqC1BdCLP"
   },
   "outputs": [],
   "source": [
    "toSegment_udf = functions.udf(toSegment)"
   ]
  },
  {
   "cell_type": "code",
   "execution_count": 129,
   "metadata": {
    "colab": {},
    "colab_type": "code",
    "executionInfo": {
     "elapsed": 1067,
     "status": "ok",
     "timestamp": 1594464626630,
     "user": {
      "displayName": "Felipe Fernandez pomar",
      "photoUrl": "https://lh3.googleusercontent.com/a-/AOh14GjAIBB1UUNahiuBW35nhzx_0hZxW-dTtBh-sbrK0Q=s64",
      "userId": "06620814048662575791"
     },
     "user_tz": -120
    },
    "id": "Eb28b0vwdH5n"
   },
   "outputs": [],
   "source": [
    "flights2b = flights2.withColumn(\"AirSegment\", toSegment_udf('AirTime').cast(types.IntegerType()))"
   ]
  },
  {
   "cell_type": "code",
   "execution_count": 130,
   "metadata": {
    "colab": {},
    "colab_type": "code",
    "executionInfo": {
     "elapsed": 1025,
     "status": "ok",
     "timestamp": 1594464634782,
     "user": {
      "displayName": "Felipe Fernandez pomar",
      "photoUrl": "https://lh3.googleusercontent.com/a-/AOh14GjAIBB1UUNahiuBW35nhzx_0hZxW-dTtBh-sbrK0Q=s64",
      "userId": "06620814048662575791"
     },
     "user_tz": -120
    },
    "id": "gpts8mBXIkU8"
   },
   "outputs": [],
   "source": [
    "takeHour_udf = functions.udf(lambda time:int(str(time)[:-2]), returnType = types.IntegerType())"
   ]
  },
  {
   "cell_type": "code",
   "execution_count": 131,
   "metadata": {
    "colab": {},
    "colab_type": "code",
    "executionInfo": {
     "elapsed": 1365,
     "status": "ok",
     "timestamp": 1594464654550,
     "user": {
      "displayName": "Felipe Fernandez pomar",
      "photoUrl": "https://lh3.googleusercontent.com/a-/AOh14GjAIBB1UUNahiuBW35nhzx_0hZxW-dTtBh-sbrK0Q=s64",
      "userId": "06620814048662575791"
     },
     "user_tz": -120
    },
    "id": "hmAoPIqwIwlF"
   },
   "outputs": [],
   "source": [
    "flights3b = flights2b.withColumn(\"DepHour\", takeHour_udf(\"DepTime\").cast(types.IntegerType()))"
   ]
  },
  {
   "cell_type": "code",
   "execution_count": 132,
   "metadata": {
    "colab": {},
    "colab_type": "code",
    "executionInfo": {
     "elapsed": 1108,
     "status": "ok",
     "timestamp": 1594464659530,
     "user": {
      "displayName": "Felipe Fernandez pomar",
      "photoUrl": "https://lh3.googleusercontent.com/a-/AOh14GjAIBB1UUNahiuBW35nhzx_0hZxW-dTtBh-sbrK0Q=s64",
      "userId": "06620814048662575791"
     },
     "user_tz": -120
    },
    "id": "Q_aAJcheI_EA"
   },
   "outputs": [],
   "source": [
    "flights3b = flights2b.withColumn(\"DepHour\", (flights[\"DepTime\"] / 100).cast(types.IntegerType()))"
   ]
  },
  {
   "cell_type": "code",
   "execution_count": 133,
   "metadata": {
    "colab": {
     "base_uri": "https://localhost:8080/",
     "height": 34
    },
    "colab_type": "code",
    "executionInfo": {
     "elapsed": 5897,
     "status": "ok",
     "timestamp": 1594464668708,
     "user": {
      "displayName": "Felipe Fernandez pomar",
      "photoUrl": "https://lh3.googleusercontent.com/a-/AOh14GjAIBB1UUNahiuBW35nhzx_0hZxW-dTtBh-sbrK0Q=s64",
      "userId": "06620814048662575791"
     },
     "user_tz": -120
    },
    "id": "a26btf17JKoG",
    "outputId": "80bb5cc1-3da2-40dd-8e1e-5f647f88fa9f"
   },
   "outputs": [
    {
     "data": {
      "text/plain": [
       "585737"
      ]
     },
     "execution_count": 133,
     "metadata": {
      "tags": []
     },
     "output_type": "execute_result"
    }
   ],
   "source": [
    "flights3b.count()\n",
    "#El count es más seguro que el show para ver si la función UDF no falla,\n",
    "#En el show(10) puede que el error no salga en las 10 primeras."
   ]
  },
  {
   "cell_type": "code",
   "execution_count": 28,
   "metadata": {
    "colab": {
     "base_uri": "https://localhost:8080/",
     "height": 34
    },
    "colab_type": "code",
    "executionInfo": {
     "elapsed": 11533,
     "status": "ok",
     "timestamp": 1594452005391,
     "user": {
      "displayName": "Felipe Fernandez pomar",
      "photoUrl": "https://lh3.googleusercontent.com/a-/AOh14GjAIBB1UUNahiuBW35nhzx_0hZxW-dTtBh-sbrK0Q=s64",
      "userId": "06620814048662575791"
     },
     "user_tz": -120
    },
    "id": "F3ceUGUzJO6j",
    "outputId": "eedbdee1-2065-429b-f84f-a720d0119e7a"
   },
   "outputs": [
    {
     "data": {
      "text/plain": [
       "585737"
      ]
     },
     "execution_count": 28,
     "metadata": {
      "tags": []
     },
     "output_type": "execute_result"
    }
   ],
   "source": [
    "flights3b.count()"
   ]
  },
  {
   "cell_type": "code",
   "execution_count": 134,
   "metadata": {
    "colab": {
     "base_uri": "https://localhost:8080/",
     "height": 374
    },
    "colab_type": "code",
    "executionInfo": {
     "elapsed": 2505,
     "status": "ok",
     "timestamp": 1594464675709,
     "user": {
      "displayName": "Felipe Fernandez pomar",
      "photoUrl": "https://lh3.googleusercontent.com/a-/AOh14GjAIBB1UUNahiuBW35nhzx_0hZxW-dTtBh-sbrK0Q=s64",
      "userId": "06620814048662575791"
     },
     "user_tz": -120
    },
    "id": "HvJh4Kk9JgMC",
    "outputId": "fbcc333e-63be-4b61-c162-3b8304c22769"
   },
   "outputs": [
    {
     "name": "stdout",
     "output_type": "stream",
     "text": [
      "root\n",
      " |-- Year: integer (nullable = true)\n",
      " |-- Month: integer (nullable = true)\n",
      " |-- DayofMonth: integer (nullable = true)\n",
      " |-- DayOfWeek: integer (nullable = true)\n",
      " |-- Reporting_Airline: string (nullable = true)\n",
      " |-- Tail_Number: string (nullable = true)\n",
      " |-- Flight_Number_Reporting_Airline: integer (nullable = true)\n",
      " |-- Origin: string (nullable = true)\n",
      " |-- OriginCityName: string (nullable = true)\n",
      " |-- OriginStateName: string (nullable = true)\n",
      " |-- Dest: string (nullable = true)\n",
      " |-- DestCityName: string (nullable = true)\n",
      " |-- DestStateName: string (nullable = true)\n",
      " |-- DepTime: integer (nullable = true)\n",
      " |-- DepDelay: double (nullable = true)\n",
      " |-- AirTime: double (nullable = true)\n",
      " |-- Distance: double (nullable = true)\n",
      " |-- AirSegment: integer (nullable = true)\n",
      " |-- DepHour: integer (nullable = true)\n",
      "\n"
     ]
    }
   ],
   "source": [
    "flights3b.printSchema()"
   ]
  },
  {
   "cell_type": "markdown",
   "metadata": {
    "colab_type": "text",
    "id": "J6wcflON5_jJ"
   },
   "source": [
    "We will also generate a binary target variable. The aviation industry considers a flight delayed when it departs more than 15 minutes after its scheduled departure time, so we will use that. We will create it as an integer, since that is what the learning algorithms expect."
   ]
  },
  {
   "cell_type": "code",
   "execution_count": 135,
   "metadata": {
    "colab": {},
    "colab_type": "code",
    "executionInfo": {
     "elapsed": 1053,
     "status": "ok",
     "timestamp": 1594464701868,
     "user": {
      "displayName": "Felipe Fernandez pomar",
      "photoUrl": "https://lh3.googleusercontent.com/a-/AOh14GjAIBB1UUNahiuBW35nhzx_0hZxW-dTtBh-sbrK0Q=s64",
      "userId": "06620814048662575791"
     },
     "user_tz": -120
    },
    "id": "-5ddBr125_jK"
   },
   "outputs": [],
   "source": [
    "flights4b = flights3b.withColumn('Delayed', (flights['DepDelay'] > 15).cast(types.IntegerType()))"
   ]
  },
  {
   "cell_type": "code",
   "execution_count": 139,
   "metadata": {
    "colab": {
     "base_uri": "https://localhost:8080/",
     "height": 391
    },
    "colab_type": "code",
    "executionInfo": {
     "elapsed": 1032,
     "status": "ok",
     "timestamp": 1594464770537,
     "user": {
      "displayName": "Felipe Fernandez pomar",
      "photoUrl": "https://lh3.googleusercontent.com/a-/AOh14GjAIBB1UUNahiuBW35nhzx_0hZxW-dTtBh-sbrK0Q=s64",
      "userId": "06620814048662575791"
     },
     "user_tz": -120
    },
    "id": "evosB_jdgVWL",
    "outputId": "eccc64ea-3eec-4495-c4fb-ce87e994fe8a"
   },
   "outputs": [
    {
     "name": "stdout",
     "output_type": "stream",
     "text": [
      "root\n",
      " |-- Year: integer (nullable = true)\n",
      " |-- Month: integer (nullable = true)\n",
      " |-- DayofMonth: integer (nullable = true)\n",
      " |-- DayOfWeek: integer (nullable = true)\n",
      " |-- Reporting_Airline: string (nullable = true)\n",
      " |-- Tail_Number: string (nullable = true)\n",
      " |-- Flight_Number_Reporting_Airline: integer (nullable = true)\n",
      " |-- Origin: string (nullable = true)\n",
      " |-- OriginCityName: string (nullable = true)\n",
      " |-- OriginStateName: string (nullable = true)\n",
      " |-- Dest: string (nullable = true)\n",
      " |-- DestCityName: string (nullable = true)\n",
      " |-- DestStateName: string (nullable = true)\n",
      " |-- DepTime: integer (nullable = true)\n",
      " |-- DepDelay: double (nullable = true)\n",
      " |-- AirTime: double (nullable = true)\n",
      " |-- Distance: double (nullable = true)\n",
      " |-- AirSegment: integer (nullable = true)\n",
      " |-- DepHour: integer (nullable = true)\n",
      " |-- Delayed: integer (nullable = true)\n",
      "\n"
     ]
    }
   ],
   "source": [
    "flights4b.printSchema()"
   ]
  },
  {
   "cell_type": "code",
   "execution_count": 136,
   "metadata": {
    "colab": {
     "base_uri": "https://localhost:8080/",
     "height": 34
    },
    "colab_type": "code",
    "executionInfo": {
     "elapsed": 5961,
     "status": "ok",
     "timestamp": 1594464710086,
     "user": {
      "displayName": "Felipe Fernandez pomar",
      "photoUrl": "https://lh3.googleusercontent.com/a-/AOh14GjAIBB1UUNahiuBW35nhzx_0hZxW-dTtBh-sbrK0Q=s64",
      "userId": "06620814048662575791"
     },
     "user_tz": -120
    },
    "id": "hb9hY2Cn5_jN",
    "outputId": "d56da465-4f74-45de-87af-e1c8626765a8"
   },
   "outputs": [
    {
     "data": {
      "text/plain": [
       "585737"
      ]
     },
     "execution_count": 136,
     "metadata": {
      "tags": []
     },
     "output_type": "execute_result"
    }
   ],
   "source": [
    "flights4b.count()"
   ]
  },
  {
   "cell_type": "markdown",
   "metadata": {
    "colab_type": "text",
    "id": "A6KX5Nga5_jN"
   },
   "source": [
    "In order to make the training times manageable, let's pick only 10% of the data to train."
   ]
  },
  {
   "cell_type": "code",
   "execution_count": 140,
   "metadata": {
    "colab": {},
    "colab_type": "code",
    "executionInfo": {
     "elapsed": 1124,
     "status": "ok",
     "timestamp": 1594464786830,
     "user": {
      "displayName": "Felipe Fernandez pomar",
      "photoUrl": "https://lh3.googleusercontent.com/a-/AOh14GjAIBB1UUNahiuBW35nhzx_0hZxW-dTtBh-sbrK0Q=s64",
      "userId": "06620814048662575791"
     },
     "user_tz": -120
    },
    "id": "ZbAeVX-sKir_"
   },
   "outputs": [],
   "source": [
    "train, test = flights4b.randomSplit([0.2, 0.8])\n",
    "#Guardamos solo 10% para training."
   ]
  },
  {
   "cell_type": "code",
   "execution_count": 141,
   "metadata": {
    "colab": {
     "base_uri": "https://localhost:8080/",
     "height": 309
    },
    "colab_type": "code",
    "executionInfo": {
     "elapsed": 10740,
     "status": "ok",
     "timestamp": 1594464799542,
     "user": {
      "displayName": "Felipe Fernandez pomar",
      "photoUrl": "https://lh3.googleusercontent.com/a-/AOh14GjAIBB1UUNahiuBW35nhzx_0hZxW-dTtBh-sbrK0Q=s64",
      "userId": "06620814048662575791"
     },
     "user_tz": -120
    },
    "id": "DJ0G0tViKqKa",
    "outputId": "68c606b8-b88b-4ca6-af22-3e87bcedebf6"
   },
   "outputs": [
    {
     "name": "stdout",
     "output_type": "stream",
     "text": [
      "+----+-----+----------+---------+-----------------+-----------+-------------------------------+------+------------------+---------------+----+------------------+--------------+-------+--------+-------+--------+----------+-------+-------+\n",
      "|Year|Month|DayofMonth|DayOfWeek|Reporting_Airline|Tail_Number|Flight_Number_Reporting_Airline|Origin|    OriginCityName|OriginStateName|Dest|      DestCityName| DestStateName|DepTime|DepDelay|AirTime|Distance|AirSegment|DepHour|Delayed|\n",
      "+----+-----+----------+---------+-----------------+-----------+-------------------------------+------+------------------+---------------+----+------------------+--------------+-------+--------+-------+--------+----------+-------+-------+\n",
      "|2018|   12|         1|        6|               9E|     N132EV|                           5002|   BUF|       Buffalo, NY|       New York| LGA|      New York, NY|      New York|   1342|    -3.0|   57.0|   292.0|         0|     13|      0|\n",
      "|2018|   12|         1|        6|               9E|     N134EV|                           5161|   EVV|    Evansville, IN|        Indiana| ATL|       Atlanta, GA|       Georgia|    609|     9.0|   64.0|   350.0|         1|      6|      0|\n",
      "|2018|   12|         1|        6|               9E|     N135EV|                           3293|   DCA|    Washington, DC|       Virginia| CVG|    Cincinnati, OH|      Kentucky|   1450|    -5.0|   75.0|   411.0|         1|     14|      0|\n",
      "|2018|   12|         1|        6|               9E|     N136EV|                           3381|   BUF|       Buffalo, NY|       New York| JFK|      New York, NY|      New York|   1428|     0.0|   56.0|   301.0|         0|     14|      0|\n",
      "|2018|   12|         1|        6|               9E|     N137EV|                           3326|   BDL|      Hartford, CT|    Connecticut| MSP|   Minneapolis, MN|     Minnesota|   2022|   187.0|  159.0|  1050.0|         2|     20|      1|\n",
      "|2018|   12|         1|        6|               9E|     N146PQ|                           3317|   JFK|      New York, NY|       New York| RDU|Raleigh/Durham, NC|North Carolina|   1129|    -1.0|   72.0|   427.0|         1|     11|      0|\n",
      "|2018|   12|         1|        6|               9E|     N146PQ|                           5174|   DTW|       Detroit, MI|       Michigan| JFK|      New York, NY|      New York|    850|    20.0|   70.0|   509.0|         1|      8|      1|\n",
      "|2018|   12|         1|        6|               9E|     N146PQ|                           5379|   RDU|Raleigh/Durham, NC| North Carolina| JFK|      New York, NY|      New York|   1549|    -6.0|   69.0|   427.0|         1|     15|      0|\n",
      "|2018|   12|         1|        6|               9E|     N153PQ|                           5218|   LGA|      New York, NY|       New York| GSP|         Greer, SC|South Carolina|    920|   -10.0|  104.0|   610.0|         1|      9|      0|\n",
      "|2018|   12|         1|        6|               9E|     N181PQ|                           3407|   DTW|       Detroit, MI|       Michigan| PIT|    Pittsburgh, PA|  Pennsylvania|    827|    -8.0|   34.0|   201.0|         0|      8|      0|\n",
      "+----+-----+----------+---------+-----------------+-----------+-------------------------------+------+------------------+---------------+----+------------------+--------------+-------+--------+-------+--------+----------+-------+-------+\n",
      "only showing top 10 rows\n",
      "\n"
     ]
    }
   ],
   "source": [
    "train.show(10)"
   ]
  },
  {
   "cell_type": "code",
   "execution_count": null,
   "metadata": {
    "colab": {},
    "colab_type": "code",
    "id": "0nZUGZi7WlfO"
   },
   "outputs": [],
   "source": [
    "flights4 = flights3.withColumn('Delayed', (flights['AirTime'] > 15).cast(types.IntegerType()))"
   ]
  },
  {
   "cell_type": "markdown",
   "metadata": {
    "colab_type": "text",
    "id": "16eMDQ-h5_jS"
   },
   "source": [
    "## Handle different fields in different ways\n",
    "\n",
    "We have features of at least three kinds:\n",
    "\n",
    "* Numeric continuous fields, which we can use as input to many algorithms as they are. In particular, decision trees can take continuous variables with any value as input, since they only look for the cutoff point that most increases the homogeneity of the resulting groups. In contrast, if we were using a logistic regression with regularization, for example, we would need to first scale the variables to have comparable magnitudes.\n",
    "\n",
    "* There are fields which we will treat as categorical variables, but which are already integers. These need to be one-hot encoded.\n",
    "\n",
    "* Finally, there are several categorical variables that are encoded as strings. These need to be one-hot encoded, but OneHotEncoder requires numeric input. Therefore, we will need to apply a StringIndexer to each of them before one-hot encoding.\n",
    "\n",
    "```python\n",
    "# Reminder:\n",
    "\n",
    "categorical_fields = ['Year', 'Month', 'DayofMonth', 'DayOfWeek', 'Reporting_Airline', \n",
    "                      'Origin', 'OriginCityName', 'OriginStateName', \n",
    "                      'Dest', 'DestCityName', 'DestStateName']\n",
    "\n",
    "string_fields = [field.name for field in flights_sample.schema.fields if field.dataType == types.StringType()]\n",
    "\n",
    "continuous_fields = ['Distance', 'DepHour']\n",
    "\n",
    "target_field = 'Delayed'\n",
    "```"
   ]
  },
  {
   "cell_type": "code",
   "execution_count": null,
   "metadata": {
    "colab": {
     "base_uri": "https://localhost:8080/",
     "height": 374
    },
    "colab_type": "code",
    "executionInfo": {
     "elapsed": 909,
     "status": "ok",
     "timestamp": 1594409464229,
     "user": {
      "displayName": "Felipe Fernandez pomar",
      "photoUrl": "https://lh3.googleusercontent.com/a-/AOh14GjAIBB1UUNahiuBW35nhzx_0hZxW-dTtBh-sbrK0Q=s64",
      "userId": "06620814048662575791"
     },
     "user_tz": -120
    },
    "id": "3AsoQEg65_jS",
    "outputId": "8b0a2834-45e9-4e3b-8b2b-761ff049d80c"
   },
   "outputs": [
    {
     "name": "stdout",
     "output_type": "stream",
     "text": [
      "root\n",
      " |-- Year: integer (nullable = true)\n",
      " |-- Month: integer (nullable = true)\n",
      " |-- DayofMonth: integer (nullable = true)\n",
      " |-- DayOfWeek: integer (nullable = true)\n",
      " |-- Reporting_Airline: string (nullable = true)\n",
      " |-- Tail_Number: string (nullable = true)\n",
      " |-- Flight_Number_Reporting_Airline: integer (nullable = true)\n",
      " |-- Origin: string (nullable = true)\n",
      " |-- OriginCityName: string (nullable = true)\n",
      " |-- OriginStateName: string (nullable = true)\n",
      " |-- Dest: string (nullable = true)\n",
      " |-- DestCityName: string (nullable = true)\n",
      " |-- DestStateName: string (nullable = true)\n",
      " |-- DepTime: integer (nullable = true)\n",
      " |-- DepDelay: double (nullable = true)\n",
      " |-- AirTime: double (nullable = true)\n",
      " |-- Distance: double (nullable = true)\n",
      " |-- DepHour: integer (nullable = true)\n",
      " |-- Delayed: integer (nullable = true)\n",
      "\n"
     ]
    }
   ],
   "source": [
    "train.printSchema()"
   ]
  },
  {
   "cell_type": "code",
   "execution_count": 142,
   "metadata": {
    "colab": {
     "base_uri": "https://localhost:8080/",
     "height": 357
    },
    "colab_type": "code",
    "executionInfo": {
     "elapsed": 1156,
     "status": "ok",
     "timestamp": 1594464823410,
     "user": {
      "displayName": "Felipe Fernandez pomar",
      "photoUrl": "https://lh3.googleusercontent.com/a-/AOh14GjAIBB1UUNahiuBW35nhzx_0hZxW-dTtBh-sbrK0Q=s64",
      "userId": "06620814048662575791"
     },
     "user_tz": -120
    },
    "id": "UhKCdZ9KNKf_",
    "outputId": "f188bd8e-46e3-49cc-bfc6-45af74e1628b"
   },
   "outputs": [
    {
     "name": "stdout",
     "output_type": "stream",
     "text": [
      "Year IntegerType\n",
      "Month IntegerType\n",
      "DayofMonth IntegerType\n",
      "DayOfWeek IntegerType\n",
      "Reporting_Airline StringType\n",
      "Tail_Number StringType\n",
      "Flight_Number_Reporting_Airline IntegerType\n",
      "Origin StringType\n",
      "OriginCityName StringType\n",
      "OriginStateName StringType\n",
      "Dest StringType\n",
      "DestCityName StringType\n",
      "DestStateName StringType\n",
      "DepTime IntegerType\n",
      "DepDelay DoubleType\n",
      "AirTime DoubleType\n",
      "Distance DoubleType\n",
      "AirSegment IntegerType\n",
      "DepHour IntegerType\n",
      "Delayed IntegerType\n"
     ]
    }
   ],
   "source": [
    "for field in train.schema.fields:\n",
    "  print(field.name, field.dataType)"
   ]
  },
  {
   "cell_type": "code",
   "execution_count": 143,
   "metadata": {
    "colab": {},
    "colab_type": "code",
    "executionInfo": {
     "elapsed": 917,
     "status": "ok",
     "timestamp": 1594464895967,
     "user": {
      "displayName": "Felipe Fernandez pomar",
      "photoUrl": "https://lh3.googleusercontent.com/a-/AOh14GjAIBB1UUNahiuBW35nhzx_0hZxW-dTtBh-sbrK0Q=s64",
      "userId": "06620814048662575791"
     },
     "user_tz": -120
    },
    "id": "6ll4Zd7rNqBB"
   },
   "outputs": [],
   "source": [
    "categorical_fields = ['Reporting_Airline', \n",
    "                      'Origin', 'OriginCityName', 'OriginStateName', \n",
    "                      'Dest', 'DestCityName', 'DestStateName']\n",
    " \n",
    "string_fields = [field.name for field in train.schema.fields if field.dataType == types.StringType()]\n",
    " \n",
    "continuous_fields = ['Year', 'Month', 'DayofMonth', 'DayOfWeek', 'Distance', 'DepHour', 'AirSegment']\n",
    " \n",
    "target_field = 'Delayed'"
   ]
  },
  {
   "cell_type": "code",
   "execution_count": 144,
   "metadata": {
    "colab": {
     "base_uri": "https://localhost:8080/",
     "height": 153
    },
    "colab_type": "code",
    "executionInfo": {
     "elapsed": 1774,
     "status": "ok",
     "timestamp": 1594464906749,
     "user": {
      "displayName": "Felipe Fernandez pomar",
      "photoUrl": "https://lh3.googleusercontent.com/a-/AOh14GjAIBB1UUNahiuBW35nhzx_0hZxW-dTtBh-sbrK0Q=s64",
      "userId": "06620814048662575791"
     },
     "user_tz": -120
    },
    "id": "E1w11Q8IN_5S",
    "outputId": "3c73be30-1f36-4635-e44d-a492a6e63834"
   },
   "outputs": [
    {
     "data": {
      "text/plain": [
       "['Reporting_Airline',\n",
       " 'Tail_Number',\n",
       " 'Origin',\n",
       " 'OriginCityName',\n",
       " 'OriginStateName',\n",
       " 'Dest',\n",
       " 'DestCityName',\n",
       " 'DestStateName']"
      ]
     },
     "execution_count": 144,
     "metadata": {
      "tags": []
     },
     "output_type": "execute_result"
    }
   ],
   "source": [
    "string_fields"
   ]
  },
  {
   "cell_type": "markdown",
   "metadata": {
    "colab_type": "text",
    "id": "0pYu_Nje5_jZ"
   },
   "source": [
    "We have generated the list of names of columns that have dataType string with a list comprehension, rather than hard-coding it, but it is just like the other ones."
   ]
  },
  {
   "cell_type": "code",
   "execution_count": 145,
   "metadata": {
    "colab": {
     "base_uri": "https://localhost:8080/",
     "height": 391
    },
    "colab_type": "code",
    "executionInfo": {
     "elapsed": 744,
     "status": "ok",
     "timestamp": 1594464906751,
     "user": {
      "displayName": "Felipe Fernandez pomar",
      "photoUrl": "https://lh3.googleusercontent.com/a-/AOh14GjAIBB1UUNahiuBW35nhzx_0hZxW-dTtBh-sbrK0Q=s64",
      "userId": "06620814048662575791"
     },
     "user_tz": -120
    },
    "id": "iEA7rTrB5_jZ",
    "outputId": "4cbb6890-5bea-4fa9-8a45-a745462aadf8"
   },
   "outputs": [
    {
     "name": "stdout",
     "output_type": "stream",
     "text": [
      "root\n",
      " |-- Year: integer (nullable = true)\n",
      " |-- Month: integer (nullable = true)\n",
      " |-- DayofMonth: integer (nullable = true)\n",
      " |-- DayOfWeek: integer (nullable = true)\n",
      " |-- Reporting_Airline: string (nullable = true)\n",
      " |-- Tail_Number: string (nullable = true)\n",
      " |-- Flight_Number_Reporting_Airline: integer (nullable = true)\n",
      " |-- Origin: string (nullable = true)\n",
      " |-- OriginCityName: string (nullable = true)\n",
      " |-- OriginStateName: string (nullable = true)\n",
      " |-- Dest: string (nullable = true)\n",
      " |-- DestCityName: string (nullable = true)\n",
      " |-- DestStateName: string (nullable = true)\n",
      " |-- DepTime: integer (nullable = true)\n",
      " |-- DepDelay: double (nullable = true)\n",
      " |-- AirTime: double (nullable = true)\n",
      " |-- Distance: double (nullable = true)\n",
      " |-- AirSegment: integer (nullable = true)\n",
      " |-- DepHour: integer (nullable = true)\n",
      " |-- Delayed: integer (nullable = true)\n",
      "\n"
     ]
    }
   ],
   "source": [
    "train.printSchema()"
   ]
  },
  {
   "cell_type": "markdown",
   "metadata": {
    "colab_type": "text",
    "id": "hBe6bn435_je"
   },
   "source": [
    "## Handling categorical fields\n",
    "\n",
    "Let's do the processing of just one field first, as an example. Then we will process the rest."
   ]
  },
  {
   "cell_type": "markdown",
   "metadata": {
    "colab_type": "text",
    "id": "3GZSNmKe5_je"
   },
   "source": [
    "### StringIndexer \n",
    "\n",
    "A [StringIndexer](https://spark.apache.org/docs/2.2.0/ml-features.html#stringindexer) is an estimator that takes a single string field, then produces a transformer that codifies said field as numeric labels that are fit for feeding to a one-hot encoding. \n",
    "\n",
    "We need to specify an input column, an output column, and a way to handle invalids. In this case, invalids are values that the indexer has not seen during fitting but that the transformer finds during processing. Its values are 'error' (the default), which is pretty self-explanatory, 'skip', which drops them, and 'keep', which is what we want. It will assign all unseen labels to a single category index."
   ]
  },
  {
   "cell_type": "code",
   "execution_count": 162,
   "metadata": {
    "colab": {},
    "colab_type": "code",
    "executionInfo": {
     "elapsed": 1211,
     "status": "ok",
     "timestamp": 1594465022893,
     "user": {
      "displayName": "Felipe Fernandez pomar",
      "photoUrl": "https://lh3.googleusercontent.com/a-/AOh14GjAIBB1UUNahiuBW35nhzx_0hZxW-dTtBh-sbrK0Q=s64",
      "userId": "06620814048662575791"
     },
     "user_tz": -120
    },
    "id": "jVu38Gek5_jf"
   },
   "outputs": [],
   "source": [
    "from pyspark.ml.feature import StringIndexer\n",
    "\n",
    "carrier_indexer = StringIndexer(inputCol = 'Reporting_Airline', outputCol = 'Reporting_Airline_index', \\\n",
    "                                handleInvalid = 'keep')\n",
    "#Keep: Asigna nuevas categorías a un índice categórico."
   ]
  },
  {
   "cell_type": "code",
   "execution_count": 163,
   "metadata": {
    "colab": {},
    "colab_type": "code",
    "executionInfo": {
     "elapsed": 1151,
     "status": "ok",
     "timestamp": 1594465023443,
     "user": {
      "displayName": "Felipe Fernandez pomar",
      "photoUrl": "https://lh3.googleusercontent.com/a-/AOh14GjAIBB1UUNahiuBW35nhzx_0hZxW-dTtBh-sbrK0Q=s64",
      "userId": "06620814048662575791"
     },
     "user_tz": -120
    },
    "id": "wggICdEqPwGX"
   },
   "outputs": [],
   "source": [
    "carriers = train.select('Reporting_Airline')"
   ]
  },
  {
   "cell_type": "code",
   "execution_count": 164,
   "metadata": {
    "colab": {},
    "colab_type": "code",
    "executionInfo": {
     "elapsed": 9498,
     "status": "ok",
     "timestamp": 1594465032222,
     "user": {
      "displayName": "Felipe Fernandez pomar",
      "photoUrl": "https://lh3.googleusercontent.com/a-/AOh14GjAIBB1UUNahiuBW35nhzx_0hZxW-dTtBh-sbrK0Q=s64",
      "userId": "06620814048662575791"
     },
     "user_tz": -120
    },
    "id": "AOM2IUWmP2Hp"
   },
   "outputs": [],
   "source": [
    "carrier_indexer_transformer = carrier_indexer.fit(carriers)\n",
    "#Transformador que pasa de strings a ints. Entrenado."
   ]
  },
  {
   "cell_type": "code",
   "execution_count": 165,
   "metadata": {
    "colab": {
     "base_uri": "https://localhost:8080/",
     "height": 459
    },
    "colab_type": "code",
    "executionInfo": {
     "elapsed": 16058,
     "status": "ok",
     "timestamp": 1594465039269,
     "user": {
      "displayName": "Felipe Fernandez pomar",
      "photoUrl": "https://lh3.googleusercontent.com/a-/AOh14GjAIBB1UUNahiuBW35nhzx_0hZxW-dTtBh-sbrK0Q=s64",
      "userId": "06620814048662575791"
     },
     "user_tz": -120
    },
    "id": "btDqptKxP-gc",
    "outputId": "a1ecc893-da13-4bb3-8b1f-97a91d5b7e34"
   },
   "outputs": [
    {
     "name": "stdout",
     "output_type": "stream",
     "text": [
      "+-----------------+-----------------------+\n",
      "|Reporting_Airline|Reporting_Airline_index|\n",
      "+-----------------+-----------------------+\n",
      "|               9E|                    9.0|\n",
      "|               9E|                    9.0|\n",
      "|               9E|                    9.0|\n",
      "|               9E|                    9.0|\n",
      "|               9E|                    9.0|\n",
      "|               9E|                    9.0|\n",
      "|               9E|                    9.0|\n",
      "|               9E|                    9.0|\n",
      "|               9E|                    9.0|\n",
      "|               9E|                    9.0|\n",
      "|               9E|                    9.0|\n",
      "|               9E|                    9.0|\n",
      "|               9E|                    9.0|\n",
      "|               9E|                    9.0|\n",
      "|               9E|                    9.0|\n",
      "|               9E|                    9.0|\n",
      "|               9E|                    9.0|\n",
      "|               9E|                    9.0|\n",
      "|               9E|                    9.0|\n",
      "|               9E|                    9.0|\n",
      "+-----------------+-----------------------+\n",
      "only showing top 20 rows\n",
      "\n"
     ]
    }
   ],
   "source": [
    "carrier_indexer_transformer.transform(carriers).show(20)"
   ]
  },
  {
   "cell_type": "markdown",
   "metadata": {
    "colab_type": "text",
    "id": "ti0h_g8r5_jk"
   },
   "source": [
    "### OneHotEncoder\n",
    "\n",
    "A [OneHotEncoder](https://spark.apache.org/docs/latest/ml-features#onehotencoderestimator) generates a n-1 length vector column for an n-category column of category indices. \n",
    "\n",
    "We need to specify an input and an output column."
   ]
  },
  {
   "cell_type": "code",
   "execution_count": 147,
   "metadata": {
    "colab": {},
    "colab_type": "code",
    "executionInfo": {
     "elapsed": 1366,
     "status": "ok",
     "timestamp": 1594464924425,
     "user": {
      "displayName": "Felipe Fernandez pomar",
      "photoUrl": "https://lh3.googleusercontent.com/a-/AOh14GjAIBB1UUNahiuBW35nhzx_0hZxW-dTtBh-sbrK0Q=s64",
      "userId": "06620814048662575791"
     },
     "user_tz": -120
    },
    "id": "mmv5_BKN5_jl"
   },
   "outputs": [],
   "source": [
    "from pyspark.ml.feature import OneHotEncoderEstimator\n",
    "\n",
    "onehot_encoder = OneHotEncoderEstimator(inputCols = ['Reporting_Airline_index'], outputCols = ['Reporting_Airline_onehot'])"
   ]
  },
  {
   "cell_type": "code",
   "execution_count": 148,
   "metadata": {
    "colab": {
     "base_uri": "https://localhost:8080/",
     "height": 34
    },
    "colab_type": "code",
    "executionInfo": {
     "elapsed": 7394,
     "status": "ok",
     "timestamp": 1594464933608,
     "user": {
      "displayName": "Felipe Fernandez pomar",
      "photoUrl": "https://lh3.googleusercontent.com/a-/AOh14GjAIBB1UUNahiuBW35nhzx_0hZxW-dTtBh-sbrK0Q=s64",
      "userId": "06620814048662575791"
     },
     "user_tz": -120
    },
    "id": "C2fwqAvdwGNf",
    "outputId": "16826728-f9ff-4fc1-8e3a-63e951094424"
   },
   "outputs": [
    {
     "data": {
      "text/plain": [
       "DataFrame[Reporting_Airline: string, Reporting_Airline_index: double, Reporting_Airline_onehot: vector]"
      ]
     },
     "execution_count": 148,
     "metadata": {
      "tags": []
     },
     "output_type": "execute_result"
    }
   ],
   "source": [
    "# The whole process for a single field would be like this:\n",
    "\n",
    "carrier_indexer_transformer = carrier_indexer.fit(carriers)\n",
    "indexed = carrier_indexer_transformer.transform(carriers)\n",
    "\n",
    "onehot_encoder_model = onehot_encoder.fit(indexed)\n",
    "onehot_encoded = onehot_encoder_model.transform(indexed)\n",
    "\n",
    "onehot_encoded"
   ]
  },
  {
   "cell_type": "code",
   "execution_count": 44,
   "metadata": {
    "colab": {
     "base_uri": "https://localhost:8080/",
     "height": 204
    },
    "colab_type": "code",
    "executionInfo": {
     "elapsed": 7018,
     "status": "ok",
     "timestamp": 1594452263969,
     "user": {
      "displayName": "Felipe Fernandez pomar",
      "photoUrl": "https://lh3.googleusercontent.com/a-/AOh14GjAIBB1UUNahiuBW35nhzx_0hZxW-dTtBh-sbrK0Q=s64",
      "userId": "06620814048662575791"
     },
     "user_tz": -120
    },
    "id": "yxaZmqznwoGc",
    "outputId": "c0624717-a637-453f-aeb6-e18aafa150f9"
   },
   "outputs": [
    {
     "name": "stdout",
     "output_type": "stream",
     "text": [
      "+-----------------+-----------------------+------------------------+\n",
      "|Reporting_Airline|Reporting_Airline_index|Reporting_Airline_onehot|\n",
      "+-----------------+-----------------------+------------------------+\n",
      "|               9E|                   10.0|         (17,[10],[1.0])|\n",
      "|               9E|                   10.0|         (17,[10],[1.0])|\n",
      "|               9E|                   10.0|         (17,[10],[1.0])|\n",
      "|               9E|                   10.0|         (17,[10],[1.0])|\n",
      "|               9E|                   10.0|         (17,[10],[1.0])|\n",
      "+-----------------+-----------------------+------------------------+\n",
      "only showing top 5 rows\n",
      "\n"
     ]
    }
   ],
   "source": [
    "onehot_encoded.show(5)\n",
    "#La posición 10, tiene un 1."
   ]
  },
  {
   "cell_type": "code",
   "execution_count": 149,
   "metadata": {
    "colab": {},
    "colab_type": "code",
    "executionInfo": {
     "elapsed": 940,
     "status": "ok",
     "timestamp": 1594464935360,
     "user": {
      "displayName": "Felipe Fernandez pomar",
      "photoUrl": "https://lh3.googleusercontent.com/a-/AOh14GjAIBB1UUNahiuBW35nhzx_0hZxW-dTtBh-sbrK0Q=s64",
      "userId": "06620814048662575791"
     },
     "user_tz": -120
    },
    "id": "WjjuCOBTxvoc"
   },
   "outputs": [],
   "source": [
    "from pyspark.ml.linalg import SparseVector"
   ]
  },
  {
   "cell_type": "markdown",
   "metadata": {
    "colab_type": "text",
    "id": "5p0bg1gV5_jo"
   },
   "source": [
    "### SparseVectors\n",
    "\n",
    "The vectors produced by OneHotEncoder will each have only one non-zero value, but can potentially be very long. An efficient way to represent them is therefore a SparseVector, and that is what OneHotEncoder generates. \n",
    "\n",
    "A SparseVector is a data structure that only stores the length of the vector, a list of positions, and a list of values. All other values are assumed to be 0s.\n",
    "\n",
    "This way, a vector like the following, with lenght 15 and non-zero values only on positions 3 and 9:\n",
    "\n",
    "```python\n",
    "[0.0, 0.0, 0.0, 6.0, 0.0, 0.0, 0.0, 0.0, 0.0, 4.0, 0.0, 0.0, 0.0, 0.0, 0.0]\n",
    "```\n",
    "\n",
    "can be compactly expressed as\n",
    "\n",
    "```python\n",
    "(15, [3, 9], [6.0, 4.0])\n",
    "```"
   ]
  },
  {
   "cell_type": "code",
   "execution_count": null,
   "metadata": {
    "colab": {},
    "colab_type": "code",
    "id": "-KfpAVOb5_jp"
   },
   "outputs": [],
   "source": [
    ""
   ]
  },
  {
   "cell_type": "markdown",
   "metadata": {
    "colab_type": "text",
    "id": "thjFZYDl5_jr"
   },
   "source": [
    "## Let's build our first Pipeline!\n",
    "\n",
    "Our pipeline consists of a number of StringIndexers, followed by one OneHotEncoder, followed by a VectorAssembler, with a RandomForestClassifier at the end.\n",
    "\n",
    "A Spark Pipeline is a single Estimator. We build it secifying the stages it comprises, and then we are ready to .fit it in one go. This will save us a lot of trouble, since we don't need to fit and transform each stage individually."
   ]
  },
  {
   "cell_type": "code",
   "execution_count": 166,
   "metadata": {
    "colab": {
     "base_uri": "https://localhost:8080/",
     "height": 34
    },
    "colab_type": "code",
    "executionInfo": {
     "elapsed": 8575,
     "status": "ok",
     "timestamp": 1594465039270,
     "user": {
      "displayName": "Felipe Fernandez pomar",
      "photoUrl": "https://lh3.googleusercontent.com/a-/AOh14GjAIBB1UUNahiuBW35nhzx_0hZxW-dTtBh-sbrK0Q=s64",
      "userId": "06620814048662575791"
     },
     "user_tz": -120
    },
    "id": "zF_hcVXg5_js",
    "outputId": "1d8fd7d8-fcec-4f9f-d422-19b779bbf1a9"
   },
   "outputs": [
    {
     "data": {
      "text/plain": [
       "pyspark.ml.pipeline.Pipeline"
      ]
     },
     "execution_count": 166,
     "metadata": {
      "tags": []
     },
     "output_type": "execute_result"
    }
   ],
   "source": [
    "from pyspark.ml.pipeline import Pipeline\n",
    "\n",
    "Pipeline\n",
    "#Pipeline va a estar definido por etapas"
   ]
  },
  {
   "cell_type": "markdown",
   "metadata": {
    "colab_type": "text",
    "id": "Bby5S8Pa5_jv"
   },
   "source": [
    "### StringIndexer stages\n",
    "\n",
    "We only need to StringIndex some of the fields. We are going to build the input and output column names programatically.\n"
   ]
  },
  {
   "cell_type": "code",
   "execution_count": 167,
   "metadata": {
    "colab": {},
    "colab_type": "code",
    "executionInfo": {
     "elapsed": 7967,
     "status": "ok",
     "timestamp": 1594465039271,
     "user": {
      "displayName": "Felipe Fernandez pomar",
      "photoUrl": "https://lh3.googleusercontent.com/a-/AOh14GjAIBB1UUNahiuBW35nhzx_0hZxW-dTtBh-sbrK0Q=s64",
      "userId": "06620814048662575791"
     },
     "user_tz": -120
    },
    "id": "_93vLGNz5_jw"
   },
   "outputs": [],
   "source": [
    "categorical_fields = ['Reporting_Airline', \n",
    "                      'Origin', 'OriginCityName', 'OriginStateName', \n",
    "                      'Dest', 'DestCityName', 'DestStateName']\n",
    " \n",
    "string_fields = [field.name for field in train.schema.fields if field.dataType == types.StringType()]\n",
    " \n",
    "continuous_fields = ['Year', 'Month', 'DayofMonth', 'DayOfWeek', 'Distance', 'DepHour', 'AirSegment']\n",
    " \n",
    "target_field = 'Delayed'"
   ]
  },
  {
   "cell_type": "code",
   "execution_count": 168,
   "metadata": {
    "colab": {
     "base_uri": "https://localhost:8080/",
     "height": 153
    },
    "colab_type": "code",
    "executionInfo": {
     "elapsed": 7683,
     "status": "ok",
     "timestamp": 1594465039272,
     "user": {
      "displayName": "Felipe Fernandez pomar",
      "photoUrl": "https://lh3.googleusercontent.com/a-/AOh14GjAIBB1UUNahiuBW35nhzx_0hZxW-dTtBh-sbrK0Q=s64",
      "userId": "06620814048662575791"
     },
     "user_tz": -120
    },
    "id": "9Li8dORo5_j1",
    "outputId": "e61afee5-734f-4c75-cf0f-6375afc98af0"
   },
   "outputs": [
    {
     "data": {
      "text/plain": [
       "['Reporting_Airline',\n",
       " 'Tail_Number',\n",
       " 'Origin',\n",
       " 'OriginCityName',\n",
       " 'OriginStateName',\n",
       " 'Dest',\n",
       " 'DestCityName',\n",
       " 'DestStateName']"
      ]
     },
     "execution_count": 168,
     "metadata": {
      "tags": []
     },
     "output_type": "execute_result"
    }
   ],
   "source": [
    "string_fields"
   ]
  },
  {
   "cell_type": "code",
   "execution_count": 169,
   "metadata": {
    "colab": {},
    "colab_type": "code",
    "executionInfo": {
     "elapsed": 7497,
     "status": "ok",
     "timestamp": 1594465039273,
     "user": {
      "displayName": "Felipe Fernandez pomar",
      "photoUrl": "https://lh3.googleusercontent.com/a-/AOh14GjAIBB1UUNahiuBW35nhzx_0hZxW-dTtBh-sbrK0Q=s64",
      "userId": "06620814048662575791"
     },
     "user_tz": -120
    },
    "id": "GVMrTVwzz0sF"
   },
   "outputs": [],
   "source": [
    "indexers = [StringIndexer(inputCol = field, outputCol = field + '_index', handleInvalid = 'keep') for field in string_fields]\n"
   ]
  },
  {
   "cell_type": "code",
   "execution_count": 170,
   "metadata": {
    "colab": {
     "base_uri": "https://localhost:8080/",
     "height": 153
    },
    "colab_type": "code",
    "executionInfo": {
     "elapsed": 6574,
     "status": "ok",
     "timestamp": 1594465039274,
     "user": {
      "displayName": "Felipe Fernandez pomar",
      "photoUrl": "https://lh3.googleusercontent.com/a-/AOh14GjAIBB1UUNahiuBW35nhzx_0hZxW-dTtBh-sbrK0Q=s64",
      "userId": "06620814048662575791"
     },
     "user_tz": -120
    },
    "id": "x0F1Dqi80KAJ",
    "outputId": "8ab37c6a-6f45-494c-b2c1-163df4446788"
   },
   "outputs": [
    {
     "data": {
      "text/plain": [
       "[StringIndexer_5369da33d783,\n",
       " StringIndexer_d3fb06b9c765,\n",
       " StringIndexer_c5369ab9c7ba,\n",
       " StringIndexer_ee79474364c0,\n",
       " StringIndexer_2f720e38953e,\n",
       " StringIndexer_0fb416513d0a,\n",
       " StringIndexer_418b55498094,\n",
       " StringIndexer_4f1cb9cab9a0]"
      ]
     },
     "execution_count": 170,
     "metadata": {
      "tags": []
     },
     "output_type": "execute_result"
    }
   ],
   "source": [
    "indexers"
   ]
  },
  {
   "cell_type": "markdown",
   "metadata": {
    "colab_type": "text",
    "id": "3iVC6qXw5_j0"
   },
   "source": [
    "### OneHotEncoderEstimator\n",
    "\n",
    "One OneHotEncoderEstimator can handle all categorical columns. We are also going to build it programatically"
   ]
  },
  {
   "cell_type": "code",
   "execution_count": 171,
   "metadata": {
    "colab": {
     "base_uri": "https://localhost:8080/",
     "height": 34
    },
    "colab_type": "code",
    "executionInfo": {
     "elapsed": 4450,
     "status": "ok",
     "timestamp": 1594465039275,
     "user": {
      "displayName": "Felipe Fernandez pomar",
      "photoUrl": "https://lh3.googleusercontent.com/a-/AOh14GjAIBB1UUNahiuBW35nhzx_0hZxW-dTtBh-sbrK0Q=s64",
      "userId": "06620814048662575791"
     },
     "user_tz": -120
    },
    "id": "hxqY0fHx0V-U",
    "outputId": "9e62f171-e9d2-4a48-ea07-dc445e39b690"
   },
   "outputs": [
    {
     "data": {
      "text/plain": [
       "[]"
      ]
     },
     "execution_count": 171,
     "metadata": {
      "tags": []
     },
     "output_type": "execute_result"
    }
   ],
   "source": [
    "non_string_categoricals = [field for field in categorical_fields if field not in string_fields]\n",
    "non_string_categoricals"
   ]
  },
  {
   "cell_type": "code",
   "execution_count": 172,
   "metadata": {
    "colab": {},
    "colab_type": "code",
    "executionInfo": {
     "elapsed": 1921,
     "status": "ok",
     "timestamp": 1594465039276,
     "user": {
      "displayName": "Felipe Fernandez pomar",
      "photoUrl": "https://lh3.googleusercontent.com/a-/AOh14GjAIBB1UUNahiuBW35nhzx_0hZxW-dTtBh-sbrK0Q=s64",
      "userId": "06620814048662575791"
     },
     "user_tz": -120
    },
    "id": "53HJsIAv0u0L"
   },
   "outputs": [],
   "source": [
    "nsc_onehot_output = [field + '_1hot' for field in non_string_categoricals]"
   ]
  },
  {
   "cell_type": "code",
   "execution_count": 173,
   "metadata": {
    "colab": {
     "base_uri": "https://localhost:8080/",
     "height": 153
    },
    "colab_type": "code",
    "executionInfo": {
     "elapsed": 1428,
     "status": "ok",
     "timestamp": 1594465039276,
     "user": {
      "displayName": "Felipe Fernandez pomar",
      "photoUrl": "https://lh3.googleusercontent.com/a-/AOh14GjAIBB1UUNahiuBW35nhzx_0hZxW-dTtBh-sbrK0Q=s64",
      "userId": "06620814048662575791"
     },
     "user_tz": -120
    },
    "id": "ohxL8DNG1JKY",
    "outputId": "9536a875-b664-4977-d765-e8f578b8aaf7"
   },
   "outputs": [
    {
     "data": {
      "text/plain": [
       "['Reporting_Airline',\n",
       " 'Tail_Number',\n",
       " 'Origin',\n",
       " 'OriginCityName',\n",
       " 'OriginStateName',\n",
       " 'Dest',\n",
       " 'DestCityName',\n",
       " 'DestStateName']"
      ]
     },
     "execution_count": 173,
     "metadata": {
      "tags": []
     },
     "output_type": "execute_result"
    }
   ],
   "source": [
    "string_fields"
   ]
  },
  {
   "cell_type": "code",
   "execution_count": 174,
   "metadata": {
    "colab": {},
    "colab_type": "code",
    "executionInfo": {
     "elapsed": 1229,
     "status": "ok",
     "timestamp": 1594465044123,
     "user": {
      "displayName": "Felipe Fernandez pomar",
      "photoUrl": "https://lh3.googleusercontent.com/a-/AOh14GjAIBB1UUNahiuBW35nhzx_0hZxW-dTtBh-sbrK0Q=s64",
      "userId": "06620814048662575791"
     },
     "user_tz": -120
    },
    "id": "BHnDOory1LQg"
   },
   "outputs": [],
   "source": [
    "sc_onehot_input = [field + '_index' for field in string_fields]\n",
    "sc_onehot_output = [field + '_1hot' for field in string_fields]"
   ]
  },
  {
   "cell_type": "code",
   "execution_count": 175,
   "metadata": {
    "colab": {
     "base_uri": "https://localhost:8080/",
     "height": 153
    },
    "colab_type": "code",
    "executionInfo": {
     "elapsed": 1389,
     "status": "ok",
     "timestamp": 1594465044506,
     "user": {
      "displayName": "Felipe Fernandez pomar",
      "photoUrl": "https://lh3.googleusercontent.com/a-/AOh14GjAIBB1UUNahiuBW35nhzx_0hZxW-dTtBh-sbrK0Q=s64",
      "userId": "06620814048662575791"
     },
     "user_tz": -120
    },
    "id": "UZDobGJf1e1z",
    "outputId": "21d6112f-3d35-4af8-8eea-6aac94b05a9a"
   },
   "outputs": [
    {
     "data": {
      "text/plain": [
       "['Reporting_Airline_1hot',\n",
       " 'Tail_Number_1hot',\n",
       " 'Origin_1hot',\n",
       " 'OriginCityName_1hot',\n",
       " 'OriginStateName_1hot',\n",
       " 'Dest_1hot',\n",
       " 'DestCityName_1hot',\n",
       " 'DestStateName_1hot']"
      ]
     },
     "execution_count": 175,
     "metadata": {
      "tags": []
     },
     "output_type": "execute_result"
    }
   ],
   "source": [
    "sc_onehot_output"
   ]
  },
  {
   "cell_type": "code",
   "execution_count": 176,
   "metadata": {
    "colab": {
     "base_uri": "https://localhost:8080/",
     "height": 153
    },
    "colab_type": "code",
    "executionInfo": {
     "elapsed": 1180,
     "status": "ok",
     "timestamp": 1594465044507,
     "user": {
      "displayName": "Felipe Fernandez pomar",
      "photoUrl": "https://lh3.googleusercontent.com/a-/AOh14GjAIBB1UUNahiuBW35nhzx_0hZxW-dTtBh-sbrK0Q=s64",
      "userId": "06620814048662575791"
     },
     "user_tz": -120
    },
    "id": "IZ-OY1m61h6i",
    "outputId": "fd6e2b97-ca34-4093-ce4d-2fd7e30edc4f"
   },
   "outputs": [
    {
     "data": {
      "text/plain": [
       "['Reporting_Airline_index',\n",
       " 'Tail_Number_index',\n",
       " 'Origin_index',\n",
       " 'OriginCityName_index',\n",
       " 'OriginStateName_index',\n",
       " 'Dest_index',\n",
       " 'DestCityName_index',\n",
       " 'DestStateName_index']"
      ]
     },
     "execution_count": 176,
     "metadata": {
      "tags": []
     },
     "output_type": "execute_result"
    }
   ],
   "source": [
    "non_string_categoricals + sc_onehot_input"
   ]
  },
  {
   "cell_type": "code",
   "execution_count": null,
   "metadata": {
    "colab": {},
    "colab_type": "code",
    "id": "-F2dXaK53r9m"
   },
   "outputs": [],
   "source": [
    "myDayOfWeek = [1,3,6,7,2,1]\n",
    "#No hace falta hacer index\n"
   ]
  },
  {
   "cell_type": "code",
   "execution_count": 67,
   "metadata": {
    "colab": {},
    "colab_type": "code",
    "executionInfo": {
     "elapsed": 778,
     "status": "ok",
     "timestamp": 1594453944704,
     "user": {
      "displayName": "Felipe Fernandez pomar",
      "photoUrl": "https://lh3.googleusercontent.com/a-/AOh14GjAIBB1UUNahiuBW35nhzx_0hZxW-dTtBh-sbrK0Q=s64",
      "userId": "06620814048662575791"
     },
     "user_tz": -120
    },
    "id": "ozaecCNS2xdZ"
   },
   "outputs": [],
   "source": [
    "#Hay que hacer el string indexer\n",
    "mycarriers = [\"American Airlines\", \"Iberia\", \"Lufthansa\", \"American Airlines\", \"American Airlines\", \"Lufthansa\"]"
   ]
  },
  {
   "cell_type": "code",
   "execution_count": 68,
   "metadata": {
    "colab": {},
    "colab_type": "code",
    "executionInfo": {
     "elapsed": 835,
     "status": "ok",
     "timestamp": 1594454077590,
     "user": {
      "displayName": "Felipe Fernandez pomar",
      "photoUrl": "https://lh3.googleusercontent.com/a-/AOh14GjAIBB1UUNahiuBW35nhzx_0hZxW-dTtBh-sbrK0Q=s64",
      "userId": "06620814048662575791"
     },
     "user_tz": -120
    },
    "id": "sVRJTz_X3hpY"
   },
   "outputs": [],
   "source": [
    "mycarriers_index = [0,1,2,0,0,2]"
   ]
  },
  {
   "cell_type": "code",
   "execution_count": 69,
   "metadata": {
    "colab": {},
    "colab_type": "code",
    "executionInfo": {
     "elapsed": 1037,
     "status": "ok",
     "timestamp": 1594454082927,
     "user": {
      "displayName": "Felipe Fernandez pomar",
      "photoUrl": "https://lh3.googleusercontent.com/a-/AOh14GjAIBB1UUNahiuBW35nhzx_0hZxW-dTtBh-sbrK0Q=s64",
      "userId": "06620814048662575791"
     },
     "user_tz": -120
    },
    "id": "5xt3Pwnw3JLM"
   },
   "outputs": [],
   "source": [
    "mycarriers_1Hot = [(1,0,0), (0,1,0), (0,0,1), (1,0,0), (1,0,0), (0,0,1)]"
   ]
  },
  {
   "cell_type": "code",
   "execution_count": 60,
   "metadata": {
    "colab": {
     "base_uri": "https://localhost:8080/",
     "height": 221
    },
    "colab_type": "code",
    "executionInfo": {
     "elapsed": 768,
     "status": "ok",
     "timestamp": 1594453573931,
     "user": {
      "displayName": "Felipe Fernandez pomar",
      "photoUrl": "https://lh3.googleusercontent.com/a-/AOh14GjAIBB1UUNahiuBW35nhzx_0hZxW-dTtBh-sbrK0Q=s64",
      "userId": "06620814048662575791"
     },
     "user_tz": -120
    },
    "id": "a4ApgrK01ne3",
    "outputId": "f7e35fa0-2b04-46af-b482-fe546ad54bba"
   },
   "outputs": [
    {
     "data": {
      "text/plain": [
       "['Year_1hot',\n",
       " 'Month_1hot',\n",
       " 'DayofMonth_1hot',\n",
       " 'DayOfWeek_1hot',\n",
       " 'Reporting_Airline_1hot',\n",
       " 'Tail_Number_1hot',\n",
       " 'Origin_1hot',\n",
       " 'OriginCityName_1hot',\n",
       " 'OriginStateName_1hot',\n",
       " 'Dest_1hot',\n",
       " 'DestCityName_1hot',\n",
       " 'DestStateName_1hot']"
      ]
     },
     "execution_count": 60,
     "metadata": {
      "tags": []
     },
     "output_type": "execute_result"
    }
   ],
   "source": [
    "nsc_onehot_output + sc_onehot_output"
   ]
  },
  {
   "cell_type": "code",
   "execution_count": 63,
   "metadata": {
    "colab": {},
    "colab_type": "code",
    "executionInfo": {
     "elapsed": 784,
     "status": "ok",
     "timestamp": 1594453701478,
     "user": {
      "displayName": "Felipe Fernandez pomar",
      "photoUrl": "https://lh3.googleusercontent.com/a-/AOh14GjAIBB1UUNahiuBW35nhzx_0hZxW-dTtBh-sbrK0Q=s64",
      "userId": "06620814048662575791"
     },
     "user_tz": -120
    },
    "id": "0EPGtFxu1tAs"
   },
   "outputs": [],
   "source": [
    "onehotencoder = OneHotEncoderEstimator(inputCols = non_string_categoricals + sc_onehot_input, \n",
    "                                         outputCols = nsc_onehot_output + sc_onehot_output)"
   ]
  },
  {
   "cell_type": "markdown",
   "metadata": {
    "colab_type": "text",
    "id": "Num-MlOU5_j5"
   },
   "source": [
    "### VectorAssembler\n",
    "\n",
    "Once we have generated our features, we can assemble them into a single features column, together with the continuous_fields."
   ]
  },
  {
   "cell_type": "code",
   "execution_count": 177,
   "metadata": {
    "colab": {},
    "colab_type": "code",
    "executionInfo": {
     "elapsed": 1010,
     "status": "ok",
     "timestamp": 1594465048412,
     "user": {
      "displayName": "Felipe Fernandez pomar",
      "photoUrl": "https://lh3.googleusercontent.com/a-/AOh14GjAIBB1UUNahiuBW35nhzx_0hZxW-dTtBh-sbrK0Q=s64",
      "userId": "06620814048662575791"
     },
     "user_tz": -120
    },
    "id": "qdXrOwon5_j6"
   },
   "outputs": [],
   "source": [
    "from pyspark.ml.feature import VectorAssembler\n",
    "\n",
    "vectorAssembling = VectorAssembler(inputCols = nsc_onehot_output + sc_onehot_output + continuous_fields,\n",
    "                                   outputCol = 'features')"
   ]
  },
  {
   "cell_type": "markdown",
   "metadata": {
    "colab_type": "text",
    "id": "XYspBeHi_Ys7"
   },
   "source": [
    ""
   ]
  },
  {
   "cell_type": "markdown",
   "metadata": {
    "colab_type": "text",
    "id": "YwLsc4vc4szq"
   },
   "source": [
    "# Full ML with Spark\n",
    "\n",
    "## 1) PIPELINE preparation\n",
    "\n",
    "### Steps:\n",
    "\n",
    "0) Prepare label/target column.\n",
    "\n",
    "1) String => StringIndex => Estimator called \"indexers\".\n",
    "\n",
    "2) StringIndex => OneHotEncoding => Estimator called \"onehotencoder\".\n",
    "\n",
    "3) Assembling Features => Assembling all features in the same column.\n",
    "\n",
    "4) Prepare ML Model (Estimator).\n",
    "\n",
    "==> Results on a Estimator\n",
    "\n",
    "## 2) Fit the pipeline\n",
    "\n",
    "## 3) Apply pipeline to test data in order to obtain predictions."
   ]
  },
  {
   "cell_type": "markdown",
   "metadata": {
    "colab_type": "text",
    "id": "nZon6ZXr5_j9"
   },
   "source": [
    "### RandomForestClassifier\n",
    "\n",
    "Aaaaand we are ready to do some Machine Learning! We'll use a RandomForestClassifier to try to predict delayed versus non delayed flights, a binary classification task."
   ]
  },
  {
   "cell_type": "code",
   "execution_count": 178,
   "metadata": {
    "colab": {},
    "colab_type": "code",
    "executionInfo": {
     "elapsed": 1101,
     "status": "ok",
     "timestamp": 1594465053363,
     "user": {
      "displayName": "Felipe Fernandez pomar",
      "photoUrl": "https://lh3.googleusercontent.com/a-/AOh14GjAIBB1UUNahiuBW35nhzx_0hZxW-dTtBh-sbrK0Q=s64",
      "userId": "06620814048662575791"
     },
     "user_tz": -120
    },
    "id": "4pcdzIPR5_j9"
   },
   "outputs": [],
   "source": [
    "from pyspark.ml.classification import RandomForestClassifier\n",
    "\n",
    "rf_classifier = RandomForestClassifier(featuresCol = 'features', labelCol = 'Delayed')"
   ]
  },
  {
   "cell_type": "markdown",
   "metadata": {
    "colab_type": "text",
    "id": "isn8GSqZ5_kA"
   },
   "source": [
    "### Pipeline!\n",
    "\n",
    "Now that we have all the stages, we are finally ready to put them together into a single Estimator, our Pipeline."
   ]
  },
  {
   "cell_type": "code",
   "execution_count": 179,
   "metadata": {
    "colab": {
     "base_uri": "https://localhost:8080/",
     "height": 153
    },
    "colab_type": "code",
    "executionInfo": {
     "elapsed": 1286,
     "status": "ok",
     "timestamp": 1594465061070,
     "user": {
      "displayName": "Felipe Fernandez pomar",
      "photoUrl": "https://lh3.googleusercontent.com/a-/AOh14GjAIBB1UUNahiuBW35nhzx_0hZxW-dTtBh-sbrK0Q=s64",
      "userId": "06620814048662575791"
     },
     "user_tz": -120
    },
    "id": "OiRpOOd25_kB",
    "outputId": "ddc75d1a-46a9-4814-d181-3af5398ce6a1"
   },
   "outputs": [
    {
     "data": {
      "text/plain": [
       "[StringIndexer_5369da33d783,\n",
       " StringIndexer_d3fb06b9c765,\n",
       " StringIndexer_c5369ab9c7ba,\n",
       " StringIndexer_ee79474364c0,\n",
       " StringIndexer_2f720e38953e,\n",
       " StringIndexer_0fb416513d0a,\n",
       " StringIndexer_418b55498094,\n",
       " StringIndexer_4f1cb9cab9a0]"
      ]
     },
     "execution_count": 179,
     "metadata": {
      "tags": []
     },
     "output_type": "execute_result"
    }
   ],
   "source": [
    "indexers"
   ]
  },
  {
   "cell_type": "code",
   "execution_count": 180,
   "metadata": {
    "colab": {
     "base_uri": "https://localhost:8080/",
     "height": 34
    },
    "colab_type": "code",
    "executionInfo": {
     "elapsed": 1056,
     "status": "ok",
     "timestamp": 1594465061072,
     "user": {
      "displayName": "Felipe Fernandez pomar",
      "photoUrl": "https://lh3.googleusercontent.com/a-/AOh14GjAIBB1UUNahiuBW35nhzx_0hZxW-dTtBh-sbrK0Q=s64",
      "userId": "06620814048662575791"
     },
     "user_tz": -120
    },
    "id": "Com4xsRm9a0j",
    "outputId": "d681b2e0-2ca5-43d2-a57e-868f0a28d8f1"
   },
   "outputs": [
    {
     "data": {
      "text/plain": [
       "OneHotEncoderEstimator_0767bdd2cc8a"
      ]
     },
     "execution_count": 180,
     "metadata": {
      "tags": []
     },
     "output_type": "execute_result"
    }
   ],
   "source": [
    "onehotencoder"
   ]
  },
  {
   "cell_type": "markdown",
   "metadata": {
    "colab_type": "text",
    "id": "JY3Iy1dN5_kF"
   },
   "source": [
    "Now that we have gone to the trouble of building our Pipeline, fitting it and using it to predict the probabilty of delay on unseen data is as easy as using a single Estimator:"
   ]
  },
  {
   "cell_type": "code",
   "execution_count": 181,
   "metadata": {
    "colab": {},
    "colab_type": "code",
    "executionInfo": {
     "elapsed": 799,
     "status": "ok",
     "timestamp": 1594465062119,
     "user": {
      "displayName": "Felipe Fernandez pomar",
      "photoUrl": "https://lh3.googleusercontent.com/a-/AOh14GjAIBB1UUNahiuBW35nhzx_0hZxW-dTtBh-sbrK0Q=s64",
      "userId": "06620814048662575791"
     },
     "user_tz": -120
    },
    "id": "YSuf0o245_kF",
    "scrolled": false
   },
   "outputs": [],
   "source": [
    "myStages = indexers + [onehotencoder, vectorAssembling, rf_classifier]"
   ]
  },
  {
   "cell_type": "code",
   "execution_count": 182,
   "metadata": {
    "colab": {
     "base_uri": "https://localhost:8080/",
     "height": 204
    },
    "colab_type": "code",
    "executionInfo": {
     "elapsed": 1021,
     "status": "ok",
     "timestamp": 1594465062816,
     "user": {
      "displayName": "Felipe Fernandez pomar",
      "photoUrl": "https://lh3.googleusercontent.com/a-/AOh14GjAIBB1UUNahiuBW35nhzx_0hZxW-dTtBh-sbrK0Q=s64",
      "userId": "06620814048662575791"
     },
     "user_tz": -120
    },
    "id": "yXQZrqkD9pY1",
    "outputId": "93930d80-2e5d-400d-c500-5bc451ab5df7"
   },
   "outputs": [
    {
     "data": {
      "text/plain": [
       "[StringIndexer_5369da33d783,\n",
       " StringIndexer_d3fb06b9c765,\n",
       " StringIndexer_c5369ab9c7ba,\n",
       " StringIndexer_ee79474364c0,\n",
       " StringIndexer_2f720e38953e,\n",
       " StringIndexer_0fb416513d0a,\n",
       " StringIndexer_418b55498094,\n",
       " StringIndexer_4f1cb9cab9a0,\n",
       " OneHotEncoderEstimator_0767bdd2cc8a,\n",
       " VectorAssembler_e090b50207cc,\n",
       " RandomForestClassifier_7eaa01b3fbe0]"
      ]
     },
     "execution_count": 182,
     "metadata": {
      "tags": []
     },
     "output_type": "execute_result"
    }
   ],
   "source": [
    "#Pasos en nuestro pipline, flujo.\n",
    "myStages"
   ]
  },
  {
   "cell_type": "code",
   "execution_count": 183,
   "metadata": {
    "colab": {
     "base_uri": "https://localhost:8080/",
     "height": 34
    },
    "colab_type": "code",
    "executionInfo": {
     "elapsed": 1050,
     "status": "ok",
     "timestamp": 1594465065735,
     "user": {
      "displayName": "Felipe Fernandez pomar",
      "photoUrl": "https://lh3.googleusercontent.com/a-/AOh14GjAIBB1UUNahiuBW35nhzx_0hZxW-dTtBh-sbrK0Q=s64",
      "userId": "06620814048662575791"
     },
     "user_tz": -120
    },
    "id": "ED3UzIeO9wqg",
    "outputId": "2fcce443-3065-4050-cc08-b4e0f63c09e3"
   },
   "outputs": [
    {
     "data": {
      "text/plain": [
       "Pipeline_a1be9ed5d4bd"
      ]
     },
     "execution_count": 183,
     "metadata": {
      "tags": []
     },
     "output_type": "execute_result"
    }
   ],
   "source": [
    "#Estamos definiendo el pipeline, definiendo el diagrama\n",
    "pipeline = Pipeline(stages = myStages)\n",
    "\n",
    "pipeline"
   ]
  },
  {
   "cell_type": "code",
   "execution_count": 184,
   "metadata": {
    "colab": {
     "base_uri": "https://localhost:8080/",
     "height": 51
    },
    "colab_type": "code",
    "executionInfo": {
     "elapsed": 163770,
     "status": "ok",
     "timestamp": 1594465231870,
     "user": {
      "displayName": "Felipe Fernandez pomar",
      "photoUrl": "https://lh3.googleusercontent.com/a-/AOh14GjAIBB1UUNahiuBW35nhzx_0hZxW-dTtBh-sbrK0Q=s64",
      "userId": "06620814048662575791"
     },
     "user_tz": -120
    },
    "id": "xEC8HkQg-BXk",
    "outputId": "1ef1b970-ffca-42a3-84b8-db7f55668fda"
   },
   "outputs": [
    {
     "name": "stdout",
     "output_type": "stream",
     "text": [
      "CPU times: user 264 ms, sys: 68.1 ms, total: 332 ms\n",
      "Wall time: 2min 42s\n"
     ]
    }
   ],
   "source": [
    "%%time\n",
    "\n",
    "pipeline_model = pipeline.fit(train)"
   ]
  },
  {
   "cell_type": "code",
   "execution_count": 185,
   "metadata": {
    "colab": {
     "base_uri": "https://localhost:8080/",
     "height": 54
    },
    "colab_type": "code",
    "executionInfo": {
     "elapsed": 1395,
     "status": "ok",
     "timestamp": 1594465235622,
     "user": {
      "displayName": "Felipe Fernandez pomar",
      "photoUrl": "https://lh3.googleusercontent.com/a-/AOh14GjAIBB1UUNahiuBW35nhzx_0hZxW-dTtBh-sbrK0Q=s64",
      "userId": "06620814048662575791"
     },
     "user_tz": -120
    },
    "id": "NkVa7hy1-KU2",
    "outputId": "3a35df00-a095-467b-c08a-729ba76649ab"
   },
   "outputs": [
    {
     "data": {
      "text/plain": [
       "DataFrame[Year: int, Month: int, DayofMonth: int, DayOfWeek: int, Reporting_Airline: string, Tail_Number: string, Flight_Number_Reporting_Airline: int, Origin: string, OriginCityName: string, OriginStateName: string, Dest: string, DestCityName: string, DestStateName: string, DepTime: int, DepDelay: double, AirTime: double, Distance: double, AirSegment: int, DepHour: int, Delayed: int, Reporting_Airline_index: double, Tail_Number_index: double, Origin_index: double, OriginCityName_index: double, OriginStateName_index: double, Dest_index: double, DestCityName_index: double, DestStateName_index: double, Origin_1hot: vector, Year_1hot: vector, Reporting_Airline_1hot: vector, OriginStateName_1hot: vector, DestStateName_1hot: vector, DayofMonth_1hot: vector, Dest_1hot: vector, Month_1hot: vector, OriginCityName_1hot: vector, Tail_Number_1hot: vector, DayOfWeek_1hot: vector, DestCityName_1hot: vector, features: vector, rawPrediction: vector, probability: vector, prediction: double]"
      ]
     },
     "execution_count": 185,
     "metadata": {
      "tags": []
     },
     "output_type": "execute_result"
    }
   ],
   "source": [
    "predicted = pipeline_model.transform(test)\n",
    "\n",
    "predicted"
   ]
  },
  {
   "cell_type": "code",
   "execution_count": 91,
   "metadata": {
    "colab": {
     "base_uri": "https://localhost:8080/",
     "height": 782
    },
    "colab_type": "code",
    "executionInfo": {
     "elapsed": 936,
     "status": "ok",
     "timestamp": 1594455949967,
     "user": {
      "displayName": "Felipe Fernandez pomar",
      "photoUrl": "https://lh3.googleusercontent.com/a-/AOh14GjAIBB1UUNahiuBW35nhzx_0hZxW-dTtBh-sbrK0Q=s64",
      "userId": "06620814048662575791"
     },
     "user_tz": -120
    },
    "id": "_2mn3VTa-ciW",
    "outputId": "5d42e0b5-db1c-4d18-c8c9-fd561296554a"
   },
   "outputs": [
    {
     "name": "stdout",
     "output_type": "stream",
     "text": [
      "root\n",
      " |-- Year: integer (nullable = true)\n",
      " |-- Month: integer (nullable = true)\n",
      " |-- DayofMonth: integer (nullable = true)\n",
      " |-- DayOfWeek: integer (nullable = true)\n",
      " |-- Reporting_Airline: string (nullable = true)\n",
      " |-- Tail_Number: string (nullable = true)\n",
      " |-- Flight_Number_Reporting_Airline: integer (nullable = true)\n",
      " |-- Origin: string (nullable = true)\n",
      " |-- OriginCityName: string (nullable = true)\n",
      " |-- OriginStateName: string (nullable = true)\n",
      " |-- Dest: string (nullable = true)\n",
      " |-- DestCityName: string (nullable = true)\n",
      " |-- DestStateName: string (nullable = true)\n",
      " |-- DepTime: integer (nullable = true)\n",
      " |-- DepDelay: double (nullable = true)\n",
      " |-- AirTime: double (nullable = true)\n",
      " |-- Distance: double (nullable = true)\n",
      " |-- DepHour: integer (nullable = true)\n",
      " |-- Delayed: integer (nullable = true)\n",
      " |-- Reporting_Airline_index: double (nullable = false)\n",
      " |-- Tail_Number_index: double (nullable = false)\n",
      " |-- Origin_index: double (nullable = false)\n",
      " |-- OriginCityName_index: double (nullable = false)\n",
      " |-- OriginStateName_index: double (nullable = false)\n",
      " |-- Dest_index: double (nullable = false)\n",
      " |-- DestCityName_index: double (nullable = false)\n",
      " |-- DestStateName_index: double (nullable = false)\n",
      " |-- Origin_1hot: vector (nullable = true)\n",
      " |-- Year_1hot: vector (nullable = true)\n",
      " |-- Reporting_Airline_1hot: vector (nullable = true)\n",
      " |-- OriginStateName_1hot: vector (nullable = true)\n",
      " |-- DestStateName_1hot: vector (nullable = true)\n",
      " |-- DayofMonth_1hot: vector (nullable = true)\n",
      " |-- Dest_1hot: vector (nullable = true)\n",
      " |-- Month_1hot: vector (nullable = true)\n",
      " |-- OriginCityName_1hot: vector (nullable = true)\n",
      " |-- Tail_Number_1hot: vector (nullable = true)\n",
      " |-- DayOfWeek_1hot: vector (nullable = true)\n",
      " |-- DestCityName_1hot: vector (nullable = true)\n",
      " |-- features: vector (nullable = true)\n",
      " |-- rawPrediction: vector (nullable = true)\n",
      " |-- probability: vector (nullable = true)\n",
      " |-- prediction: double (nullable = false)\n",
      "\n"
     ]
    }
   ],
   "source": [
    "predicted.printSchema()"
   ]
  },
  {
   "cell_type": "code",
   "execution_count": 186,
   "metadata": {
    "colab": {
     "base_uri": "https://localhost:8080/",
     "height": 102
    },
    "colab_type": "code",
    "executionInfo": {
     "elapsed": 8873,
     "status": "ok",
     "timestamp": 1594465249564,
     "user": {
      "displayName": "Felipe Fernandez pomar",
      "photoUrl": "https://lh3.googleusercontent.com/a-/AOh14GjAIBB1UUNahiuBW35nhzx_0hZxW-dTtBh-sbrK0Q=s64",
      "userId": "06620814048662575791"
     },
     "user_tz": -120
    },
    "id": "LhPiqzBA-m8V",
    "outputId": "f23729fa-350d-4c68-94c5-216b035734b4"
   },
   "outputs": [
    {
     "data": {
      "text/plain": [
       "[Row(probability=DenseVector([0.8358, 0.1642])),\n",
       " Row(probability=DenseVector([0.8234, 0.1766])),\n",
       " Row(probability=DenseVector([0.8221, 0.1779])),\n",
       " Row(probability=DenseVector([0.8358, 0.1642])),\n",
       " Row(probability=DenseVector([0.8346, 0.1654]))]"
      ]
     },
     "execution_count": 186,
     "metadata": {
      "tags": []
     },
     "output_type": "execute_result"
    }
   ],
   "source": [
    "predicted.select('probability').take(5)\n",
    "#[probabilidad de ser 0, probabilidad de ser 1]"
   ]
  },
  {
   "cell_type": "code",
   "execution_count": 95,
   "metadata": {
    "colab": {
     "base_uri": "https://localhost:8080/",
     "height": 122
    },
    "colab_type": "code",
    "executionInfo": {
     "elapsed": 7279,
     "status": "ok",
     "timestamp": 1594456480342,
     "user": {
      "displayName": "Felipe Fernandez pomar",
      "photoUrl": "https://lh3.googleusercontent.com/a-/AOh14GjAIBB1UUNahiuBW35nhzx_0hZxW-dTtBh-sbrK0Q=s64",
      "userId": "06620814048662575791"
     },
     "user_tz": -120
    },
    "id": "gXPTybdbAA-9",
    "outputId": "1e9463ee-6e4a-4e2a-f59a-bfeabc817c12"
   },
   "outputs": [
    {
     "data": {
      "text/plain": [
       "[Row(features=SparseVector(8800, {2031: 1.0, 2067: 1.0, 2078: 1.0, 3474: 1.0, 7372: 1.0, 7711: 1.0, 8038: 1.0, 8074: 1.0, 8410: 1.0, 8751: 1.0, 8798: 660.0, 8799: 12.0}), prediction=0.0),\n",
       " Row(features=SparseVector(8800, {2031: 1.0, 2067: 1.0, 2078: 1.0, 3474: 1.0, 7393: 1.0, 7732: 1.0, 8019: 1.0, 8078: 1.0, 8423: 1.0, 8761: 1.0, 8798: 468.0, 8799: 18.0}), prediction=0.0),\n",
       " Row(features=SparseVector(8800, {2031: 1.0, 2067: 1.0, 2078: 1.0, 3474: 1.0, 7341: 1.0, 7677: 1.0, 8017: 1.0, 8124: 1.0, 8464: 1.0, 8754: 1.0, 8798: 296.0, 8799: 15.0}), prediction=0.0),\n",
       " Row(features=SparseVector(8800, {2031: 1.0, 2067: 1.0, 2078: 1.0, 2403: 1.0, 7392: 1.0, 7731: 1.0, 8031: 1.0, 8074: 1.0, 8410: 1.0, 8751: 1.0, 8798: 963.0, 8799: 6.0}), prediction=0.0),\n",
       " Row(features=SparseVector(8800, {2031: 1.0, 2067: 1.0, 2078: 1.0, 2403: 1.0, 7341: 1.0, 7677: 1.0, 8017: 1.0, 8123: 1.0, 8463: 1.0, 8751: 1.0, 8798: 292.0, 8799: 11.0}), prediction=0.0)]"
      ]
     },
     "execution_count": 95,
     "metadata": {
      "tags": []
     },
     "output_type": "execute_result"
    }
   ],
   "source": [
    "predicted.select('features', 'prediction').take(5)"
   ]
  },
  {
   "cell_type": "markdown",
   "metadata": {
    "colab_type": "text",
    "id": "okLNcjEd5_kJ"
   },
   "source": [
    "## Evaluating and tuning our Pipeline\n",
    "\n",
    "Probably the most interesting use of Spark Pipelines is quickly (in terms of coding time) evaluating many combinations of hyperparameters to feed our model and choosing the best ones. For that, we can use a TrainValidationSplit or a CrossValidator. The CrossValidator will generally perform better, but it will take several times as much. I'm using here the TrainValidationSplit because the API is the same."
   ]
  },
  {
   "cell_type": "code",
   "execution_count": 98,
   "metadata": {
    "colab": {
     "base_uri": "https://localhost:8080/",
     "height": 1000
    },
    "colab_type": "code",
    "executionInfo": {
     "elapsed": 808,
     "status": "ok",
     "timestamp": 1594456546088,
     "user": {
      "displayName": "Felipe Fernandez pomar",
      "photoUrl": "https://lh3.googleusercontent.com/a-/AOh14GjAIBB1UUNahiuBW35nhzx_0hZxW-dTtBh-sbrK0Q=s64",
      "userId": "06620814048662575791"
     },
     "user_tz": -120
    },
    "id": "SfID0M135_kK",
    "outputId": "3c3496f8-088c-4e80-fae3-e33a4fe6f8b6"
   },
   "outputs": [
    {
     "name": "stdout",
     "output_type": "stream",
     "text": [
      "Help on class TrainValidationSplit in module pyspark.ml.tuning:\n",
      "\n",
      "class TrainValidationSplit(pyspark.ml.base.Estimator, ValidatorParams, pyspark.ml.param.shared.HasParallelism, pyspark.ml.param.shared.HasCollectSubModels, pyspark.ml.util.MLReadable, pyspark.ml.util.MLWritable)\n",
      " |  .. note:: Experimental\n",
      " |  \n",
      " |  Validation for hyper-parameter tuning. Randomly splits the input dataset into train and\n",
      " |  validation sets, and uses evaluation metric on the validation set to select the best model.\n",
      " |  Similar to :class:`CrossValidator`, but only splits the set once.\n",
      " |  \n",
      " |  >>> from pyspark.ml.classification import LogisticRegression\n",
      " |  >>> from pyspark.ml.evaluation import BinaryClassificationEvaluator\n",
      " |  >>> from pyspark.ml.linalg import Vectors\n",
      " |  >>> dataset = spark.createDataFrame(\n",
      " |  ...     [(Vectors.dense([0.0]), 0.0),\n",
      " |  ...      (Vectors.dense([0.4]), 1.0),\n",
      " |  ...      (Vectors.dense([0.5]), 0.0),\n",
      " |  ...      (Vectors.dense([0.6]), 1.0),\n",
      " |  ...      (Vectors.dense([1.0]), 1.0)] * 10,\n",
      " |  ...     [\"features\", \"label\"])\n",
      " |  >>> lr = LogisticRegression()\n",
      " |  >>> grid = ParamGridBuilder().addGrid(lr.maxIter, [0, 1]).build()\n",
      " |  >>> evaluator = BinaryClassificationEvaluator()\n",
      " |  >>> tvs = TrainValidationSplit(estimator=lr, estimatorParamMaps=grid, evaluator=evaluator,\n",
      " |  ...     parallelism=2)\n",
      " |  >>> tvsModel = tvs.fit(dataset)\n",
      " |  >>> evaluator.evaluate(tvsModel.transform(dataset))\n",
      " |  0.8333...\n",
      " |  \n",
      " |  .. versionadded:: 2.0.0\n",
      " |  \n",
      " |  Method resolution order:\n",
      " |      TrainValidationSplit\n",
      " |      pyspark.ml.base.Estimator\n",
      " |      ValidatorParams\n",
      " |      pyspark.ml.param.shared.HasSeed\n",
      " |      pyspark.ml.param.shared.HasParallelism\n",
      " |      pyspark.ml.param.shared.HasCollectSubModels\n",
      " |      pyspark.ml.param.Params\n",
      " |      pyspark.ml.util.Identifiable\n",
      " |      pyspark.ml.util.MLReadable\n",
      " |      pyspark.ml.util.MLWritable\n",
      " |      builtins.object\n",
      " |  \n",
      " |  Methods defined here:\n",
      " |  \n",
      " |  __init__(self, estimator=None, estimatorParamMaps=None, evaluator=None, trainRatio=0.75, parallelism=1, collectSubModels=False, seed=None)\n",
      " |      __init__(self, estimator=None, estimatorParamMaps=None, evaluator=None, trainRatio=0.75,                 parallelism=1, collectSubModels=False, seed=None)\n",
      " |  \n",
      " |  copy(self, extra=None)\n",
      " |      Creates a copy of this instance with a randomly generated uid\n",
      " |      and some extra params. This copies creates a deep copy of\n",
      " |      the embedded paramMap, and copies the embedded and extra parameters over.\n",
      " |      \n",
      " |      :param extra: Extra parameters to copy to the new instance\n",
      " |      :return: Copy of this instance\n",
      " |      \n",
      " |      .. versionadded:: 2.0.0\n",
      " |  \n",
      " |  getTrainRatio(self)\n",
      " |      Gets the value of trainRatio or its default value.\n",
      " |      \n",
      " |      .. versionadded:: 2.0.0\n",
      " |  \n",
      " |  setParams(self, estimator=None, estimatorParamMaps=None, evaluator=None, trainRatio=0.75, parallelism=1, collectSubModels=False, seed=None)\n",
      " |      setParams(self, estimator=None, estimatorParamMaps=None, evaluator=None, trainRatio=0.75,                  parallelism=1, collectSubModels=False, seed=None):\n",
      " |      Sets params for the train validation split.\n",
      " |      \n",
      " |      .. versionadded:: 2.0.0\n",
      " |  \n",
      " |  setTrainRatio(self, value)\n",
      " |      Sets the value of :py:attr:`trainRatio`.\n",
      " |      \n",
      " |      .. versionadded:: 2.0.0\n",
      " |  \n",
      " |  write(self)\n",
      " |      Returns an MLWriter instance for this ML instance.\n",
      " |      \n",
      " |      .. versionadded:: 2.3.0\n",
      " |  \n",
      " |  ----------------------------------------------------------------------\n",
      " |  Class methods defined here:\n",
      " |  \n",
      " |  read() from builtins.type\n",
      " |      Returns an MLReader instance for this class.\n",
      " |      \n",
      " |      .. versionadded:: 2.3.0\n",
      " |  \n",
      " |  ----------------------------------------------------------------------\n",
      " |  Data and other attributes defined here:\n",
      " |  \n",
      " |  trainRatio = Param(parent='undefined', name='trainRatio', doc...d     ...\n",
      " |  \n",
      " |  ----------------------------------------------------------------------\n",
      " |  Methods inherited from pyspark.ml.base.Estimator:\n",
      " |  \n",
      " |  fit(self, dataset, params=None)\n",
      " |      Fits a model to the input dataset with optional parameters.\n",
      " |      \n",
      " |      :param dataset: input dataset, which is an instance of :py:class:`pyspark.sql.DataFrame`\n",
      " |      :param params: an optional param map that overrides embedded params. If a list/tuple of\n",
      " |                     param maps is given, this calls fit on each param map and returns a list of\n",
      " |                     models.\n",
      " |      :returns: fitted model(s)\n",
      " |      \n",
      " |      .. versionadded:: 1.3.0\n",
      " |  \n",
      " |  fitMultiple(self, dataset, paramMaps)\n",
      " |      Fits a model to the input dataset for each param map in `paramMaps`.\n",
      " |      \n",
      " |      :param dataset: input dataset, which is an instance of :py:class:`pyspark.sql.DataFrame`.\n",
      " |      :param paramMaps: A Sequence of param maps.\n",
      " |      :return: A thread safe iterable which contains one model for each param map. Each\n",
      " |               call to `next(modelIterator)` will return `(index, model)` where model was fit\n",
      " |               using `paramMaps[index]`. `index` values may not be sequential.\n",
      " |      \n",
      " |      .. note:: DeveloperApi\n",
      " |      .. note:: Experimental\n",
      " |      \n",
      " |      .. versionadded:: 2.3.0\n",
      " |  \n",
      " |  ----------------------------------------------------------------------\n",
      " |  Data and other attributes inherited from pyspark.ml.base.Estimator:\n",
      " |  \n",
      " |  __metaclass__ = <class 'abc.ABCMeta'>\n",
      " |      Metaclass for defining Abstract Base Classes (ABCs).\n",
      " |      \n",
      " |      Use this metaclass to create an ABC.  An ABC can be subclassed\n",
      " |      directly, and then acts as a mix-in class.  You can also register\n",
      " |      unrelated concrete classes (even built-in classes) and unrelated\n",
      " |      ABCs as 'virtual subclasses' -- these and their descendants will\n",
      " |      be considered subclasses of the registering ABC by the built-in\n",
      " |      issubclass() function, but the registering ABC won't show up in\n",
      " |      their MRO (Method Resolution Order) nor will method\n",
      " |      implementations defined by the registering ABC be callable (not\n",
      " |      even via super()).\n",
      " |  \n",
      " |  ----------------------------------------------------------------------\n",
      " |  Methods inherited from ValidatorParams:\n",
      " |  \n",
      " |  getEstimator(self)\n",
      " |      Gets the value of estimator or its default value.\n",
      " |  \n",
      " |  getEstimatorParamMaps(self)\n",
      " |      Gets the value of estimatorParamMaps or its default value.\n",
      " |  \n",
      " |  getEvaluator(self)\n",
      " |      Gets the value of evaluator or its default value.\n",
      " |  \n",
      " |  setEstimator(self, value)\n",
      " |      Sets the value of :py:attr:`estimator`.\n",
      " |  \n",
      " |  setEstimatorParamMaps(self, value)\n",
      " |      Sets the value of :py:attr:`estimatorParamMaps`.\n",
      " |  \n",
      " |  setEvaluator(self, value)\n",
      " |      Sets the value of :py:attr:`evaluator`.\n",
      " |  \n",
      " |  ----------------------------------------------------------------------\n",
      " |  Data and other attributes inherited from ValidatorParams:\n",
      " |  \n",
      " |  estimator = Param(parent='undefined', name='estimator', doc='estimator...\n",
      " |  \n",
      " |  estimatorParamMaps = Param(parent='undefined', name='estimatorParamMap...\n",
      " |  \n",
      " |  evaluator = Param(parent='undefined', name='evaluator', doc=...r-param...\n",
      " |  \n",
      " |  ----------------------------------------------------------------------\n",
      " |  Methods inherited from pyspark.ml.param.shared.HasSeed:\n",
      " |  \n",
      " |  getSeed(self)\n",
      " |      Gets the value of seed or its default value.\n",
      " |  \n",
      " |  setSeed(self, value)\n",
      " |      Sets the value of :py:attr:`seed`.\n",
      " |  \n",
      " |  ----------------------------------------------------------------------\n",
      " |  Data and other attributes inherited from pyspark.ml.param.shared.HasSeed:\n",
      " |  \n",
      " |  seed = Param(parent='undefined', name='seed', doc='random seed.')\n",
      " |  \n",
      " |  ----------------------------------------------------------------------\n",
      " |  Methods inherited from pyspark.ml.param.shared.HasParallelism:\n",
      " |  \n",
      " |  getParallelism(self)\n",
      " |      Gets the value of parallelism or its default value.\n",
      " |  \n",
      " |  setParallelism(self, value)\n",
      " |      Sets the value of :py:attr:`parallelism`.\n",
      " |  \n",
      " |  ----------------------------------------------------------------------\n",
      " |  Data and other attributes inherited from pyspark.ml.param.shared.HasParallelism:\n",
      " |  \n",
      " |  parallelism = Param(parent='undefined', name='parallelism', do...to us...\n",
      " |  \n",
      " |  ----------------------------------------------------------------------\n",
      " |  Methods inherited from pyspark.ml.param.shared.HasCollectSubModels:\n",
      " |  \n",
      " |  getCollectSubModels(self)\n",
      " |      Gets the value of collectSubModels or its default value.\n",
      " |  \n",
      " |  setCollectSubModels(self, value)\n",
      " |      Sets the value of :py:attr:`collectSubModels`.\n",
      " |  \n",
      " |  ----------------------------------------------------------------------\n",
      " |  Data and other attributes inherited from pyspark.ml.param.shared.HasCollectSubModels:\n",
      " |  \n",
      " |  collectSubModels = Param(parent='undefined', name='collectSubModels......\n",
      " |  \n",
      " |  ----------------------------------------------------------------------\n",
      " |  Methods inherited from pyspark.ml.param.Params:\n",
      " |  \n",
      " |  explainParam(self, param)\n",
      " |      Explains a single param and returns its name, doc, and optional\n",
      " |      default value and user-supplied value in a string.\n",
      " |  \n",
      " |  explainParams(self)\n",
      " |      Returns the documentation of all params with their optionally\n",
      " |      default values and user-supplied values.\n",
      " |  \n",
      " |  extractParamMap(self, extra=None)\n",
      " |      Extracts the embedded default param values and user-supplied\n",
      " |      values, and then merges them with extra values from input into\n",
      " |      a flat param map, where the latter value is used if there exist\n",
      " |      conflicts, i.e., with ordering: default param values <\n",
      " |      user-supplied values < extra.\n",
      " |      \n",
      " |      :param extra: extra param values\n",
      " |      :return: merged param map\n",
      " |  \n",
      " |  getOrDefault(self, param)\n",
      " |      Gets the value of a param in the user-supplied param map or its\n",
      " |      default value. Raises an error if neither is set.\n",
      " |  \n",
      " |  getParam(self, paramName)\n",
      " |      Gets a param by its name.\n",
      " |  \n",
      " |  hasDefault(self, param)\n",
      " |      Checks whether a param has a default value.\n",
      " |  \n",
      " |  hasParam(self, paramName)\n",
      " |      Tests whether this instance contains a param with a given\n",
      " |      (string) name.\n",
      " |  \n",
      " |  isDefined(self, param)\n",
      " |      Checks whether a param is explicitly set by user or has\n",
      " |      a default value.\n",
      " |  \n",
      " |  isSet(self, param)\n",
      " |      Checks whether a param is explicitly set by user.\n",
      " |  \n",
      " |  set(self, param, value)\n",
      " |      Sets a parameter in the embedded param map.\n",
      " |  \n",
      " |  ----------------------------------------------------------------------\n",
      " |  Data descriptors inherited from pyspark.ml.param.Params:\n",
      " |  \n",
      " |  params\n",
      " |      Returns all params ordered by name. The default implementation\n",
      " |      uses :py:func:`dir` to get all attributes of type\n",
      " |      :py:class:`Param`.\n",
      " |  \n",
      " |  ----------------------------------------------------------------------\n",
      " |  Methods inherited from pyspark.ml.util.Identifiable:\n",
      " |  \n",
      " |  __repr__(self)\n",
      " |      Return repr(self).\n",
      " |  \n",
      " |  ----------------------------------------------------------------------\n",
      " |  Data descriptors inherited from pyspark.ml.util.Identifiable:\n",
      " |  \n",
      " |  __dict__\n",
      " |      dictionary for instance variables (if defined)\n",
      " |  \n",
      " |  __weakref__\n",
      " |      list of weak references to the object (if defined)\n",
      " |  \n",
      " |  ----------------------------------------------------------------------\n",
      " |  Class methods inherited from pyspark.ml.util.MLReadable:\n",
      " |  \n",
      " |  load(path) from builtins.type\n",
      " |      Reads an ML instance from the input path, a shortcut of `read().load(path)`.\n",
      " |  \n",
      " |  ----------------------------------------------------------------------\n",
      " |  Methods inherited from pyspark.ml.util.MLWritable:\n",
      " |  \n",
      " |  save(self, path)\n",
      " |      Save this ML instance to the given path, a shortcut of 'write().save(path)'.\n",
      "\n"
     ]
    }
   ],
   "source": [
    "from pyspark.ml.tuning import TrainValidationSplit, CrossValidator\n",
    "\n",
    "help(TrainValidationSplit)"
   ]
  },
  {
   "cell_type": "markdown",
   "metadata": {
    "colab_type": "text",
    "id": "mre3lKi35_kN"
   },
   "source": [
    "### Params and Evaluators\n",
    "\n",
    "In order to evaluate different sets of parameters, we need a) the set of parameters to iterate through and b) a metric to compare the results. \n",
    "\n",
    "The first element is represented by ParamMaps, which we build with a ParamGridBuilder, and the second by an Evaluator that needs to be specific to the relevant task."
   ]
  },
  {
   "cell_type": "code",
   "execution_count": 187,
   "metadata": {
    "colab": {},
    "colab_type": "code",
    "executionInfo": {
     "elapsed": 1197,
     "status": "ok",
     "timestamp": 1594465264287,
     "user": {
      "displayName": "Felipe Fernandez pomar",
      "photoUrl": "https://lh3.googleusercontent.com/a-/AOh14GjAIBB1UUNahiuBW35nhzx_0hZxW-dTtBh-sbrK0Q=s64",
      "userId": "06620814048662575791"
     },
     "user_tz": -120
    },
    "id": "C5woIRri5_kO"
   },
   "outputs": [],
   "source": [
    "from pyspark.ml.tuning import ParamGridBuilder\n",
    "\n",
    "builder = ParamGridBuilder()\n",
    "\n",
    "our_param_map = builder.addGrid(rf_classifier.maxDepth, [5, 15])\\\n",
    "                       .addGrid(rf_classifier.numTrees, [10,30])\\\n",
    "                       .build()"
   ]
  },
  {
   "cell_type": "code",
   "execution_count": 188,
   "metadata": {
    "colab": {},
    "colab_type": "code",
    "executionInfo": {
     "elapsed": 649,
     "status": "ok",
     "timestamp": 1594465264289,
     "user": {
      "displayName": "Felipe Fernandez pomar",
      "photoUrl": "https://lh3.googleusercontent.com/a-/AOh14GjAIBB1UUNahiuBW35nhzx_0hZxW-dTtBh-sbrK0Q=s64",
      "userId": "06620814048662575791"
     },
     "user_tz": -120
    },
    "id": "nfeKPTsMByI3"
   },
   "outputs": [],
   "source": [
    "from pyspark.ml.evaluation import BinaryClassificationEvaluator\n",
    "\n",
    "our_evaluator = BinaryClassificationEvaluator(labelCol = 'Delayed')"
   ]
  },
  {
   "cell_type": "markdown",
   "metadata": {
    "colab_type": "text",
    "id": "_fRPI5wT5_kQ"
   },
   "source": [
    "We now have all the elements in place to perform our fit:"
   ]
  },
  {
   "cell_type": "code",
   "execution_count": 189,
   "metadata": {
    "colab": {},
    "colab_type": "code",
    "executionInfo": {
     "elapsed": 1049,
     "status": "ok",
     "timestamp": 1594465267348,
     "user": {
      "displayName": "Felipe Fernandez pomar",
      "photoUrl": "https://lh3.googleusercontent.com/a-/AOh14GjAIBB1UUNahiuBW35nhzx_0hZxW-dTtBh-sbrK0Q=s64",
      "userId": "06620814048662575791"
     },
     "user_tz": -120
    },
    "id": "ZuixrGMg5_kR"
   },
   "outputs": [],
   "source": [
    "split = TrainValidationSplit(estimator = pipeline,\n",
    "                             evaluator = our_evaluator,\n",
    "                             estimatorParamMaps = our_param_map)"
   ]
  },
  {
   "cell_type": "markdown",
   "metadata": {
    "colab_type": "text",
    "id": "8W91e6BF5_kU"
   },
   "source": [
    "And now we can predict on the rest of the flights and compare them with reality:"
   ]
  },
  {
   "cell_type": "code",
   "execution_count": 190,
   "metadata": {
    "colab": {
     "base_uri": "https://localhost:8080/",
     "height": 51
    },
    "colab_type": "code",
    "executionInfo": {
     "elapsed": 570816,
     "status": "ok",
     "timestamp": 1594465848903,
     "user": {
      "displayName": "Felipe Fernandez pomar",
      "photoUrl": "https://lh3.googleusercontent.com/a-/AOh14GjAIBB1UUNahiuBW35nhzx_0hZxW-dTtBh-sbrK0Q=s64",
      "userId": "06620814048662575791"
     },
     "user_tz": -120
    },
    "id": "xgdvOMFd5_kU",
    "outputId": "2a52f759-f107-4fcf-db60-8f62022d16c4"
   },
   "outputs": [
    {
     "name": "stdout",
     "output_type": "stream",
     "text": [
      "CPU times: user 1.84 s, sys: 446 ms, total: 2.29 s\n",
      "Wall time: 9min 29s\n"
     ]
    }
   ],
   "source": [
    "%%time\n",
    "\n",
    "split_model_chosen = split.fit(train)"
   ]
  },
  {
   "cell_type": "code",
   "execution_count": 191,
   "metadata": {
    "colab": {
     "base_uri": "https://localhost:8080/",
     "height": 165
    },
    "colab_type": "code",
    "executionInfo": {
     "elapsed": 570569,
     "status": "error",
     "timestamp": 1594465848911,
     "user": {
      "displayName": "Felipe Fernandez pomar",
      "photoUrl": "https://lh3.googleusercontent.com/a-/AOh14GjAIBB1UUNahiuBW35nhzx_0hZxW-dTtBh-sbrK0Q=s64",
      "userId": "06620814048662575791"
     },
     "user_tz": -120
    },
    "id": "kgXCcvThOwtY",
    "outputId": "c7f3c90e-cd44-4b39-8228-d7f6ba82ef6d"
   },
   "outputs": [
    {
     "ename": "AttributeError",
     "evalue": "ignored",
     "output_type": "error",
     "traceback": [
      "\u001b[0;31m---------------------------------------------------------------------------\u001b[0m",
      "\u001b[0;31mAttributeError\u001b[0m                            Traceback (most recent call last)",
      "\u001b[0;32m<ipython-input-191-d858b8bb9030>\u001b[0m in \u001b[0;36m<module>\u001b[0;34m()\u001b[0m\n\u001b[0;32m----> 1\u001b[0;31m \u001b[0msplit_model_chosen\u001b[0m\u001b[0;34m.\u001b[0m\u001b[0mbestModel\u001b[0m\u001b[0;34m.\u001b[0m\u001b[0mstages\u001b[0m\u001b[0;34m[\u001b[0m\u001b[0;34m-\u001b[0m\u001b[0;36m1\u001b[0m\u001b[0;34m]\u001b[0m\u001b[0;34m.\u001b[0m\u001b[0mextractParam\u001b[0m\u001b[0;34m\u001b[0m\u001b[0;34m\u001b[0m\u001b[0m\n\u001b[0m",
      "\u001b[0;31mAttributeError\u001b[0m: 'RandomForestClassificationModel' object has no attribute 'extractParam'"
     ]
    }
   ],
   "source": [
    "split_model_chosen.bestModel.stages[-1].extractParam"
   ]
  },
  {
   "cell_type": "code",
   "execution_count": 192,
   "metadata": {
    "colab": {
     "base_uri": "https://localhost:8080/",
     "height": 51
    },
    "colab_type": "code",
    "executionInfo": {
     "elapsed": 1644,
     "status": "ok",
     "timestamp": 1594466838684,
     "user": {
      "displayName": "Felipe Fernandez pomar",
      "photoUrl": "https://lh3.googleusercontent.com/a-/AOh14GjAIBB1UUNahiuBW35nhzx_0hZxW-dTtBh-sbrK0Q=s64",
      "userId": "06620814048662575791"
     },
     "user_tz": -120
    },
    "id": "56OiLjTHESmg",
    "outputId": "86c15ecc-b751-43a9-ef39-c9344f73615a"
   },
   "outputs": [
    {
     "name": "stdout",
     "output_type": "stream",
     "text": [
      "CPU times: user 50.9 ms, sys: 6.54 ms, total: 57.4 ms\n",
      "Wall time: 298 ms\n"
     ]
    }
   ],
   "source": [
    "%%time\n",
    "\n",
    "predictions = split_model_chosen.transform(test).select('features',\n",
    "                                                        'Delayed',\n",
    "                                                        'RawPrediction',\n",
    "                                                        'probability',\n",
    "                                                        'prediction')"
   ]
  },
  {
   "cell_type": "code",
   "execution_count": 193,
   "metadata": {
    "colab": {
     "base_uri": "https://localhost:8080/",
     "height": 459
    },
    "colab_type": "code",
    "executionInfo": {
     "elapsed": 9021,
     "status": "ok",
     "timestamp": 1594466849291,
     "user": {
      "displayName": "Felipe Fernandez pomar",
      "photoUrl": "https://lh3.googleusercontent.com/a-/AOh14GjAIBB1UUNahiuBW35nhzx_0hZxW-dTtBh-sbrK0Q=s64",
      "userId": "06620814048662575791"
     },
     "user_tz": -120
    },
    "id": "YXssLx5iFnQY",
    "outputId": "ed927341-7b73-4f55-b377-714aff4f8556"
   },
   "outputs": [
    {
     "name": "stdout",
     "output_type": "stream",
     "text": [
      "+--------------------+-------+--------------------+--------------------+----------+\n",
      "|            features|Delayed|       RawPrediction|         probability|prediction|\n",
      "+--------------------+-------+--------------------+--------------------+----------+\n",
      "|(6825,[9,1701,538...|      0|[24.7814140577334...|[0.82604713525778...|       0.0|\n",
      "|(6825,[9,1701,539...|      0|[24.5305857299971...|[0.81768619099990...|       0.0|\n",
      "|(6825,[9,1701,535...|      0|[24.4753550229491...|[0.81584516743163...|       0.0|\n",
      "|(6825,[9,4551,540...|      0|[25.1011358664228...|[0.83670452888076...|       0.0|\n",
      "|(6825,[9,4551,535...|      0|[25.1596697776976...|[0.83865565925658...|       0.0|\n",
      "|(6825,[9,1717,535...|      1|[25.4300438920530...|[0.84766812973510...|       0.0|\n",
      "|(6825,[9,1717,539...|      0|[24.8147243209584...|[0.82715747736528...|       0.0|\n",
      "|(6825,[9,1717,535...|      0|[25.2935932792874...|[0.84311977597624...|       0.0|\n",
      "|(6825,[9,1075,534...|      0|[24.5436677533846...|[0.81812225844615...|       0.0|\n",
      "|(6825,[9,1695,535...|      0|[25.1858361766165...|[0.83952787255388...|       0.0|\n",
      "|(6825,[9,1695,535...|      0|[25.3306236403965...|[0.84435412134655...|       0.0|\n",
      "|(6825,[9,1695,538...|      0|[25.0248505974783...|[0.83416168658261...|       0.0|\n",
      "|(6825,[9,1642,535...|      0|[25.1528195748182...|[0.83842731916060...|       0.0|\n",
      "|(6825,[9,1642,535...|      0|[24.6380022140216...|[0.82126674046738...|       0.0|\n",
      "|(6825,[9,371,5385...|      0|[25.5603884273535...|[0.85201294757845...|       0.0|\n",
      "|(6825,[9,371,5355...|      0|[25.7953041843255...|[0.85984347281085...|       0.0|\n",
      "|(6825,[9,371,5355...|      1|[25.7580953899485...|[0.85860317966495...|       0.0|\n",
      "|(6825,[9,4152,535...|      0|[25.1491962249957...|[0.83830654083319...|       0.0|\n",
      "|(6825,[9,4152,534...|      0|[25.3383638645407...|[0.84461212881802...|       0.0|\n",
      "|(6825,[9,471,5357...|      0|[24.5453519969744...|[0.81817839989914...|       0.0|\n",
      "+--------------------+-------+--------------------+--------------------+----------+\n",
      "only showing top 20 rows\n",
      "\n"
     ]
    }
   ],
   "source": [
    "predictions.show(20)"
   ]
  },
  {
   "cell_type": "markdown",
   "metadata": {
    "colab_type": "text",
    "id": "KtP4ZXRc5_kX"
   },
   "source": [
    "### Let's have a look\n",
    "\n",
    "We are now ready to compare our predictions with reality. Do these features have any predictive power at all?"
   ]
  },
  {
   "cell_type": "code",
   "execution_count": 194,
   "metadata": {
    "colab": {},
    "colab_type": "code",
    "executionInfo": {
     "elapsed": 38777,
     "status": "ok",
     "timestamp": 1594466879507,
     "user": {
      "displayName": "Felipe Fernandez pomar",
      "photoUrl": "https://lh3.googleusercontent.com/a-/AOh14GjAIBB1UUNahiuBW35nhzx_0hZxW-dTtBh-sbrK0Q=s64",
      "userId": "06620814048662575791"
     },
     "user_tz": -120
    },
    "id": "ufZYMl6l5_kY"
   },
   "outputs": [],
   "source": [
    "predicted_probs = predictions.select('Delayed', 'probability').toPandas()"
   ]
  },
  {
   "cell_type": "code",
   "execution_count": 195,
   "metadata": {
    "colab": {},
    "colab_type": "code",
    "executionInfo": {
     "elapsed": 38052,
     "status": "ok",
     "timestamp": 1594466879509,
     "user": {
      "displayName": "Felipe Fernandez pomar",
      "photoUrl": "https://lh3.googleusercontent.com/a-/AOh14GjAIBB1UUNahiuBW35nhzx_0hZxW-dTtBh-sbrK0Q=s64",
      "userId": "06620814048662575791"
     },
     "user_tz": -120
    },
    "id": "csWbePc8GgBt"
   },
   "outputs": [],
   "source": [
    "y_true = predicted_probs['Delayed']\n",
    "y_prob_predicted = predicted_probs['probability'].map(lambda vector: vector[1])"
   ]
  },
  {
   "cell_type": "code",
   "execution_count": 196,
   "metadata": {
    "colab": {},
    "colab_type": "code",
    "executionInfo": {
     "elapsed": 37827,
     "status": "ok",
     "timestamp": 1594466879512,
     "user": {
      "displayName": "Felipe Fernandez pomar",
      "photoUrl": "https://lh3.googleusercontent.com/a-/AOh14GjAIBB1UUNahiuBW35nhzx_0hZxW-dTtBh-sbrK0Q=s64",
      "userId": "06620814048662575791"
     },
     "user_tz": -120
    },
    "id": "uyQZLjV2Gi2G"
   },
   "outputs": [],
   "source": [
    "from sklearn.metrics import roc_curve\n",
    "\n",
    "fpr, tpr, thresholds = roc_curve(y_true, y_prob_predicted)"
   ]
  },
  {
   "cell_type": "code",
   "execution_count": 199,
   "metadata": {
    "colab": {
     "base_uri": "https://localhost:8080/",
     "height": 282
    },
    "colab_type": "code",
    "executionInfo": {
     "elapsed": 1015,
     "status": "ok",
     "timestamp": 1594467026817,
     "user": {
      "displayName": "Felipe Fernandez pomar",
      "photoUrl": "https://lh3.googleusercontent.com/a-/AOh14GjAIBB1UUNahiuBW35nhzx_0hZxW-dTtBh-sbrK0Q=s64",
      "userId": "06620814048662575791"
     },
     "user_tz": -120
    },
    "id": "l1jao4OYGnMN",
    "outputId": "a5062c91-4f66-4788-a3bf-6cd3dc7769b5"
   },
   "outputs": [
    {
     "data": {
      "text/plain": [
       "[<matplotlib.lines.Line2D at 0x7f262673ec18>]"
      ]
     },
     "execution_count": 199,
     "metadata": {
      "tags": []
     },
     "output_type": "execute_result"
    },
    {
     "data": {
      "image/png": "[encoded data removed]",
      "text/plain": [
       "<Figure size 432x288 with 1 Axes>"
      ]
     },
     "metadata": {
      "needs_background": "light",
      "tags": []
     },
     "output_type": "display_data"
    }
   ],
   "source": [
    "import matplotlib.pyplot as plt\n",
    "import numpy as np\n",
    "%matplotlib inline\n",
    "\n",
    "plt.plot(fpr, tpr)\n",
    "plt.plot(np.linspace(0,1, 10), np.linspace(0,1, 10))"
   ]
  },
  {
   "cell_type": "code",
   "execution_count": 198,
   "metadata": {
    "colab": {
     "base_uri": "https://localhost:8080/",
     "height": 34
    },
    "colab_type": "code",
    "executionInfo": {
     "elapsed": 36674,
     "status": "error",
     "timestamp": 1594466879513,
     "user": {
      "displayName": "Felipe Fernandez pomar",
      "photoUrl": "https://lh3.googleusercontent.com/a-/AOh14GjAIBB1UUNahiuBW35nhzx_0hZxW-dTtBh-sbrK0Q=s64",
      "userId": "06620814048662575791"
     },
     "user_tz": -120
    },
    "id": "BNmDTfvHiZRy",
    "outputId": "51b96450-2175-4852-dfab-fb8e42da3bc3"
   },
   "outputs": [
    {
     "name": "stderr",
     "output_type": "stream",
     "text": [
      "UsageError: Unknown variable 'fpr_new,'\n"
     ]
    }
   ],
   "source": [
    "fpr_new = fpr\n",
    "tpr_new = tpr\n",
    "%store fpr_new, tpr_new"
   ]
  },
  {
   "cell_type": "code",
   "execution_count": null,
   "metadata": {
    "colab": {},
    "colab_type": "code",
    "id": "UpTs-B0uigq4"
   },
   "outputs": [],
   "source": [
    "%store -r"
   ]
  },
  {
   "cell_type": "markdown",
   "metadata": {
    "colab_type": "text",
    "id": "i_bCMgDh5_kf"
   },
   "source": [
    "Not bad, considering we have not performed any feature engineering at all!"
   ]
  },
  {
   "cell_type": "markdown",
   "metadata": {
    "colab_type": "text",
    "id": "2KLPuvHV5_kg"
   },
   "source": [
    "### Further Reading\n",
    "\n",
    "https://spark.apache.org/docs/latest/ml-tuning.html\n",
    "\n",
    "https://stackoverflow.com/questions/28569788/how-to-open-stream-zip-files-through-spark"
   ]
  },
  {
   "cell_type": "code",
   "execution_count": 113,
   "metadata": {
    "colab": {},
    "colab_type": "code",
    "executionInfo": {
     "elapsed": 1206928,
     "status": "ok",
     "timestamp": 1594463945541,
     "user": {
      "displayName": "Felipe Fernandez pomar",
      "photoUrl": "https://lh3.googleusercontent.com/a-/AOh14GjAIBB1UUNahiuBW35nhzx_0hZxW-dTtBh-sbrK0Q=s64",
      "userId": "06620814048662575791"
     },
     "user_tz": -120
    },
    "id": "EQT78hF65_kg"
   },
   "outputs": [],
   "source": [
    "# Spark job for the cluster\n",
    "\n",
    "from pyspark.sql import SparkSession, types, functions\n",
    "from pyspark.ml.classification import RandomForestClassifier\n",
    "from pyspark.ml.evaluation import BinaryClassificationEvaluator\n",
    "from pyspark.ml.feature import OneHotEncoder, StringIndexer, VectorAssembler\n",
    "from pyspark.ml.pipeline import Pipeline\n",
    "from pyspark.ml.tuning import TrainValidationSplit, ParamGridBuilder\n",
    "\n",
    "\n",
    "spark = SparkSession.builder.getOrCreate()\n",
    "df = spark.read.csv(csvname, header= True, inferSchema=True)\n",
    "\n",
    "# Preprocessing\n",
    "csvname = 'On_Time_Reporting_Carrier_On_Time_Performance_(1987_present)_2018_12.csv.gz'\n",
    "columns_of_interest = ['Year', 'Month', 'DayofMonth', 'DayOfWeek', 'Reporting_Airline', 'Tail_Number', 'Flight_Number_Reporting_Airline', 'Origin', \n",
    "                       'OriginCityName', 'OriginStateName', 'Dest', 'DestCityName', 'DestStateName',\n",
    "                       'DepTime', 'DepDelay', 'AirTime', 'Distance']\n",
    "\n",
    "\n",
    "# Feature extraction\n",
    "flights = spark.read.csv(csvname, header=True, inferSchema=True)\n",
    "flights = flights.select(columns_of_interest)\n",
    "\n",
    "flights = flights.na.drop()\n",
    "flights = flights.withColumn('DepHour', (flights['DepTime'] / 100).cast(types.IntegerType()))\n",
    "flights = flights.withColumn('Delayed', (flights['DepDelay'] > 15).cast(types.IntegerType()))\n",
    "\n",
    "# Train/test split\n",
    "flights_sample, test = flights.randomSplit([.8, .2])\n",
    "\n",
    "# Build the Pipeline\n",
    "categorical_fields = ['Year', 'Month', 'DayofMonth', 'DayOfWeek', 'Reporting_Airline', \n",
    "                      'Origin', 'OriginCityName', 'OriginStateName', \n",
    "                      'Dest', 'DestCityName', 'DestStateName']\n",
    "\n",
    "string_fields = [field.name for field in flights_sample.schema.fields if field.dataType == types.StringType()]\n",
    "\n",
    "continuous_fields = ['Distance', 'DepHour']\n",
    "\n",
    "target_field = 'Delayed'\n",
    "\n",
    "indexers = [StringIndexer(inputCol=field, outputCol=field + 'Index', handleInvalid='keep') for field in string_fields]\n",
    "non_string_categoricals = [field for field in categorical_fields if field not in string_fields]\n",
    "non_string_categorical_onehotencoders = [OneHotEncoder(inputCol=field, outputCol=field + 'OneHot') for field in non_string_categoricals]\n",
    "string_categorical_onehotencoders = [OneHotEncoder(inputCol=field+'Index', outputCol=field + 'OneHot') for field in string_fields]\n",
    "\n",
    "input_cols_onehotencoded = [field + 'OneHot' for field in categorical_fields]\n",
    "\n",
    "va = VectorAssembler(inputCols= input_cols_onehotencoded + continuous_fields, outputCol='features')\n",
    "\n",
    "rf_classifier = RandomForestClassifier(featuresCol='features', labelCol='Delayed')\n",
    "\n",
    "pipeline = Pipeline(stages=indexers + \n",
    "                    string_categorical_onehotencoders + \n",
    "                    non_string_categorical_onehotencoders + \n",
    "                    [va] + \n",
    "                    [rf_classifier])\n",
    "\n",
    "#Tuning and Training\n",
    "builder = ParamGridBuilder()\n",
    "\n",
    "our_param_map = builder.addGrid(rf_classifier.maxDepth, [5, 15])\\\n",
    "                       .addGrid(rf_classifier.numTrees, [10, 30])\\\n",
    "                       .build()        \n",
    "\n",
    "our_evaluator = BinaryClassificationEvaluator(labelCol='Delayed')\n",
    "\n",
    "split = TrainValidationSplit(estimator=pipeline, \n",
    "                             evaluator=our_evaluator, \n",
    "                             estimatorParamMaps=our_param_map)\n",
    "\n",
    "split_model_chosen = split.fit(flights_sample)\n",
    "predicted = split_model_chosen.transform(test)\n",
    "predictions = predicted.select('features',\n",
    "                               'Delayed',\n",
    "                               'rawPrediction',\n",
    "                               'probability',\n",
    "                               'prediction')\n",
    "\n",
    "predicted.write.json('out/predicted')\n",
    "split_model_chosen.bestModel.save('out/split_model_chosen')"
   ]
  },
  {
   "cell_type": "code",
   "execution_count": null,
   "metadata": {
    "colab": {},
    "colab_type": "code",
    "id": "GrHy7r72EvYx"
   },
   "outputs": [],
   "source": [
    "# Check output\n",
    "predicted_probs = predictions.select('Delayed', 'probability').toPandas()\n",
    "y_true = predicted_probs['Delayed']\n",
    "y_prob_predicted = predicted_probs['probability'].map(lambda vector: vector[1])\n",
    "\n",
    "from sklearn.metrics import roc_curve\n",
    "\n",
    "fpr, tpr, thresholds = roc_curve(y_true, y_prob_predicted)\n",
    "import matplotlib.pyplot as plt\n",
    "import numpy as np\n",
    "%matplotlib inline\n",
    "\n",
    "plt.plot(fpr, tpr)\n",
    "plt.plot(np.linspace(0,1, 10), np.linspace(0,1, 10))"
   ]
  },
  {
   "cell_type": "code",
   "execution_count": null,
   "metadata": {
    "colab": {},
    "colab_type": "code",
    "id": "qz-mbMtsJHvd"
   },
   "outputs": [],
   "source": [
    "\n"
   ]
  },
  {
   "cell_type": "code",
   "execution_count": null,
   "metadata": {
    "colab": {},
    "colab_type": "code",
    "id": "bzdr8jbfwEpq"
   },
   "outputs": [],
   "source": [
    ""
   ]
  }
 ],
 "metadata": {
  "colab": {
   "collapsed_sections": [],
   "name": "05-ML_in_Spark.empty.ipynb",
   "provenance": []
  },
  "kernelspec": {
   "display_name": "Python 3",
   "language": "python",
   "name": "python3"
  },
  "language_info": {
   "codemirror_mode": {
    "name": "ipython",
    "version": 3
   },
   "file_extension": ".py",
   "mimetype": "text/x-python",
   "name": "python",
   "nbconvert_exporter": "python",
   "pygments_lexer": "ipython3",
   "version": "3.7.7"
  }
 },
 "nbformat": 4,
 "nbformat_minor": 0
}
