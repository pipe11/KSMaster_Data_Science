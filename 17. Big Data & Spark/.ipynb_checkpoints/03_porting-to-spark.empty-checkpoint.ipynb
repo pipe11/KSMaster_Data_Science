{
 "cells": [
  {
   "cell_type": "markdown",
   "metadata": {
    "colab_type": "text",
    "id": "4JwijDDqDbMR"
   },
   "source": [
    "# Porting an analysis from local to distributed\n",
    "\n",
    "<a href = \"http://yogen.io\"><img src=\"http://yogen.io/assets/logo.svg\" alt=\"yogen\" style=\"width: 200px; float: right;\"/></a>"
   ]
  },
  {
   "cell_type": "markdown",
   "metadata": {
    "colab_type": "text",
    "id": "OPWm3kXSDbMS"
   },
   "source": [
    "Now comes the opportunity to put in practice what we have just learned!"
   ]
  },
  {
   "cell_type": "markdown",
   "metadata": {
    "colab_type": "text",
    "id": "HqrAiz_HDbMT"
   },
   "source": [
    "### If you are running this notebook in Google Colab\n",
    "\n",
    "Copy the following to a code cell and run it. It will install and set up Spark for you.\n",
    "\n",
    "```python\n",
    "!apt-get install openjdk-8-jdk-headless -qq > /dev/null\n",
    "!wget -q http://apache.uvigo.es/spark/spark-2.4.6/spark-2.4.6-bin-hadoop2.7.tgz\n",
    "!tar -xf spark-2.4.6-bin-hadoop2.7.tgz\n",
    "!pip install -q findspark\n",
    "\n",
    "import os\n",
    "import findspark\n",
    "from pyspark.sql import SparkSession\n",
    "\n",
    "os.environ[\"JAVA_HOME\"] = \"/usr/lib/jvm/java-8-openjdk-amd64\"\n",
    "os.environ[\"SPARK_HOME\"] = \"/content/spark-2.4.6-bin-hadoop2.7\"\n",
    "findspark.init()\n",
    "spark = SparkSession.builder.master(\"local[*]\").getOrCreate()\n",
    "```"
   ]
  },
  {
   "cell_type": "code",
   "execution_count": null,
   "metadata": {
    "colab": {
     "base_uri": "https://localhost:8080/",
     "height": 72
    },
    "colab_type": "code",
    "executionInfo": {
     "elapsed": 81962,
     "status": "ok",
     "timestamp": 1596297559217,
     "user": {
      "displayName": "Felipe Fernandez pomar",
      "photoUrl": "https://lh3.googleusercontent.com/a-/AOh14GjAIBB1UUNahiuBW35nhzx_0hZxW-dTtBh-sbrK0Q=s64",
      "userId": "06620814048662575791"
     },
     "user_tz": -120
    },
    "id": "SARBcdzpDbMU",
    "outputId": "f0712e92-4ce4-46ab-ef81-1af400e24d05"
   },
   "outputs": [
    {
     "name": "stdout",
     "output_type": "stream",
     "text": [
      "\u001b[K     |████████████████████████████████| 218.4MB 59kB/s \n",
      "\u001b[K     |████████████████████████████████| 204kB 42.7MB/s \n",
      "\u001b[?25h  Building wheel for pyspark (setup.py) ... \u001b[?25l\u001b[?25hdone\n"
     ]
    }
   ],
   "source": [
    "!apt-get install openjdk-8-jdk-headless -qq > /dev/null\n",
    "!wget -q http://apache.uvigo.es/spark/spark-2.4.6/spark-2.4.6-bin-hadoop2.7.tgz\n",
    "!tar -xf spark-2.4.6-bin-hadoop2.7.tgz\n",
    "!pip install -q findspark pyspark==2.4.6\n",
    " \n",
    "import os\n",
    "import findspark\n",
    "from pyspark.sql import SparkSession\n",
    " \n",
    "os.environ[\"JAVA_HOME\"] = \"/usr/lib/jvm/java-8-openjdk-amd64\"\n",
    "os.environ[\"SPARK_HOME\"] = \"/content/spark-2.4.6-bin-hadoop2.7\"\n",
    "findspark.init()\n",
    "spark = SparkSession.builder.master(\"local[*]\").getOrCreate()"
   ]
  },
  {
   "cell_type": "markdown",
   "metadata": {
    "colab_type": "text",
    "id": "uXalDTLVDbMa"
   },
   "source": [
    "# Guided exercise\n",
    "\n",
    "Recreate the boxplot we did in the pandas section, in Spark!\n",
    "\n",
    "Since matplotlib boxplot needs all the data and that would be unfeasible with Big Data, we will calculate the quartiles ourselves.\n",
    "\n",
    "Once the analysis is ported, we will be able to run it on the whole historical series! You can find it at https://transtats.bts.gov (On time performance reporting carrier)."
   ]
  },
  {
   "cell_type": "markdown",
   "metadata": {
    "colab_type": "text",
    "id": "b2rGyKPvDbMa"
   },
   "source": [
    "##  Workflow\n",
    "\n",
    "The basic idea is the same that we applied in the Amadeus Challenge:\n",
    "\n",
    "* Build prototype with small data: in this section, we will be using `06-intro_to_pandas_practical.ipynb` as our already made prototype\n",
    "\n",
    "* Modify your prototype so that it works with Big Data: In this case, it means porting it to Spark\n",
    "\n",
    "* Test your \"Big Data\" prototype with small data: We will first test it with a sample locally, then upload it to a cluster and test it with Big Data.\n",
    "\n",
    "    * You can run your analyses building your own cluster and storage bucket in Google Cloud Storage. More in notebook #4!\n",
    "\n",
    "* Run your prototype with Big Data.\n",
    "\n",
    "    \n"
   ]
  },
  {
   "cell_type": "markdown",
   "metadata": {
    "colab_type": "text",
    "id": "4gs9TKFtDbMb"
   },
   "source": [
    "## Modify the prototype so that it works with Big Data"
   ]
  },
  {
   "cell_type": "markdown",
   "metadata": {
    "colab_type": "text",
    "id": "Hb_9FTP_DbMi"
   },
   "source": [
    "## Read csv\n",
    "\n",
    "We'll use the `SparkSession.read.csv` method."
   ]
  },
  {
   "cell_type": "code",
   "execution_count": null,
   "metadata": {
    "colab": {
     "base_uri": "https://localhost:8080/",
     "height": 309
    },
    "colab_type": "code",
    "executionInfo": {
     "elapsed": 6479,
     "status": "ok",
     "timestamp": 1594394769571,
     "user": {
      "displayName": "Felipe Fernandez pomar",
      "photoUrl": "https://lh3.googleusercontent.com/a-/AOh14GjAIBB1UUNahiuBW35nhzx_0hZxW-dTtBh-sbrK0Q=s64",
      "userId": "06620814048662575791"
     },
     "user_tz": -120
    },
    "id": "LvrmoEN-DbMi",
    "outputId": "7613b26b-1bb0-48ed-a5ed-00b984dc8108"
   },
   "outputs": [
    {
     "name": "stdout",
     "output_type": "stream",
     "text": [
      "+----+-------+-----+----------+---------+----------+-----------------+------------------------+---------------------------+-----------+-------------------------------+---------------+------------------+------------------+------+--------------+-----------+---------------+---------------+---------+-------------+----------------+----------------+----+----------------+---------+-------------+-------------+-------+----------+-------+--------+---------------+--------+--------------------+----------+-------+---------+--------+------+----------+-------+--------+---------------+--------+------------------+----------+---------+----------------+--------+--------------+-----------------+-------+-------+--------+-------------+------------+------------+--------+-------------+-----------------+------------+-------------+---------------+------------------+--------------+--------------------+-----------+-----------+-----------+-------------+----------------+------------+--------------+----------------+-------------+-----------+-----------+-------------+----------------+------------+--------------+----------------+-------------+-----------+-----------+-------------+----------------+------------+--------------+----------------+-------------+-----------+-----------+-------------+----------------+------------+--------------+----------------+-------------+-----------+-----------+-------------+----------------+------------+--------------+----------------+-------------+-----------+-----+\n",
      "|Year|Quarter|Month|DayofMonth|DayOfWeek|FlightDate|Reporting_Airline|DOT_ID_Reporting_Airline|IATA_CODE_Reporting_Airline|Tail_Number|Flight_Number_Reporting_Airline|OriginAirportID|OriginAirportSeqID|OriginCityMarketID|Origin|OriginCityName|OriginState|OriginStateFips|OriginStateName|OriginWac|DestAirportID|DestAirportSeqID|DestCityMarketID|Dest|    DestCityName|DestState|DestStateFips|DestStateName|DestWac|CRSDepTime|DepTime|DepDelay|DepDelayMinutes|DepDel15|DepartureDelayGroups|DepTimeBlk|TaxiOut|WheelsOff|WheelsOn|TaxiIn|CRSArrTime|ArrTime|ArrDelay|ArrDelayMinutes|ArrDel15|ArrivalDelayGroups|ArrTimeBlk|Cancelled|CancellationCode|Diverted|CRSElapsedTime|ActualElapsedTime|AirTime|Flights|Distance|DistanceGroup|CarrierDelay|WeatherDelay|NASDelay|SecurityDelay|LateAircraftDelay|FirstDepTime|TotalAddGTime|LongestAddGTime|DivAirportLandings|DivReachedDest|DivActualElapsedTime|DivArrDelay|DivDistance|Div1Airport|Div1AirportID|Div1AirportSeqID|Div1WheelsOn|Div1TotalGTime|Div1LongestGTime|Div1WheelsOff|Div1TailNum|Div2Airport|Div2AirportID|Div2AirportSeqID|Div2WheelsOn|Div2TotalGTime|Div2LongestGTime|Div2WheelsOff|Div2TailNum|Div3Airport|Div3AirportID|Div3AirportSeqID|Div3WheelsOn|Div3TotalGTime|Div3LongestGTime|Div3WheelsOff|Div3TailNum|Div4Airport|Div4AirportID|Div4AirportSeqID|Div4WheelsOn|Div4TotalGTime|Div4LongestGTime|Div4WheelsOff|Div4TailNum|Div5Airport|Div5AirportID|Div5AirportSeqID|Div5WheelsOn|Div5TotalGTime|Div5LongestGTime|Div5WheelsOff|Div5TailNum|_c109|\n",
      "+----+-------+-----+----------+---------+----------+-----------------+------------------------+---------------------------+-----------+-------------------------------+---------------+------------------+------------------+------+--------------+-----------+---------------+---------------+---------+-------------+----------------+----------------+----+----------------+---------+-------------+-------------+-------+----------+-------+--------+---------------+--------+--------------------+----------+-------+---------+--------+------+----------+-------+--------+---------------+--------+------------------+----------+---------+----------------+--------+--------------+-----------------+-------+-------+--------+-------------+------------+------------+--------+-------------+-----------------+------------+-------------+---------------+------------------+--------------+--------------------+-----------+-----------+-----------+-------------+----------------+------------+--------------+----------------+-------------+-----------+-----------+-------------+----------------+------------+--------------+----------------+-------------+-----------+-----------+-------------+----------------+------------+--------------+----------------+-------------+-----------+-----------+-------------+----------------+------------+--------------+----------------+-------------+-----------+-----------+-------------+----------------+------------+--------------+----------------+-------------+-----------+-----+\n",
      "|2018|      4|   12|        25|        2|2018-12-25|               WN|                   19393|                         WN|     N566WN|                           1823|          13796|           1379608|             32457|   OAK|   Oakland, CA|         CA|             06|     California|       91|        11884|         1188402|           31884| GEG|     Spokane, WA|       WA|           53|   Washington|     93|      1030|   1048|   18.00|          18.00|    1.00|                   1| 1000-1059|  12.00|     1100|    1251|  4.00|      1230|   1255|   25.00|          25.00|    1.00|                 1| 1200-1259|     0.00|            null|    0.00|        120.00|           127.00| 111.00|   1.00|  723.00|            3|       18.00|        0.00|    7.00|         0.00|             0.00|        null|         null|           null|                 0|          null|                null|       null|       null|       null|         null|            null|        null|          null|            null|         null|       null|       null|         null|            null|        null|          null|            null|         null|       null|       null|         null|            null|        null|          null|            null|         null|       null|       null|         null|            null|        null|          null|            null|         null|       null|       null|         null|            null|        null|          null|            null|         null|       null| null|\n",
      "|2018|      4|   12|        25|        2|2018-12-25|               WN|                   19393|                         WN|     N562WN|                            982|          13796|           1379608|             32457|   OAK|   Oakland, CA|         CA|             06|     California|       91|        12191|         1219102|           31453| HOU|     Houston, TX|       TX|           48|        Texas|     74|      0640|   0638|   -2.00|           0.00|    0.00|                  -1| 0600-0659|  11.00|     0649|    1213|  3.00|      1225|   1216|   -9.00|           0.00|    0.00|                -1| 1200-1259|     0.00|            null|    0.00|        225.00|           218.00| 204.00|   1.00| 1642.00|            7|        null|        null|    null|         null|             null|        null|         null|           null|                 0|          null|                null|       null|       null|       null|         null|            null|        null|          null|            null|         null|       null|       null|         null|            null|        null|          null|            null|         null|       null|       null|         null|            null|        null|          null|            null|         null|       null|       null|         null|            null|        null|          null|            null|         null|       null|       null|         null|            null|        null|          null|            null|         null|       null| null|\n",
      "|2018|      4|   12|        25|        2|2018-12-25|               WN|                   19393|                         WN|     N8611F|                           1562|          13796|           1379608|             32457|   OAK|   Oakland, CA|         CA|             06|     California|       91|        12191|         1219102|           31453| HOU|     Houston, TX|       TX|           48|        Texas|     74|      1710|   1710|    0.00|           0.00|    0.00|                   0| 1700-1759|   8.00|     1718|    2245|  4.00|      2250|   2249|   -1.00|           0.00|    0.00|                -1| 2200-2259|     0.00|            null|    0.00|        220.00|           219.00| 207.00|   1.00| 1642.00|            7|        null|        null|    null|         null|             null|        null|         null|           null|                 0|          null|                null|       null|       null|       null|         null|            null|        null|          null|            null|         null|       null|       null|         null|            null|        null|          null|            null|         null|       null|       null|         null|            null|        null|          null|            null|         null|       null|       null|         null|            null|        null|          null|            null|         null|       null|       null|         null|            null|        null|          null|            null|         null|       null| null|\n",
      "|2018|      4|   12|        25|        2|2018-12-25|               WN|                   19393|                         WN|     N7721E|                           1687|          13796|           1379608|             32457|   OAK|   Oakland, CA|         CA|             06|     California|       91|        12191|         1219102|           31453| HOU|     Houston, TX|       TX|           48|        Texas|     74|      1320|   1318|   -2.00|           0.00|    0.00|                  -1| 1300-1359|   9.00|     1327|    1851|  5.00|      1855|   1856|    1.00|           1.00|    0.00|                 0| 1800-1859|     0.00|            null|    0.00|        215.00|           218.00| 204.00|   1.00| 1642.00|            7|        null|        null|    null|         null|             null|        null|         null|           null|                 0|          null|                null|       null|       null|       null|         null|            null|        null|          null|            null|         null|       null|       null|         null|            null|        null|          null|            null|         null|       null|       null|         null|            null|        null|          null|            null|         null|       null|       null|         null|            null|        null|          null|            null|         null|       null|       null|         null|            null|        null|          null|            null|         null|       null| null|\n",
      "|2018|      4|   12|        25|        2|2018-12-25|               WN|                   19393|                         WN|     N218WN|                           1877|          13796|           1379608|             32457|   OAK|   Oakland, CA|         CA|             06|     California|       91|        12191|         1219102|           31453| HOU|     Houston, TX|       TX|           48|        Texas|     74|      0955|   0953|   -2.00|           0.00|    0.00|                  -1| 0900-0959|  12.00|     1005|    1530|  3.00|      1540|   1533|   -7.00|           0.00|    0.00|                -1| 1500-1559|     0.00|            null|    0.00|        225.00|           220.00| 205.00|   1.00| 1642.00|            7|        null|        null|    null|         null|             null|        null|         null|           null|                 0|          null|                null|       null|       null|       null|         null|            null|        null|          null|            null|         null|       null|       null|         null|            null|        null|          null|            null|         null|       null|       null|         null|            null|        null|          null|            null|         null|       null|       null|         null|            null|        null|          null|            null|         null|       null|       null|         null|            null|        null|          null|            null|         null|       null| null|\n",
      "|2018|      4|   12|        25|        2|2018-12-25|               WN|                   19393|                         WN|     N8615E|                            646|          13796|           1379608|             32457|   OAK|   Oakland, CA|         CA|             06|     California|       91|        12339|         1233904|           32337| IND|Indianapolis, IN|       IN|           18|      Indiana|     42|      1645|   1646|    1.00|           1.00|    0.00|                   0| 1600-1659|  10.00|     1656|    2332|  4.00|      2345|   2336|   -9.00|           0.00|    0.00|                -1| 2300-2359|     0.00|            null|    0.00|        240.00|           230.00| 216.00|   1.00| 1933.00|            8|        null|        null|    null|         null|             null|        null|         null|           null|                 0|          null|                null|       null|       null|       null|         null|            null|        null|          null|            null|         null|       null|       null|         null|            null|        null|          null|            null|         null|       null|       null|         null|            null|        null|          null|            null|         null|       null|       null|         null|            null|        null|          null|            null|         null|       null|       null|         null|            null|        null|          null|            null|         null|       null| null|\n",
      "|2018|      4|   12|        25|        2|2018-12-25|               WN|                   19393|                         WN|     N704SW|                            353|          13796|           1379608|             32457|   OAK|   Oakland, CA|         CA|             06|     California|       91|        12889|         1288903|           32211| LAS|   Las Vegas, NV|       NV|           32|       Nevada|     85|      1800|   1813|   13.00|          13.00|    0.00|                   0| 1800-1859|   9.00|     1822|    1926|  6.00|      1925|   1932|    7.00|           7.00|    0.00|                 0| 1900-1959|     0.00|            null|    0.00|         85.00|            79.00|  64.00|   1.00|  407.00|            2|        null|        null|    null|         null|             null|        null|         null|           null|                 0|          null|                null|       null|       null|       null|         null|            null|        null|          null|            null|         null|       null|       null|         null|            null|        null|          null|            null|         null|       null|       null|         null|            null|        null|          null|            null|         null|       null|       null|         null|            null|        null|          null|            null|         null|       null|       null|         null|            null|        null|          null|            null|         null|       null| null|\n",
      "|2018|      4|   12|        25|        2|2018-12-25|               WN|                   19393|                         WN|     N785SW|                            661|          13796|           1379608|             32457|   OAK|   Oakland, CA|         CA|             06|     California|       91|        12889|         1288903|           32211| LAS|   Las Vegas, NV|       NV|           32|       Nevada|     85|      1450|   1450|    0.00|           0.00|    0.00|                   0| 1400-1459|  10.00|     1500|    1602|  5.00|      1615|   1607|   -8.00|           0.00|    0.00|                -1| 1600-1659|     0.00|            null|    0.00|         85.00|            77.00|  62.00|   1.00|  407.00|            2|        null|        null|    null|         null|             null|        null|         null|           null|                 0|          null|                null|       null|       null|       null|         null|            null|        null|          null|            null|         null|       null|       null|         null|            null|        null|          null|            null|         null|       null|       null|         null|            null|        null|          null|            null|         null|       null|       null|         null|            null|        null|          null|            null|         null|       null|       null|         null|            null|        null|          null|            null|         null|       null| null|\n",
      "|2018|      4|   12|        25|        2|2018-12-25|               WN|                   19393|                         WN|     N8657B|                           1068|          13796|           1379608|             32457|   OAK|   Oakland, CA|         CA|             06|     California|       91|        12889|         1288903|           32211| LAS|   Las Vegas, NV|       NV|           32|       Nevada|     85|      0955|   0953|   -2.00|           0.00|    0.00|                  -1| 0900-0959|  16.00|     1009|    1111|  5.00|      1120|   1116|   -4.00|           0.00|    0.00|                -1| 1100-1159|     0.00|            null|    0.00|         85.00|            83.00|  62.00|   1.00|  407.00|            2|        null|        null|    null|         null|             null|        null|         null|           null|                 0|          null|                null|       null|       null|       null|         null|            null|        null|          null|            null|         null|       null|       null|         null|            null|        null|          null|            null|         null|       null|       null|         null|            null|        null|          null|            null|         null|       null|       null|         null|            null|        null|          null|            null|         null|       null|       null|         null|            null|        null|          null|            null|         null|       null| null|\n",
      "|2018|      4|   12|        25|        2|2018-12-25|               WN|                   19393|                         WN|     N419WN|                           1498|          13796|           1379608|             32457|   OAK|   Oakland, CA|         CA|             06|     California|       91|        12889|         1288903|           32211| LAS|   Las Vegas, NV|       NV|           32|       Nevada|     85|      1225|   1219|   -6.00|           0.00|    0.00|                  -1| 1200-1259|  10.00|     1229|    1336|  4.00|      1350|   1340|  -10.00|           0.00|    0.00|                -1| 1300-1359|     0.00|            null|    0.00|         85.00|            81.00|  67.00|   1.00|  407.00|            2|        null|        null|    null|         null|             null|        null|         null|           null|                 0|          null|                null|       null|       null|       null|         null|            null|        null|          null|            null|         null|       null|       null|         null|            null|        null|          null|            null|         null|       null|       null|         null|            null|        null|          null|            null|         null|       null|       null|         null|            null|        null|          null|            null|         null|       null|       null|         null|            null|        null|          null|            null|         null|       null| null|\n",
      "+----+-------+-----+----------+---------+----------+-----------------+------------------------+---------------------------+-----------+-------------------------------+---------------+------------------+------------------+------+--------------+-----------+---------------+---------------+---------+-------------+----------------+----------------+----+----------------+---------+-------------+-------------+-------+----------+-------+--------+---------------+--------+--------------------+----------+-------+---------+--------+------+----------+-------+--------+---------------+--------+------------------+----------+---------+----------------+--------+--------------+-----------------+-------+-------+--------+-------------+------------+------------+--------+-------------+-----------------+------------+-------------+---------------+------------------+--------------+--------------------+-----------+-----------+-----------+-------------+----------------+------------+--------------+----------------+-------------+-----------+-----------+-------------+----------------+------------+--------------+----------------+-------------+-----------+-----------+-------------+----------------+------------+--------------+----------------+-------------+-----------+-----------+-------------+----------------+------------+--------------+----------------+-------------+-----------+-----------+-------------+----------------+------------+--------------+----------------+-------------+-----------+-----+\n",
      "only showing top 10 rows\n",
      "\n"
     ]
    }
   ],
   "source": [
    "df = spark.read.csv('/content/On_Time_Reporting_Carrier_On_Time_Performance_(1987_present)_2018_12.csv.gz', header = True)\n",
    "df.show(10)"
   ]
  },
  {
   "cell_type": "markdown",
   "metadata": {
    "colab_type": "text",
    "id": "DI2BFiPODbMm"
   },
   "source": [
    "## Select relevant columns\n",
    "\n",
    "Literally the same syntax as Pandas!\n",
    "\n",
    "```python\n",
    "df = [['FlightDate', 'DayOfWeek', 'Reporting_Airline', 'Tail_Number', 'Flight_Number_Reporting_Airline', 'Origin', \n",
    "                'OriginCityName', 'OriginStateName', 'Dest', 'DestCityName', 'DestStateName',\n",
    "                'DepTime', 'DepDelay', 'AirTime', 'Distance']]\n",
    "\n",
    "df\n",
    "```"
   ]
  },
  {
   "cell_type": "code",
   "execution_count": null,
   "metadata": {
    "colab": {
     "base_uri": "https://localhost:8080/",
     "height": 54
    },
    "colab_type": "code",
    "executionInfo": {
     "elapsed": 493,
     "status": "ok",
     "timestamp": 1594394775051,
     "user": {
      "displayName": "Felipe Fernandez pomar",
      "photoUrl": "https://lh3.googleusercontent.com/a-/AOh14GjAIBB1UUNahiuBW35nhzx_0hZxW-dTtBh-sbrK0Q=s64",
      "userId": "06620814048662575791"
     },
     "user_tz": -120
    },
    "id": "p4nn-FGkJxkd",
    "outputId": "5c065599-2ed1-408b-f659-58e84ac356e4"
   },
   "outputs": [
    {
     "data": {
      "text/plain": [
       "DataFrame[FlightDate: string, DayOfWeek: string, Reporting_Airline: string, Tail_Number: string, Flight_Number_Reporting_Airline: string, Origin: string, OriginCityName: string, OriginStateName: string, Dest: string, DestCityName: string, DestStateName: string, DepTime: string, DepDelay: string, AirTime: string, Distance: string]"
      ]
     },
     "execution_count": 3,
     "metadata": {
      "tags": []
     },
     "output_type": "execute_result"
    }
   ],
   "source": [
    "df = df[['FlightDate', 'DayOfWeek', 'Reporting_Airline', 'Tail_Number', 'Flight_Number_Reporting_Airline', 'Origin', \n",
    "                'OriginCityName', 'OriginStateName', 'Dest', 'DestCityName', 'DestStateName',\n",
    "                'DepTime', 'DepDelay', 'AirTime', 'Distance']]\n",
    " \n",
    "df"
   ]
  },
  {
   "cell_type": "markdown",
   "metadata": {
    "colab_type": "text",
    "id": "qoTCeUlcDbMs"
   },
   "source": [
    "### Extract \"Hour\" variable\n",
    "\n",
    "The DepTimes have been inferred to be floats. We need them as ints, representing each o fthe 24 hours in a day."
   ]
  },
  {
   "cell_type": "code",
   "execution_count": null,
   "metadata": {
    "colab": {
     "base_uri": "https://localhost:8080/",
     "height": 289
    },
    "colab_type": "code",
    "executionInfo": {
     "elapsed": 1032,
     "status": "ok",
     "timestamp": 1594394779170,
     "user": {
      "displayName": "Felipe Fernandez pomar",
      "photoUrl": "https://lh3.googleusercontent.com/a-/AOh14GjAIBB1UUNahiuBW35nhzx_0hZxW-dTtBh-sbrK0Q=s64",
      "userId": "06620814048662575791"
     },
     "user_tz": -120
    },
    "id": "jZrq7zzgDbMn",
    "outputId": "51cdeeb3-f6c1-4a79-d51b-9b5bb72fd14f",
    "scrolled": false
   },
   "outputs": [
    {
     "name": "stdout",
     "output_type": "stream",
     "text": [
      "+-------+\n",
      "|DepTime|\n",
      "+-------+\n",
      "|   1048|\n",
      "|   0638|\n",
      "|   1710|\n",
      "|   1318|\n",
      "|   0953|\n",
      "|   1646|\n",
      "|   1813|\n",
      "|   1450|\n",
      "|   0953|\n",
      "|   1219|\n",
      "+-------+\n",
      "only showing top 10 rows\n",
      "\n"
     ]
    }
   ],
   "source": [
    "df.select(df['DepTime']).show(10)"
   ]
  },
  {
   "cell_type": "code",
   "execution_count": null,
   "metadata": {
    "colab": {},
    "colab_type": "code",
    "id": "B50ztcEQDbMt"
   },
   "outputs": [],
   "source": [
    "from pyspark.sql import types\n",
    "\n",
    "x = 548\n",
    "\n",
    "df2 = df.withColumn('Hour', (df['DepTime'] / 100).cast(types.IntegerType()))"
   ]
  },
  {
   "cell_type": "markdown",
   "metadata": {
    "colab_type": "text",
    "id": "WGiBCL_RDbMw"
   },
   "source": [
    "## Generate the relative distributions\n",
    "\n",
    "In order to be able to handle the data, we need to reduce its dimensionality. Since we want to describe a discrete distribution, we can just count how many values of each level of the 'DepDelay' variable we find for each hour (24 different discrete distributions). We also want the totals in order to do the relative distribution."
   ]
  },
  {
   "cell_type": "markdown",
   "metadata": {
    "colab_type": "text",
    "id": "8J4JBxt6DbMx"
   },
   "source": [
    "### Totals"
   ]
  },
  {
   "cell_type": "code",
   "execution_count": null,
   "metadata": {
    "colab": {
     "base_uri": "https://localhost:8080/",
     "height": 544
    },
    "colab_type": "code",
    "executionInfo": {
     "elapsed": 7353,
     "status": "ok",
     "timestamp": 1594394796382,
     "user": {
      "displayName": "Felipe Fernandez pomar",
      "photoUrl": "https://lh3.googleusercontent.com/a-/AOh14GjAIBB1UUNahiuBW35nhzx_0hZxW-dTtBh-sbrK0Q=s64",
      "userId": "06620814048662575791"
     },
     "user_tz": -120
    },
    "id": "5Jh8Gwm4DbMy",
    "outputId": "5356814b-2c35-411c-a5f4-2e60b88351c8"
   },
   "outputs": [
    {
     "name": "stdout",
     "output_type": "stream",
     "text": [
      "+----+-----+\n",
      "|Hour|count|\n",
      "+----+-----+\n",
      "|  12|36925|\n",
      "|  22|15646|\n",
      "|null| 6526|\n",
      "|   1|  846|\n",
      "|  13|33163|\n",
      "|   6|37398|\n",
      "|  16|34761|\n",
      "|   3|  200|\n",
      "|  20|28354|\n",
      "|   5|22597|\n",
      "|  19|30966|\n",
      "|  15|35691|\n",
      "|  17|36591|\n",
      "|   9|34355|\n",
      "|   4| 1374|\n",
      "|   8|36357|\n",
      "|  23| 5835|\n",
      "|   7|35336|\n",
      "|  10|34600|\n",
      "|  24|   40|\n",
      "|  21|19028|\n",
      "|  11|36740|\n",
      "|  14|34619|\n",
      "|   2|  276|\n",
      "|   0| 2283|\n",
      "+----+-----+\n",
      "only showing top 25 rows\n",
      "\n"
     ]
    }
   ],
   "source": [
    "totals_per_hour = df2.groupBy('Hour').count()\n",
    "totals_per_hour.show(25)"
   ]
  },
  {
   "cell_type": "code",
   "execution_count": null,
   "metadata": {
    "colab": {
     "base_uri": "https://localhost:8080/",
     "height": 561
    },
    "colab_type": "code",
    "executionInfo": {
     "elapsed": 5684,
     "status": "ok",
     "timestamp": 1594394866902,
     "user": {
      "displayName": "Felipe Fernandez pomar",
      "photoUrl": "https://lh3.googleusercontent.com/a-/AOh14GjAIBB1UUNahiuBW35nhzx_0hZxW-dTtBh-sbrK0Q=s64",
      "userId": "06620814048662575791"
     },
     "user_tz": -120
    },
    "id": "KJi4G2NCRHhX",
    "outputId": "460730a3-2b7e-4118-be32-22ea805b9692"
   },
   "outputs": [
    {
     "name": "stdout",
     "output_type": "stream",
     "text": [
      "+--------+----+-----+\n",
      "|DepDelay|Hour|count|\n",
      "+--------+----+-----+\n",
      "|    0.00|  10| 2004|\n",
      "|    7.00|  13|  399|\n",
      "|   46.00|   9|   37|\n",
      "|  105.00|  17|   26|\n",
      "|   38.00|  14|   78|\n",
      "|  184.00|  14|    4|\n",
      "|   13.00|  11|  288|\n",
      "|   90.00|  20|   32|\n",
      "|   78.00|  15|   29|\n",
      "|   49.00|  11|   28|\n",
      "|   75.00|   7|    7|\n",
      "|  147.00|  12|   10|\n",
      "|   34.00|  23|   23|\n",
      "|   46.00|   8|   25|\n",
      "|  166.00|  17|    8|\n",
      "|  243.00|  20|    4|\n",
      "|  -15.00|   5|   97|\n",
      "|  -14.00|  13|  151|\n",
      "|  111.00|   9|    7|\n",
      "|   68.00|  11|   18|\n",
      "|  168.00|  22|    7|\n",
      "|  484.00|  15|    2|\n",
      "|  126.00|  10|    7|\n",
      "|  266.00|  23|    2|\n",
      "|  214.00|  10|    1|\n",
      "+--------+----+-----+\n",
      "only showing top 25 rows\n",
      "\n"
     ]
    },
    {
     "data": {
      "text/plain": [
       "DataFrame[DepDelay: string, Hour: int, count: bigint]"
      ]
     },
     "execution_count": 9,
     "metadata": {
      "tags": []
     },
     "output_type": "execute_result"
    }
   ],
   "source": [
    "totals_per_delay_hour = df2.groupBy('DepDelay', 'Hour').count()\n",
    "totals_per_delay_hour.show(25)\n",
    "totals_per_delay_hour"
   ]
  },
  {
   "cell_type": "code",
   "execution_count": null,
   "metadata": {
    "colab": {
     "base_uri": "https://localhost:8080/",
     "height": 34
    },
    "colab_type": "code",
    "executionInfo": {
     "elapsed": 2643,
     "status": "ok",
     "timestamp": 1593862449353,
     "user": {
      "displayName": "Felipe Fernandez pomar",
      "photoUrl": "https://lh3.googleusercontent.com/a-/AOh14GjAIBB1UUNahiuBW35nhzx_0hZxW-dTtBh-sbrK0Q=s64",
      "userId": "06620814048662575791"
     },
     "user_tz": -120
    },
    "id": "8tM-PX7-TTR4",
    "outputId": "7ffcffed-2e3f-4dd8-8bbd-e961d11a0c3c"
   },
   "outputs": [
    {
     "data": {
      "text/plain": [
       "593842"
      ]
     },
     "execution_count": 40,
     "metadata": {
      "tags": []
     },
     "output_type": "execute_result"
    }
   ],
   "source": [
    "df.count()"
   ]
  },
  {
   "cell_type": "code",
   "execution_count": null,
   "metadata": {
    "colab": {
     "base_uri": "https://localhost:8080/",
     "height": 459
    },
    "colab_type": "code",
    "executionInfo": {
     "elapsed": 10321,
     "status": "ok",
     "timestamp": 1594394882149,
     "user": {
      "displayName": "Felipe Fernandez pomar",
      "photoUrl": "https://lh3.googleusercontent.com/a-/AOh14GjAIBB1UUNahiuBW35nhzx_0hZxW-dTtBh-sbrK0Q=s64",
      "userId": "06620814048662575791"
     },
     "user_tz": -120
    },
    "id": "_504A1POTU3c",
    "outputId": "939e3387-8a03-48cf-820f-720391dfb103"
   },
   "outputs": [
    {
     "name": "stdout",
     "output_type": "stream",
     "text": [
      "+----+--------+-----+-----+\n",
      "|Hour|DepDelay|count|count|\n",
      "+----+--------+-----+-----+\n",
      "|  10|    0.00| 2004|34600|\n",
      "|  13|    7.00|  399|33163|\n",
      "|   9|   46.00|   37|34355|\n",
      "|  17|  105.00|   26|36591|\n",
      "|  14|   38.00|   78|34619|\n",
      "|  14|  184.00|    4|34619|\n",
      "|  11|   13.00|  288|36740|\n",
      "|  20|   90.00|   32|28354|\n",
      "|  15|   78.00|   29|35691|\n",
      "|  11|   49.00|   28|36740|\n",
      "|   7|   75.00|    7|35336|\n",
      "|  12|  147.00|   10|36925|\n",
      "|  23|   34.00|   23| 5835|\n",
      "|   8|   46.00|   25|36357|\n",
      "|  17|  166.00|    8|36591|\n",
      "|  20|  243.00|    4|28354|\n",
      "|   5|  -15.00|   97|22597|\n",
      "|  13|  -14.00|  151|33163|\n",
      "|   9|  111.00|    7|34355|\n",
      "|  11|   68.00|   18|36740|\n",
      "+----+--------+-----+-----+\n",
      "only showing top 20 rows\n",
      "\n"
     ]
    }
   ],
   "source": [
    "joined = totals_per_delay_hour.join(totals_per_hour, on = 'Hour')\n",
    "joined.show()"
   ]
  },
  {
   "cell_type": "code",
   "execution_count": null,
   "metadata": {
    "colab": {
     "base_uri": "https://localhost:8080/",
     "height": 289
    },
    "colab_type": "code",
    "executionInfo": {
     "elapsed": 515,
     "status": "ok",
     "timestamp": 1594395943634,
     "user": {
      "displayName": "Felipe Fernandez pomar",
      "photoUrl": "https://lh3.googleusercontent.com/a-/AOh14GjAIBB1UUNahiuBW35nhzx_0hZxW-dTtBh-sbrK0Q=s64",
      "userId": "06620814048662575791"
     },
     "user_tz": -120
    },
    "id": "Q6JpMqlYTtj_",
    "outputId": "792d0888-4854-4d32-877d-9940d5ef6517"
   },
   "outputs": [
    {
     "name": "stdout",
     "output_type": "stream",
     "text": [
      "+----+--------+-------------+\n",
      "|Hour|Depdelay|relative_freq|\n",
      "+----+--------+-------------+\n",
      "|  10|    0.00|          1.0|\n",
      "|  13|    7.00|          1.0|\n",
      "|   9|   46.00|          1.0|\n",
      "|  17|  105.00|          1.0|\n",
      "|  14|   38.00|          1.0|\n",
      "|  14|  184.00|          1.0|\n",
      "|  11|   13.00|          1.0|\n",
      "|  20|   90.00|          1.0|\n",
      "|  15|   78.00|          1.0|\n",
      "|  11|   49.00|          1.0|\n",
      "+----+--------+-------------+\n",
      "only showing top 10 rows\n",
      "\n"
     ]
    }
   ],
   "source": [
    "relative_freqs = joined.select('Hour',\n",
    "                               'Depdelay',\n",
    "                               (totals_per_delay_hour['count'] / totals_per_delay_hour['count']).alias('relative_freq')).cache()\n",
    "\n",
    "# relative_freqs = joined.withColumn('relative_freq',(totals_per_delay_hour['count'] / totals_per_delay_hour['count']).alias('realtive_freq')).cache()\n",
    "\n",
    "\n",
    "relative_freqs.show(10)"
   ]
  },
  {
   "cell_type": "markdown",
   "metadata": {
    "colab_type": "text",
    "id": "5AyoCb9LDbM3"
   },
   "source": [
    "### Distributions"
   ]
  },
  {
   "cell_type": "code",
   "execution_count": null,
   "metadata": {
    "colab": {
     "base_uri": "https://localhost:8080/",
     "height": 233
    },
    "colab_type": "code",
    "executionInfo": {
     "elapsed": 496,
     "status": "error",
     "timestamp": 1594395948752,
     "user": {
      "displayName": "Felipe Fernandez pomar",
      "photoUrl": "https://lh3.googleusercontent.com/a-/AOh14GjAIBB1UUNahiuBW35nhzx_0hZxW-dTtBh-sbrK0Q=s64",
      "userId": "06620814048662575791"
     },
     "user_tz": -120
    },
    "id": "mAtSV885DbM3",
    "outputId": "b8356f8d-0750-4af8-9d64-bb18a2a2881c"
   },
   "outputs": [
    {
     "ename": "TypeError",
     "evalue": "ignored",
     "output_type": "error",
     "traceback": [
      "\u001b[0;31m---------------------------------------------------------------------------\u001b[0m",
      "\u001b[0;31mTypeError\u001b[0m                                 Traceback (most recent call last)",
      "\u001b[0;32m<ipython-input-17-f74f51d9adab>\u001b[0m in \u001b[0;36m<module>\u001b[0;34m()\u001b[0m\n\u001b[1;32m      4\u001b[0m \u001b[0;34m\u001b[0m\u001b[0m\n\u001b[1;32m      5\u001b[0m tupleize_udf = functions.udf(tupleize, returnType = types.StructField([types.StructField('a', types.DoubleType()),\n\u001b[0;32m----> 6\u001b[0;31m                                                                        types.StructField('b', types.DoubleType())]))\n\u001b[0m\u001b[1;32m      7\u001b[0m \u001b[0;34m\u001b[0m\u001b[0m\n\u001b[1;32m      8\u001b[0m \u001b[0mtupled\u001b[0m \u001b[0;34m=\u001b[0m \u001b[0mrelative_freqs\u001b[0m\u001b[0;34m.\u001b[0m\u001b[0mwithColumn\u001b[0m\u001b[0;34m(\u001b[0m\u001b[0;34m'tuples'\u001b[0m\u001b[0;34m,\u001b[0m \u001b[0mtupleize_udf\u001b[0m\u001b[0;34m(\u001b[0m\u001b[0;34m'DepDelay'\u001b[0m\u001b[0;34m,\u001b[0m \u001b[0;34m'relative_freq'\u001b[0m\u001b[0;34m)\u001b[0m\u001b[0;34m)\u001b[0m\u001b[0;34m\u001b[0m\u001b[0;34m\u001b[0m\u001b[0m\n",
      "\u001b[0;31mTypeError\u001b[0m: __init__() missing 1 required positional argument: 'dataType'"
     ]
    }
   ],
   "source": [
    "from pyspark.sql import types, functions\n",
    "\n",
    "def tupleize(a, b): return a, b\n",
    "\n",
    "tupleize_udf = functions.udf(tupleize, returnType = types.StructField([types.StructField('a', types.DoubleType()),\n",
    "                                                                       types.StructField('b', types.DoubleType())]))\n",
    "\n",
    "tupled = relative_freqs.withColumn('tuples', tupleize_udf('DepDelay', 'relative_freq'))\n",
    "tupled.printSchema()\n",
    "tupled.show()\n"
   ]
  },
  {
   "cell_type": "code",
   "execution_count": null,
   "metadata": {
    "colab": {},
    "colab_type": "code",
    "id": "8G2D7fjicD80"
   },
   "outputs": [],
   "source": [
    "distributions = tupled.groupby('Hour').agg(functions.collect_list('tuples'))\n",
    "distributions.printSchema()\n",
    "distributions.show()\n",
    "\n",
    "#Collect_list -> Crea un DataFrame con el hour y una colección de listas \n",
    "# que se identifican con la hour. Colecciona los datos en listas.\n",
    "# Colección de todos los valores individuales de Dep Delay a la hora en concreto...\n",
    "# y el 5 que representan"
   ]
  },
  {
   "cell_type": "code",
   "execution_count": null,
   "metadata": {
    "colab": {},
    "colab_type": "code",
    "id": "420SVIbHeN33"
   },
   "outputs": [],
   "source": [
    "#Ya es manejable y podríamos bajarlo a pandas y terminar con ello\n",
    "import pandas as pd\n",
    "\n",
    "distributions.toPandas()\n",
    "\n",
    "#Pero llegados a este punto, ya continuámos en PySpark"
   ]
  },
  {
   "cell_type": "markdown",
   "metadata": {
    "colab_type": "text",
    "id": "wY0gtJ_HDbM7"
   },
   "source": [
    "Now we join both and calculate what fraction of the total for each hour each level of DepDelay represents."
   ]
  },
  {
   "cell_type": "code",
   "execution_count": null,
   "metadata": {
    "colab": {},
    "colab_type": "code",
    "id": "beBpUsadDbM7"
   },
   "outputs": [],
   "source": [
    ""
   ]
  },
  {
   "cell_type": "markdown",
   "metadata": {
    "colab_type": "text",
    "id": "TsEVacwhDbNC"
   },
   "source": [
    "### Generate distributions\n",
    "\n",
    "We have to group on the hour. Each group will be a bunch of delays and the corresponding frequencies."
   ]
  },
  {
   "cell_type": "code",
   "execution_count": null,
   "metadata": {
    "colab": {},
    "colab_type": "code",
    "id": "twnqaRZwDbND"
   },
   "outputs": [],
   "source": [
    ""
   ]
  },
  {
   "cell_type": "markdown",
   "metadata": {
    "colab_type": "text",
    "id": "u3QA5fTkDbNH"
   },
   "source": [
    "These groups are definitely manageable: the number of levels will be on the order of a few hundreds to a couple thousands. We can combine them into lists straight away."
   ]
  },
  {
   "cell_type": "code",
   "execution_count": null,
   "metadata": {
    "colab": {},
    "colab_type": "code",
    "id": "Se0oSh6SDbNI"
   },
   "outputs": [],
   "source": [
    ""
   ]
  },
  {
   "cell_type": "markdown",
   "metadata": {
    "colab_type": "text",
    "id": "Y2CUW0-TDbNN"
   },
   "source": [
    "Now it's be easy to use a UDF to merge the two lists and sort them."
   ]
  },
  {
   "cell_type": "code",
   "execution_count": null,
   "metadata": {
    "colab": {},
    "colab_type": "code",
    "id": "RGMbzCwyDbNO"
   },
   "outputs": [],
   "source": [
    ""
   ]
  },
  {
   "cell_type": "markdown",
   "metadata": {
    "colab_type": "text",
    "id": "21KmqGCzDbNT"
   },
   "source": [
    "Careful! If we keep that string return type, it might be problematic later."
   ]
  },
  {
   "cell_type": "code",
   "execution_count": null,
   "metadata": {
    "colab": {},
    "colab_type": "code",
    "id": "u0nPSC0IDbNT"
   },
   "outputs": [],
   "source": [
    ""
   ]
  },
  {
   "cell_type": "markdown",
   "metadata": {
    "colab_type": "text",
    "id": "B4aciDszDbNW"
   },
   "source": [
    "### Calculating the quartiles\n",
    "\n",
    "We are finally ready to calculate the quartiles! We will use a UDF.\n",
    "\n",
    "The input to our custom function will be one of the distributions coded like we did: as a list of tuples `(value, relative_frequency)`. The quartiles are defined as the values at which we cross the 0.0, .25, .5, .75 and 1.00 relative frequencies. Since the distributions are ordered, we can just iterate over one while keeping track of what portion of the total distribution we have seen, and annotate where we cross the thresholds."
   ]
  },
  {
   "cell_type": "code",
   "execution_count": null,
   "metadata": {
    "colab": {
     "base_uri": "https://localhost:8080/",
     "height": 34
    },
    "colab_type": "code",
    "executionInfo": {
     "elapsed": 856,
     "status": "ok",
     "timestamp": 1593860901503,
     "user": {
      "displayName": "Felipe Fernandez pomar",
      "photoUrl": "https://lh3.googleusercontent.com/a-/AOh14GjAIBB1UUNahiuBW35nhzx_0hZxW-dTtBh-sbrK0Q=s64",
      "userId": "06620814048662575791"
     },
     "user_tz": -120
    },
    "id": "-hHTForADbNX",
    "outputId": "ada84003-23d9-4664-9e77-88529147a368"
   },
   "outputs": [
    {
     "data": {
      "text/plain": [
       "[7, 19, 1, 10, -2, -17, 4, -5, 13, -8, 16, -14, -11, -20]"
      ]
     },
     "execution_count": 24,
     "metadata": {
      "tags": []
     },
     "output_type": "execute_result"
    }
   ],
   "source": [
    "import random \n",
    "\n",
    "delays = list(range(-20, 20, 3))\n",
    "random.shuffle(delays)\n",
    "delays"
   ]
  },
  {
   "cell_type": "code",
   "execution_count": null,
   "metadata": {
    "colab": {
     "base_uri": "https://localhost:8080/",
     "height": 255
    },
    "colab_type": "code",
    "executionInfo": {
     "elapsed": 879,
     "status": "ok",
     "timestamp": 1593860981326,
     "user": {
      "displayName": "Felipe Fernandez pomar",
      "photoUrl": "https://lh3.googleusercontent.com/a-/AOh14GjAIBB1UUNahiuBW35nhzx_0hZxW-dTtBh-sbrK0Q=s64",
      "userId": "06620814048662575791"
     },
     "user_tz": -120
    },
    "id": "V_DZ-3v2g1iL",
    "outputId": "68ab1569-42c8-486f-b790-570e4a7d160b"
   },
   "outputs": [
    {
     "data": {
      "text/plain": [
       "[0.12468401297142712,\n",
       " 0.02627480019406072,\n",
       " 0.01761867068406404,\n",
       " 0.019074126088399763,\n",
       " 0.024359727293618978,\n",
       " 0.09708142889972678,\n",
       " 0.11342338431682966,\n",
       " 0.04774915098434747,\n",
       " 0.12274340576564614,\n",
       " 0.11618108929346577,\n",
       " 0.10938896407323238,\n",
       " 0.08193958583356739,\n",
       " 0.08778694175624951,\n",
       " 0.011694711845364247]"
      ]
     },
     "execution_count": 27,
     "metadata": {
      "tags": []
     },
     "output_type": "execute_result"
    }
   ],
   "source": [
    "ns = freqs = [ random.randint(0, 5000) for _ in delays ]\n",
    "rel_freqs = [ n / sum(ns) for n in ns ]\n",
    "rel_freqs"
   ]
  },
  {
   "cell_type": "code",
   "execution_count": null,
   "metadata": {
    "colab": {
     "base_uri": "https://localhost:8080/",
     "height": 255
    },
    "colab_type": "code",
    "executionInfo": {
     "elapsed": 808,
     "status": "ok",
     "timestamp": 1593861014327,
     "user": {
      "displayName": "Felipe Fernandez pomar",
      "photoUrl": "https://lh3.googleusercontent.com/a-/AOh14GjAIBB1UUNahiuBW35nhzx_0hZxW-dTtBh-sbrK0Q=s64",
      "userId": "06620814048662575791"
     },
     "user_tz": -120
    },
    "id": "BqiC1qK7hKOb",
    "outputId": "0ab68d52-8abe-403e-aed2-57789e4cbce7"
   },
   "outputs": [
    {
     "data": {
      "text/plain": [
       "[(7, 0.12468401297142712),\n",
       " (19, 0.02627480019406072),\n",
       " (1, 0.01761867068406404),\n",
       " (10, 0.019074126088399763),\n",
       " (-2, 0.024359727293618978),\n",
       " (-17, 0.09708142889972678),\n",
       " (4, 0.11342338431682966),\n",
       " (-5, 0.04774915098434747),\n",
       " (13, 0.12274340576564614),\n",
       " (-8, 0.11618108929346577),\n",
       " (16, 0.10938896407323238),\n",
       " (-14, 0.08193958583356739),\n",
       " (-11, 0.08778694175624951),\n",
       " (-20, 0.011694711845364247)]"
      ]
     },
     "execution_count": 28,
     "metadata": {
      "tags": []
     },
     "output_type": "execute_result"
    }
   ],
   "source": [
    "distribution = list(zip(delays, rel_freqs))\n",
    "distribution"
   ]
  },
  {
   "cell_type": "code",
   "execution_count": null,
   "metadata": {
    "colab": {
     "base_uri": "https://localhost:8080/",
     "height": 34
    },
    "colab_type": "code",
    "executionInfo": {
     "elapsed": 954,
     "status": "ok",
     "timestamp": 1593861632833,
     "user": {
      "displayName": "Felipe Fernandez pomar",
      "photoUrl": "https://lh3.googleusercontent.com/a-/AOh14GjAIBB1UUNahiuBW35nhzx_0hZxW-dTtBh-sbrK0Q=s64",
      "userId": "06620814048662575791"
     },
     "user_tz": -120
    },
    "id": "AG4H3EdQfS5n",
    "outputId": "f6fdb2a2-0504-46c5-a91e-f9caa9d639ba"
   },
   "outputs": [
    {
     "data": {
      "text/plain": [
       "[-20, -11, 4, 13, 19]"
      ]
     },
     "execution_count": 33,
     "metadata": {
      "tags": []
     },
     "output_type": "execute_result"
    }
   ],
   "source": [
    "def quartiles(distribution):\n",
    "\n",
    "  result = []\n",
    "  acc = 0\n",
    "\n",
    "  for delay, rel_freq in sorted(distribution):\n",
    "    prev = acc\n",
    "    acc += rel_freq\n",
    "\n",
    "    if prev == 0.0 and acc > 0.0:\n",
    "      result.append(delay)\n",
    "\n",
    "    if prev <= .25 and acc > .25:\n",
    "      result.append(delay)\n",
    "\n",
    "    if prev <= .50 and acc > .50:\n",
    "      result.append(delay)\n",
    "\n",
    "    if prev <= .75 and acc > .75:\n",
    "      result.append(delay)\n",
    "\n",
    "  result.append(delay)\n",
    "\n",
    "  return result\n",
    "\n",
    "quartiles(distribution)"
   ]
  },
  {
   "cell_type": "markdown",
   "metadata": {
    "colab_type": "text",
    "id": "AiGr93ftDbNZ"
   },
   "source": [
    "Apply to the dataframe:"
   ]
  },
  {
   "cell_type": "code",
   "execution_count": null,
   "metadata": {
    "colab": {},
    "colab_type": "code",
    "id": "nfSsVp1EDbNZ"
   },
   "outputs": [],
   "source": [
    "quartiles_udf = functions.udf(quartiles)"
   ]
  },
  {
   "cell_type": "code",
   "execution_count": null,
   "metadata": {
    "colab": {},
    "colab_type": "code",
    "id": "o2hg6AX3kOMZ"
   },
   "outputs": [],
   "source": [
    "calculated_quartiles = distributions.select('Hour', quartiles_udf('collect_list(tuples)')).cache()\n",
    "calculated_quartiles.printSchema()\n",
    "calculated_quartiles.show()"
   ]
  },
  {
   "cell_type": "markdown",
   "metadata": {
    "colab_type": "text",
    "id": "_mJcc5MqDbNc"
   },
   "source": [
    "### Plotting\n",
    "\n",
    "We got it! Let's move this over to Pandas for convenient handling"
   ]
  },
  {
   "cell_type": "code",
   "execution_count": null,
   "metadata": {
    "colab": {},
    "colab_type": "code",
    "id": "jIVhQ7vHDbNd"
   },
   "outputs": [],
   "source": [
    "pd_df = calculated_quartiles.toPandas()\n",
    "pd_df.head()"
   ]
  },
  {
   "cell_type": "markdown",
   "metadata": {
    "colab_type": "text",
    "id": "3kQUnBgDDbNj"
   },
   "source": [
    "And we are ready to plot!"
   ]
  },
  {
   "cell_type": "code",
   "execution_count": null,
   "metadata": {
    "colab": {},
    "colab_type": "code",
    "id": "UyQoWAbTDbNj"
   },
   "outputs": [],
   "source": [
    "for hour, quartiles in pd_df['Hour']:\n",
    "  print(hour)"
   ]
  },
  {
   "cell_type": "code",
   "execution_count": null,
   "metadata": {
    "colab": {},
    "colab_type": "code",
    "id": "xNUuJYo7lc2-"
   },
   "outputs": [],
   "source": [
    " qfor hour, quartiles in pd_df['quartiles(collect_list(tuples))']:\n",
    "  print(eval(hour))\n",
    "\n",
    "# Eval() evalua ese código python"
   ]
  },
  {
   "cell_type": "code",
   "execution_count": null,
   "metadata": {
    "colab": {},
    "colab_type": "code",
    "id": "zsYLoLKom8l6"
   },
   "outputs": [],
   "source": [
    "xs = []\n",
    "ys = []\n",
    "\n",
    "for _, hour, quartiles in pdf_df.itertuples():\n",
    "\n",
    "  for q in eval(quartiles):\n",
    "    xs.append((hour))\n",
    "    ys.append((quart))\n",
    "\n",
    "xs, ys"
   ]
  },
  {
   "cell_type": "code",
   "execution_count": null,
   "metadata": {
    "colab": {},
    "colab_type": "code",
    "id": "Q1iri--snTG0"
   },
   "outputs": [],
   "source": [
    "import matplotlib.pyplot as plt\n",
    "%matplotlib inline\n",
    "\n",
    "plt.scatter(xs, ys)\n",
    "plt.gcd().set_size_inches(12, 6)\n",
    "plt.gca().set_ylim(-25, 50)"
   ]
  },
  {
   "cell_type": "markdown",
   "metadata": {
    "colab_type": "text",
    "id": "0b5fvUpmDbNm"
   },
   "source": [
    "## Test your \"Big Data\" prototype with small data"
   ]
  },
  {
   "cell_type": "markdown",
   "metadata": {
    "colab_type": "text",
    "id": "TDM89au0DbNn"
   },
   "source": [
    "### Summary\n",
    "\n",
    "This is the whole process, collected in one place as is:"
   ]
  },
  {
   "cell_type": "code",
   "execution_count": null,
   "metadata": {
    "colab": {},
    "colab_type": "code",
    "id": "PhFgds2FDbNn"
   },
   "outputs": [],
   "source": [
    "from __future__ import print_function\n",
    "from pyspark.sql import types, functions, SparkSession\n",
    "import sys\n",
    "\n",
    "#Ruta de entrada y ruta de salida, argc[1] y argv[2] los tomo como un argumento del script.\n",
    "if __name__=='__main__':\n",
    "\n",
    "spark = SparkSession...\n",
    " \n",
    "    file = sys.argv[1]\n",
    "    out = sys.argv[2]\n",
    "\n",
    "df = spark.read.csv('/content/On_Time_Reporting_Carrier_On_Time_Performance_(1987_present)_2018_12.csv.gz', header = True, inferSchema = True)\n",
    "totals_per_hour = df2.groupBy('Hour').count()\n",
    "totals_per_delay_hour = totals_per_hour.groupBy('DepDelay', 'Hour')"
   ]
  },
  {
   "cell_type": "markdown",
   "metadata": {
    "colab_type": "text",
    "id": "H9zwOY1xDbNq"
   },
   "source": [
    "### Pyspark job\n",
    "\n",
    "In order to run the process in a cluster, we need to transform it into a pyspark job file. \n",
    "\n",
    "We need to tidy up the function definitions, add the relevant imports, and modify the input and output to use command-line arguments.\n",
    "\n",
    "We will put the result in a file called mysparkjob.py:\n",
    "\n",
    "```python\n",
    "from __future__ import print_function\n",
    "from pyspark.sql import types, functions, SparkSession\n",
    "import sys\n",
    "\n",
    "def zipsort(a, b):\n",
    "    return sorted(zip(a, b))\n",
    "\n",
    "def quartiles(histogram):\n",
    "    area = 0\n",
    "    result = []\n",
    "    \n",
    "    for value, percentage in histogram:\n",
    "        if area == 0:\n",
    "            result.append(value)\n",
    "        elif area <= .25 and area + percentage > .25:\n",
    "            result.append(value)\n",
    "        elif area <= .5 and area + percentage > .5:\n",
    "            result.append(value)\n",
    "        elif area <= .75 and area + percentage > .75:\n",
    "            result.append(value)\n",
    "        area += percentage\n",
    "    \n",
    "    result.append(value)\n",
    "    return result\n",
    "\n",
    "if __name__=='__main__':\n",
    "    \n",
    "    file = sys.argv[1]\n",
    "    out = sys.argv[2]\n",
    "    \n",
    "    spark = SparkSession.builder.getOrCreate()\n",
    "    df = spark.read.csv(file, header= True, inferSchema=True)\n",
    "    df = df.select(['FlightDate', 'DayOfWeek', 'Reporting_Airline', 'Tail_Number', 'Flight_Number_Reporting_Airline', 'Origin', \n",
    "                    'OriginCityName', 'OriginStateName', 'Dest', 'DestCityName', 'DestStateName',\n",
    "                    'DepTime', 'DepDelay', 'AirTime', 'Distance'])\n",
    "\n",
    "    df2 = df.withColumn('Hour', (df['DepTime'] / 100).cast(types.IntegerType()))\n",
    "    totals = df2.groupBy('Hour').count()\n",
    "    distributions = df2.groupBy(['Hour', 'DepDelay']).count()\n",
    "    annotated = distributions.join(totals, on='Hour')\n",
    "    frequencies = annotated.withColumn('relative', distributions['count'] / totals['count'])\n",
    "    groups = frequencies.groupBy(totals['Hour'])\\\n",
    "                        .agg(functions.collect_list('DepDelay').alias('delays'),\n",
    "                             functions.collect_list('relative').alias('relatives'))\n",
    "\n",
    "\n",
    "\n",
    "    zipsort_typed = functions.udf(zipsort, types.ArrayType(types.ArrayType(types.FloatType())))\n",
    "    distributions = groups.withColumn('distributions', zipsort_typed('delays', 'relatives'))\n",
    "\n",
    "\n",
    "\n",
    "    quartiles_udf = functions.udf(quartiles, returnType=types.ArrayType(types.FloatType()))\n",
    "\n",
    "    result = distributions.select('Hour',\n",
    "                                  quartiles_udf('distributions').alias('quartiles'))\n",
    "\n",
    "    result.write.json(out)\n",
    "    spark.stop()\n",
    "```"
   ]
  },
  {
   "cell_type": "code",
   "execution_count": null,
   "metadata": {
    "colab": {},
    "colab_type": "code",
    "id": "0dHZwWcZDbNr"
   },
   "outputs": [],
   "source": [
    ""
   ]
  },
  {
   "cell_type": "markdown",
   "metadata": {
    "colab_type": "text",
    "id": "J-zs9X1CDbNx"
   },
   "source": [
    "### Running with spark-submit\n",
    "\n",
    "If the following works, we are ready to test it in the cluster!\n",
    "\n",
    "```python\n",
    "spark-submit mysparkjob.py On_Time_On_Time_Performance_2015_8.csv out.csv\n",
    "```"
   ]
  },
  {
   "cell_type": "code",
   "execution_count": null,
   "metadata": {
    "colab": {},
    "colab_type": "code",
    "id": "wkVpAdkwrn8e"
   },
   "outputs": [],
   "source": [
    "!spark-submit "
   ]
  }
 ],
 "metadata": {
  "colab": {
   "collapsed_sections": [],
   "name": "03-porting-to-spark.empty.ipynb",
   "provenance": []
  },
  "kernelspec": {
   "display_name": "Python 3",
   "language": "python",
   "name": "python3"
  },
  "language_info": {
   "codemirror_mode": {
    "name": "ipython",
    "version": 3
   },
   "file_extension": ".py",
   "mimetype": "text/x-python",
   "name": "python",
   "nbconvert_exporter": "python",
   "pygments_lexer": "ipython3",
   "version": "3.7.7"
  }
 },
 "nbformat": 4,
 "nbformat_minor": 0
}
