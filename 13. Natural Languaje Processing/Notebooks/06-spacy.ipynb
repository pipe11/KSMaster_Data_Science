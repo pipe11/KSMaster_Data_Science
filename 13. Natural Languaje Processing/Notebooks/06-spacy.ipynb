{
 "cells": [
  {
   "cell_type": "code",
   "execution_count": 12,
   "metadata": {
    "colab": {
     "base_uri": "https://localhost:8080/",
     "height": 401
    },
    "colab_type": "code",
    "executionInfo": {
     "elapsed": 5369,
     "status": "ok",
     "timestamp": 1596819120549,
     "user": {
      "displayName": "Felipe Fernandez pomar",
      "photoUrl": "https://lh3.googleusercontent.com/a-/AOh14GjAIBB1UUNahiuBW35nhzx_0hZxW-dTtBh-sbrK0Q=s64",
      "userId": "06620814048662575791"
     },
     "user_tz": -120
    },
    "id": "tpRsRlwD1gXG",
    "outputId": "ba018945-5d21-4045-df1e-3fa482df52d6"
   },
   "outputs": [
    {
     "name": "stdout",
     "output_type": "stream",
     "text": [
      "Requirement already satisfied: spacy in /usr/local/lib/python3.6/dist-packages (2.2.4)\n",
      "Requirement already satisfied: cymem<2.1.0,>=2.0.2 in /usr/local/lib/python3.6/dist-packages (from spacy) (2.0.3)\n",
      "Requirement already satisfied: thinc==7.4.0 in /usr/local/lib/python3.6/dist-packages (from spacy) (7.4.0)\n",
      "Requirement already satisfied: wasabi<1.1.0,>=0.4.0 in /usr/local/lib/python3.6/dist-packages (from spacy) (0.7.1)\n",
      "Requirement already satisfied: preshed<3.1.0,>=3.0.2 in /usr/local/lib/python3.6/dist-packages (from spacy) (3.0.2)\n",
      "Requirement already satisfied: plac<1.2.0,>=0.9.6 in /usr/local/lib/python3.6/dist-packages (from spacy) (1.1.3)\n",
      "Requirement already satisfied: srsly<1.1.0,>=1.0.2 in /usr/local/lib/python3.6/dist-packages (from spacy) (1.0.2)\n",
      "Requirement already satisfied: murmurhash<1.1.0,>=0.28.0 in /usr/local/lib/python3.6/dist-packages (from spacy) (1.0.2)\n",
      "Requirement already satisfied: numpy>=1.15.0 in /usr/local/lib/python3.6/dist-packages (from spacy) (1.18.5)\n",
      "Requirement already satisfied: requests<3.0.0,>=2.13.0 in /usr/local/lib/python3.6/dist-packages (from spacy) (2.23.0)\n",
      "Requirement already satisfied: setuptools in /usr/local/lib/python3.6/dist-packages (from spacy) (49.2.0)\n",
      "Requirement already satisfied: tqdm<5.0.0,>=4.38.0 in /usr/local/lib/python3.6/dist-packages (from spacy) (4.41.1)\n",
      "Requirement already satisfied: catalogue<1.1.0,>=0.0.7 in /usr/local/lib/python3.6/dist-packages (from spacy) (1.0.0)\n",
      "Requirement already satisfied: blis<0.5.0,>=0.4.0 in /usr/local/lib/python3.6/dist-packages (from spacy) (0.4.1)\n",
      "Requirement already satisfied: chardet<4,>=3.0.2 in /usr/local/lib/python3.6/dist-packages (from requests<3.0.0,>=2.13.0->spacy) (3.0.4)\n",
      "Requirement already satisfied: certifi>=2017.4.17 in /usr/local/lib/python3.6/dist-packages (from requests<3.0.0,>=2.13.0->spacy) (2020.6.20)\n",
      "Requirement already satisfied: urllib3!=1.25.0,!=1.25.1,<1.26,>=1.21.1 in /usr/local/lib/python3.6/dist-packages (from requests<3.0.0,>=2.13.0->spacy) (1.24.3)\n",
      "Requirement already satisfied: idna<3,>=2.5 in /usr/local/lib/python3.6/dist-packages (from requests<3.0.0,>=2.13.0->spacy) (2.10)\n",
      "Requirement already satisfied: importlib-metadata>=0.20; python_version < \"3.8\" in /usr/local/lib/python3.6/dist-packages (from catalogue<1.1.0,>=0.0.7->spacy) (1.7.0)\n",
      "Requirement already satisfied: zipp>=0.5 in /usr/local/lib/python3.6/dist-packages (from importlib-metadata>=0.20; python_version < \"3.8\"->catalogue<1.1.0,>=0.0.7->spacy) (3.1.0)\n"
     ]
    }
   ],
   "source": [
    "# install the requirements\n",
    "!pip install spacy"
   ]
  },
  {
   "cell_type": "code",
   "execution_count": 5,
   "metadata": {
    "colab": {
     "base_uri": "https://localhost:8080/",
     "height": 801
    },
    "colab_type": "code",
    "executionInfo": {
     "elapsed": 8082,
     "status": "ok",
     "timestamp": 1596819982160,
     "user": {
      "displayName": "Felipe Fernandez pomar",
      "photoUrl": "https://lh3.googleusercontent.com/a-/AOh14GjAIBB1UUNahiuBW35nhzx_0hZxW-dTtBh-sbrK0Q=s64",
      "userId": "06620814048662575791"
     },
     "user_tz": -120
    },
    "id": "qwzJ28Ir4qGs",
    "outputId": "97c941a2-f875-436d-b532-f1d311eb6b76"
   },
   "outputs": [
    {
     "name": "stdout",
     "output_type": "stream",
     "text": [
      "Requirement already satisfied: es_core_news_md in /usr/local/lib/python3.6/dist-packages (2.2.5)\n",
      "Requirement already satisfied: spacy>=2.2.2 in /usr/local/lib/python3.6/dist-packages (from es_core_news_md) (2.3.2)\n",
      "Requirement already satisfied: murmurhash<1.1.0,>=0.28.0 in /usr/local/lib/python3.6/dist-packages (from spacy>=2.2.2->es_core_news_md) (1.0.2)\n",
      "Requirement already satisfied: blis<0.5.0,>=0.4.0 in /usr/local/lib/python3.6/dist-packages (from spacy>=2.2.2->es_core_news_md) (0.4.1)\n",
      "Requirement already satisfied: setuptools in /usr/local/lib/python3.6/dist-packages (from spacy>=2.2.2->es_core_news_md) (49.2.0)\n",
      "Requirement already satisfied: numpy>=1.15.0 in /usr/local/lib/python3.6/dist-packages (from spacy>=2.2.2->es_core_news_md) (1.18.5)\n",
      "Requirement already satisfied: cymem<2.1.0,>=2.0.2 in /usr/local/lib/python3.6/dist-packages (from spacy>=2.2.2->es_core_news_md) (2.0.3)\n",
      "Requirement already satisfied: wasabi<1.1.0,>=0.4.0 in /usr/local/lib/python3.6/dist-packages (from spacy>=2.2.2->es_core_news_md) (0.7.1)\n",
      "Requirement already satisfied: srsly<1.1.0,>=1.0.2 in /usr/local/lib/python3.6/dist-packages (from spacy>=2.2.2->es_core_news_md) (1.0.2)\n",
      "Requirement already satisfied: catalogue<1.1.0,>=0.0.7 in /usr/local/lib/python3.6/dist-packages (from spacy>=2.2.2->es_core_news_md) (1.0.0)\n",
      "Requirement already satisfied: tqdm<5.0.0,>=4.38.0 in /usr/local/lib/python3.6/dist-packages (from spacy>=2.2.2->es_core_news_md) (4.41.1)\n",
      "Requirement already satisfied: plac<1.2.0,>=0.9.6 in /usr/local/lib/python3.6/dist-packages (from spacy>=2.2.2->es_core_news_md) (1.1.3)\n",
      "Requirement already satisfied: preshed<3.1.0,>=3.0.2 in /usr/local/lib/python3.6/dist-packages (from spacy>=2.2.2->es_core_news_md) (3.0.2)\n",
      "Requirement already satisfied: thinc==7.4.1 in /usr/local/lib/python3.6/dist-packages (from spacy>=2.2.2->es_core_news_md) (7.4.1)\n",
      "Requirement already satisfied: requests<3.0.0,>=2.13.0 in /usr/local/lib/python3.6/dist-packages (from spacy>=2.2.2->es_core_news_md) (2.23.0)\n",
      "Requirement already satisfied: importlib-metadata>=0.20; python_version < \"3.8\" in /usr/local/lib/python3.6/dist-packages (from catalogue<1.1.0,>=0.0.7->spacy>=2.2.2->es_core_news_md) (1.7.0)\n",
      "Requirement already satisfied: idna<3,>=2.5 in /usr/local/lib/python3.6/dist-packages (from requests<3.0.0,>=2.13.0->spacy>=2.2.2->es_core_news_md) (2.10)\n",
      "Requirement already satisfied: urllib3!=1.25.0,!=1.25.1,<1.26,>=1.21.1 in /usr/local/lib/python3.6/dist-packages (from requests<3.0.0,>=2.13.0->spacy>=2.2.2->es_core_news_md) (1.24.3)\n",
      "Requirement already satisfied: certifi>=2017.4.17 in /usr/local/lib/python3.6/dist-packages (from requests<3.0.0,>=2.13.0->spacy>=2.2.2->es_core_news_md) (2020.6.20)\n",
      "Requirement already satisfied: chardet<4,>=3.0.2 in /usr/local/lib/python3.6/dist-packages (from requests<3.0.0,>=2.13.0->spacy>=2.2.2->es_core_news_md) (3.0.4)\n",
      "Requirement already satisfied: zipp>=0.5 in /usr/local/lib/python3.6/dist-packages (from importlib-metadata>=0.20; python_version < \"3.8\"->catalogue<1.1.0,>=0.0.7->spacy>=2.2.2->es_core_news_md) (3.1.0)\n",
      "Requirement already satisfied: en_core_web_md in /usr/local/lib/python3.6/dist-packages (2.2.5)\n",
      "Requirement already satisfied: spacy>=2.2.2 in /usr/local/lib/python3.6/dist-packages (from en_core_web_md) (2.3.2)\n",
      "Requirement already satisfied: tqdm<5.0.0,>=4.38.0 in /usr/local/lib/python3.6/dist-packages (from spacy>=2.2.2->en_core_web_md) (4.41.1)\n",
      "Requirement already satisfied: thinc==7.4.1 in /usr/local/lib/python3.6/dist-packages (from spacy>=2.2.2->en_core_web_md) (7.4.1)\n",
      "Requirement already satisfied: preshed<3.1.0,>=3.0.2 in /usr/local/lib/python3.6/dist-packages (from spacy>=2.2.2->en_core_web_md) (3.0.2)\n",
      "Requirement already satisfied: blis<0.5.0,>=0.4.0 in /usr/local/lib/python3.6/dist-packages (from spacy>=2.2.2->en_core_web_md) (0.4.1)\n",
      "Requirement already satisfied: murmurhash<1.1.0,>=0.28.0 in /usr/local/lib/python3.6/dist-packages (from spacy>=2.2.2->en_core_web_md) (1.0.2)\n",
      "Requirement already satisfied: setuptools in /usr/local/lib/python3.6/dist-packages (from spacy>=2.2.2->en_core_web_md) (49.2.0)\n",
      "Requirement already satisfied: cymem<2.1.0,>=2.0.2 in /usr/local/lib/python3.6/dist-packages (from spacy>=2.2.2->en_core_web_md) (2.0.3)\n",
      "Requirement already satisfied: srsly<1.1.0,>=1.0.2 in /usr/local/lib/python3.6/dist-packages (from spacy>=2.2.2->en_core_web_md) (1.0.2)\n",
      "Requirement already satisfied: plac<1.2.0,>=0.9.6 in /usr/local/lib/python3.6/dist-packages (from spacy>=2.2.2->en_core_web_md) (1.1.3)\n",
      "Requirement already satisfied: requests<3.0.0,>=2.13.0 in /usr/local/lib/python3.6/dist-packages (from spacy>=2.2.2->en_core_web_md) (2.23.0)\n",
      "Requirement already satisfied: catalogue<1.1.0,>=0.0.7 in /usr/local/lib/python3.6/dist-packages (from spacy>=2.2.2->en_core_web_md) (1.0.0)\n",
      "Requirement already satisfied: numpy>=1.15.0 in /usr/local/lib/python3.6/dist-packages (from spacy>=2.2.2->en_core_web_md) (1.18.5)\n",
      "Requirement already satisfied: wasabi<1.1.0,>=0.4.0 in /usr/local/lib/python3.6/dist-packages (from spacy>=2.2.2->en_core_web_md) (0.7.1)\n",
      "Requirement already satisfied: chardet<4,>=3.0.2 in /usr/local/lib/python3.6/dist-packages (from requests<3.0.0,>=2.13.0->spacy>=2.2.2->en_core_web_md) (3.0.4)\n",
      "Requirement already satisfied: urllib3!=1.25.0,!=1.25.1,<1.26,>=1.21.1 in /usr/local/lib/python3.6/dist-packages (from requests<3.0.0,>=2.13.0->spacy>=2.2.2->en_core_web_md) (1.24.3)\n",
      "Requirement already satisfied: certifi>=2017.4.17 in /usr/local/lib/python3.6/dist-packages (from requests<3.0.0,>=2.13.0->spacy>=2.2.2->en_core_web_md) (2020.6.20)\n",
      "Requirement already satisfied: idna<3,>=2.5 in /usr/local/lib/python3.6/dist-packages (from requests<3.0.0,>=2.13.0->spacy>=2.2.2->en_core_web_md) (2.10)\n",
      "Requirement already satisfied: importlib-metadata>=0.20; python_version < \"3.8\" in /usr/local/lib/python3.6/dist-packages (from catalogue<1.1.0,>=0.0.7->spacy>=2.2.2->en_core_web_md) (1.7.0)\n",
      "Requirement already satisfied: zipp>=0.5 in /usr/local/lib/python3.6/dist-packages (from importlib-metadata>=0.20; python_version < \"3.8\"->catalogue<1.1.0,>=0.0.7->spacy>=2.2.2->en_core_web_md) (3.1.0)\n"
     ]
    }
   ],
   "source": [
    "!pip install es_core_news_md\n",
    "!pip install en_core_web_md"
   ]
  },
  {
   "cell_type": "markdown",
   "metadata": {
    "Collapsed": "false",
    "colab_type": "text",
    "id": "wRv3GPFItABX"
   },
   "source": [
    "# `spacy`: el *Ruby on Rails* del PLN\n",
    "\n",
    "[spacy](http://www.spacy.io/) es una librería de procesamiento del lenguaje natural, robusta, rápida, fácil de instalar y utilizar e integrable con [otras librerías de *NLP* y de *deep learning*](https://spacy.io/usage/facts-figures#section-other-libraries). \n",
    "\n",
    "Tiene modelos entrenados en varios idiomas y permite realizar las [típicas tareas](https://spacy.io/usage/facts-figures) de segmentación por oraciones, tokenizanción, análisis morfológico, extracción de entidades y análisis de opinión."
   ]
  },
  {
   "cell_type": "markdown",
   "metadata": {
    "Collapsed": "false",
    "colab_type": "text",
    "id": "B8isG1xctABY"
   },
   "source": [
    "Una vez instalados los modelos, podemos importarlos fácilmente:"
   ]
  },
  {
   "cell_type": "code",
   "execution_count": 6,
   "metadata": {
    "Collapsed": "false",
    "colab": {
     "base_uri": "https://localhost:8080/",
     "height": 74
    },
    "colab_type": "code",
    "executionInfo": {
     "elapsed": 10147,
     "status": "ok",
     "timestamp": 1596820001354,
     "user": {
      "displayName": "Felipe Fernandez pomar",
      "photoUrl": "https://lh3.googleusercontent.com/a-/AOh14GjAIBB1UUNahiuBW35nhzx_0hZxW-dTtBh-sbrK0Q=s64",
      "userId": "06620814048662575791"
     },
     "user_tz": -120
    },
    "id": "08xXEO44tABZ",
    "outputId": "0b4f8d6e-526b-4309-cfed-6d97234e8b4f"
   },
   "outputs": [
    {
     "name": "stderr",
     "output_type": "stream",
     "text": [
      "/usr/local/lib/python3.6/dist-packages/spacy/util.py:275: UserWarning: [W031] Model 'es_core_news_md' (2.2.5) requires spaCy v2.2 and is incompatible with the current spaCy version (2.3.2). This may lead to unexpected results or runtime errors. To resolve this, download a newer compatible model or retrain your custom model with the current spaCy version. For more details and available updates, run: python -m spacy validate\n",
      "  warnings.warn(warn_msg)\n"
     ]
    }
   ],
   "source": [
    "import spacy\n",
    "import es_core_news_md\n",
    "\n",
    "# cargamos el modelo entrenado en español\n",
    "nlp = spacy.load('es_core_news_md')"
   ]
  },
  {
   "cell_type": "code",
   "execution_count": 7,
   "metadata": {
    "Collapsed": "false",
    "colab": {},
    "colab_type": "code",
    "executionInfo": {
     "elapsed": 787,
     "status": "ok",
     "timestamp": 1596820013395,
     "user": {
      "displayName": "Felipe Fernandez pomar",
      "photoUrl": "https://lh3.googleusercontent.com/a-/AOh14GjAIBB1UUNahiuBW35nhzx_0hZxW-dTtBh-sbrK0Q=s64",
      "userId": "06620814048662575791"
     },
     "user_tz": -120
    },
    "id": "ImsfDlkrtABc"
   },
   "outputs": [],
   "source": [
    "texto = \"\"\"España incumple la regla del déficit del euro y queda como único país bajo el control de Bruselas. \n",
    "España no aprobará finalmente la regla europa del déficit y se quedará como único país de la Eurozona que \n",
    "suspende y sigue bajo vigilancia. El Gobierno se salta finalmente el requisito de saneamiento presupuestario \n",
    "del Tratado de Maastricht y obtiene así más margen de gasto en 2018.\"\"\"\n",
    "\n",
    "# y procesamos el texto\n",
    "doc = nlp(texto)"
   ]
  },
  {
   "cell_type": "markdown",
   "metadata": {
    "Collapsed": "false",
    "colab_type": "text",
    "id": "3XOvkQ4VtABe"
   },
   "source": [
    "## Procesando oraciones, palabras y entidades\n",
    "\n",
    "Podemos iterar fácilmente sobre la lista de oraciones y recorrer los tokens para acceder a su información morfo-sintáctica:"
   ]
  },
  {
   "cell_type": "code",
   "execution_count": 8,
   "metadata": {
    "Collapsed": "false",
    "colab": {
     "base_uri": "https://localhost:8080/",
     "height": 1000
    },
    "colab_type": "code",
    "executionInfo": {
     "elapsed": 1015,
     "status": "ok",
     "timestamp": 1596820708528,
     "user": {
      "displayName": "Felipe Fernandez pomar",
      "photoUrl": "https://lh3.googleusercontent.com/a-/AOh14GjAIBB1UUNahiuBW35nhzx_0hZxW-dTtBh-sbrK0Q=s64",
      "userId": "06620814048662575791"
     },
     "user_tz": -120
    },
    "id": "i8vPDHEAtABf",
    "outputId": "24e1b7cf-a88b-4faa-b4d2-b8cee1c81b62"
   },
   "outputs": [
    {
     "name": "stdout",
     "output_type": "stream",
     "text": [
      "Oración: España incumple la regla del déficit del euro y queda como único país bajo el control de Bruselas. \n",
      "\n",
      "España/España => etiqueta PROPN/PROPN___ y dependencia nsubj\n",
      "incumple/incumplir => etiqueta VERB/VERB__Mood=Ind|Number=Sing|Person=3|Tense=Pres|VerbForm=Fin y dependencia ROOT\n",
      "la/lo => etiqueta DET/DET__Definite=Def|Gender=Fem|Number=Sing|PronType=Art y dependencia det\n",
      "regla/reglar => etiqueta NOUN/NOUN__Gender=Fem|Number=Sing y dependencia obj\n",
      "del/del => etiqueta ADP/ADP__AdpType=Preppron|Gender=Masc|Number=Sing y dependencia case\n",
      "déficit/déficit => etiqueta NOUN/NOUN__Gender=Masc|Number=Sing y dependencia nmod\n",
      "del/del => etiqueta ADP/ADP__AdpType=Preppron|Gender=Masc|Number=Sing y dependencia case\n",
      "euro/euro => etiqueta NOUN/NOUN__Gender=Masc|Number=Sing y dependencia nmod\n",
      "y/y => etiqueta CONJ/CCONJ___ y dependencia cc\n",
      "queda/quedo => etiqueta VERB/VERB__Mood=Ind|Number=Sing|Person=3|Tense=Pres|VerbForm=Fin y dependencia conj\n",
      "como/comer => etiqueta SCONJ/SCONJ___ y dependencia mark\n",
      "único/único => etiqueta ADJ/ADJ__Gender=Masc|Number=Sing y dependencia amod\n",
      "país/país => etiqueta NOUN/NOUN__Gender=Masc|Number=Sing y dependencia obj\n",
      "bajo/bajar => etiqueta ADP/ADP__AdpType=Prep y dependencia case\n",
      "el/el => etiqueta DET/DET__Definite=Def|Gender=Masc|Number=Sing|PronType=Art y dependencia det\n",
      "control/control => etiqueta NOUN/NOUN__Gender=Masc|Number=Sing y dependencia obl\n",
      "de/de => etiqueta ADP/ADP__AdpType=Prep y dependencia case\n",
      "Bruselas/Bruselas => etiqueta PROPN/PROPN___ y dependencia nmod\n",
      "./. => etiqueta PUNCT/PUNCT__PunctType=Peri y dependencia punct\n",
      "\n",
      "/\n",
      " => etiqueta SPACE/_SP y dependencia \n",
      "Oración: España no aprobará finalmente la regla europa del déficit y se quedará como único país de la Eurozona que \n",
      "suspende y sigue bajo vigilancia.\n",
      "España/España => etiqueta PROPN/PROPN___ y dependencia nsubj\n",
      "no/no => etiqueta ADV/ADV__Polarity=Neg y dependencia advmod\n",
      "aprobará/aprobar => etiqueta VERB/VERB__Mood=Ind|Number=Sing|Person=3|Tense=Fut|VerbForm=Fin y dependencia ROOT\n",
      "finalmente/finalmente => etiqueta ADV/ADV___ y dependencia advmod\n",
      "la/lo => etiqueta DET/DET__Definite=Def|Gender=Fem|Number=Sing|PronType=Art y dependencia det\n",
      "regla/reglar => etiqueta NOUN/NOUN__Gender=Fem|Number=Sing y dependencia obj\n",
      "europa/europa => etiqueta PROPN/PROPN___ y dependencia appos\n",
      "del/del => etiqueta ADP/ADP__AdpType=Preppron|Gender=Masc|Number=Sing y dependencia case\n",
      "déficit/déficit => etiqueta NOUN/NOUN__Gender=Masc|Number=Sing y dependencia nmod\n",
      "y/y => etiqueta CONJ/CCONJ___ y dependencia cc\n",
      "se/se => etiqueta PRON/PRON__Person=3 y dependencia obj\n",
      "quedará/quedar => etiqueta VERB/VERB__Mood=Ind|Number=Sing|Person=3|Tense=Fut|VerbForm=Fin y dependencia conj\n",
      "como/comer => etiqueta SCONJ/SCONJ___ y dependencia mark\n",
      "único/único => etiqueta ADJ/ADJ__Gender=Masc|Number=Sing y dependencia amod\n",
      "país/país => etiqueta NOUN/NOUN__Gender=Masc|Number=Sing y dependencia obl\n",
      "de/de => etiqueta ADP/ADP__AdpType=Prep y dependencia case\n",
      "la/lo => etiqueta DET/DET__Definite=Def|Gender=Fem|Number=Sing|PronType=Art y dependencia det\n",
      "Eurozona/Eurozona => etiqueta PROPN/PROPN___ y dependencia nmod\n",
      "que/que => etiqueta PRON/PRON__PronType=Rel y dependencia obj\n",
      "\n",
      "/\n",
      " => etiqueta SPACE/_SP y dependencia \n",
      "suspende/suspender => etiqueta VERB/VERB__Mood=Ind|Number=Sing|Person=3|Tense=Pres|VerbForm=Fin y dependencia acl\n",
      "y/y => etiqueta CONJ/CCONJ___ y dependencia cc\n",
      "sigue/seguir => etiqueta VERB/VERB__Mood=Ind|Number=Sing|Person=3|Tense=Pres|VerbForm=Fin y dependencia conj\n",
      "bajo/bajar => etiqueta ADP/ADP__AdpType=Prep y dependencia case\n",
      "vigilancia/vigilancia => etiqueta NOUN/NOUN__Gender=Fem|Number=Sing y dependencia obl\n",
      "./. => etiqueta PUNCT/PUNCT__PunctType=Peri y dependencia punct\n",
      "Oración: El Gobierno se salta finalmente el requisito de saneamiento presupuestario \n",
      "del Tratado de Maastricht y obtiene así más margen de gasto en 2018.\n",
      "El/El => etiqueta DET/DET__Definite=Def|Gender=Masc|Number=Sing|PronType=Art y dependencia det\n",
      "Gobierno/Gobierno => etiqueta PROPN/PROPN___ y dependencia nsubj\n",
      "se/se => etiqueta PRON/PRON__Person=3 y dependencia obj\n",
      "salta/saltar => etiqueta VERB/VERB__Mood=Ind|Number=Sing|Person=3|Tense=Pres|VerbForm=Fin y dependencia ROOT\n",
      "finalmente/finalmente => etiqueta ADV/ADV___ y dependencia advmod\n",
      "el/el => etiqueta DET/DET__Definite=Def|Gender=Masc|Number=Sing|PronType=Art y dependencia det\n",
      "requisito/requerir => etiqueta NOUN/NOUN__Gender=Masc|Number=Sing y dependencia obj\n",
      "de/de => etiqueta ADP/ADP__AdpType=Prep y dependencia case\n",
      "saneamiento/saneamiento => etiqueta NOUN/NOUN__Gender=Masc|Number=Sing y dependencia nmod\n",
      "presupuestario/presupuestario => etiqueta ADJ/ADJ__Gender=Masc|Number=Sing y dependencia amod\n",
      "\n",
      "/\n",
      " => etiqueta SPACE/_SP y dependencia \n",
      "del/del => etiqueta ADP/ADP__AdpType=Preppron|Gender=Masc|Number=Sing y dependencia case\n",
      "Tratado/Tratado => etiqueta PROPN/PROPN___ y dependencia nmod\n",
      "de/de => etiqueta ADP/ADP__AdpType=Prep y dependencia case\n",
      "Maastricht/Maastricht => etiqueta PROPN/PROPN___ y dependencia flat\n",
      "y/y => etiqueta CONJ/CCONJ___ y dependencia cc\n",
      "obtiene/obtener => etiqueta VERB/VERB__Mood=Ind|Number=Sing|Person=3|Tense=Pres|VerbForm=Fin y dependencia conj\n",
      "así/asir => etiqueta ADV/ADV___ y dependencia advmod\n",
      "más/más => etiqueta ADV/ADV___ y dependencia advmod\n",
      "margen/margen => etiqueta NOUN/NOUN__Number=Sing y dependencia obj\n",
      "de/de => etiqueta ADP/ADP__AdpType=Prep y dependencia case\n",
      "gasto/gastar => etiqueta NOUN/NOUN__Gender=Masc|Number=Sing y dependencia nmod\n",
      "en/en => etiqueta ADP/ADP__AdpType=Prep y dependencia case\n",
      "2018/2018 => etiqueta NOUN/NOUN__AdvType=Tim y dependencia obl\n",
      "./. => etiqueta PUNCT/PUNCT__PunctType=Peri y dependencia punct\n"
     ]
    }
   ],
   "source": [
    "for sentence in doc.sents:\n",
    "    print(\"Oración: {}\".format(sentence))\n",
    "    for token in sentence:\n",
    "        print(\n",
    "            \"{}/{} => etiqueta {}/{} y dependencia {}\".format(\n",
    "                token, token.lemma_, token.pos_, token.tag_, token.dep_\n",
    "            )\n",
    "        )"
   ]
  },
  {
   "cell_type": "markdown",
   "metadata": {
    "Collapsed": "false",
    "colab_type": "text",
    "id": "eQnXL0bVtABj"
   },
   "source": [
    "El elemeno `doc` tiene una propiedad `.ents` que permite acceder a las entidades nombradas que hayan sido localizadas:"
   ]
  },
  {
   "cell_type": "code",
   "execution_count": 9,
   "metadata": {
    "Collapsed": "false",
    "colab": {
     "base_uri": "https://localhost:8080/",
     "height": 126
    },
    "colab_type": "code",
    "executionInfo": {
     "elapsed": 690,
     "status": "ok",
     "timestamp": 1596821941455,
     "user": {
      "displayName": "Felipe Fernandez pomar",
      "photoUrl": "https://lh3.googleusercontent.com/a-/AOh14GjAIBB1UUNahiuBW35nhzx_0hZxW-dTtBh-sbrK0Q=s64",
      "userId": "06620814048662575791"
     },
     "user_tz": -120
    },
    "id": "HqUqxpZttABk",
    "outputId": "d744a2de-f2ad-4a36-951a-ed0a053175e6"
   },
   "outputs": [
    {
     "name": "stdout",
     "output_type": "stream",
     "text": [
      "(Bruselas, España, Eurozona, El Gobierno, Tratado de Maastricht)\n",
      "Bruselas es de tipo LOC\n",
      "España es de tipo PER\n",
      "Eurozona es de tipo LOC\n",
      "El Gobierno es de tipo MISC\n",
      "Tratado de Maastricht es de tipo MISC\n"
     ]
    }
   ],
   "source": [
    "print(doc.ents)\n",
    "\n",
    "for entity in doc.ents:\n",
    "    print(\"{} es de tipo {}\".format(entity, entity.label_))"
   ]
  },
  {
   "cell_type": "markdown",
   "metadata": {
    "Collapsed": "false",
    "colab_type": "text",
    "id": "uhmHFoRWtABm"
   },
   "source": [
    "## Visualizando árboles de dependencias y entidades\n",
    "\n",
    "Podemos acceder al árbol completo a través del método `.print_tree()`:"
   ]
  },
  {
   "cell_type": "code",
   "execution_count": 10,
   "metadata": {
    "Collapsed": "false",
    "colab": {
     "base_uri": "https://localhost:8080/",
     "height": 1000
    },
    "colab_type": "code",
    "executionInfo": {
     "elapsed": 1052,
     "status": "ok",
     "timestamp": 1596821964491,
     "user": {
      "displayName": "Felipe Fernandez pomar",
      "photoUrl": "https://lh3.googleusercontent.com/a-/AOh14GjAIBB1UUNahiuBW35nhzx_0hZxW-dTtBh-sbrK0Q=s64",
      "userId": "06620814048662575791"
     },
     "user_tz": -120
    },
    "id": "I_ERGoH9tABn",
    "outputId": "3dac86c1-d97a-41a1-858f-41d379646190"
   },
   "outputs": [
    {
     "data": {
      "text/plain": [
       "{'ents': [{'end': 97, 'label': 'LOC', 'start': 89},\n",
       "  {'end': 106, 'label': 'PER', 'start': 100},\n",
       "  {'end': 201, 'label': 'LOC', 'start': 193},\n",
       "  {'end': 252, 'label': 'MISC', 'start': 241},\n",
       "  {'end': 342, 'label': 'MISC', 'start': 321}],\n",
       " 'sents': [{'end': 100, 'start': 0},\n",
       "  {'end': 240, 'start': 100},\n",
       "  {'end': 385, 'start': 241}],\n",
       " 'text': 'España incumple la regla del déficit del euro y queda como único país bajo el control de Bruselas. \\nEspaña no aprobará finalmente la regla europa del déficit y se quedará como único país de la Eurozona que \\nsuspende y sigue bajo vigilancia. El Gobierno se salta finalmente el requisito de saneamiento presupuestario \\ndel Tratado de Maastricht y obtiene así más margen de gasto en 2018.',\n",
       " 'tokens': [{'dep': 'nsubj',\n",
       "   'end': 6,\n",
       "   'head': 1,\n",
       "   'id': 0,\n",
       "   'pos': 'PROPN',\n",
       "   'start': 0,\n",
       "   'tag': 'PROPN___'},\n",
       "  {'dep': 'ROOT',\n",
       "   'end': 15,\n",
       "   'head': 1,\n",
       "   'id': 1,\n",
       "   'pos': 'VERB',\n",
       "   'start': 7,\n",
       "   'tag': 'VERB__Mood=Ind|Number=Sing|Person=3|Tense=Pres|VerbForm=Fin'},\n",
       "  {'dep': 'det',\n",
       "   'end': 18,\n",
       "   'head': 3,\n",
       "   'id': 2,\n",
       "   'pos': 'DET',\n",
       "   'start': 16,\n",
       "   'tag': 'DET__Definite=Def|Gender=Fem|Number=Sing|PronType=Art'},\n",
       "  {'dep': 'obj',\n",
       "   'end': 24,\n",
       "   'head': 1,\n",
       "   'id': 3,\n",
       "   'pos': 'NOUN',\n",
       "   'start': 19,\n",
       "   'tag': 'NOUN__Gender=Fem|Number=Sing'},\n",
       "  {'dep': 'case',\n",
       "   'end': 28,\n",
       "   'head': 5,\n",
       "   'id': 4,\n",
       "   'pos': 'ADP',\n",
       "   'start': 25,\n",
       "   'tag': 'ADP__AdpType=Preppron|Gender=Masc|Number=Sing'},\n",
       "  {'dep': 'nmod',\n",
       "   'end': 36,\n",
       "   'head': 3,\n",
       "   'id': 5,\n",
       "   'pos': 'NOUN',\n",
       "   'start': 29,\n",
       "   'tag': 'NOUN__Gender=Masc|Number=Sing'},\n",
       "  {'dep': 'case',\n",
       "   'end': 40,\n",
       "   'head': 7,\n",
       "   'id': 6,\n",
       "   'pos': 'ADP',\n",
       "   'start': 37,\n",
       "   'tag': 'ADP__AdpType=Preppron|Gender=Masc|Number=Sing'},\n",
       "  {'dep': 'nmod',\n",
       "   'end': 45,\n",
       "   'head': 5,\n",
       "   'id': 7,\n",
       "   'pos': 'NOUN',\n",
       "   'start': 41,\n",
       "   'tag': 'NOUN__Gender=Masc|Number=Sing'},\n",
       "  {'dep': 'cc',\n",
       "   'end': 47,\n",
       "   'head': 9,\n",
       "   'id': 8,\n",
       "   'pos': 'CONJ',\n",
       "   'start': 46,\n",
       "   'tag': 'CCONJ___'},\n",
       "  {'dep': 'conj',\n",
       "   'end': 53,\n",
       "   'head': 1,\n",
       "   'id': 9,\n",
       "   'pos': 'VERB',\n",
       "   'start': 48,\n",
       "   'tag': 'VERB__Mood=Ind|Number=Sing|Person=3|Tense=Pres|VerbForm=Fin'},\n",
       "  {'dep': 'mark',\n",
       "   'end': 58,\n",
       "   'head': 12,\n",
       "   'id': 10,\n",
       "   'pos': 'SCONJ',\n",
       "   'start': 54,\n",
       "   'tag': 'SCONJ___'},\n",
       "  {'dep': 'amod',\n",
       "   'end': 64,\n",
       "   'head': 12,\n",
       "   'id': 11,\n",
       "   'pos': 'ADJ',\n",
       "   'start': 59,\n",
       "   'tag': 'ADJ__Gender=Masc|Number=Sing'},\n",
       "  {'dep': 'obj',\n",
       "   'end': 69,\n",
       "   'head': 9,\n",
       "   'id': 12,\n",
       "   'pos': 'NOUN',\n",
       "   'start': 65,\n",
       "   'tag': 'NOUN__Gender=Masc|Number=Sing'},\n",
       "  {'dep': 'case',\n",
       "   'end': 74,\n",
       "   'head': 15,\n",
       "   'id': 13,\n",
       "   'pos': 'ADP',\n",
       "   'start': 70,\n",
       "   'tag': 'ADP__AdpType=Prep'},\n",
       "  {'dep': 'det',\n",
       "   'end': 77,\n",
       "   'head': 15,\n",
       "   'id': 14,\n",
       "   'pos': 'DET',\n",
       "   'start': 75,\n",
       "   'tag': 'DET__Definite=Def|Gender=Masc|Number=Sing|PronType=Art'},\n",
       "  {'dep': 'obl',\n",
       "   'end': 85,\n",
       "   'head': 9,\n",
       "   'id': 15,\n",
       "   'pos': 'NOUN',\n",
       "   'start': 78,\n",
       "   'tag': 'NOUN__Gender=Masc|Number=Sing'},\n",
       "  {'dep': 'case',\n",
       "   'end': 88,\n",
       "   'head': 17,\n",
       "   'id': 16,\n",
       "   'pos': 'ADP',\n",
       "   'start': 86,\n",
       "   'tag': 'ADP__AdpType=Prep'},\n",
       "  {'dep': 'nmod',\n",
       "   'end': 97,\n",
       "   'head': 15,\n",
       "   'id': 17,\n",
       "   'pos': 'PROPN',\n",
       "   'start': 89,\n",
       "   'tag': 'PROPN___'},\n",
       "  {'dep': 'punct',\n",
       "   'end': 98,\n",
       "   'head': 1,\n",
       "   'id': 18,\n",
       "   'pos': 'PUNCT',\n",
       "   'start': 97,\n",
       "   'tag': 'PUNCT__PunctType=Peri'},\n",
       "  {'dep': '',\n",
       "   'end': 100,\n",
       "   'head': 18,\n",
       "   'id': 19,\n",
       "   'pos': 'SPACE',\n",
       "   'start': 99,\n",
       "   'tag': '_SP'},\n",
       "  {'dep': 'nsubj',\n",
       "   'end': 106,\n",
       "   'head': 22,\n",
       "   'id': 20,\n",
       "   'pos': 'PROPN',\n",
       "   'start': 100,\n",
       "   'tag': 'PROPN___'},\n",
       "  {'dep': 'advmod',\n",
       "   'end': 109,\n",
       "   'head': 22,\n",
       "   'id': 21,\n",
       "   'pos': 'ADV',\n",
       "   'start': 107,\n",
       "   'tag': 'ADV__Polarity=Neg'},\n",
       "  {'dep': 'ROOT',\n",
       "   'end': 118,\n",
       "   'head': 22,\n",
       "   'id': 22,\n",
       "   'pos': 'VERB',\n",
       "   'start': 110,\n",
       "   'tag': 'VERB__Mood=Ind|Number=Sing|Person=3|Tense=Fut|VerbForm=Fin'},\n",
       "  {'dep': 'advmod',\n",
       "   'end': 129,\n",
       "   'head': 22,\n",
       "   'id': 23,\n",
       "   'pos': 'ADV',\n",
       "   'start': 119,\n",
       "   'tag': 'ADV___'},\n",
       "  {'dep': 'det',\n",
       "   'end': 132,\n",
       "   'head': 25,\n",
       "   'id': 24,\n",
       "   'pos': 'DET',\n",
       "   'start': 130,\n",
       "   'tag': 'DET__Definite=Def|Gender=Fem|Number=Sing|PronType=Art'},\n",
       "  {'dep': 'obj',\n",
       "   'end': 138,\n",
       "   'head': 22,\n",
       "   'id': 25,\n",
       "   'pos': 'NOUN',\n",
       "   'start': 133,\n",
       "   'tag': 'NOUN__Gender=Fem|Number=Sing'},\n",
       "  {'dep': 'appos',\n",
       "   'end': 145,\n",
       "   'head': 25,\n",
       "   'id': 26,\n",
       "   'pos': 'PROPN',\n",
       "   'start': 139,\n",
       "   'tag': 'PROPN___'},\n",
       "  {'dep': 'case',\n",
       "   'end': 149,\n",
       "   'head': 28,\n",
       "   'id': 27,\n",
       "   'pos': 'ADP',\n",
       "   'start': 146,\n",
       "   'tag': 'ADP__AdpType=Preppron|Gender=Masc|Number=Sing'},\n",
       "  {'dep': 'nmod',\n",
       "   'end': 157,\n",
       "   'head': 25,\n",
       "   'id': 28,\n",
       "   'pos': 'NOUN',\n",
       "   'start': 150,\n",
       "   'tag': 'NOUN__Gender=Masc|Number=Sing'},\n",
       "  {'dep': 'cc',\n",
       "   'end': 159,\n",
       "   'head': 31,\n",
       "   'id': 29,\n",
       "   'pos': 'CONJ',\n",
       "   'start': 158,\n",
       "   'tag': 'CCONJ___'},\n",
       "  {'dep': 'obj',\n",
       "   'end': 162,\n",
       "   'head': 31,\n",
       "   'id': 30,\n",
       "   'pos': 'PRON',\n",
       "   'start': 160,\n",
       "   'tag': 'PRON__Person=3'},\n",
       "  {'dep': 'conj',\n",
       "   'end': 170,\n",
       "   'head': 22,\n",
       "   'id': 31,\n",
       "   'pos': 'VERB',\n",
       "   'start': 163,\n",
       "   'tag': 'VERB__Mood=Ind|Number=Sing|Person=3|Tense=Fut|VerbForm=Fin'},\n",
       "  {'dep': 'mark',\n",
       "   'end': 175,\n",
       "   'head': 34,\n",
       "   'id': 32,\n",
       "   'pos': 'SCONJ',\n",
       "   'start': 171,\n",
       "   'tag': 'SCONJ___'},\n",
       "  {'dep': 'amod',\n",
       "   'end': 181,\n",
       "   'head': 34,\n",
       "   'id': 33,\n",
       "   'pos': 'ADJ',\n",
       "   'start': 176,\n",
       "   'tag': 'ADJ__Gender=Masc|Number=Sing'},\n",
       "  {'dep': 'obl',\n",
       "   'end': 186,\n",
       "   'head': 31,\n",
       "   'id': 34,\n",
       "   'pos': 'NOUN',\n",
       "   'start': 182,\n",
       "   'tag': 'NOUN__Gender=Masc|Number=Sing'},\n",
       "  {'dep': 'case',\n",
       "   'end': 189,\n",
       "   'head': 37,\n",
       "   'id': 35,\n",
       "   'pos': 'ADP',\n",
       "   'start': 187,\n",
       "   'tag': 'ADP__AdpType=Prep'},\n",
       "  {'dep': 'det',\n",
       "   'end': 192,\n",
       "   'head': 37,\n",
       "   'id': 36,\n",
       "   'pos': 'DET',\n",
       "   'start': 190,\n",
       "   'tag': 'DET__Definite=Def|Gender=Fem|Number=Sing|PronType=Art'},\n",
       "  {'dep': 'nmod',\n",
       "   'end': 201,\n",
       "   'head': 34,\n",
       "   'id': 37,\n",
       "   'pos': 'PROPN',\n",
       "   'start': 193,\n",
       "   'tag': 'PROPN___'},\n",
       "  {'dep': 'obj',\n",
       "   'end': 205,\n",
       "   'head': 40,\n",
       "   'id': 38,\n",
       "   'pos': 'PRON',\n",
       "   'start': 202,\n",
       "   'tag': 'PRON__PronType=Rel'},\n",
       "  {'dep': '',\n",
       "   'end': 207,\n",
       "   'head': 38,\n",
       "   'id': 39,\n",
       "   'pos': 'SPACE',\n",
       "   'start': 206,\n",
       "   'tag': '_SP'},\n",
       "  {'dep': 'acl',\n",
       "   'end': 215,\n",
       "   'head': 34,\n",
       "   'id': 40,\n",
       "   'pos': 'VERB',\n",
       "   'start': 207,\n",
       "   'tag': 'VERB__Mood=Ind|Number=Sing|Person=3|Tense=Pres|VerbForm=Fin'},\n",
       "  {'dep': 'cc',\n",
       "   'end': 217,\n",
       "   'head': 42,\n",
       "   'id': 41,\n",
       "   'pos': 'CONJ',\n",
       "   'start': 216,\n",
       "   'tag': 'CCONJ___'},\n",
       "  {'dep': 'conj',\n",
       "   'end': 223,\n",
       "   'head': 40,\n",
       "   'id': 42,\n",
       "   'pos': 'VERB',\n",
       "   'start': 218,\n",
       "   'tag': 'VERB__Mood=Ind|Number=Sing|Person=3|Tense=Pres|VerbForm=Fin'},\n",
       "  {'dep': 'case',\n",
       "   'end': 228,\n",
       "   'head': 44,\n",
       "   'id': 43,\n",
       "   'pos': 'ADP',\n",
       "   'start': 224,\n",
       "   'tag': 'ADP__AdpType=Prep'},\n",
       "  {'dep': 'obl',\n",
       "   'end': 239,\n",
       "   'head': 42,\n",
       "   'id': 44,\n",
       "   'pos': 'NOUN',\n",
       "   'start': 229,\n",
       "   'tag': 'NOUN__Gender=Fem|Number=Sing'},\n",
       "  {'dep': 'punct',\n",
       "   'end': 240,\n",
       "   'head': 22,\n",
       "   'id': 45,\n",
       "   'pos': 'PUNCT',\n",
       "   'start': 239,\n",
       "   'tag': 'PUNCT__PunctType=Peri'},\n",
       "  {'dep': 'det',\n",
       "   'end': 243,\n",
       "   'head': 47,\n",
       "   'id': 46,\n",
       "   'pos': 'DET',\n",
       "   'start': 241,\n",
       "   'tag': 'DET__Definite=Def|Gender=Masc|Number=Sing|PronType=Art'},\n",
       "  {'dep': 'nsubj',\n",
       "   'end': 252,\n",
       "   'head': 49,\n",
       "   'id': 47,\n",
       "   'pos': 'PROPN',\n",
       "   'start': 244,\n",
       "   'tag': 'PROPN___'},\n",
       "  {'dep': 'obj',\n",
       "   'end': 255,\n",
       "   'head': 49,\n",
       "   'id': 48,\n",
       "   'pos': 'PRON',\n",
       "   'start': 253,\n",
       "   'tag': 'PRON__Person=3'},\n",
       "  {'dep': 'ROOT',\n",
       "   'end': 261,\n",
       "   'head': 49,\n",
       "   'id': 49,\n",
       "   'pos': 'VERB',\n",
       "   'start': 256,\n",
       "   'tag': 'VERB__Mood=Ind|Number=Sing|Person=3|Tense=Pres|VerbForm=Fin'},\n",
       "  {'dep': 'advmod',\n",
       "   'end': 272,\n",
       "   'head': 49,\n",
       "   'id': 50,\n",
       "   'pos': 'ADV',\n",
       "   'start': 262,\n",
       "   'tag': 'ADV___'},\n",
       "  {'dep': 'det',\n",
       "   'end': 275,\n",
       "   'head': 52,\n",
       "   'id': 51,\n",
       "   'pos': 'DET',\n",
       "   'start': 273,\n",
       "   'tag': 'DET__Definite=Def|Gender=Masc|Number=Sing|PronType=Art'},\n",
       "  {'dep': 'obj',\n",
       "   'end': 285,\n",
       "   'head': 49,\n",
       "   'id': 52,\n",
       "   'pos': 'NOUN',\n",
       "   'start': 276,\n",
       "   'tag': 'NOUN__Gender=Masc|Number=Sing'},\n",
       "  {'dep': 'case',\n",
       "   'end': 288,\n",
       "   'head': 54,\n",
       "   'id': 53,\n",
       "   'pos': 'ADP',\n",
       "   'start': 286,\n",
       "   'tag': 'ADP__AdpType=Prep'},\n",
       "  {'dep': 'nmod',\n",
       "   'end': 300,\n",
       "   'head': 52,\n",
       "   'id': 54,\n",
       "   'pos': 'NOUN',\n",
       "   'start': 289,\n",
       "   'tag': 'NOUN__Gender=Masc|Number=Sing'},\n",
       "  {'dep': 'amod',\n",
       "   'end': 315,\n",
       "   'head': 54,\n",
       "   'id': 55,\n",
       "   'pos': 'ADJ',\n",
       "   'start': 301,\n",
       "   'tag': 'ADJ__Gender=Masc|Number=Sing'},\n",
       "  {'dep': '',\n",
       "   'end': 317,\n",
       "   'head': 55,\n",
       "   'id': 56,\n",
       "   'pos': 'SPACE',\n",
       "   'start': 316,\n",
       "   'tag': '_SP'},\n",
       "  {'dep': 'case',\n",
       "   'end': 320,\n",
       "   'head': 58,\n",
       "   'id': 57,\n",
       "   'pos': 'ADP',\n",
       "   'start': 317,\n",
       "   'tag': 'ADP__AdpType=Preppron|Gender=Masc|Number=Sing'},\n",
       "  {'dep': 'nmod',\n",
       "   'end': 328,\n",
       "   'head': 54,\n",
       "   'id': 58,\n",
       "   'pos': 'PROPN',\n",
       "   'start': 321,\n",
       "   'tag': 'PROPN___'},\n",
       "  {'dep': 'case',\n",
       "   'end': 331,\n",
       "   'head': 60,\n",
       "   'id': 59,\n",
       "   'pos': 'ADP',\n",
       "   'start': 329,\n",
       "   'tag': 'ADP__AdpType=Prep'},\n",
       "  {'dep': 'flat',\n",
       "   'end': 342,\n",
       "   'head': 58,\n",
       "   'id': 60,\n",
       "   'pos': 'PROPN',\n",
       "   'start': 332,\n",
       "   'tag': 'PROPN___'},\n",
       "  {'dep': 'cc',\n",
       "   'end': 344,\n",
       "   'head': 62,\n",
       "   'id': 61,\n",
       "   'pos': 'CONJ',\n",
       "   'start': 343,\n",
       "   'tag': 'CCONJ___'},\n",
       "  {'dep': 'conj',\n",
       "   'end': 352,\n",
       "   'head': 49,\n",
       "   'id': 62,\n",
       "   'pos': 'VERB',\n",
       "   'start': 345,\n",
       "   'tag': 'VERB__Mood=Ind|Number=Sing|Person=3|Tense=Pres|VerbForm=Fin'},\n",
       "  {'dep': 'advmod',\n",
       "   'end': 356,\n",
       "   'head': 62,\n",
       "   'id': 63,\n",
       "   'pos': 'ADV',\n",
       "   'start': 353,\n",
       "   'tag': 'ADV___'},\n",
       "  {'dep': 'advmod',\n",
       "   'end': 360,\n",
       "   'head': 65,\n",
       "   'id': 64,\n",
       "   'pos': 'ADV',\n",
       "   'start': 357,\n",
       "   'tag': 'ADV___'},\n",
       "  {'dep': 'obj',\n",
       "   'end': 367,\n",
       "   'head': 62,\n",
       "   'id': 65,\n",
       "   'pos': 'NOUN',\n",
       "   'start': 361,\n",
       "   'tag': 'NOUN__Number=Sing'},\n",
       "  {'dep': 'case',\n",
       "   'end': 370,\n",
       "   'head': 67,\n",
       "   'id': 66,\n",
       "   'pos': 'ADP',\n",
       "   'start': 368,\n",
       "   'tag': 'ADP__AdpType=Prep'},\n",
       "  {'dep': 'nmod',\n",
       "   'end': 376,\n",
       "   'head': 65,\n",
       "   'id': 67,\n",
       "   'pos': 'NOUN',\n",
       "   'start': 371,\n",
       "   'tag': 'NOUN__Gender=Masc|Number=Sing'},\n",
       "  {'dep': 'case',\n",
       "   'end': 379,\n",
       "   'head': 69,\n",
       "   'id': 68,\n",
       "   'pos': 'ADP',\n",
       "   'start': 377,\n",
       "   'tag': 'ADP__AdpType=Prep'},\n",
       "  {'dep': 'obl',\n",
       "   'end': 384,\n",
       "   'head': 62,\n",
       "   'id': 69,\n",
       "   'pos': 'NOUN',\n",
       "   'start': 380,\n",
       "   'tag': 'NOUN__AdvType=Tim'},\n",
       "  {'dep': 'punct',\n",
       "   'end': 385,\n",
       "   'head': 49,\n",
       "   'id': 70,\n",
       "   'pos': 'PUNCT',\n",
       "   'start': 384,\n",
       "   'tag': 'PUNCT__PunctType=Peri'}]}"
      ]
     },
     "execution_count": 10,
     "metadata": {
      "tags": []
     },
     "output_type": "execute_result"
    }
   ],
   "source": [
    "doc.to_json()"
   ]
  },
  {
   "cell_type": "markdown",
   "metadata": {
    "Collapsed": "false",
    "colab_type": "text",
    "id": "lq4HcCP2tABq"
   },
   "source": [
    "Pero también se puede dibujar el grafo con las dependencias:"
   ]
  },
  {
   "cell_type": "code",
   "execution_count": 11,
   "metadata": {
    "Collapsed": "false",
    "colab": {
     "base_uri": "https://localhost:8080/",
     "height": 108
    },
    "colab_type": "code",
    "executionInfo": {
     "elapsed": 39890,
     "status": "ok",
     "timestamp": 1596822151361,
     "user": {
      "displayName": "Felipe Fernandez pomar",
      "photoUrl": "https://lh3.googleusercontent.com/a-/AOh14GjAIBB1UUNahiuBW35nhzx_0hZxW-dTtBh-sbrK0Q=s64",
      "userId": "06620814048662575791"
     },
     "user_tz": -120
    },
    "id": "0PIpSTtctABr",
    "outputId": "1414f5db-b74e-4474-874f-3a274e0674ae"
   },
   "outputs": [
    {
     "name": "stdout",
     "output_type": "stream",
     "text": [
      "\n",
      "Using the 'dep' visualizer\n",
      "Serving on http://0.0.0.0:5000 ...\n",
      "\n",
      "Shutting down server on port 5000.\n"
     ]
    }
   ],
   "source": [
    "from spacy import displacy\n",
    "\n",
    "displacy.serve(doc, style=\"dep\")"
   ]
  },
  {
   "cell_type": "markdown",
   "metadata": {
    "Collapsed": "false",
    "colab_type": "text",
    "id": "tjpARx8ItABt"
   },
   "source": [
    "O el de las entidades:"
   ]
  },
  {
   "cell_type": "code",
   "execution_count": 12,
   "metadata": {
    "Collapsed": "false",
    "colab": {
     "base_uri": "https://localhost:8080/",
     "height": 108
    },
    "colab_type": "code",
    "executionInfo": {
     "elapsed": 105993,
     "status": "ok",
     "timestamp": 1596822262092,
     "user": {
      "displayName": "Felipe Fernandez pomar",
      "photoUrl": "https://lh3.googleusercontent.com/a-/AOh14GjAIBB1UUNahiuBW35nhzx_0hZxW-dTtBh-sbrK0Q=s64",
      "userId": "06620814048662575791"
     },
     "user_tz": -120
    },
    "id": "-a4ojopBtABu",
    "outputId": "1c748dbf-48b6-4ef8-d463-a1d5d8cceb9d"
   },
   "outputs": [
    {
     "name": "stdout",
     "output_type": "stream",
     "text": [
      "\n",
      "Using the 'ent' visualizer\n",
      "Serving on http://0.0.0.0:5000 ...\n",
      "\n",
      "Shutting down server on port 5000.\n"
     ]
    }
   ],
   "source": [
    "from spacy import displacy\n",
    "\n",
    "displacy.serve(doc, style=\"ent\")"
   ]
  },
  {
   "cell_type": "code",
   "execution_count": null,
   "metadata": {
    "Collapsed": "false",
    "colab": {},
    "colab_type": "code",
    "id": "N_V6CVTKtABw"
   },
   "outputs": [],
   "source": [
    "texto = \"\"\"Los ciudadanos españoles son conscientes de que esa salida de Reino Unido no será gratuita. Literalmente. Uno de cada tres teme que el Brexit le cueste caro a la economía española: el 36,9% prevé consecuencias «muy negativas» para sus bolsillos.\"\"\"\n",
    "doc = nlp(texto)\n",
    "displacy.serve(doc, style=\"ent\")"
   ]
  },
  {
   "cell_type": "code",
   "execution_count": 13,
   "metadata": {
    "Collapsed": "false",
    "colab": {
     "base_uri": "https://localhost:8080/",
     "height": 74
    },
    "colab_type": "code",
    "executionInfo": {
     "elapsed": 9297,
     "status": "ok",
     "timestamp": 1596822313294,
     "user": {
      "displayName": "Felipe Fernandez pomar",
      "photoUrl": "https://lh3.googleusercontent.com/a-/AOh14GjAIBB1UUNahiuBW35nhzx_0hZxW-dTtBh-sbrK0Q=s64",
      "userId": "06620814048662575791"
     },
     "user_tz": -120
    },
    "id": "kED6HzsktABz",
    "outputId": "cdefc453-bbea-4d3d-9d77-2ea0f6a3b397"
   },
   "outputs": [
    {
     "name": "stderr",
     "output_type": "stream",
     "text": [
      "/usr/local/lib/python3.6/dist-packages/spacy/util.py:275: UserWarning: [W031] Model 'en_core_web_md' (2.2.5) requires spaCy v2.2 and is incompatible with the current spaCy version (2.3.2). This may lead to unexpected results or runtime errors. To resolve this, download a newer compatible model or retrain your custom model with the current spaCy version. For more details and available updates, run: python -m spacy validate\n",
      "  warnings.warn(warn_msg)\n"
     ]
    }
   ],
   "source": [
    "import en_core_web_md\n",
    "nlp_en = spacy.load(\"en_core_web_md\")"
   ]
  },
  {
   "cell_type": "code",
   "execution_count": null,
   "metadata": {
    "Collapsed": "false",
    "colab": {},
    "colab_type": "code",
    "id": "hErrjOkctAB3"
   },
   "outputs": [],
   "source": [
    "text = \"\"\"A trade war between the world’s two largest economies officially began on Friday morning as the Trump \n",
    "administration followed through with its threat to impose tariffs on $34 billion worth of Chinese products, a \n",
    "significant escalation of a fight that could hurt companies and consumers in both the United States and China.\"\"\"\n",
    "doc = nlp_en(text)\n",
    "displacy.serve(doc, style=\"ent\")"
   ]
  },
  {
   "cell_type": "markdown",
   "metadata": {
    "Collapsed": "false",
    "colab_type": "text",
    "id": "yeY97EGktAB6"
   },
   "source": [
    "## Similitud semántica entre palabras, frases y documentos\n",
    "\n",
    "spaCy permite [calcular la similitud semántica](https://spacy.io/usage/vectors-similarity) entre cualquier par de objetos de tipo `Doc`, `Span` o `Token`. \n",
    "\n",
    "Ojo, La similitud semántica es un concepto algo subjetivo, pero en este caso se puede entender como la probabilidad de que dos palabras aparezcan en los mismos contextos."
   ]
  },
  {
   "cell_type": "code",
   "execution_count": 14,
   "metadata": {
    "Collapsed": "false",
    "colab": {
     "base_uri": "https://localhost:8080/",
     "height": 72
    },
    "colab_type": "code",
    "executionInfo": {
     "elapsed": 1235,
     "status": "ok",
     "timestamp": 1596823184304,
     "user": {
      "displayName": "Felipe Fernandez pomar",
      "photoUrl": "https://lh3.googleusercontent.com/a-/AOh14GjAIBB1UUNahiuBW35nhzx_0hZxW-dTtBh-sbrK0Q=s64",
      "userId": "06620814048662575791"
     },
     "user_tz": -120
    },
    "id": "AZI-M3QrtAB7",
    "outputId": "cb9205a2-2cd2-4d30-9de5-2a865318323b"
   },
   "outputs": [
    {
     "name": "stdout",
     "output_type": "stream",
     "text": [
      "cats vs dogs 0.83117634\n",
      "research vs development 0.58287174\n",
      "cats vs development 0.104666404\n"
     ]
    }
   ],
   "source": [
    "# analizamos algunas colocaciones en inglés\n",
    "token1, _, token2 = nlp_en(\"cats and dogs\")\n",
    "token3, _, token4 = nlp_en(\"research and development\")\n",
    "\n",
    "# medimos la similitud semántica entre algunos pares\n",
    "print(token1, \"vs\", token2, token1.similarity(token2))\n",
    "print(token3, \"vs\", token4, token3.similarity(token4))\n",
    "print(token1, \"vs\", token4, token1.similarity(token4))"
   ]
  },
  {
   "cell_type": "code",
   "execution_count": 15,
   "metadata": {
    "Collapsed": "false",
    "colab": {
     "base_uri": "https://localhost:8080/",
     "height": 72
    },
    "colab_type": "code",
    "executionInfo": {
     "elapsed": 1229,
     "status": "ok",
     "timestamp": 1596823195564,
     "user": {
      "displayName": "Felipe Fernandez pomar",
      "photoUrl": "https://lh3.googleusercontent.com/a-/AOh14GjAIBB1UUNahiuBW35nhzx_0hZxW-dTtBh-sbrK0Q=s64",
      "userId": "06620814048662575791"
     },
     "user_tz": -120
    },
    "id": "c2tg38qdtAB9",
    "outputId": "a93536f4-b3a2-43d9-ed45-2b5c2a961f67"
   },
   "outputs": [
    {
     "name": "stdout",
     "output_type": "stream",
     "text": [
      "perros vs gatos 0.91161263\n",
      "investigación vs desarrollo 0.7544771\n",
      "perros vs desarrollo 0.346996\n"
     ]
    }
   ],
   "source": [
    "# ¿qué tal funciona en español?\n",
    "token1, _, token2 = nlp(\"perros y gatos\")\n",
    "token3, _, token4 = nlp(\"investigación y desarrollo\")\n",
    "\n",
    "# medimos la similitud semántica entre algunos pares\n",
    "print(token1, \"vs\", token2, token1.similarity(token2))\n",
    "print(token3, \"vs\", token4, token3.similarity(token4))\n",
    "print(token1, \"vs\", token4, token1.similarity(token4))"
   ]
  },
  {
   "cell_type": "code",
   "execution_count": 16,
   "metadata": {
    "colab": {
     "base_uri": "https://localhost:8080/",
     "height": 181
    },
    "colab_type": "code",
    "executionInfo": {
     "elapsed": 1291,
     "status": "ok",
     "timestamp": 1596824229101,
     "user": {
      "displayName": "Felipe Fernandez pomar",
      "photoUrl": "https://lh3.googleusercontent.com/a-/AOh14GjAIBB1UUNahiuBW35nhzx_0hZxW-dTtBh-sbrK0Q=s64",
      "userId": "06620814048662575791"
     },
     "user_tz": -120
    },
    "id": "UaYWaO5aI_IC",
    "outputId": "00623ac7-c2bc-4bae-a6f1-d3e0357cbbac"
   },
   "outputs": [
    {
     "data": {
      "text/plain": [
       "array([ 0.717034, -0.397822, -1.108521, -0.884734, -0.201268,  0.125169,\n",
       "       -0.00407 , -0.12862 ,  0.500077,  1.092736, -0.122359, -0.065122,\n",
       "       -0.164607, -0.83391 ,  2.157081,  0.559716,  0.246357,  0.648891,\n",
       "       -0.711096,  0.860825,  0.386473, -0.43889 , -0.152347, -1.244188,\n",
       "       -0.750556,  0.86514 ,  0.208967,  1.492607,  1.117445,  0.701904,\n",
       "        0.138878,  0.362976, -0.523039,  0.314911,  0.729516,  0.365775,\n",
       "        0.775755, -0.486999, -0.615669, -0.321059,  0.55078 ,  0.087907,\n",
       "        1.007819, -0.868903,  1.07746 ,  0.284555,  0.040527, -0.618669,\n",
       "       -0.703004, -0.323161], dtype=float32)"
      ]
     },
     "execution_count": 16,
     "metadata": {
      "tags": []
     },
     "output_type": "execute_result"
    }
   ],
   "source": [
    "token2.vector"
   ]
  }
 ],
 "metadata": {
  "colab": {
   "collapsed_sections": [],
   "name": "06-spacy.ipynb",
   "provenance": []
  },
  "kernelspec": {
   "display_name": "Python 3",
   "language": "python",
   "name": "python3"
  },
  "language_info": {
   "codemirror_mode": {
    "name": "ipython",
    "version": 3
   },
   "file_extension": ".py",
   "mimetype": "text/x-python",
   "name": "python",
   "nbconvert_exporter": "python",
   "pygments_lexer": "ipython3",
   "version": "3.7.6"
  }
 },
 "nbformat": 4,
 "nbformat_minor": 0
}
