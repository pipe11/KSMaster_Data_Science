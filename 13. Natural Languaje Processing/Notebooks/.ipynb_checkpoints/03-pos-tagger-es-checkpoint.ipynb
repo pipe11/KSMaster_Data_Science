{
 "cells": [
  {
   "cell_type": "code",
   "execution_count": 1,
   "metadata": {
    "Collapsed": "false",
    "colab": {
     "base_uri": "https://localhost:8080/",
     "height": 146
    },
    "colab_type": "code",
    "executionInfo": {
     "elapsed": 9263,
     "status": "ok",
     "timestamp": 1596798591310,
     "user": {
      "displayName": "Felipe Fernandez pomar",
      "photoUrl": "https://lh3.googleusercontent.com/a-/AOh14GjAIBB1UUNahiuBW35nhzx_0hZxW-dTtBh-sbrK0Q=s64",
      "userId": "06620814048662575791"
     },
     "user_tz": -120
    },
    "id": "z8A9wVcOnH3f",
    "outputId": "30f06ac9-fbf2-42c1-acf5-82f399b14454"
   },
   "outputs": [
    {
     "name": "stdout",
     "output_type": "stream",
     "text": [
      "Requirement already satisfied: nltk in /usr/local/lib/python3.6/dist-packages (3.2.5)\n",
      "Requirement already satisfied: six in /usr/local/lib/python3.6/dist-packages (from nltk) (1.15.0)\n",
      "/usr/lib/python3.6/runpy.py:125: RuntimeWarning: 'nltk.downloader' found in sys.modules after import of package 'nltk', but prior to execution of 'nltk.downloader'; this may result in unpredictable behaviour\n",
      "  warn(RuntimeWarning(msg))\n",
      "[nltk_data] Downloading package cess_esp to /root/nltk_data...\n",
      "[nltk_data]   Unzipping corpora/cess_esp.zip.\n"
     ]
    }
   ],
   "source": [
    "# install the requirements\n",
    "!pip install nltk\n",
    "!python -m nltk.downloader cess_esp"
   ]
  },
  {
   "cell_type": "markdown",
   "metadata": {
    "Collapsed": "false",
    "colab_type": "text",
    "id": "JPk_AHdSnH3k"
   },
   "source": [
    "# PoS tagging en Español\n",
    "\n",
    "En este ejercicio vamos a jugar con uno de los corpus en español que está disponible desde NLTK: CESS_ESP, un *treebank* anotado a partir de una colección de noticias en español.\n",
    "\n",
    "Si no has utilizado antes el corpus, necesitarás instarlo:"
   ]
  },
  {
   "cell_type": "code",
   "execution_count": 2,
   "metadata": {
    "Collapsed": "false",
    "colab": {
     "base_uri": "https://localhost:8080/",
     "height": 72
    },
    "colab_type": "code",
    "executionInfo": {
     "elapsed": 5256,
     "status": "ok",
     "timestamp": 1596798591632,
     "user": {
      "displayName": "Felipe Fernandez pomar",
      "photoUrl": "https://lh3.googleusercontent.com/a-/AOh14GjAIBB1UUNahiuBW35nhzx_0hZxW-dTtBh-sbrK0Q=s64",
      "userId": "06620814048662575791"
     },
     "user_tz": -120
    },
    "id": "mWCM_tBonH3l",
    "outputId": "ba5bce2f-3b21-4167-d446-6d300f362939"
   },
   "outputs": [
    {
     "name": "stdout",
     "output_type": "stream",
     "text": [
      "[nltk_data] Downloading package cess_esp to /root/nltk_data...\n",
      "[nltk_data]   Package cess_esp is already up-to-date!\n"
     ]
    },
    {
     "data": {
      "text/plain": [
       "True"
      ]
     },
     "execution_count": 2,
     "metadata": {
      "tags": []
     },
     "output_type": "execute_result"
    }
   ],
   "source": [
    "import nltk\n",
    "\n",
    "nltk.download(\"cess_esp\")"
   ]
  },
  {
   "cell_type": "markdown",
   "metadata": {
    "Collapsed": "false",
    "colab_type": "text",
    "id": "JXCy6tIInH3o"
   },
   "source": [
    "Este corpus está actualmente incluído en un recurso más amplio, el corpus [AnCora](http://clic.ub.edu/corpus/es) que desarrollan en la Universitat de Barcelona. Para más información, podéis leer el artículo de M. Taulé, M. A. Martí y M. Recasens \"[AnCora: Multilevel Annotated Corpora for Catalan and Spanish](http://www.lrec-conf.org/proceedings/lrec2008/pdf/35_paper.pdf)\". *Proceedings of 6th International Conference on Language Resources and Evaluation (LREC 2008)*. 2008. Marrakesh (Morocco).\n",
    "\n",
    "Antes de nada, ejecuta la siguiente celda para acceder al corpus y a otras herramientas que vamos a usar en este ejercicio."
   ]
  },
  {
   "cell_type": "code",
   "execution_count": 16,
   "metadata": {
    "Collapsed": "false",
    "colab": {
     "base_uri": "https://localhost:8080/",
     "height": 55
    },
    "colab_type": "code",
    "executionInfo": {
     "elapsed": 482,
     "status": "ok",
     "timestamp": 1596800878693,
     "user": {
      "displayName": "Felipe Fernandez pomar",
      "photoUrl": "https://lh3.googleusercontent.com/a-/AOh14GjAIBB1UUNahiuBW35nhzx_0hZxW-dTtBh-sbrK0Q=s64",
      "userId": "06620814048662575791"
     },
     "user_tz": -120
    },
    "id": "W0THN2QrnH3p",
    "outputId": "a5e39cc9-c7a9-46fe-9a9f-6cb48e80d936"
   },
   "outputs": [
    {
     "name": "stdout",
     "output_type": "stream",
     "text": [
      "[('El', 'da0ms0'), ('grupo', 'ncms000'), ('estatal', 'aq0cs0'), ('Electricité_de_France', 'np00000'), ('-Fpa-', 'Fpa'), ('EDF', 'np00000'), ('-Fpt-', 'Fpt'), ('anunció', 'vmis3s0'), ('hoy', 'rg'), (',', 'Fc'), ('jueves', 'W'), (',', 'Fc'), ('la', 'da0fs0'), ('compra', 'ncfs000'), ('del', 'spcms'), ('51_por_ciento', 'Zp'), ('de', 'sps00'), ('la', 'da0fs0'), ('empresa', 'ncfs000'), ('mexicana', 'aq0fs0'), ('Electricidad_Águila_de_Altamira', 'np00000'), ('-Fpa-', 'Fpa'), ('EAA', 'np00000'), ('-Fpt-', 'Fpt'), (',', 'Fc'), ('creada', 'aq0fsp'), ('por', 'sps00'), ('el', 'da0ms0'), ('japonés', 'aq0ms0'), ('Mitsubishi_Corporation', 'np00000'), ('para', 'sps00'), ('poner_en_marcha', 'vmn0000'), ('una', 'di0fs0'), ('central', 'ncfs000'), ('de', 'sps00'), ('gas', 'ncms000'), ('de', 'sps00'), ('495', 'Z'), ('megavatios', 'ncmp000'), ('.', 'Fp'), ('Una', 'di0fs0'), ('portavoz', 'nccs000'), ('de', 'sps00'), ('EDF', 'np00000'), ('explicó', 'vmis3s0'), ('a', 'sps00'), ('EFE', 'np00000'), ('que', 'cs'), ('el', 'da0ms0'), ('proyecto', 'ncms000')]\n"
     ]
    }
   ],
   "source": [
    "import nltk\n",
    "from nltk.corpus import cess_esp\n",
    "\n",
    "cess_esp = cess_esp.tagged_words()\n",
    "print(cess_esp[:50])"
   ]
  },
  {
   "cell_type": "markdown",
   "metadata": {
    "Collapsed": "false",
    "colab_type": "text",
    "id": "xJqUOuDWnH3t"
   },
   "source": [
    "Fíjate que las etiquetas que se usan en el treebank español son diferentes a las etiquetas que habíamos visto en inglés. Para empezar, el español es una lengua con una morfología más rica: si queremos reflejar el género y el número de los adjetivos, por ejemplo, no nos vale con etiquetar los adjetivos con una simple `JJ`.\n",
    "\n",
    "\n",
    "Echa un vistazo a las etiquetas morfológicas y trata de interpretar su significado. En estas primeras 50 palabras encontramos:\n",
    "\n",
    "- `da0ms0`: determinante artículo masculino singular\n",
    "- `ncms000`: nombre común masculino singular\n",
    "- `aq0cs0`: adjetivo calificativo de género común singular\n",
    "- `np00000`: nombre propio \n",
    "- `sps00`: preposición\n",
    "- `vmis3s0`: verbo principal indicativo pasado 3ª persona del singular\n",
    "\n",
    "\n",
    "Aquí tienes el [la explicación de las etiquetas](https://talp-upc.gitbooks.io/freeling-user-manual/content/tagsets.html) y [el catálogo completo de rasgos para el etiquetado en español](https://talp-upc.gitbooks.io/freeling-user-manual/content/tagsets/tagset-es.html) usadas en este corpus. A partir de lo que aprendas en el enlace anterior:\n",
    "\n",
    "- Imprime por pantalla solo las palabras etiquetadas como **formas verbales en 3ª persona del plural del pretérito perfecto simple de indicativo**.\n",
    "- Calcula qué porcentaje del total representan las palabras del corpus CEES_ESP etiquetadas como formas verbales en 3ª persona del plural del pretérito perfecto simple de indicativo."
   ]
  },
  {
   "cell_type": "code",
   "execution_count": 27,
   "metadata": {
    "colab": {
     "base_uri": "https://localhost:8080/",
     "height": 35
    },
    "colab_type": "code",
    "executionInfo": {
     "elapsed": 6260,
     "status": "ok",
     "timestamp": 1596801219080,
     "user": {
      "displayName": "Felipe Fernandez pomar",
      "photoUrl": "https://lh3.googleusercontent.com/a-/AOh14GjAIBB1UUNahiuBW35nhzx_0hZxW-dTtBh-sbrK0Q=s64",
      "userId": "06620814048662575791"
     },
     "user_tz": -120
    },
    "id": "mj0epbKzusPn",
    "outputId": "bb5cd4fc-8e3f-48a8-a488-2c988ccbc011"
   },
   "outputs": [
    {
     "data": {
      "text/plain": [
       "192685"
      ]
     },
     "execution_count": 27,
     "metadata": {
      "tags": []
     },
     "output_type": "execute_result"
    }
   ],
   "source": [
    "from nltk.corpus import cess_esp\n",
    "\n",
    "cess_esp = cess_esp.tagged_words()\n",
    "len(cess_esp)"
   ]
  },
  {
   "cell_type": "code",
   "execution_count": 31,
   "metadata": {
    "Collapsed": "false",
    "colab": {
     "base_uri": "https://localhost:8080/",
     "height": 201
    },
    "colab_type": "code",
    "executionInfo": {
     "elapsed": 11766,
     "status": "ok",
     "timestamp": 1596801624272,
     "user": {
      "displayName": "Felipe Fernandez pomar",
      "photoUrl": "https://lh3.googleusercontent.com/a-/AOh14GjAIBB1UUNahiuBW35nhzx_0hZxW-dTtBh-sbrK0Q=s64",
      "userId": "06620814048662575791"
     },
     "user_tz": -120
    },
    "id": "LNmpSuG8nH3u",
    "outputId": "a8b29229-4f6a-4b2f-f764-1c1a42e0d19f"
   },
   "outputs": [
    {
     "name": "stdout",
     "output_type": "stream",
     "text": [
      "['tienen', 'adquieren', 'adquieren', 'ofrecen', 'estiman', 'adaptan', 'aseguran', 'suponen', 'forman_parte', 'siguen', 'creen', 'pueden', 'ofrecen', 'pueden', 'permanecen', 'impiden', 'existen', 'están', 'cuentan', 'critican', 'navegan', 'participan', 'están', 'niegan', 'prefieren', 'oponen', 'admiten', 'mantienen', 'están', 'enfrentan', 'aceptan', 'comprometen', 'pueden', 'tienen', 'deben', 'están', 'están', 'quieren', 'integran', 'quieren', 'vienen', 'basan', 'afectan', 'centran', 'producen', 'deben', 'preparan', 'siguen', 'toman', 'siguen', 'están', 'investigan', 'indican', 'calculan', 'valoran', 'proyectan', 'usan', 'aseguran', 'abren', 'amenazan', 'quieren', 'amenazan', 'protestan', 'preparan', 'cobran', 'facilitan', 'pueden', 'tienen', 'comprometen', 'representan', 'tienen', 'tienen', 'deben', 'interesan', 'encuentran', 'componen', 'representan', 'están', 'están', 'mantienen', 'producen', 'operan', 'obligan', 'ocultan', 'producen', 'encuentran', 'están', 'coinciden', 'afirman', 'operan', 'sientan', 'existen', 'demuestran', 'siguen', 'reflejan', 'deben', 'tienen', 'están', 'viven', 'presentan', 'impulsan', 'afirman', 'están', 'suelen', 'deben', 'deben', 'buscan', 'tienen', 'superan', 'preocupan', 'temen', 'admiten', 'exigen', 'aseguran', 'falsean', 'rigen', 'pertenecen', 'tienen', 'tienen', 'guardan', 'deben', 'evidencian', 'pertenecen', 'recuerdan', 'desean', 'intentan', 'viven', 'encuentran', 'viven', 'forman', 'sufren', 'estudian', 'acercan', 'estudian', 'van', 'reúnen', 'aprovechan', 'dan', 'celebran', 'preparan', 'celebran', 'acuden', 'llevan', 'plantean', 'forman_parte', 'conforman', 'incrementan', 'juegan', 'están', 'Completan', 'parecen', 'aseguran', 'preparan', 'están', 'mantienen', 'votan', 'hacen', 'deben', 'abundan', 'compiten', 'aventuran', 'disputan', 'integran', 'están', 'están', 'compiten', 'disputan', 'votan', 'hacen', 'deben', 'existen', 'gobiernan', 'están', 'tienen', 'dependen', 'vencen', 'destacan', 'resaltan', 'parecen', 'asumen', 'cuentan', 'reprochan', 'aseguran', 'reciben', 'forman_parte', 'operan', 'pueden', 'deben', 'permiten', 'realizan', 'hacen', 'operan', 'controlan', 'exigen', 'tienen', 'pueden', 'existen', 'ubican', 'consuman', 'están', 'cuestan', 'buscan', 'trabajan', 'están', 'tienen', 'faltan', 'llevan', 'fabrican', 'indican', 'realizan', 'están', 'aprecian', 'cuentan', 'reprochan', 'conforman', 'pueden', 'disponen', 'pueden', 'suelen', 'impiden', 'piden', 'piden', 'apoyan', 'condenan', 'están', 'ganan', 'niegan', 'aparentan', 'coinciden', 'sufren', 'denuncian', 'padecen', 'tocan', 'suponen', 'practican', 'comercializan', 'operan', 'integran', 'proceden', 'proceden', 'representan', 'proceden', 'aparecen', 'venden', 'sitúan', 'están', 'inciden', 'representan', 'quieren', 'quieren', 'tienen', 'benefician', 'recogen', 'ocupan', 'hunden', 'suelen', 'aprecian', 'valoran', 'consumen', 'proveen', 'carecen', 'reabren', 'exploran', 'favorecen', 'tienen', 'generan', 'incluyen', 'prefieren', 'quieren', 'tienen', 'tienen', 'consideran', 'tocan', 'quedan', 'coinciden', 'destacan', 'fabrican', 'desarrollan', 'siguen', 'están', 'matan', 'hieren', 'matan', 'siguen', 'siguen', 'amplían', 'amplían', 'tienen', 'constituyen', 'están', 'desarrollan', 'sirven', 'pueden', 'incluyen', 'quitan', 'elogian', 'pertenecen', 'intentan', 'analizan', 'incluyen', 'contienen', 'están', 'actúan', 'resultan', 'constatan', 'deslindan', 'atribuyen', 'escuchan', 'comprenden', 'tienen', 'adelantan', 'siguen', 'tratan', 'están', 'acaban', 'señalan', 'deben', 'realizan', 'hacen', 'perfilan', 'posicionan', 'controlan', 'sobresalen', 'están', 'tienen', 'están', 'mantienen', 'integran', 'vencen', 'viven', 'calculan', 'están', 'faltan', 'pueden', 'corresponden', 'quieren', 'pueden', 'forman_parte', 'dependen', 'comienzan', 'instan', 'consideran', 'tienen', 'van', 'están', 'deben', 'quieren', 'tienen', 'fatigan', 'mantienen', 'siguen', 'deben', 'salgan', 'están', 'afirman', 'están', 'están', 'siguen', 'tienen', 'pueden', 'registran', 'conllevan', 'suman', 'producen', 'pesan', 'buscan', 'ven', 'tienen', 'representan', 'suponen', 'colocan', 'apuntan', 'tienen', 'operan', 'ponen', 'están', 'tienen', 'aportan', 'refieren', 'permiten', 'tienen', 'tienen', 'sientan', 'permanecen', 'examinan', 'emplean', 'emplean', 'insisten', 'manifiestan', 'afirman', 'están', 'recuerdan', 'tienen', 'tienen', 'dan', 'indican', 'afectan', 'acusan', 'reclaman', 'existen', 'regresan', 'contemplan', 'poseen', 'vuelan', 'van', 'faltan', 'tratan', 'mantienen', 'van', 'apuestan', 'están', 'permanecen', 'encuentran', 'empiezan', 'adoptan', 'comunican', 'están', 'van', 'recogen', 'compiten', 'hacen', 'derrochan', 'están', 'hacen', 'roban', 'demuestran', 'tienen', 'opinan', 'pueden', 'integran', 'firman', 'están', 'indican', 'mantienen', 'señalan', 'invitan', 'tienen', 'instan', 'mantienen', 'piden', 'señalan', 'plantean', 'están', 'deben', 'reclaman', 'pueden', 'necesitan', 'están', 'tienen', 'van', 'quedan', 'necesitan', 'pueden', 'afirman', 'están', 'existen', 'esfuerzan', 'quieren', 'deben', 'comparten', 'tienen', 'respaldan', 'deben', 'operan', 'están', 'van', 'pretenden', 'hacen', 'están', 'van', 'pueden', 'tienen', 'demuestran', 'pueden', 'chillan', 'creen', 'van', 'pierden', 'van', 'respetan', 'pueden', 'tienen', 'disputan', 'deben', 'alimentan', 'cierran', 'ocupan', 'están', 'exigen', 'quedan', 'desempeñan', 'tienen', 'pasan', 'van', 'están', 'encabezan', 'pueden', 'usan', 'declaran', 'están', 'suponen', 'deben', 'van', 'pueden', 'copan', 'consumen', 'destinan', 'contribuyen', 'gastan', 'participan', 'acuden', 'encuentran', 'están', 'cuentan', 'determinan', 'imponen', 'preocupan', 'tienen', 'van', 'viajan', 'deben', 'adoptan', 'deben', 'encuentran', 'Dicen', 'reflejan', 'toman', 'están', 'corresponden', 'representan', 'están', 'aseguran', 'están', 'corresponden', 'quedan', 'deben', 'llegan', 'consideran', 'van', 'saben', 'van', 'necesitan', 'están', 'tratan', 'encabezan', 'mantienen', 'consolidan', 'sitúan', 'representan', 'tienen', 'dependen', 'figuran', 'tienen', 'otorgan', 'creen', 'integran', 'centran', 'tienen', 'permanecen', 'consideran', 'tienen', 'distinguen', 'dictan', 'purgan', 'imputan', 'están', 'pueden', 'vienen', 'unen', 'están', 'dicen', 'juegan', 'circulan', 'conceden', 'deben', 'pueden', 'subastan', 'sirven', 'suponen', 'van', 'llegan', 'gozan', 'están', 'aplican', 'acatan', 'imponen', 'protestan', 'sobresalen', 'respetan', 'facilitan', 'aportan', 'resultan', 'derivan', 'toman', 'están', 'deben', 'Tienen', 'tienen', 'cursan', 'siguen', 'muestran', 'siguen', 'revelan', 'tienen', 'existen', 'están', 'endosan', 'sobresalen', 'están', 'siguen', 'consideran', 'atreven', 'creen', 'permiten', 'están', 'componen', 'poseen', 'aplican', 'temen', 'buscan', 'aplican', 'revisten', 'están', 'tienen', 'aparecen', 'tienen', 'dicen', 'tienen', 'tienen', 'critican', 'poseen', 'componen', 'destacan', 'mantienen', 'condenan', 'realizan', 'controlan', 'están', 'producen', 'caminan', 'aciertan', 'representan', 'vienen', 'pagan', 'están', 'están', 'requieren', 'mejoran', 'abundan', 'limitan', 'valen', 'entran', 'están', 'abren', 'salen', 'afectan', 'caben', 'Dicen', 'tienen', 'culebrean', 'llaman', 'sobreandan', 'existen', 'hablan', 'Dicen', 'salen', 'recrean', 'acuerdan', 'parecen', 'proporcionan', 'Dicen', 'viven', 'andan', 'conviven', 'arreglan', 'hacen', 'pueblan', 'visitan', 'aparecen', 'saben', 'deciden', 'dan_cuenta', 'saben', 'hacinan', 'rodean', 'malviven', 'dicen', 'pueden', 'demuestran', 'van', 'saben', 'desmienten', 'chasquean', 'tienen', 'Dicen', 'anuncian', 'viajan', 'necesitan', 'buscan', 'tienden', 'dicen', 'consideran', 'llevan', 'dicen', 'traducen', 'van', 'creen', 'convierten', 'suelen', 'Cuentan', 'llaman', 'ven', 'están', 'inspiran', 'rezan', 'llegan', 'sostienen', 'dicen', 'tienen', 'autorizan', 'vienen', 'regalan', 'arriesgan', 'quedan', 'creen', 'quedan', 'gustan', 'dejan', 'multan', 'ponen', 'saben', 'persisten', 'tienen', 'propinan', 'sueltan', 'continúan', 'derraman', 'felicitan', 'van', 'suelen', 'Dicen', 'apuestan', 'prefieren', 'circulan', 'callan', 'odian', 'aborrecen', 'detestan', 'pueden', 'tienen', 'hallan', 'compran', 'venden', 'agarran', 'salen', 'merecen', 'generan', 'cuecen', 'conducen', 'Comprenden', 'secuestran', 'roban', 'torturan', 'asesinan', 'prostituyen', 'hacen', 'arruinan', 'quieren', 'hacen', 'dan', 'copian', 'desaparecen', 'acaban', 'habitan', 'quedan', 'tienen', 'quieren', 'matan', 'quieren', 'afectan', 'atacan', 'cometen', 'practican', 'hacen', 'defienden', 'defienden', 'hacen', 'intentan', 'provocan', 'necesitan', 'acusan', 'practican', 'usan', 'usan', 'llevan', 'cardan', 'dominan', 'caracolean', 'reclaman', 'enfrentan', 'llevan', 'suelen', 'prefieren', 'conceden', 'piensan', 'pueden', 'pueden', 'creen', 'coexisten', 'van', 'están', 'mueven', 'dominan', 'exaltan', 'siguen', 'deben', 'dicen', 'resumen', 'van', 'quieren', 'rechazan', 'están', 'están', 'desaniman', 'tienen', 'sueñan', 'desmoronan', 'dicen', 'aceptan', 'van', 'llegan', 'pueden', 'quedan', 'mantienen', 'van', 'parecen', 'restan', 'andan', 'llevan', 'van', 'pertenecen', 'practican', 'mantienen', 'disponen', 'siguen', 'pueden', 'entienden', 'quedan', 'van', 'van', 'llevan', 'incrementan', 'luchan', 'sufren', 'dan', 'alcanzan', 'desmoralizan', 'llegan', 'están', 'tienen_en_cuenta', 'pueden', 'tienen', 'activan', 'refuerzan', 'reproducen', 'aparean', 'mezclan', 'pueden', 'mueren', 'agotan', 'presentan', 'tienen', 'están', 'comparten', 'suelen', 'extinguen', 'acaban', 'mueren', 'tienen', 'consideran', 'dicen', 'trabajan', 'utilizan', 'basan', 'tienen', 'pueden', 'actúan', 'producen', 'llegan', 'constituyen', 'pueden', 'desembocan', 'suelen', 'manifiestan', 'manifiestan', 'hacen', 'tardan', 'sorprenden', 'caminan', 'centran', 'hacen', 'presentan', 'tienen', 'presentan', 'presentan', 'continúan', 'tienen', 'equivocan', 'existen', 'hacen', 'aíslan', 'crean', 'precisan', 'sirven', 'acechan', 'consiguen', 'alcanzan', 'cambian', 'mudan', 'hacen', 'muestran', 'revelan', 'fluyen', 'pueblan', 'relucen', 'presentan', 'vengan', 'interaccionan', 'sufren', 'intentan', 'quedan', 'pueden', 'radicalizan', 'evolucionan', 'viven', 'comparten', 'acoplan', 'parecen', 'traen', 'pueden', 'pesan', 'viven', 'ven', 'registran', 'ocurren', 'tienen_lugar', 'pueden', 'pueden', 'encuentran', 'colocan', 'emplean', 'están', 'sirven', 'unen', 'salen', 'deben', 'parecen', 'pueden', 'padecen', 'pueden', 'logran', 'llegan', 'rigen', 'necesitan', 'deben', 'crean', 'ponen', 'reúnen', 'incluyen', 'Existen', 'están', 'concluyen', 'encuentran', 'forman', 'piensan', 'indican', 'conocen', 'componen', 'constituyen', 'parecen', 'están', 'precisan', 'llaman', 'Poseen', 'pueden', 'aprovechan', 'pueden', 'Forman_parte', 'están', 'emplean', 'pueden', 'Cuentan', 'suceden', 'descomponen', 'tienen', 'tienen_lugar', 'toman', 'poseen', 'existen', 'están', 'permiten', 'existen', 'encuentran', 'entran', 'gravitan', 'existen', 'pueden', 'existen', 'parecen', 'progresan', 'instalan', 'generan', 'deben', 'constituyen', 'piensan', 'pueden', 'pueden', 'fabrican', 'pueden', 'están', 'faltan', 'llaman', 'usan', 'procesan', 'llegan', 'pueblan', 'registran', 'viajan', 'van', 'pueden', 'demandan', 'muestran', 'conocen', 'Suponen', 'encuentran', 'unen', 'mezclan', 'forman', 'están', 'existen', 'pueden', 'van', 'están', 'pueden', 'forman', 'muestran', 'presentan', 'incluyen', 'muestran', 'muestran', 'muestran', 'presentan', 'presentan', 'indican', 'encuentran', 'forman', 'pueden', 'resultan', 'permiten', 'sugieren', 'hallan', 'justifican', 'presentan', 'parecen', 'incrementan', 'quedan', 'pueden', 'presentan', 'contienen', 'polimerizan', 'cristalizan', 'muestran', 'pueden', 'utilizan', 'imponen', 'utilizan', 'presentan', 'cristalizan', 'deben', 'comportan', 'ven', 'muestran', 'encuentran', 'acentúan', 'pueden', 'faltan', 'apuntan', 'rodean', 'dicen', 'hacen', 'ponen_en_duda', 'representan', 'advierten', 'asisten', 'vislumbran', 'conviven', 'desean', 'advierten', 'pueden', 'acaban', 'cruzan', 'pretenden', 'fomentan', 'vienen', 'tienen', 'pierden', 'transforman', 'conservan', 'dependen', 'conmueven', 'suelen', 'tienen', 'zurren', 'corren', 'van', 'forman', 'llegan', 'van', 'dicen', 'tienden', 'están', 'mantienen', 'pueden', 'adquieren', 'vuelven', 'apelan', 'incurren', 'avanzan', 'paran', 'retroceden', 'siguen', 'subsumen', 'hacen', 'enuncian', 'residen', 'azotan', 'acaban', 'hacen', 'cargan', 'dicen', 'constituyen', 'abren', 'cierran', 'caen', 'viven', 'separan', 'tienen', 'dedican', 'incluyen', 'dan', 'viven', 'tienen', 'consideran', 'regresan', 'deciden', 'pueden', 'están', 'salen', 'encuentran', 'tienen', 'tienen', 'aducen', 'pueden', 'fuman', 'matan', 'disfrutan', 'abandonan', 'remedian', 'crecen', 'sirven', 'tragan', 'piensan', 'riman', 'financian', 'ocupan', 'curran', 'saben', 'comienzan', 'están', 'están', 'Intentan', 'mandan', 'van', 'tienen', 'calculan', 'trabajan', 'faltan', 'participan', 'gobiernan', 'están', 'Dicen', 'están', 'van', 'esperan', 'pueden', 'consideran', 'comentan', 'ven', 'reconocen', 'tienen', 'quejan', 'quedan', 'van', 'Piden', 'cuentan', 'aparecen', 'carecen', 'estiman', 'tienen', 'achacan', 'opinan', 'añaden', 'pueden', 'incorporan', 'ponen', 'niegan', 'indican', 'expresan', 'contienen', 'sugieren', 'incluyen', 'Piensan', 'oscilan', 'cobran', 'están', 'comparten', 'mantienen', 'están', 'reconocen', 'saben', 'cumplen', 'tienen', 'están', 'refugian', 'deben', 'deben', 'levantan', 'temen', 'tienen', 'llegan', 'están', 'llaman', 'dicen', 'pagan', 'beben', 'van', 'quieren', 'saben', 'mueren', 'llevan_a_cabo', 'ven', 'responden', 'alimentan', 'encuentran', 'entran', 'usan', 'dicen', 'hacen', 'vengan', 'inquietan', 'dejan', 'envidian', 'orinan', 'dicen', 'orinan', 'dicen', 'imitan', 'ofenden', 'hacen', 'andan', 'pueden', 'llaman', 'cuentan', 'creen', 'usan', 'hacen', 'dicen', 'entran', 'tienen', 'nombran', 'tienen', 'oyen', 'compensan', 'Tienen', 'gruñen', 'fabrican', 'dicen', 'están', 'existen', 'nacen', 'prosperan', 'pueden', 'viven', 'desprecian', 'compadecen', 'dicen', 'están', 'van', 'representan', 'alimentan', 'encuentran', 'entran', 'pasan', 'acumulan', 'dicen', 'continúan', 'aseguran', 'lavan', 'restriegan', 'tienen', 'faltan', 'llegan']\n",
      "\n",
      " --------------------------------------------------------------------------- \n",
      "\n",
      "El número total de verbos en 3ª persona del plural del pretérito perfecto simple de indicativo son 1312\n",
      "\n",
      " --------------------------------------------------------------------------- \n",
      "\n",
      "El porcentaje total de palabras etiquetadas como formas verbales en 3ª persona del plural del pretérito perfecto simple de indicativo es 0.680904\n"
     ]
    }
   ],
   "source": [
    "from nltk.corpus import cess_esp\n",
    "\n",
    "verbos = []\n",
    "count_verbos = 0\n",
    "cess_esp = cess_esp.tagged_words()\n",
    "count_total = len(cess_esp)\n",
    "\n",
    "for palabra, etiqueta in cess_esp:\n",
    "  if etiqueta == 'vmip3p0':\n",
    "    count_verbos += 1\n",
    "    verbos.append(palabra)\n",
    "\n",
    "print(verbos)\n",
    "print(\"\\n\", \"-\" * 75, \"\\n\")\n",
    "print('El número total de verbos en 3ª persona del plural del pretérito perfecto simple de indicativo son %d' % (count_verbos))\n",
    "print(\"\\n\", \"-\" * 75, \"\\n\")\n",
    "print('El porcentaje total de palabras etiquetadas como formas verbales en 3ª persona del plural del pretérito perfecto simple de indicativo es %f' % (count_verbos * 100 / count_total))\n"
   ]
  },
  {
   "cell_type": "markdown",
   "metadata": {
    "Collapsed": "false",
    "colab_type": "text",
    "id": "etJeSV22nH3y"
   },
   "source": [
    "Las etiquetas morfológicas que hemos visto son bastante complejas, ya que incorporan los rasgos de la flexión del español. Afortunadamente, NLTK permite cargar los corpus etiquetados con un [conjunto de etiquetas universal y simplificado](http://universaldependencies.org/u/pos/) (todos los detalles en el [paper](http://arxiv.org/abs/1104.2086)) utilizando la opcion `tagset='universal'`. Para ello, asegúrate de que has almacenado dentro de tu directorio de recursos de `nltk` el mapeo de etiquetas originales del corpus con su versión simplificada. Este fichero se llama `universal_tagset-ES.map` y lo tienes en la carpeta `data` del respositorio. Es recomendable renombrarlo, por ejemplo:"
   ]
  },
  {
   "cell_type": "code",
   "execution_count": 32,
   "metadata": {
    "Collapsed": "false",
    "colab": {
     "base_uri": "https://localhost:8080/",
     "height": 254
    },
    "colab_type": "code",
    "executionInfo": {
     "elapsed": 5311,
     "status": "ok",
     "timestamp": 1596801871263,
     "user": {
      "displayName": "Felipe Fernandez pomar",
      "photoUrl": "https://lh3.googleusercontent.com/a-/AOh14GjAIBB1UUNahiuBW35nhzx_0hZxW-dTtBh-sbrK0Q=s64",
      "userId": "06620814048662575791"
     },
     "user_tz": -120
    },
    "id": "D772yFBUnH3z",
    "outputId": "dddaab9f-e109-4178-8639-c1ad1fdb945d"
   },
   "outputs": [
    {
     "name": "stdout",
     "output_type": "stream",
     "text": [
      "Cloning into 'kschool-nlp-19'...\n",
      "remote: Enumerating objects: 80, done.\u001b[K\n",
      "remote: Counting objects: 100% (80/80), done.\u001b[K\n",
      "remote: Compressing objects: 100% (60/60), done.\u001b[K\n",
      "remote: Total 80 (delta 25), reused 73 (delta 18), pack-reused 0\u001b[K\n",
      "Unpacking objects: 100% (80/80), done.\n",
      "total 3476\n",
      "-rw-r--r-- 1 root root  622721 Aug  7 12:04 2017-twitter-messages.tsv.gz\n",
      "-rw-r--r-- 1 root root 1184237 Aug  7 12:04 2018-twitter-messages.tsv.gz\n",
      "-rw-r--r-- 1 root root   61872 Aug  7 12:04 alicia.txt.gz\n",
      "-rw-r--r-- 1 root root    3706 Aug  7 12:04 es-ancora.map\n",
      "-rw-r--r-- 1 root root  923456 Aug  7 12:04 fortunatayjacinta.txt.gz\n",
      "-rw-r--r-- 1 root root  748310 Aug  7 12:04 sherlockholmes.txt.gz\n"
     ]
    }
   ],
   "source": [
    "# desde Colab, el comando equivalente sería\n",
    "!git clone https://github.com/vitojph/kschool-nlp-19.git\n",
    "!ls -l kschool-nlp-19/data"
   ]
  },
  {
   "cell_type": "code",
   "execution_count": 38,
   "metadata": {
    "colab": {
     "base_uri": "https://localhost:8080/",
     "height": 72
    },
    "colab_type": "code",
    "executionInfo": {
     "elapsed": 534,
     "status": "ok",
     "timestamp": 1596802277628,
     "user": {
      "displayName": "Felipe Fernandez pomar",
      "photoUrl": "https://lh3.googleusercontent.com/a-/AOh14GjAIBB1UUNahiuBW35nhzx_0hZxW-dTtBh-sbrK0Q=s64",
      "userId": "06620814048662575791"
     },
     "user_tz": -120
    },
    "id": "New-QU571Rfm",
    "outputId": "2cc6a7da-622f-4b7d-d3ac-327af8780ae4"
   },
   "outputs": [
    {
     "name": "stdout",
     "output_type": "stream",
     "text": [
      "[nltk_data] Downloading package universal_tagset to /root/nltk_data...\n",
      "[nltk_data]   Unzipping taggers/universal_tagset.zip.\n"
     ]
    },
    {
     "data": {
      "text/plain": [
       "True"
      ]
     },
     "execution_count": 38,
     "metadata": {
      "tags": []
     },
     "output_type": "execute_result"
    }
   ],
   "source": [
    "nltk.download('universal_tagset')"
   ]
  },
  {
   "cell_type": "code",
   "execution_count": 45,
   "metadata": {
    "colab": {},
    "colab_type": "code",
    "executionInfo": {
     "elapsed": 3074,
     "status": "ok",
     "timestamp": 1596803436440,
     "user": {
      "displayName": "Felipe Fernandez pomar",
      "photoUrl": "https://lh3.googleusercontent.com/a-/AOh14GjAIBB1UUNahiuBW35nhzx_0hZxW-dTtBh-sbrK0Q=s64",
      "userId": "06620814048662575791"
     },
     "user_tz": -120
    },
    "id": "lhWpyzmm5hNi"
   },
   "outputs": [],
   "source": [
    "!cp /content/kschool-nlp-19/data/es-ancora.map ~/nltk_data/taggers/universal_tagset/"
   ]
  },
  {
   "cell_type": "markdown",
   "metadata": {
    "Collapsed": "false",
    "colab_type": "text",
    "id": "i2Cgs4tNnH32"
   },
   "source": [
    "Después, ejecuta la siguiente celda y fíjate cómo hemos cargado una lista de oraciones etiquetadas con esta nueva versión de las etiquetas."
   ]
  },
  {
   "cell_type": "code",
   "execution_count": 52,
   "metadata": {
    "Collapsed": "false",
    "colab": {
     "base_uri": "https://localhost:8080/",
     "height": 55
    },
    "colab_type": "code",
    "executionInfo": {
     "elapsed": 508,
     "status": "ok",
     "timestamp": 1596807312909,
     "user": {
      "displayName": "Felipe Fernandez pomar",
      "photoUrl": "https://lh3.googleusercontent.com/a-/AOh14GjAIBB1UUNahiuBW35nhzx_0hZxW-dTtBh-sbrK0Q=s64",
      "userId": "06620814048662575791"
     },
     "user_tz": -120
    },
    "id": "jKKVhe3znH32",
    "outputId": "f86f98f7-0500-450f-85f1-26dbf38dc975",
    "scrolled": true
   },
   "outputs": [
    {
     "name": "stdout",
     "output_type": "stream",
     "text": [
      "[('El', 'DET'), ('grupo', 'NOUN'), ('estatal', 'ADJ'), ('Electricité_de_France', 'NOUN'), ('-Fpa-', '.'), ('EDF', 'NOUN'), ('-Fpt-', '.'), ('anunció', 'VERB'), ('hoy', 'ADV'), (',', '.'), ('jueves', 'X'), (',', '.'), ('la', 'DET'), ('compra', 'NOUN'), ('del', 'ADP'), ('51_por_ciento', 'NUM'), ('de', 'ADP'), ('la', 'DET'), ('empresa', 'NOUN'), ('mexicana', 'ADJ'), ('Electricidad_Águila_de_Altamira', 'NOUN'), ('-Fpa-', '.'), ('EAA', 'NOUN'), ('-Fpt-', '.'), (',', '.'), ('creada', 'ADJ'), ('por', 'ADP'), ('el', 'DET'), ('japonés', 'ADJ'), ('Mitsubishi_Corporation', 'NOUN'), ('para', 'ADP'), ('poner_en_marcha', 'VERB'), ('una', 'DET'), ('central', 'NOUN'), ('de', 'ADP'), ('gas', 'NOUN'), ('de', 'ADP'), ('495', 'X'), ('megavatios', 'NOUN'), ('.', '.')]\n"
     ]
    }
   ],
   "source": [
    "from nltk.corpus import cess_esp\n",
    "\n",
    "cess_esp._tagset = \"es-ancora\"\n",
    "oraciones = cess_esp.tagged_sents(tagset=\"universal\")\n",
    "print(oraciones[0])"
   ]
  },
  {
   "cell_type": "markdown",
   "metadata": {
    "Collapsed": "false",
    "colab_type": "text",
    "id": "iYqSarV4nH36"
   },
   "source": [
    "Estas etiquetas son más sencillas, ¿verdad? Básicamente tenemos `DET` para determinante, `NOUN` para nombre, `VERB` para verbo, `ADJ` para adjetivo, `ADP` para preposición, etc.\n",
    "\n",
    "\n",
    "Vamos a utilizar este corpus para entrenar varios etiquetadores basados en ngramas, tal y como hicimos en clase y se explica en la presentación `nltk-pos`. \n",
    "\n",
    "Construye de manera incremental cuatro etiquetadores.\n",
    "\n",
    "1. un etiquetador que por defecto que asuma que una palabra desconocida es un nombre común en masculino singular y asigne la etiqueta correspondiente a todas las palabras.\n",
    "2. un etiquetador basado en unigramas que aprenda a partir de la lista `oraciones` y utilice en etiquetador anterior como respaldo.\n",
    "3. un etiquetador basado en bigramas que aprenda a partir de la lista `oraciones` y utilice en etiquetador anterior como respaldo.\n",
    "4. un etiquetador basado en trigramas que aprenda a partir de la lista `oraciones` y utilice en etiquetador anterior como respaldo."
   ]
  },
  {
   "cell_type": "code",
   "execution_count": 55,
   "metadata": {
    "Collapsed": "false",
    "colab": {
     "base_uri": "https://localhost:8080/",
     "height": 35
    },
    "colab_type": "code",
    "executionInfo": {
     "elapsed": 12182,
     "status": "ok",
     "timestamp": 1596807431809,
     "user": {
      "displayName": "Felipe Fernandez pomar",
      "photoUrl": "https://lh3.googleusercontent.com/a-/AOh14GjAIBB1UUNahiuBW35nhzx_0hZxW-dTtBh-sbrK0Q=s64",
      "userId": "06620814048662575791"
     },
     "user_tz": -120
    },
    "id": "JdzAnEWunH37",
    "outputId": "8421b738-65ff-4de8-c214-8e757e2413f4"
   },
   "outputs": [
    {
     "data": {
      "text/plain": [
       "0.22694553286451982"
      ]
     },
     "execution_count": 55,
     "metadata": {
      "tags": []
     },
     "output_type": "execute_result"
    }
   ],
   "source": [
    "# 1. Etiquetador por defecto. Todas las palabras a 'NOUN'\n",
    "\n",
    "patrones = [(r\"(\\w*)\", \"NOUN\")]\n",
    "\n",
    "regexTagger = nltk.RegexpTagger(patrones)\n",
    "\n",
    "regexTagger.evaluate(oraciones)"
   ]
  },
  {
   "cell_type": "code",
   "execution_count": 59,
   "metadata": {
    "colab": {
     "base_uri": "https://localhost:8080/",
     "height": 35
    },
    "colab_type": "code",
    "executionInfo": {
     "elapsed": 13379,
     "status": "ok",
     "timestamp": 1596807666018,
     "user": {
      "displayName": "Felipe Fernandez pomar",
      "photoUrl": "https://lh3.googleusercontent.com/a-/AOh14GjAIBB1UUNahiuBW35nhzx_0hZxW-dTtBh-sbrK0Q=s64",
      "userId": "06620814048662575791"
     },
     "user_tz": -120
    },
    "id": "qcDj9WySIlrE",
    "outputId": "96f7f74c-cfca-404a-fc87-9fe30848a85e"
   },
   "outputs": [
    {
     "name": "stdout",
     "output_type": "stream",
     "text": [
      "0.8808672009158558\n"
     ]
    }
   ],
   "source": [
    "# 2. Etiquetador de unigramas con el anterior como respaldo\n",
    "\n",
    "from nltk.corpus import cess_esp\n",
    "\n",
    "cess_esp._tagset = \"es-ancora\"\n",
    "oraciones = cess_esp.tagged_sents(tagset=\"universal\")\n",
    "\n",
    "# split entre training y size\n",
    "size = int(len(oraciones) * 0.9)\n",
    "training_corpus = oraciones[:size]\n",
    "test_corpus = oraciones[size:]\n",
    "\n",
    "# etiquetador\n",
    "unigramTagger = nltk.UnigramTagger(training_corpus, backoff = regexTagger)\n",
    "\n",
    "# resultados\n",
    "print(unigramTagger.evaluate(test_corpus))"
   ]
  },
  {
   "cell_type": "code",
   "execution_count": 62,
   "metadata": {
    "colab": {
     "base_uri": "https://localhost:8080/",
     "height": 35
    },
    "colab_type": "code",
    "executionInfo": {
     "elapsed": 19799,
     "status": "ok",
     "timestamp": 1596807802706,
     "user": {
      "displayName": "Felipe Fernandez pomar",
      "photoUrl": "https://lh3.googleusercontent.com/a-/AOh14GjAIBB1UUNahiuBW35nhzx_0hZxW-dTtBh-sbrK0Q=s64",
      "userId": "06620814048662575791"
     },
     "user_tz": -120
    },
    "id": "_uXxevMNJ0-7",
    "outputId": "f87e8b59-0ef7-4d17-eced-ddbbe6e749f6"
   },
   "outputs": [
    {
     "name": "stdout",
     "output_type": "stream",
     "text": [
      "0.8934602175157412\n"
     ]
    }
   ],
   "source": [
    "# 3. Etiquetador de bigramas con los anteriores como respaldo\n",
    "\n",
    "from nltk.corpus import cess_esp\n",
    "\n",
    "cess_esp._tagset = \"es-ancora\"\n",
    "oraciones = cess_esp.tagged_sents(tagset=\"universal\")\n",
    "\n",
    "# split entre training y size\n",
    "size = int(len(oraciones) * 0.9)\n",
    "training_corpus = oraciones[:size]\n",
    "test_corpus = oraciones[size:]\n",
    "\n",
    "# etiquetador\n",
    "unigramTagger = nltk.UnigramTagger(training_corpus, backoff = regexTagger)\n",
    "bigramTagger = nltk.BigramTagger(training_corpus, backoff = unigramTagger)\n",
    "\n",
    "\n",
    "# resultados\n",
    "print(bigramTagger.evaluate(test_corpus))"
   ]
  },
  {
   "cell_type": "code",
   "execution_count": 63,
   "metadata": {
    "colab": {
     "base_uri": "https://localhost:8080/",
     "height": 35
    },
    "colab_type": "code",
    "executionInfo": {
     "elapsed": 27062,
     "status": "ok",
     "timestamp": 1596807861299,
     "user": {
      "displayName": "Felipe Fernandez pomar",
      "photoUrl": "https://lh3.googleusercontent.com/a-/AOh14GjAIBB1UUNahiuBW35nhzx_0hZxW-dTtBh-sbrK0Q=s64",
      "userId": "06620814048662575791"
     },
     "user_tz": -120
    },
    "id": "vp8PlEryKNRr",
    "outputId": "98e2ef10-41f3-4e97-e7f9-dc2260b5066a"
   },
   "outputs": [
    {
     "name": "stdout",
     "output_type": "stream",
     "text": [
      "0.8943188322839153\n"
     ]
    }
   ],
   "source": [
    "# 4. Etiquetador de trigramas con los anteriores como respaldo\n",
    "\n",
    "from nltk.corpus import cess_esp\n",
    "\n",
    "cess_esp._tagset = \"es-ancora\"\n",
    "oraciones = cess_esp.tagged_sents(tagset=\"universal\")\n",
    "\n",
    "# split entre training y size\n",
    "size = int(len(oraciones) * 0.9)\n",
    "training_corpus = oraciones[:size]\n",
    "test_corpus = oraciones[size:]\n",
    "\n",
    "# etiquetador\n",
    "unigramTagger = nltk.UnigramTagger(training_corpus, backoff = regexTagger)\n",
    "bigramTagger = nltk.BigramTagger(training_corpus, backoff = unigramTagger)\n",
    "trigramTagger = nltk.TrigramTagger(training_corpus, backoff = bigramTagger)\n",
    "\n",
    "# resultados\n",
    "print(trigramTagger.evaluate(test_corpus))"
   ]
  },
  {
   "cell_type": "code",
   "execution_count": 65,
   "metadata": {
    "colab": {
     "base_uri": "https://localhost:8080/",
     "height": 72
    },
    "colab_type": "code",
    "executionInfo": {
     "elapsed": 3275,
     "status": "ok",
     "timestamp": 1596807944745,
     "user": {
      "displayName": "Felipe Fernandez pomar",
      "photoUrl": "https://lh3.googleusercontent.com/a-/AOh14GjAIBB1UUNahiuBW35nhzx_0hZxW-dTtBh-sbrK0Q=s64",
      "userId": "06620814048662575791"
     },
     "user_tz": -120
    },
    "id": "nogzAOzPnH3-",
    "outputId": "ef6b11b3-fbf3-41f8-8de4-7b7618b372ba"
   },
   "outputs": [
    {
     "name": "stdout",
     "output_type": "stream",
     "text": [
      "0.8808672009158558\n",
      "0.8934602175157412\n",
      "0.8943188322839153\n"
     ]
    }
   ],
   "source": [
    "# ¿qué precisión tienen?\n",
    "print(unigramTagger.evaluate(test_corpus))\n",
    "print(bigramTagger.evaluate(test_corpus))\n",
    "print(trigramTagger.evaluate(test_corpus))"
   ]
  },
  {
   "cell_type": "code",
   "execution_count": 66,
   "metadata": {
    "Collapsed": "false",
    "colab": {
     "base_uri": "https://localhost:8080/",
     "height": 92
    },
    "colab_type": "code",
    "executionInfo": {
     "elapsed": 599,
     "status": "ok",
     "timestamp": 1596807954062,
     "user": {
      "displayName": "Felipe Fernandez pomar",
      "photoUrl": "https://lh3.googleusercontent.com/a-/AOh14GjAIBB1UUNahiuBW35nhzx_0hZxW-dTtBh-sbrK0Q=s64",
      "userId": "06620814048662575791"
     },
     "user_tz": -120
    },
    "id": "BhKYJBFRnH4B",
    "outputId": "86483730-5e4e-41ce-bc10-abb5a3d1e380"
   },
   "outputs": [
    {
     "name": "stdout",
     "output_type": "stream",
     "text": [
      "[('Este', 'DET'), ('banco', 'NOUN'), ('está', 'VERB'), ('ocupado', 'VERB'), ('por', 'ADP'), ('un', 'DET'), ('padre', 'NOUN'), ('y', 'CONJ'), ('por', 'ADP'), ('un', 'DET'), ('hijo.', 'NOUN'), ('El', 'DET'), ('padre', 'NOUN'), ('se', 'PRON'), ('llama', 'VERB'), ('Juan', 'NOUN'), ('y', 'CONJ'), ('el', 'DET'), ('hijo', 'NOUN'), ('ya', 'ADV'), ('te', 'PRON'), ('lo', 'PRON'), ('he', 'VERB'), ('dicho', 'VERB')]\n",
      "[('El', 'DET'), ('presidente', 'NOUN'), ('del', 'ADP'), ('gobierno', 'NOUN'), ('por', 'ADP'), ('fin', 'NOUN'), ('ha', 'VERB'), ('dado', 'VERB'), ('la', 'DET'), ('cara', 'NOUN'), ('para', 'ADP'), ('anunciar', 'VERB'), ('aumentos', 'NOUN'), ('de', 'ADP'), ('presupuesto', 'NOUN'), ('en', 'ADP'), ('Educación', 'NOUN'), ('y', 'CONJ'), ('Sanidad', 'NOUN'), ('a', 'ADP'), ('costa', 'NOUN'), ('de', 'ADP'), ('dejar', 'VERB'), ('de', 'ADP'), ('subvencionar', 'NOUN'), ('las', 'DET'), ('empresas', 'NOUN'), ('de', 'ADP'), ('los', 'DET'), ('amigotes.', 'NOUN')]\n",
      "[('El', 'DET'), ('cacique', 'NOUN'), ('corrupto', 'NOUN'), ('y', 'CONJ'), ('la', 'DET'), ('tonadillera', 'NOUN'), ('se', 'PRON'), ('comerán', 'NOUN'), ('el', 'DET'), ('turrón', 'NOUN'), ('en', 'ADP'), ('prisión', 'NOUN'), ('.', '.')]\n"
     ]
    }
   ],
   "source": [
    "# prueba tu etiquetador basado en trigramas con las siguientes oraciones que,\n",
    "# con toda seguridad, no aparecen en el corpus\n",
    "print(\n",
    "    trigramTagger.tag(\n",
    "        \"Este banco está ocupado por un padre y por un hijo. El padre se llama Juan y el hijo ya te lo he dicho\".split()\n",
    "    )\n",
    ")\n",
    "print(\n",
    "    trigramTagger.tag(\n",
    "        \"\"\"El presidente del gobierno por fin ha dado la cara para anunciar aumentos de presupuesto en Educación y Sanidad a costa de dejar de subvencionar las empresas de los amigotes.\"\"\".split()\n",
    "    )\n",
    ")\n",
    "print(\n",
    "    trigramTagger.tag(\n",
    "        \"El cacique corrupto y la tonadillera se comerán el turrón en prisión .\".split()\n",
    "    )\n",
    ")"
   ]
  }
 ],
 "metadata": {
  "colab": {
   "collapsed_sections": [],
   "name": "03-pos-tagger-es.ipynb",
   "provenance": [],
   "toc_visible": true
  },
  "kernelspec": {
   "display_name": "Python 3",
   "language": "python",
   "name": "python3"
  },
  "language_info": {
   "codemirror_mode": {
    "name": "ipython",
    "version": 3
   },
   "file_extension": ".py",
   "mimetype": "text/x-python",
   "name": "python",
   "nbconvert_exporter": "python",
   "pygments_lexer": "ipython3",
   "version": "3.7.6"
  }
 },
 "nbformat": 4,
 "nbformat_minor": 0
}
