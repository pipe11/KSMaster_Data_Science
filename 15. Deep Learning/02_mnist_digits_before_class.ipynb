{
 "cells": [
  {
   "cell_type": "code",
   "execution_count": 39,
   "metadata": {
    "colab": {
     "base_uri": "https://localhost:8080/",
     "height": 34
    },
    "colab_type": "code",
    "executionInfo": {
     "elapsed": 675,
     "status": "ok",
     "timestamp": 1592037937591,
     "user": {
      "displayName": "Felipe Fernandez pomar",
      "photoUrl": "https://lh3.googleusercontent.com/a-/AOh14GjAIBB1UUNahiuBW35nhzx_0hZxW-dTtBh-sbrK0Q=s64",
      "userId": "06620814048662575791"
     },
     "user_tz": -120
    },
    "id": "J_lY780lhCGo",
    "outputId": "115f284b-f179-4a11-ab17-dbd0d439578f"
   },
   "outputs": [
    {
     "name": "stdout",
     "output_type": "stream",
     "text": [
      "Populating the interactive namespace from numpy and matplotlib\n"
     ]
    }
   ],
   "source": [
    "%pylab inline\n",
    "plt.style.use('seaborn-talk')"
   ]
  },
  {
   "cell_type": "markdown",
   "metadata": {
    "colab_type": "text",
    "id": "xiHWlap9hCGs"
   },
   "source": [
    "We will use this function to plot the metrics of our training process, to help in choosing the best model"
   ]
  },
  {
   "cell_type": "code",
   "execution_count": 0,
   "metadata": {
    "colab": {},
    "colab_type": "code",
    "id": "b8mtwQl7hCGt"
   },
   "outputs": [],
   "source": [
    "def plot_metric(history, metric):\n",
    "    history_dict = history.history\n",
    "    values = history_dict[metric]\n",
    "    if 'val_' + metric in history_dict.keys():  \n",
    "        val_values = history_dict['val_' + metric]\n",
    "\n",
    "    epochs = range(1, len(values) + 1)\n",
    "\n",
    "    if 'val_' + metric in history_dict.keys():  \n",
    "        plt.plot(epochs, val_values, label='Validation')\n",
    "    plt.semilogy(epochs, values, label='Training')\n",
    "\n",
    "    if 'val_' + metric in history_dict.keys():  \n",
    "        plt.title('Training and validation %s' % metric)\n",
    "    else:\n",
    "        plt.title('Training %s' % metric)\n",
    "    plt.xlabel('Epochs')\n",
    "    plt.ylabel(metric.capitalize())\n",
    "    plt.legend()\n",
    "    plt.grid()\n",
    "\n",
    "    plt.show()  "
   ]
  },
  {
   "cell_type": "markdown",
   "metadata": {
    "colab_type": "text",
    "id": "7fNuY5k0hCGx"
   },
   "source": [
    "We will use this function to explore the data"
   ]
  },
  {
   "cell_type": "code",
   "execution_count": 0,
   "metadata": {
    "colab": {},
    "colab_type": "code",
    "id": "iW_q3tv2hCGy"
   },
   "outputs": [],
   "source": [
    "def plot_mnist_image(N, imgs, labels):\n",
    "  print(\"The image below should show the number %d\" % labels[N])\n",
    "  plt.imshow(imgs[N,], cmap=plt.cm.binary)\n",
    "  plt.grid(True)"
   ]
  },
  {
   "cell_type": "markdown",
   "metadata": {
    "colab_type": "text",
    "id": "9760nOqwhCG2"
   },
   "source": [
    "# The problem\n",
    "\n",
    "We will recognize handwritten digits. For an image containing a number between 0 and 9, we will recognize the number and will produce an int as output"
   ]
  },
  {
   "cell_type": "code",
   "execution_count": 0,
   "metadata": {
    "colab": {},
    "colab_type": "code",
    "id": "gRoH1AMZhCG3"
   },
   "outputs": [],
   "source": [
    "from tensorflow.keras.datasets import mnist\n",
    "import numpy as np\n",
    "import matplotlib.pyplot as plt\n",
    "import matplotlib.image as mpimg"
   ]
  },
  {
   "cell_type": "code",
   "execution_count": 0,
   "metadata": {
    "colab": {},
    "colab_type": "code",
    "id": "98chJLdJhCG6"
   },
   "outputs": [],
   "source": [
    "# Run this to download the data prior to the lecture\n",
    "train_orig_data, test_orig_data = mnist.load_data()"
   ]
  },
  {
   "cell_type": "code",
   "execution_count": 44,
   "metadata": {
    "colab": {
     "base_uri": "https://localhost:8080/",
     "height": 34
    },
    "colab_type": "code",
    "executionInfo": {
     "elapsed": 1595,
     "status": "ok",
     "timestamp": 1592037940232,
     "user": {
      "displayName": "Felipe Fernandez pomar",
      "photoUrl": "https://lh3.googleusercontent.com/a-/AOh14GjAIBB1UUNahiuBW35nhzx_0hZxW-dTtBh-sbrK0Q=s64",
      "userId": "06620814048662575791"
     },
     "user_tz": -120
    },
    "id": "Vd3FtnTjhCG-",
    "outputId": "87ab6dab-97a5-4401-9e64-e4b9915e8114"
   },
   "outputs": [
    {
     "data": {
      "text/plain": [
       "(60000,)"
      ]
     },
     "execution_count": 44,
     "metadata": {
      "tags": []
     },
     "output_type": "execute_result"
    }
   ],
   "source": [
    "train_orig_data[1].shape #Si nos fijamos es una tupla con un array enorme de 3D.\n",
    "# 60.000 imágenes de 28x28 píxeles\n",
    "# [1] Es la etiqueta. Tenemos 60.000 etiquetas para 60.000 imágenes\n"
   ]
  },
  {
   "cell_type": "code",
   "execution_count": 0,
   "metadata": {
    "colab": {},
    "colab_type": "code",
    "id": "HWkjqngEzacz"
   },
   "outputs": [],
   "source": [
    "train_imgs = train_orig_data[0]\n",
    "train_labels = train_orig_data[1]\n",
    "\n",
    "test_imgs = test_orig_data[0]\n",
    "test_labels = test_orig_data[1]\n"
   ]
  },
  {
   "cell_type": "code",
   "execution_count": 46,
   "metadata": {
    "colab": {
     "base_uri": "https://localhost:8080/",
     "height": 34
    },
    "colab_type": "code",
    "executionInfo": {
     "elapsed": 2279,
     "status": "ok",
     "timestamp": 1592037943461,
     "user": {
      "displayName": "Felipe Fernandez pomar",
      "photoUrl": "https://lh3.googleusercontent.com/a-/AOh14GjAIBB1UUNahiuBW35nhzx_0hZxW-dTtBh-sbrK0Q=s64",
      "userId": "06620814048662575791"
     },
     "user_tz": -120
    },
    "id": "FoOn0DLqz-Q4",
    "outputId": "4cc55c6c-9507-4ef9-e3f0-8d782650811e"
   },
   "outputs": [
    {
     "data": {
      "text/plain": [
       "(10000, 28, 28)"
      ]
     },
     "execution_count": 46,
     "metadata": {
      "tags": []
     },
     "output_type": "execute_result"
    }
   ],
   "source": [
    "test_imgs.shape"
   ]
  },
  {
   "cell_type": "code",
   "execution_count": 64,
   "metadata": {
    "colab": {
     "base_uri": "https://localhost:8080/",
     "height": 462
    },
    "colab_type": "code",
    "executionInfo": {
     "elapsed": 829,
     "status": "ok",
     "timestamp": 1592038218782,
     "user": {
      "displayName": "Felipe Fernandez pomar",
      "photoUrl": "https://lh3.googleusercontent.com/a-/AOh14GjAIBB1UUNahiuBW35nhzx_0hZxW-dTtBh-sbrK0Q=s64",
      "userId": "06620814048662575791"
     },
     "user_tz": -120
    },
    "id": "Pf63FXYa0CcP",
    "outputId": "332f9949-346b-47c8-9810-905bf43f6753"
   },
   "outputs": [
    {
     "name": "stdout",
     "output_type": "stream",
     "text": [
      "The image below should show the number 4\n"
     ]
    },
    {
     "data": {
      "image/png": "[encoded data removed]",
      "text/plain": [
       "<Figure size 748.8x514.8 with 1 Axes>"
      ]
     },
     "metadata": {
      "needs_background": "light",
      "tags": []
     },
     "output_type": "display_data"
    }
   ],
   "source": [
    "idx = np.random.randint(0, high = cuatros.shape[0])\n",
    "plot_mnist_image(N = idx, imgs = cuatros, labels = train_labels[mask])"
   ]
  },
  {
   "cell_type": "code",
   "execution_count": 0,
   "metadata": {
    "colab": {},
    "colab_type": "code",
    "id": "mhDHfuWx2BWN"
   },
   "outputs": [],
   "source": [
    "label = 4\n",
    "mask = (train_labels == 4)\n",
    "cuatros = train_imgs[mask] # A través de las etiquetas, selecciono solo los cuatros."
   ]
  },
  {
   "cell_type": "code",
   "execution_count": 0,
   "metadata": {
    "colab": {},
    "colab_type": "code",
    "id": "EPSUxlJM24C5"
   },
   "outputs": [],
   "source": [
    "def similaridad(matriz, ind1, ind2):\n",
    "\n",
    "  a = matriz[ind1].flatten()\n",
    "  b = matriz[ind2].flatten()\n",
    "\n",
    "  a = a / a.max()\n",
    "  b = b / b.max()\n",
    "  eps = 10 ** (-8)\n",
    "  norma_a = np.sqrt(a.dot(a)) + eps\n",
    "  norma_b = np.sqrt(b.dot(b)) + eps\n",
    "\n",
    "  a = a/norma_a\n",
    "  b = b/norma_b\n",
    "  dot_ = a.dot(b)\n",
    "  \n",
    "  cos_theta = dot_ #/ (norma_a * norma_b)\n",
    "  return cos_theta\n"
   ]
  },
  {
   "cell_type": "code",
   "execution_count": 139,
   "metadata": {
    "colab": {
     "base_uri": "https://localhost:8080/",
     "height": 34
    },
    "colab_type": "code",
    "executionInfo": {
     "elapsed": 782,
     "status": "ok",
     "timestamp": 1592040368545,
     "user": {
      "displayName": "Felipe Fernandez pomar",
      "photoUrl": "https://lh3.googleusercontent.com/a-/AOh14GjAIBB1UUNahiuBW35nhzx_0hZxW-dTtBh-sbrK0Q=s64",
      "userId": "06620814048662575791"
     },
     "user_tz": -120
    },
    "id": "ntVTm0wp6cbp",
    "outputId": "ca2fb225-5161-463c-9d6c-8cf6c1da450f"
   },
   "outputs": [
    {
     "name": "stdout",
     "output_type": "stream",
     "text": [
      "10.44 8.484\n"
     ]
    }
   ],
   "source": [
    "  print(norma_a, norma_b)"
   ]
  },
  {
   "cell_type": "code",
   "execution_count": 146,
   "metadata": {
    "colab": {
     "base_uri": "https://localhost:8080/",
     "height": 68
    },
    "colab_type": "code",
    "executionInfo": {
     "elapsed": 697,
     "status": "ok",
     "timestamp": 1592040379957,
     "user": {
      "displayName": "Felipe Fernandez pomar",
      "photoUrl": "https://lh3.googleusercontent.com/a-/AOh14GjAIBB1UUNahiuBW35nhzx_0hZxW-dTtBh-sbrK0Q=s64",
      "userId": "06620814048662575791"
     },
     "user_tz": -120
    },
    "id": "3vfCsOAu5D49",
    "outputId": "6a00d717-e86b-4bf6-9288-23687f1dd1cd"
   },
   "outputs": [
    {
     "name": "stdout",
     "output_type": "stream",
     "text": [
      "5312 2714\n",
      "10.44 8.484\n"
     ]
    },
    {
     "data": {
      "text/plain": [
       "0.5024127880619671"
      ]
     },
     "execution_count": 146,
     "metadata": {
      "tags": []
     },
     "output_type": "execute_result"
    }
   ],
   "source": [
    "idx1 = np.random.randint(0, high = cuatros.shape[0])\n",
    "idx2 = np.random.randint(0, high = cuatros.shape[0])\n",
    "\n",
    "print(idx1, idx2)\n",
    "print(norma_a, norma_b)\n",
    "\n",
    "similaridad( matriz = cuatros, ind1 = idx1, ind2 = idx2)"
   ]
  },
  {
   "cell_type": "code",
   "execution_count": 0,
   "metadata": {
    "colab": {},
    "colab_type": "code",
    "id": "waaCoOyc6vOL"
   },
   "outputs": [],
   "source": [
    "similaridad_cuatros = []\n",
    "for i in range(0, cuatros.shape[0] // 10):\n",
    "  for j in range ( 0, cuatros.shape[0] // 10):\n",
    "    if j > i:\n",
    "      sim = similaridad(cuatros, i, j)\n",
    "      similaridad_cuatros.append(sim)"
   ]
  },
  {
   "cell_type": "code",
   "execution_count": 155,
   "metadata": {
    "colab": {
     "base_uri": "https://localhost:8080/",
     "height": 198
    },
    "colab_type": "code",
    "executionInfo": {
     "elapsed": 571,
     "status": "error",
     "timestamp": 1592040830239,
     "user": {
      "displayName": "Felipe Fernandez pomar",
      "photoUrl": "https://lh3.googleusercontent.com/a-/AOh14GjAIBB1UUNahiuBW35nhzx_0hZxW-dTtBh-sbrK0Q=s64",
      "userId": "06620814048662575791"
     },
     "user_tz": -120
    },
    "id": "RBNKqWL3AxPd",
    "outputId": "83b923b7-3867-4e81-af29-d1ac3ff4095f"
   },
   "outputs": [
    {
     "ename": "TypeError",
     "evalue": "ignored",
     "output_type": "error",
     "traceback": [
      "\u001b[0;31m---------------------------------------------------------------------------\u001b[0m",
      "\u001b[0;31mTypeError\u001b[0m                                 Traceback (most recent call last)",
      "\u001b[0;32m<ipython-input-155-bc787dbe0a7a>\u001b[0m in \u001b[0;36m<module>\u001b[0;34m()\u001b[0m\n\u001b[1;32m      9\u001b[0m \u001b[0mb\u001b[0m \u001b[0;34m=\u001b[0m \u001b[0mcuatros\u001b[0m\u001b[0;34m[\u001b[0m\u001b[0mj\u001b[0m\u001b[0;34m]\u001b[0m\u001b[0;34m.\u001b[0m\u001b[0mflatten\u001b[0m\u001b[0;34m(\u001b[0m\u001b[0;34m)\u001b[0m\u001b[0;34m\u001b[0m\u001b[0;34m\u001b[0m\u001b[0m\n\u001b[1;32m     10\u001b[0m \u001b[0;34m\u001b[0m\u001b[0m\n\u001b[0;32m---> 11\u001b[0;31m \u001b[0msimilaridad\u001b[0m\u001b[0;34m(\u001b[0m\u001b[0ma\u001b[0m\u001b[0;34m,\u001b[0m \u001b[0mb\u001b[0m\u001b[0;34m)\u001b[0m\u001b[0;34m\u001b[0m\u001b[0;34m\u001b[0m\u001b[0m\n\u001b[0m",
      "\u001b[0;31mTypeError\u001b[0m: similaridad() missing 1 required positional argument: 'ind2'"
     ]
    }
   ],
   "source": [
    "label = 3\n",
    "mask = (train_labels == 3)\n",
    "treses = train_imgs[mask]\n",
    "\n",
    "i = np.random.randint(0, high = treses.shape[0])\n",
    "j = np.random.randint(0, high = treses.shape[0])\n",
    "\n",
    "a = cuatros[i].flatten()\n",
    "b = cuatros[j].flatten()\n",
    "\n",
    "similaridad(a, b)"
   ]
  },
  {
   "cell_type": "code",
   "execution_count": 0,
   "metadata": {
    "colab": {},
    "colab_type": "code",
    "id": "VbgPTAzYAh1r"
   },
   "outputs": [],
   "source": [
    "similaridad_43 = []\n",
    "for i in range(0, cuatros.shape[0] // 10):\n",
    "  for j in range ( 0, cuatros.shape[0] // 10):\n",
    "    if j > i:\n",
    "      a = cuatros[i].flatten()\n",
    "      b = treses[j.flatten()\n",
    "\n",
    "      sim = similaridad(cuatros, i, j)\n",
    "      similaridad_43.append(sim)"
   ]
  },
  {
   "cell_type": "code",
   "execution_count": 151,
   "metadata": {
    "colab": {
     "base_uri": "https://localhost:8080/",
     "height": 740
    },
    "colab_type": "code",
    "executionInfo": {
     "elapsed": 988,
     "status": "ok",
     "timestamp": 1592040465434,
     "user": {
      "displayName": "Felipe Fernandez pomar",
      "photoUrl": "https://lh3.googleusercontent.com/a-/AOh14GjAIBB1UUNahiuBW35nhzx_0hZxW-dTtBh-sbrK0Q=s64",
      "userId": "06620814048662575791"
     },
     "user_tz": -120
    },
    "id": "N8bHr7vL7P5o",
    "outputId": "1069dd62-aba3-4ad2-b4b8-ef45649d398c"
   },
   "outputs": [
    {
     "data": {
      "text/plain": [
       "(array([2.600e+01, 5.200e+01, 5.900e+01, 9.700e+01, 1.280e+02, 2.040e+02,\n",
       "        2.760e+02, 4.170e+02, 5.300e+02, 8.530e+02, 1.147e+03, 1.530e+03,\n",
       "        2.136e+03, 2.676e+03, 3.466e+03, 4.259e+03, 4.994e+03, 5.883e+03,\n",
       "        6.733e+03, 7.479e+03, 8.141e+03, 8.633e+03, 8.993e+03, 9.081e+03,\n",
       "        8.856e+03, 8.800e+03, 8.395e+03, 7.963e+03, 7.527e+03, 6.950e+03,\n",
       "        6.467e+03, 5.804e+03, 5.292e+03, 4.752e+03, 4.025e+03, 3.653e+03,\n",
       "        3.114e+03, 2.597e+03, 2.190e+03, 1.663e+03, 1.374e+03, 1.053e+03,\n",
       "        7.650e+02, 5.150e+02, 3.200e+02, 2.020e+02, 9.200e+01, 4.900e+01,\n",
       "        2.100e+01, 4.000e+00]),\n",
       " array([0.03358953, 0.05184531, 0.0701011 , 0.08835688, 0.10661267,\n",
       "        0.12486846, 0.14312424, 0.16138003, 0.17963582, 0.1978916 ,\n",
       "        0.21614739, 0.23440317, 0.25265896, 0.27091475, 0.28917053,\n",
       "        0.30742632, 0.3256821 , 0.34393789, 0.36219368, 0.38044946,\n",
       "        0.39870525, 0.41696104, 0.43521682, 0.45347261, 0.47172839,\n",
       "        0.48998418, 0.50823997, 0.52649575, 0.54475154, 0.56300733,\n",
       "        0.58126311, 0.5995189 , 0.61777468, 0.63603047, 0.65428626,\n",
       "        0.67254204, 0.69079783, 0.70905361, 0.7273094 , 0.74556519,\n",
       "        0.76382097, 0.78207676, 0.80033255, 0.81858833, 0.83684412,\n",
       "        0.8550999 , 0.87335569, 0.89161148, 0.90986726, 0.92812305,\n",
       "        0.94637883]),\n",
       " <a list of 50 Patch objects>)"
      ]
     },
     "execution_count": 151,
     "metadata": {
      "tags": []
     },
     "output_type": "execute_result"
    },
    {
     "data": {
      "image/png": "[encoded data removed]",
      "text/plain": [
       "<Figure size 720x432 with 1 Axes>"
      ]
     },
     "metadata": {
      "needs_background": "light",
      "tags": []
     },
     "output_type": "display_data"
    }
   ],
   "source": [
    "plt.figure(figsize = (10, 6))\n",
    "plt.hist(np.array(similaridad_cuatros)[np.array(similaridad_cuatros) < 2], bins = 50, alpha = 0.4)"
   ]
  },
  {
   "cell_type": "markdown",
   "metadata": {
    "colab_type": "text",
    "id": "wZlQ7QRKhCHB"
   },
   "source": [
    "We will design a network that will be able to recognize that the image is showing the number 7 (for all the images in the test set)"
   ]
  },
  {
   "cell_type": "code",
   "execution_count": 0,
   "metadata": {
    "colab": {},
    "colab_type": "code",
    "id": "jdSukNZO5NWc"
   },
   "outputs": [],
   "source": [
    ""
   ]
  },
  {
   "cell_type": "markdown",
   "metadata": {
    "colab_type": "text",
    "id": "eRoE7fZ9hCHC"
   },
   "source": [
    "## Data transform\n",
    "\n",
    "We need to change the shape of the data, so it can be fed to the network more easily"
   ]
  },
  {
   "cell_type": "code",
   "execution_count": 157,
   "metadata": {
    "colab": {
     "base_uri": "https://localhost:8080/",
     "height": 35
    },
    "colab_type": "code",
    "executionInfo": {
     "elapsed": 613,
     "status": "ok",
     "timestamp": 1592040871726,
     "user": {
      "displayName": "Felipe Fernandez pomar",
      "photoUrl": "https://lh3.googleusercontent.com/a-/AOh14GjAIBB1UUNahiuBW35nhzx_0hZxW-dTtBh-sbrK0Q=s64",
      "userId": "06620814048662575791"
     },
     "user_tz": -120
    },
    "id": "m6AJr6VrhCHF",
    "outputId": "15ecc043-c329-4ad4-eafb-8eb1734156a8"
   },
   "outputs": [
    {
     "data": {
      "text/plain": [
       "(255, 0)"
      ]
     },
     "execution_count": 157,
     "metadata": {
      "tags": []
     },
     "output_type": "execute_result"
    }
   ],
   "source": [
    "train_imgs.max(), train_imgs.min()"
   ]
  },
  {
   "cell_type": "markdown",
   "metadata": {
    "colab_type": "text",
    "id": "lwBv_E87hCHH"
   },
   "source": [
    "All the images are 28x28 matrices, with values between 0 and 255. Let's normalize the images, to avoid problems in the numerical computations using large numbers.\n",
    "\n",
    "We will convert the matrix to a vector with 28x28 components, stacking columns on top of each other. This will make the design of the network.\n",
    "* Alternatively, we could add a `Flatten(input_shape=(28,28))` layer to the model"
   ]
  },
  {
   "cell_type": "code",
   "execution_count": 0,
   "metadata": {
    "colab": {},
    "colab_type": "code",
    "id": "0l0KSaBBhCHI"
   },
   "outputs": [],
   "source": [
    "train_imgs = train_imgs / 255.0\n",
    "test_imgs = test_imgs / 255.0\n",
    "\n",
    "#En nuestro modelo primero meteremos la primera capa flatten. Para aplanar las imágenes.\n"
   ]
  },
  {
   "cell_type": "markdown",
   "metadata": {
    "colab_type": "text",
    "id": "kMyG-fqZhCHK"
   },
   "source": [
    "Because we want to assign a *category* to each image, we need to transform the output to categorical format"
   ]
  },
  {
   "cell_type": "code",
   "execution_count": 159,
   "metadata": {
    "colab": {
     "base_uri": "https://localhost:8080/",
     "height": 35
    },
    "colab_type": "code",
    "executionInfo": {
     "elapsed": 687,
     "status": "ok",
     "timestamp": 1592041224515,
     "user": {
      "displayName": "Felipe Fernandez pomar",
      "photoUrl": "https://lh3.googleusercontent.com/a-/AOh14GjAIBB1UUNahiuBW35nhzx_0hZxW-dTtBh-sbrK0Q=s64",
      "userId": "06620814048662575791"
     },
     "user_tz": -120
    },
    "id": "6zVDOsJBhCHK",
    "outputId": "bd779b74-4b52-4416-fc36-550832c33134"
   },
   "outputs": [
    {
     "data": {
      "text/plain": [
       "array([5, 0, 4, ..., 5, 6, 8], dtype=uint8)"
      ]
     },
     "execution_count": 159,
     "metadata": {
      "tags": []
     },
     "output_type": "execute_result"
    }
   ],
   "source": [
    "train_labels"
   ]
  },
  {
   "cell_type": "markdown",
   "metadata": {
    "colab_type": "text",
    "id": "otpnsDpmhCHO"
   },
   "source": [
    "Initially, our target data is just a set of numbers"
   ]
  },
  {
   "cell_type": "code",
   "execution_count": 0,
   "metadata": {
    "colab": {},
    "colab_type": "code",
    "id": "s_62G5wXhCHO"
   },
   "outputs": [],
   "source": [
    "from tensorflow.keras.utils import to_categoricalb"
   ]
  },
  {
   "cell_type": "code",
   "execution_count": 164,
   "metadata": {
    "colab": {
     "base_uri": "https://localhost:8080/",
     "height": 35
    },
    "colab_type": "code",
    "executionInfo": {
     "elapsed": 882,
     "status": "ok",
     "timestamp": 1592041344965,
     "user": {
      "displayName": "Felipe Fernandez pomar",
      "photoUrl": "https://lh3.googleusercontent.com/a-/AOh14GjAIBB1UUNahiuBW35nhzx_0hZxW-dTtBh-sbrK0Q=s64",
      "userId": "06620814048662575791"
     },
     "user_tz": -120
    },
    "id": "28HJGv_NDa2j",
    "outputId": "4d0fa89f-30f5-425f-b682-ce33f243e081"
   },
   "outputs": [
    {
     "data": {
      "text/plain": [
       "array([0., 0., 0., 0., 0., 0., 0., 0., 1., 0.], dtype=float32)"
      ]
     },
     "execution_count": 164,
     "metadata": {
      "tags": []
     },
     "output_type": "execute_result"
    }
   ],
   "source": [
    "to_categorical(0, num_classes = 3) # EL categorical me está convirtiendo y me pone un 1 donde está la etiqueta.\n",
    "\n",
    "#En este caso de 0: Pone un 1 en la posición 0\n",
    "\n",
    "to_categorical(8, num_classes = 10)"
   ]
  },
  {
   "cell_type": "markdown",
   "metadata": {
    "colab_type": "text",
    "id": "Wy8nCC5khCHT"
   },
   "source": [
    "We are going to transform it to **1-HOT encoding format**"
   ]
  },
  {
   "cell_type": "code",
   "execution_count": 166,
   "metadata": {
    "colab": {
     "base_uri": "https://localhost:8080/",
     "height": 35
    },
    "colab_type": "code",
    "executionInfo": {
     "elapsed": 620,
     "status": "ok",
     "timestamp": 1592041384840,
     "user": {
      "displayName": "Felipe Fernandez pomar",
      "photoUrl": "https://lh3.googleusercontent.com/a-/AOh14GjAIBB1UUNahiuBW35nhzx_0hZxW-dTtBh-sbrK0Q=s64",
      "userId": "06620814048662575791"
     },
     "user_tz": -120
    },
    "id": "cgKDYk5eDx8Z",
    "outputId": "9cf7b366-a198-4e98-e20a-f47d59e93555"
   },
   "outputs": [
    {
     "data": {
      "text/plain": [
       "(60000, 10)"
      ]
     },
     "execution_count": 166,
     "metadata": {
      "tags": []
     },
     "output_type": "execute_result"
    }
   ],
   "source": [
    "train_1hot = to_categorical(train_labels, num_classes = 10)\n",
    "\n",
    "train_1hot.shape"
   ]
  },
  {
   "cell_type": "markdown",
   "metadata": {
    "colab_type": "text",
    "id": "lfIvE2FthCHX"
   },
   "source": [
    "We have to repeat the same process with the test data"
   ]
  },
  {
   "cell_type": "code",
   "execution_count": 167,
   "metadata": {
    "colab": {
     "base_uri": "https://localhost:8080/",
     "height": 35
    },
    "colab_type": "code",
    "executionInfo": {
     "elapsed": 618,
     "status": "ok",
     "timestamp": 1592041421635,
     "user": {
      "displayName": "Felipe Fernandez pomar",
      "photoUrl": "https://lh3.googleusercontent.com/a-/AOh14GjAIBB1UUNahiuBW35nhzx_0hZxW-dTtBh-sbrK0Q=s64",
      "userId": "06620814048662575791"
     },
     "user_tz": -120
    },
    "id": "-F5YIyMxhCHT",
    "outputId": "4e729787-34fc-4651-9b48-ee0ea30f769e"
   },
   "outputs": [
    {
     "data": {
      "text/plain": [
       "(10000, 10)"
      ]
     },
     "execution_count": 167,
     "metadata": {
      "tags": []
     },
     "output_type": "execute_result"
    }
   ],
   "source": [
    "test_1hot = to_categorical(test_labels, num_classes = 10)\n",
    "\n",
    "test_1hot.shape"
   ]
  },
  {
   "cell_type": "markdown",
   "metadata": {
    "colab_type": "text",
    "id": "7ttdxnv6hCHa"
   },
   "source": [
    "## Let's build the model"
   ]
  },
  {
   "cell_type": "code",
   "execution_count": 177,
   "metadata": {
    "colab": {
     "base_uri": "https://localhost:8080/",
     "height": 34
    },
    "colab_type": "code",
    "executionInfo": {
     "elapsed": 582,
     "status": "ok",
     "timestamp": 1592042871364,
     "user": {
      "displayName": "Felipe Fernandez pomar",
      "photoUrl": "https://lh3.googleusercontent.com/a-/AOh14GjAIBB1UUNahiuBW35nhzx_0hZxW-dTtBh-sbrK0Q=s64",
      "userId": "06620814048662575791"
     },
     "user_tz": -120
    },
    "id": "yXk_2Nd7hCHa",
    "outputId": "03bc259b-4d46-481e-b313-c486d64c136d"
   },
   "outputs": [
    {
     "name": "stdout",
     "output_type": "stream",
     "text": [
      "Populating the interactive namespace from numpy and matplotlib\n"
     ]
    }
   ],
   "source": [
    "%pylab inline\n",
    "plt.style.use('seaborn-talk')\n",
    "\n",
    "import tensorflow as tf\n",
    "from tensorflow import keras as K\n",
    "from tensorflow.keras.models import Sequential\n",
    "from tensorflow.keras.layers import Dense, Flatten, Dropout\n",
    "from tensorflow.keras import activations\n",
    "from tensorflow.keras.optimizers import RMSprop\n",
    "from tensorflow.keras.losses import categorical_crossentropy\n",
    "from tensorflow.keras.metrics import categorical_accuracy"
   ]
  },
  {
   "cell_type": "code",
   "execution_count": 0,
   "metadata": {
    "colab": {},
    "colab_type": "code",
    "id": "QLfBaCr6GbCc"
   },
   "outputs": [],
   "source": [
    "def build_model():\n",
    "  m = Sequential()\n",
    "  m.add(Flatten(input_shape = (28, 28))) # Primera capa flatten\n",
    "  m.add(Dense(units = 200, activation = activations.selu)) # Siguientes, capas densas\n",
    "  m.add(Dropout(rate = 0.5))\n",
    "  m.add(Dense(units = 100, activation = activations.selu))\n",
    "  m.add(Dropout(rate = 0.4))\n",
    "  m.add(Dense(units = 50, activation = activations.selu))\n",
    "  m.add(Dropout(rate = 0.3))\n",
    "  m.add(Dense(units = 30, activation = activations.selu))\n",
    "  m.add(Dense(units = 10, activation = activations.softmax)) # Sigmoid (No fuero probs) # Soft max 0 y 1, normalizada\n",
    "\n",
    "  m.summary()\n",
    "\n",
    "  m.compile(optimizer=RMSprop(learning_rate = 0.0012), loss = categorical_crossentropy, metrics = [categorical_accuracy])\n",
    "  return m"
   ]
  },
  {
   "cell_type": "code",
   "execution_count": 190,
   "metadata": {
    "colab": {
     "base_uri": "https://localhost:8080/",
     "height": 1000
    },
    "colab_type": "code",
    "executionInfo": {
     "elapsed": 506446,
     "status": "ok",
     "timestamp": 1592045523277,
     "user": {
      "displayName": "Felipe Fernandez pomar",
      "photoUrl": "https://lh3.googleusercontent.com/a-/AOh14GjAIBB1UUNahiuBW35nhzx_0hZxW-dTtBh-sbrK0Q=s64",
      "userId": "06620814048662575791"
     },
     "user_tz": -120
    },
    "id": "Vhr-XoDhH7zW",
    "outputId": "92a46d62-8478-42b7-b0f0-f9cc3e4e4c1c"
   },
   "outputs": [
    {
     "name": "stdout",
     "output_type": "stream",
     "text": [
      "Model: \"sequential_5\"\n",
      "_________________________________________________________________\n",
      "Layer (type)                 Output Shape              Param #   \n",
      "=================================================================\n",
      "flatten_5 (Flatten)          (None, 784)               0         \n",
      "_________________________________________________________________\n",
      "dense_22 (Dense)             (None, 200)               157000    \n",
      "_________________________________________________________________\n",
      "dropout_10 (Dropout)         (None, 200)               0         \n",
      "_________________________________________________________________\n",
      "dense_23 (Dense)             (None, 100)               20100     \n",
      "_________________________________________________________________\n",
      "dropout_11 (Dropout)         (None, 100)               0         \n",
      "_________________________________________________________________\n",
      "dense_24 (Dense)             (None, 50)                5050      \n",
      "_________________________________________________________________\n",
      "dropout_12 (Dropout)         (None, 50)                0         \n",
      "_________________________________________________________________\n",
      "dense_25 (Dense)             (None, 30)                1530      \n",
      "_________________________________________________________________\n",
      "dense_26 (Dense)             (None, 10)                310       \n",
      "=================================================================\n",
      "Total params: 183,990\n",
      "Trainable params: 183,990\n",
      "Non-trainable params: 0\n",
      "_________________________________________________________________\n",
      "Epoch 1/150\n",
      "540/540 [==============================] - 3s 6ms/step - loss: 0.6708 - categorical_accuracy: 0.7902 - val_loss: 0.2196 - val_categorical_accuracy: 0.9330\n",
      "Epoch 2/150\n",
      "540/540 [==============================] - 3s 6ms/step - loss: 0.4147 - categorical_accuracy: 0.8740 - val_loss: 0.1811 - val_categorical_accuracy: 0.9433\n",
      "Epoch 3/150\n",
      "540/540 [==============================] - 3s 6ms/step - loss: 0.3534 - categorical_accuracy: 0.8937 - val_loss: 0.1432 - val_categorical_accuracy: 0.9560\n",
      "Epoch 4/150\n",
      "540/540 [==============================] - 3s 6ms/step - loss: 0.3155 - categorical_accuracy: 0.9059 - val_loss: 0.1515 - val_categorical_accuracy: 0.9565\n",
      "Epoch 5/150\n",
      "540/540 [==============================] - 3s 6ms/step - loss: 0.2893 - categorical_accuracy: 0.9133 - val_loss: 0.1479 - val_categorical_accuracy: 0.9563\n",
      "Epoch 6/150\n",
      "540/540 [==============================] - 3s 6ms/step - loss: 0.2714 - categorical_accuracy: 0.9197 - val_loss: 0.1372 - val_categorical_accuracy: 0.9605\n",
      "Epoch 7/150\n",
      "540/540 [==============================] - 3s 6ms/step - loss: 0.2574 - categorical_accuracy: 0.9223 - val_loss: 0.1158 - val_categorical_accuracy: 0.9662\n",
      "Epoch 8/150\n",
      "540/540 [==============================] - 3s 6ms/step - loss: 0.2437 - categorical_accuracy: 0.9283 - val_loss: 0.1168 - val_categorical_accuracy: 0.9652\n",
      "Epoch 9/150\n",
      "540/540 [==============================] - 3s 6ms/step - loss: 0.2317 - categorical_accuracy: 0.9318 - val_loss: 0.1101 - val_categorical_accuracy: 0.9662\n",
      "Epoch 10/150\n",
      "540/540 [==============================] - 3s 6ms/step - loss: 0.2248 - categorical_accuracy: 0.9349 - val_loss: 0.1116 - val_categorical_accuracy: 0.9687\n",
      "Epoch 11/150\n",
      "540/540 [==============================] - 3s 6ms/step - loss: 0.2119 - categorical_accuracy: 0.9390 - val_loss: 0.0958 - val_categorical_accuracy: 0.9730\n",
      "Epoch 12/150\n",
      "540/540 [==============================] - 3s 6ms/step - loss: 0.2069 - categorical_accuracy: 0.9388 - val_loss: 0.1005 - val_categorical_accuracy: 0.9717\n",
      "Epoch 13/150\n",
      "540/540 [==============================] - 3s 6ms/step - loss: 0.1998 - categorical_accuracy: 0.9408 - val_loss: 0.0990 - val_categorical_accuracy: 0.9727\n",
      "Epoch 14/150\n",
      "540/540 [==============================] - 3s 6ms/step - loss: 0.1956 - categorical_accuracy: 0.9431 - val_loss: 0.0957 - val_categorical_accuracy: 0.9730\n",
      "Epoch 15/150\n",
      "540/540 [==============================] - 3s 6ms/step - loss: 0.1881 - categorical_accuracy: 0.9450 - val_loss: 0.0885 - val_categorical_accuracy: 0.9748\n",
      "Epoch 16/150\n",
      "540/540 [==============================] - 3s 6ms/step - loss: 0.1883 - categorical_accuracy: 0.9461 - val_loss: 0.0875 - val_categorical_accuracy: 0.9748\n",
      "Epoch 17/150\n",
      "540/540 [==============================] - 3s 6ms/step - loss: 0.1782 - categorical_accuracy: 0.9471 - val_loss: 0.0898 - val_categorical_accuracy: 0.9757\n",
      "Epoch 18/150\n",
      "540/540 [==============================] - 3s 6ms/step - loss: 0.1791 - categorical_accuracy: 0.9478 - val_loss: 0.0830 - val_categorical_accuracy: 0.9772\n",
      "Epoch 19/150\n",
      "540/540 [==============================] - 4s 7ms/step - loss: 0.1733 - categorical_accuracy: 0.9500 - val_loss: 0.0846 - val_categorical_accuracy: 0.9765\n",
      "Epoch 20/150\n",
      "540/540 [==============================] - 3s 6ms/step - loss: 0.1743 - categorical_accuracy: 0.9506 - val_loss: 0.0815 - val_categorical_accuracy: 0.9777\n",
      "Epoch 21/150\n",
      "540/540 [==============================] - 3s 6ms/step - loss: 0.1689 - categorical_accuracy: 0.9513 - val_loss: 0.0799 - val_categorical_accuracy: 0.9778\n",
      "Epoch 22/150\n",
      "540/540 [==============================] - 3s 6ms/step - loss: 0.1673 - categorical_accuracy: 0.9517 - val_loss: 0.0881 - val_categorical_accuracy: 0.9755\n",
      "Epoch 23/150\n",
      "540/540 [==============================] - 3s 6ms/step - loss: 0.1618 - categorical_accuracy: 0.9530 - val_loss: 0.0781 - val_categorical_accuracy: 0.9775\n",
      "Epoch 24/150\n",
      "540/540 [==============================] - 4s 7ms/step - loss: 0.1595 - categorical_accuracy: 0.9535 - val_loss: 0.0872 - val_categorical_accuracy: 0.9762\n",
      "Epoch 25/150\n",
      "540/540 [==============================] - 4s 7ms/step - loss: 0.1556 - categorical_accuracy: 0.9565 - val_loss: 0.0832 - val_categorical_accuracy: 0.9793\n",
      "Epoch 26/150\n",
      "540/540 [==============================] - 4s 7ms/step - loss: 0.1552 - categorical_accuracy: 0.9554 - val_loss: 0.0861 - val_categorical_accuracy: 0.9767\n",
      "Epoch 27/150\n",
      "540/540 [==============================] - 4s 7ms/step - loss: 0.1532 - categorical_accuracy: 0.9562 - val_loss: 0.0777 - val_categorical_accuracy: 0.9793\n",
      "Epoch 28/150\n",
      "540/540 [==============================] - 4s 7ms/step - loss: 0.1477 - categorical_accuracy: 0.9569 - val_loss: 0.0825 - val_categorical_accuracy: 0.9770\n",
      "Epoch 29/150\n",
      "540/540 [==============================] - 4s 7ms/step - loss: 0.1475 - categorical_accuracy: 0.9580 - val_loss: 0.0811 - val_categorical_accuracy: 0.9773\n",
      "Epoch 30/150\n",
      "540/540 [==============================] - 3s 6ms/step - loss: 0.1505 - categorical_accuracy: 0.9574 - val_loss: 0.0768 - val_categorical_accuracy: 0.9792\n",
      "Epoch 31/150\n",
      "540/540 [==============================] - 4s 7ms/step - loss: 0.1485 - categorical_accuracy: 0.9578 - val_loss: 0.0856 - val_categorical_accuracy: 0.9767\n",
      "Epoch 32/150\n",
      "540/540 [==============================] - 3s 6ms/step - loss: 0.1429 - categorical_accuracy: 0.9597 - val_loss: 0.0830 - val_categorical_accuracy: 0.9785\n",
      "Epoch 33/150\n",
      "540/540 [==============================] - 3s 6ms/step - loss: 0.1448 - categorical_accuracy: 0.9591 - val_loss: 0.0801 - val_categorical_accuracy: 0.9778\n",
      "Epoch 34/150\n",
      "540/540 [==============================] - 3s 6ms/step - loss: 0.1370 - categorical_accuracy: 0.9599 - val_loss: 0.0792 - val_categorical_accuracy: 0.9782\n",
      "Epoch 35/150\n",
      "540/540 [==============================] - 3s 6ms/step - loss: 0.1369 - categorical_accuracy: 0.9614 - val_loss: 0.0800 - val_categorical_accuracy: 0.9785\n",
      "Epoch 36/150\n",
      "540/540 [==============================] - 3s 6ms/step - loss: 0.1404 - categorical_accuracy: 0.9609 - val_loss: 0.0788 - val_categorical_accuracy: 0.9790\n",
      "Epoch 37/150\n",
      "540/540 [==============================] - 4s 7ms/step - loss: 0.1364 - categorical_accuracy: 0.9611 - val_loss: 0.0782 - val_categorical_accuracy: 0.9788\n",
      "Epoch 38/150\n",
      "540/540 [==============================] - 3s 6ms/step - loss: 0.1341 - categorical_accuracy: 0.9618 - val_loss: 0.0783 - val_categorical_accuracy: 0.9775\n",
      "Epoch 39/150\n",
      "540/540 [==============================] - 3s 6ms/step - loss: 0.1360 - categorical_accuracy: 0.9613 - val_loss: 0.0793 - val_categorical_accuracy: 0.9785\n",
      "Epoch 40/150\n",
      "540/540 [==============================] - 3s 6ms/step - loss: 0.1333 - categorical_accuracy: 0.9614 - val_loss: 0.0780 - val_categorical_accuracy: 0.9787\n",
      "Epoch 41/150\n",
      "540/540 [==============================] - 3s 6ms/step - loss: 0.1345 - categorical_accuracy: 0.9619 - val_loss: 0.0764 - val_categorical_accuracy: 0.9792\n",
      "Epoch 42/150\n",
      "540/540 [==============================] - 3s 6ms/step - loss: 0.1319 - categorical_accuracy: 0.9625 - val_loss: 0.0801 - val_categorical_accuracy: 0.9785\n",
      "Epoch 43/150\n",
      "540/540 [==============================] - 3s 6ms/step - loss: 0.1318 - categorical_accuracy: 0.9631 - val_loss: 0.0796 - val_categorical_accuracy: 0.9787\n",
      "Epoch 44/150\n",
      "540/540 [==============================] - 3s 6ms/step - loss: 0.1282 - categorical_accuracy: 0.9634 - val_loss: 0.0784 - val_categorical_accuracy: 0.9787\n",
      "Epoch 45/150\n",
      "540/540 [==============================] - 3s 6ms/step - loss: 0.1287 - categorical_accuracy: 0.9632 - val_loss: 0.0729 - val_categorical_accuracy: 0.9810\n",
      "Epoch 46/150\n",
      "540/540 [==============================] - 3s 6ms/step - loss: 0.1278 - categorical_accuracy: 0.9641 - val_loss: 0.0774 - val_categorical_accuracy: 0.9800\n",
      "Epoch 47/150\n",
      "540/540 [==============================] - 3s 6ms/step - loss: 0.1258 - categorical_accuracy: 0.9647 - val_loss: 0.0736 - val_categorical_accuracy: 0.9805\n",
      "Epoch 48/150\n",
      "540/540 [==============================] - 3s 6ms/step - loss: 0.1264 - categorical_accuracy: 0.9644 - val_loss: 0.0742 - val_categorical_accuracy: 0.9807\n",
      "Epoch 49/150\n",
      "540/540 [==============================] - 3s 6ms/step - loss: 0.1274 - categorical_accuracy: 0.9647 - val_loss: 0.0740 - val_categorical_accuracy: 0.9812\n",
      "Epoch 50/150\n",
      "540/540 [==============================] - 3s 6ms/step - loss: 0.1243 - categorical_accuracy: 0.9646 - val_loss: 0.0787 - val_categorical_accuracy: 0.9805\n",
      "Epoch 51/150\n",
      "540/540 [==============================] - 3s 6ms/step - loss: 0.1235 - categorical_accuracy: 0.9651 - val_loss: 0.0821 - val_categorical_accuracy: 0.9800\n",
      "Epoch 52/150\n",
      "540/540 [==============================] - 3s 6ms/step - loss: 0.1265 - categorical_accuracy: 0.9648 - val_loss: 0.0766 - val_categorical_accuracy: 0.9798\n",
      "Epoch 53/150\n",
      "540/540 [==============================] - 4s 7ms/step - loss: 0.1225 - categorical_accuracy: 0.9655 - val_loss: 0.0782 - val_categorical_accuracy: 0.9800\n",
      "Epoch 54/150\n",
      "540/540 [==============================] - 3s 6ms/step - loss: 0.1227 - categorical_accuracy: 0.9651 - val_loss: 0.0724 - val_categorical_accuracy: 0.9815\n",
      "Epoch 55/150\n",
      "540/540 [==============================] - 3s 6ms/step - loss: 0.1250 - categorical_accuracy: 0.9656 - val_loss: 0.0775 - val_categorical_accuracy: 0.9803\n",
      "Epoch 56/150\n",
      "540/540 [==============================] - 3s 6ms/step - loss: 0.1182 - categorical_accuracy: 0.9672 - val_loss: 0.0740 - val_categorical_accuracy: 0.9812\n",
      "Epoch 57/150\n",
      "540/540 [==============================] - 3s 6ms/step - loss: 0.1197 - categorical_accuracy: 0.9667 - val_loss: 0.0787 - val_categorical_accuracy: 0.9807\n",
      "Epoch 58/150\n",
      "540/540 [==============================] - 3s 6ms/step - loss: 0.1198 - categorical_accuracy: 0.9660 - val_loss: 0.0727 - val_categorical_accuracy: 0.9815\n",
      "Epoch 59/150\n",
      "540/540 [==============================] - 3s 6ms/step - loss: 0.1224 - categorical_accuracy: 0.9657 - val_loss: 0.0733 - val_categorical_accuracy: 0.9813\n",
      "Epoch 60/150\n",
      "540/540 [==============================] - 3s 6ms/step - loss: 0.1138 - categorical_accuracy: 0.9686 - val_loss: 0.0733 - val_categorical_accuracy: 0.9822\n",
      "Epoch 61/150\n",
      "540/540 [==============================] - 3s 6ms/step - loss: 0.1184 - categorical_accuracy: 0.9674 - val_loss: 0.0718 - val_categorical_accuracy: 0.9813\n",
      "Epoch 62/150\n",
      "540/540 [==============================] - 3s 6ms/step - loss: 0.1194 - categorical_accuracy: 0.9675 - val_loss: 0.0711 - val_categorical_accuracy: 0.9808\n",
      "Epoch 63/150\n",
      "540/540 [==============================] - 3s 6ms/step - loss: 0.1168 - categorical_accuracy: 0.9674 - val_loss: 0.0748 - val_categorical_accuracy: 0.9822\n",
      "Epoch 64/150\n",
      "540/540 [==============================] - 3s 6ms/step - loss: 0.1165 - categorical_accuracy: 0.9680 - val_loss: 0.0757 - val_categorical_accuracy: 0.9808\n",
      "Epoch 65/150\n",
      "540/540 [==============================] - 3s 6ms/step - loss: 0.1142 - categorical_accuracy: 0.9685 - val_loss: 0.0770 - val_categorical_accuracy: 0.9808\n",
      "Epoch 66/150\n",
      "540/540 [==============================] - 3s 6ms/step - loss: 0.1167 - categorical_accuracy: 0.9676 - val_loss: 0.0683 - val_categorical_accuracy: 0.9827\n",
      "Epoch 67/150\n",
      "540/540 [==============================] - 4s 7ms/step - loss: 0.1173 - categorical_accuracy: 0.9678 - val_loss: 0.0710 - val_categorical_accuracy: 0.9813\n",
      "Epoch 68/150\n",
      "540/540 [==============================] - 4s 7ms/step - loss: 0.1128 - categorical_accuracy: 0.9689 - val_loss: 0.0713 - val_categorical_accuracy: 0.9818\n",
      "Epoch 69/150\n",
      "540/540 [==============================] - 4s 7ms/step - loss: 0.1159 - categorical_accuracy: 0.9681 - val_loss: 0.0713 - val_categorical_accuracy: 0.9818\n",
      "Epoch 70/150\n",
      "540/540 [==============================] - 3s 6ms/step - loss: 0.1125 - categorical_accuracy: 0.9685 - val_loss: 0.0695 - val_categorical_accuracy: 0.9837\n",
      "Epoch 71/150\n",
      "540/540 [==============================] - 3s 6ms/step - loss: 0.1118 - categorical_accuracy: 0.9680 - val_loss: 0.0749 - val_categorical_accuracy: 0.9813\n",
      "Epoch 72/150\n",
      "540/540 [==============================] - 3s 6ms/step - loss: 0.1133 - categorical_accuracy: 0.9690 - val_loss: 0.0722 - val_categorical_accuracy: 0.9808\n",
      "Epoch 73/150\n",
      "540/540 [==============================] - 3s 6ms/step - loss: 0.1129 - categorical_accuracy: 0.9693 - val_loss: 0.0702 - val_categorical_accuracy: 0.9822\n",
      "Epoch 74/150\n",
      "540/540 [==============================] - 3s 6ms/step - loss: 0.1122 - categorical_accuracy: 0.9691 - val_loss: 0.0749 - val_categorical_accuracy: 0.9807\n",
      "Epoch 75/150\n",
      "540/540 [==============================] - 3s 6ms/step - loss: 0.1116 - categorical_accuracy: 0.9691 - val_loss: 0.0763 - val_categorical_accuracy: 0.9803\n",
      "Epoch 76/150\n",
      "540/540 [==============================] - 4s 7ms/step - loss: 0.1103 - categorical_accuracy: 0.9690 - val_loss: 0.0763 - val_categorical_accuracy: 0.9813\n",
      "Epoch 77/150\n",
      "540/540 [==============================] - 3s 6ms/step - loss: 0.1106 - categorical_accuracy: 0.9699 - val_loss: 0.0730 - val_categorical_accuracy: 0.9820\n",
      "Epoch 78/150\n",
      "540/540 [==============================] - 3s 6ms/step - loss: 0.1120 - categorical_accuracy: 0.9688 - val_loss: 0.0724 - val_categorical_accuracy: 0.9815\n",
      "Epoch 79/150\n",
      "540/540 [==============================] - 3s 6ms/step - loss: 0.1086 - categorical_accuracy: 0.9704 - val_loss: 0.0739 - val_categorical_accuracy: 0.9822\n",
      "Epoch 80/150\n",
      "540/540 [==============================] - 3s 6ms/step - loss: 0.1084 - categorical_accuracy: 0.9693 - val_loss: 0.0706 - val_categorical_accuracy: 0.9818\n",
      "Epoch 81/150\n",
      "540/540 [==============================] - 3s 6ms/step - loss: 0.1086 - categorical_accuracy: 0.9696 - val_loss: 0.0736 - val_categorical_accuracy: 0.9825\n",
      "Epoch 82/150\n",
      "540/540 [==============================] - 3s 6ms/step - loss: 0.1103 - categorical_accuracy: 0.9700 - val_loss: 0.0692 - val_categorical_accuracy: 0.9827\n",
      "Epoch 83/150\n",
      "540/540 [==============================] - 3s 6ms/step - loss: 0.1076 - categorical_accuracy: 0.9704 - val_loss: 0.0710 - val_categorical_accuracy: 0.9820\n",
      "Epoch 84/150\n",
      "540/540 [==============================] - 3s 6ms/step - loss: 0.1071 - categorical_accuracy: 0.9704 - val_loss: 0.0745 - val_categorical_accuracy: 0.9825\n",
      "Epoch 85/150\n",
      "540/540 [==============================] - 3s 6ms/step - loss: 0.1099 - categorical_accuracy: 0.9699 - val_loss: 0.0721 - val_categorical_accuracy: 0.9820\n",
      "Epoch 86/150\n",
      "540/540 [==============================] - 3s 6ms/step - loss: 0.1064 - categorical_accuracy: 0.9697 - val_loss: 0.0737 - val_categorical_accuracy: 0.9807\n",
      "Epoch 87/150\n",
      "540/540 [==============================] - 3s 6ms/step - loss: 0.1028 - categorical_accuracy: 0.9712 - val_loss: 0.0731 - val_categorical_accuracy: 0.9813\n",
      "Epoch 88/150\n",
      "540/540 [==============================] - 3s 6ms/step - loss: 0.1036 - categorical_accuracy: 0.9711 - val_loss: 0.0736 - val_categorical_accuracy: 0.9817\n",
      "Epoch 89/150\n",
      "540/540 [==============================] - 3s 6ms/step - loss: 0.1034 - categorical_accuracy: 0.9706 - val_loss: 0.0733 - val_categorical_accuracy: 0.9817\n",
      "Epoch 90/150\n",
      "540/540 [==============================] - 3s 6ms/step - loss: 0.1035 - categorical_accuracy: 0.9715 - val_loss: 0.0732 - val_categorical_accuracy: 0.9817\n",
      "Epoch 91/150\n",
      "540/540 [==============================] - 3s 6ms/step - loss: 0.1056 - categorical_accuracy: 0.9712 - val_loss: 0.0728 - val_categorical_accuracy: 0.9813\n",
      "Epoch 92/150\n",
      "540/540 [==============================] - 3s 6ms/step - loss: 0.1043 - categorical_accuracy: 0.9714 - val_loss: 0.0736 - val_categorical_accuracy: 0.9803\n",
      "Epoch 93/150\n",
      "540/540 [==============================] - 3s 6ms/step - loss: 0.1056 - categorical_accuracy: 0.9711 - val_loss: 0.0737 - val_categorical_accuracy: 0.9812\n",
      "Epoch 94/150\n",
      "540/540 [==============================] - 3s 6ms/step - loss: 0.1036 - categorical_accuracy: 0.9717 - val_loss: 0.0728 - val_categorical_accuracy: 0.9817\n",
      "Epoch 95/150\n",
      "540/540 [==============================] - 3s 6ms/step - loss: 0.1047 - categorical_accuracy: 0.9723 - val_loss: 0.0706 - val_categorical_accuracy: 0.9813\n",
      "Epoch 96/150\n",
      "540/540 [==============================] - 3s 6ms/step - loss: 0.1027 - categorical_accuracy: 0.9723 - val_loss: 0.0810 - val_categorical_accuracy: 0.9807\n",
      "Epoch 97/150\n",
      "540/540 [==============================] - 3s 6ms/step - loss: 0.1011 - categorical_accuracy: 0.9714 - val_loss: 0.0827 - val_categorical_accuracy: 0.9813\n",
      "Epoch 98/150\n",
      "540/540 [==============================] - 3s 6ms/step - loss: 0.1028 - categorical_accuracy: 0.9717 - val_loss: 0.0748 - val_categorical_accuracy: 0.9820\n",
      "Epoch 99/150\n",
      "540/540 [==============================] - 3s 6ms/step - loss: 0.1006 - categorical_accuracy: 0.9726 - val_loss: 0.0724 - val_categorical_accuracy: 0.9835\n",
      "Epoch 100/150\n",
      "540/540 [==============================] - 3s 6ms/step - loss: 0.0997 - categorical_accuracy: 0.9725 - val_loss: 0.0725 - val_categorical_accuracy: 0.9822\n",
      "Epoch 101/150\n",
      "540/540 [==============================] - 3s 6ms/step - loss: 0.1038 - categorical_accuracy: 0.9716 - val_loss: 0.0710 - val_categorical_accuracy: 0.9818\n",
      "Epoch 102/150\n",
      "540/540 [==============================] - 3s 6ms/step - loss: 0.0995 - categorical_accuracy: 0.9729 - val_loss: 0.0732 - val_categorical_accuracy: 0.9820\n",
      "Epoch 103/150\n",
      "540/540 [==============================] - 3s 6ms/step - loss: 0.0991 - categorical_accuracy: 0.9733 - val_loss: 0.0708 - val_categorical_accuracy: 0.9823\n",
      "Epoch 104/150\n",
      "540/540 [==============================] - 3s 6ms/step - loss: 0.1005 - categorical_accuracy: 0.9725 - val_loss: 0.0718 - val_categorical_accuracy: 0.9813\n",
      "Epoch 105/150\n",
      "540/540 [==============================] - 3s 6ms/step - loss: 0.1019 - categorical_accuracy: 0.9722 - val_loss: 0.0690 - val_categorical_accuracy: 0.9823\n",
      "Epoch 106/150\n",
      "540/540 [==============================] - 3s 6ms/step - loss: 0.1020 - categorical_accuracy: 0.9731 - val_loss: 0.0752 - val_categorical_accuracy: 0.9818\n",
      "Epoch 107/150\n",
      "540/540 [==============================] - 3s 6ms/step - loss: 0.1032 - categorical_accuracy: 0.9716 - val_loss: 0.0667 - val_categorical_accuracy: 0.9825\n",
      "Epoch 108/150\n",
      "540/540 [==============================] - 3s 6ms/step - loss: 0.0976 - categorical_accuracy: 0.9727 - val_loss: 0.0651 - val_categorical_accuracy: 0.9830\n",
      "Epoch 109/150\n",
      "540/540 [==============================] - 3s 6ms/step - loss: 0.1023 - categorical_accuracy: 0.9709 - val_loss: 0.0671 - val_categorical_accuracy: 0.9835\n",
      "Epoch 110/150\n",
      "540/540 [==============================] - 3s 6ms/step - loss: 0.0964 - categorical_accuracy: 0.9734 - val_loss: 0.0713 - val_categorical_accuracy: 0.9823\n",
      "Epoch 111/150\n",
      "540/540 [==============================] - 3s 6ms/step - loss: 0.0992 - categorical_accuracy: 0.9729 - val_loss: 0.0676 - val_categorical_accuracy: 0.9830\n",
      "Epoch 112/150\n",
      "540/540 [==============================] - 3s 6ms/step - loss: 0.1022 - categorical_accuracy: 0.9717 - val_loss: 0.0677 - val_categorical_accuracy: 0.9828\n",
      "Epoch 113/150\n",
      "540/540 [==============================] - 3s 6ms/step - loss: 0.0972 - categorical_accuracy: 0.9733 - val_loss: 0.0714 - val_categorical_accuracy: 0.9817\n",
      "Epoch 114/150\n",
      "540/540 [==============================] - 3s 6ms/step - loss: 0.1021 - categorical_accuracy: 0.9719 - val_loss: 0.0684 - val_categorical_accuracy: 0.9832\n",
      "Epoch 115/150\n",
      "540/540 [==============================] - 3s 6ms/step - loss: 0.0988 - categorical_accuracy: 0.9725 - val_loss: 0.0680 - val_categorical_accuracy: 0.9838\n",
      "Epoch 116/150\n",
      "540/540 [==============================] - 3s 6ms/step - loss: 0.0970 - categorical_accuracy: 0.9730 - val_loss: 0.0709 - val_categorical_accuracy: 0.9827\n",
      "Epoch 117/150\n",
      "540/540 [==============================] - 3s 6ms/step - loss: 0.0984 - categorical_accuracy: 0.9734 - val_loss: 0.0663 - val_categorical_accuracy: 0.9823\n",
      "Epoch 118/150\n",
      "540/540 [==============================] - 3s 6ms/step - loss: 0.0920 - categorical_accuracy: 0.9743 - val_loss: 0.0712 - val_categorical_accuracy: 0.9835\n",
      "Epoch 119/150\n",
      "540/540 [==============================] - 3s 6ms/step - loss: 0.0961 - categorical_accuracy: 0.9739 - val_loss: 0.0701 - val_categorical_accuracy: 0.9828\n",
      "Epoch 120/150\n",
      "540/540 [==============================] - 3s 6ms/step - loss: 0.0954 - categorical_accuracy: 0.9740 - val_loss: 0.0712 - val_categorical_accuracy: 0.9825\n",
      "Epoch 121/150\n",
      "540/540 [==============================] - 3s 6ms/step - loss: 0.0973 - categorical_accuracy: 0.9737 - val_loss: 0.0713 - val_categorical_accuracy: 0.9827\n",
      "Epoch 122/150\n",
      "540/540 [==============================] - 3s 6ms/step - loss: 0.0929 - categorical_accuracy: 0.9748 - val_loss: 0.0765 - val_categorical_accuracy: 0.9822\n",
      "Epoch 123/150\n",
      "540/540 [==============================] - 3s 6ms/step - loss: 0.1012 - categorical_accuracy: 0.9730 - val_loss: 0.0740 - val_categorical_accuracy: 0.9828\n",
      "Epoch 124/150\n",
      "540/540 [==============================] - 3s 6ms/step - loss: 0.0935 - categorical_accuracy: 0.9742 - val_loss: 0.0802 - val_categorical_accuracy: 0.9810\n",
      "Epoch 125/150\n",
      "540/540 [==============================] - 3s 6ms/step - loss: 0.0973 - categorical_accuracy: 0.9734 - val_loss: 0.0765 - val_categorical_accuracy: 0.9825\n",
      "Epoch 126/150\n",
      "540/540 [==============================] - 3s 6ms/step - loss: 0.0953 - categorical_accuracy: 0.9745 - val_loss: 0.0758 - val_categorical_accuracy: 0.9828\n",
      "Epoch 127/150\n",
      "540/540 [==============================] - 3s 6ms/step - loss: 0.0918 - categorical_accuracy: 0.9749 - val_loss: 0.0716 - val_categorical_accuracy: 0.9827\n",
      "Epoch 128/150\n",
      "540/540 [==============================] - 3s 6ms/step - loss: 0.0991 - categorical_accuracy: 0.9734 - val_loss: 0.0732 - val_categorical_accuracy: 0.9818\n",
      "Epoch 129/150\n",
      "540/540 [==============================] - 3s 6ms/step - loss: 0.0939 - categorical_accuracy: 0.9740 - val_loss: 0.0772 - val_categorical_accuracy: 0.9827\n",
      "Epoch 130/150\n",
      "540/540 [==============================] - 3s 6ms/step - loss: 0.0948 - categorical_accuracy: 0.9742 - val_loss: 0.0748 - val_categorical_accuracy: 0.9820\n",
      "Epoch 131/150\n",
      "540/540 [==============================] - 3s 6ms/step - loss: 0.0971 - categorical_accuracy: 0.9738 - val_loss: 0.0735 - val_categorical_accuracy: 0.9832\n",
      "Epoch 132/150\n",
      "540/540 [==============================] - 3s 6ms/step - loss: 0.0948 - categorical_accuracy: 0.9739 - val_loss: 0.0721 - val_categorical_accuracy: 0.9822\n",
      "Epoch 133/150\n",
      "540/540 [==============================] - 3s 6ms/step - loss: 0.0945 - categorical_accuracy: 0.9745 - val_loss: 0.0693 - val_categorical_accuracy: 0.9832\n",
      "Epoch 134/150\n",
      "540/540 [==============================] - 3s 6ms/step - loss: 0.0962 - categorical_accuracy: 0.9741 - val_loss: 0.0730 - val_categorical_accuracy: 0.9830\n",
      "Epoch 135/150\n",
      "540/540 [==============================] - 3s 6ms/step - loss: 0.0916 - categorical_accuracy: 0.9752 - val_loss: 0.0761 - val_categorical_accuracy: 0.9823\n",
      "Epoch 136/150\n",
      "540/540 [==============================] - 3s 6ms/step - loss: 0.0918 - categorical_accuracy: 0.9744 - val_loss: 0.0740 - val_categorical_accuracy: 0.9830\n",
      "Epoch 137/150\n",
      "540/540 [==============================] - 3s 6ms/step - loss: 0.0951 - categorical_accuracy: 0.9744 - val_loss: 0.0730 - val_categorical_accuracy: 0.9827\n",
      "Epoch 138/150\n",
      "540/540 [==============================] - 3s 6ms/step - loss: 0.0930 - categorical_accuracy: 0.9750 - val_loss: 0.0734 - val_categorical_accuracy: 0.9825\n",
      "Epoch 139/150\n",
      "540/540 [==============================] - 3s 6ms/step - loss: 0.0961 - categorical_accuracy: 0.9746 - val_loss: 0.0768 - val_categorical_accuracy: 0.9825\n",
      "Epoch 140/150\n",
      "540/540 [==============================] - 3s 6ms/step - loss: 0.0928 - categorical_accuracy: 0.9751 - val_loss: 0.0761 - val_categorical_accuracy: 0.9818\n",
      "Epoch 141/150\n",
      "540/540 [==============================] - 3s 6ms/step - loss: 0.0911 - categorical_accuracy: 0.9757 - val_loss: 0.0722 - val_categorical_accuracy: 0.9822\n",
      "Epoch 142/150\n",
      "540/540 [==============================] - 3s 6ms/step - loss: 0.0925 - categorical_accuracy: 0.9751 - val_loss: 0.0770 - val_categorical_accuracy: 0.9820\n",
      "Epoch 143/150\n",
      "540/540 [==============================] - 3s 6ms/step - loss: 0.0902 - categorical_accuracy: 0.9754 - val_loss: 0.0788 - val_categorical_accuracy: 0.9830\n",
      "Epoch 144/150\n",
      "540/540 [==============================] - 3s 6ms/step - loss: 0.0935 - categorical_accuracy: 0.9755 - val_loss: 0.0703 - val_categorical_accuracy: 0.9832\n",
      "Epoch 145/150\n",
      "540/540 [==============================] - 3s 6ms/step - loss: 0.0908 - categorical_accuracy: 0.9748 - val_loss: 0.0716 - val_categorical_accuracy: 0.9830\n",
      "Epoch 146/150\n",
      "540/540 [==============================] - 3s 6ms/step - loss: 0.0912 - categorical_accuracy: 0.9758 - val_loss: 0.0787 - val_categorical_accuracy: 0.9818\n",
      "Epoch 147/150\n",
      "540/540 [==============================] - 3s 6ms/step - loss: 0.0921 - categorical_accuracy: 0.9752 - val_loss: 0.0777 - val_categorical_accuracy: 0.9837\n",
      "Epoch 148/150\n",
      "540/540 [==============================] - 3s 6ms/step - loss: 0.0930 - categorical_accuracy: 0.9755 - val_loss: 0.0793 - val_categorical_accuracy: 0.9837\n",
      "Epoch 149/150\n",
      "540/540 [==============================] - 3s 6ms/step - loss: 0.0913 - categorical_accuracy: 0.9752 - val_loss: 0.0739 - val_categorical_accuracy: 0.9812\n",
      "Epoch 150/150\n",
      "540/540 [==============================] - 3s 6ms/step - loss: 0.0914 - categorical_accuracy: 0.9753 - val_loss: 0.0785 - val_categorical_accuracy: 0.9825\n"
     ]
    },
    {
     "data": {
      "image/png": "[encoded data removed]",
      "text/plain": [
       "<Figure size 748.8x514.8 with 1 Axes>"
      ]
     },
     "metadata": {
      "needs_background": "light",
      "tags": []
     },
     "output_type": "display_data"
    },
    {
     "data": {
      "image/png": "[encoded data removed]",
      "text/plain": [
       "<Figure size 748.8x514.8 with 1 Axes>"
      ]
     },
     "metadata": {
      "needs_background": "light",
      "tags": []
     },
     "output_type": "display_data"
    }
   ],
   "source": [
    "m = build_model()\n",
    "h = m.fit(x = train_imgs, y = train_1hot, batch_size = 100, epochs = 150, validation_split = 0.1)\n",
    "# Convendría hacer un shuffel de mi conjunto de entrenamiento, por si vienen ordenador, en\n",
    "#  Train_imgs y train_1hot\n",
    "\n",
    "plot_metric(h, 'loss' )\n",
    "plot_metric(h, 'categorical_accuracy' )"
   ]
  },
  {
   "cell_type": "code",
   "execution_count": 191,
   "metadata": {
    "colab": {
     "base_uri": "https://localhost:8080/",
     "height": 71
    },
    "colab_type": "code",
    "executionInfo": {
     "elapsed": 1235,
     "status": "ok",
     "timestamp": 1592045598401,
     "user": {
      "displayName": "Felipe Fernandez pomar",
      "photoUrl": "https://lh3.googleusercontent.com/a-/AOh14GjAIBB1UUNahiuBW35nhzx_0hZxW-dTtBh-sbrK0Q=s64",
      "userId": "06620814048662575791"
     },
     "user_tz": -120
    },
    "id": "lsPcGDBsR5fR",
    "outputId": "f03b3cea-99d4-4dc3-b016-5a5f5d342881"
   },
   "outputs": [
    {
     "name": "stdout",
     "output_type": "stream",
     "text": [
      "313/313 [==============================] - 1s 2ms/step - loss: 0.0845 - categorical_accuracy: 0.9820\n",
      "0.08454053103923798 0.9819999933242798\n"
     ]
    }
   ],
   "source": [
    "loss, acc = m.evaluate(test_imgs, test_1hot)\n",
    "print(loss, acc)"
   ]
  },
  {
   "cell_type": "code",
   "execution_count": 192,
   "metadata": {
    "colab": {
     "base_uri": "https://localhost:8080/",
     "height": 34
    },
    "colab_type": "code",
    "executionInfo": {
     "elapsed": 909,
     "status": "ok",
     "timestamp": 1592045602723,
     "user": {
      "displayName": "Felipe Fernandez pomar",
      "photoUrl": "https://lh3.googleusercontent.com/a-/AOh14GjAIBB1UUNahiuBW35nhzx_0hZxW-dTtBh-sbrK0Q=s64",
      "userId": "06620814048662575791"
     },
     "user_tz": -120
    },
    "id": "_Hl3HlyoSHAw",
    "outputId": "60d6b494-d892-4e53-c80c-c4fc2ff023a7"
   },
   "outputs": [
    {
     "data": {
      "text/plain": [
       "(10000, 10)"
      ]
     },
     "execution_count": 192,
     "metadata": {
      "tags": []
     },
     "output_type": "execute_result"
    }
   ],
   "source": [
    "predictions = m.predict(test_imgs)\n",
    "predictions.shape"
   ]
  },
  {
   "cell_type": "code",
   "execution_count": 193,
   "metadata": {
    "colab": {
     "base_uri": "https://localhost:8080/",
     "height": 34
    },
    "colab_type": "code",
    "executionInfo": {
     "elapsed": 641,
     "status": "ok",
     "timestamp": 1592045605143,
     "user": {
      "displayName": "Felipe Fernandez pomar",
      "photoUrl": "https://lh3.googleusercontent.com/a-/AOh14GjAIBB1UUNahiuBW35nhzx_0hZxW-dTtBh-sbrK0Q=s64",
      "userId": "06620814048662575791"
     },
     "user_tz": -120
    },
    "id": "HDIK33T-SaCE",
    "outputId": "4a9822ed-f92b-45b3-9f77-eb433553c6e2"
   },
   "outputs": [
    {
     "data": {
      "text/plain": [
       "7"
      ]
     },
     "execution_count": 193,
     "metadata": {
      "tags": []
     },
     "output_type": "execute_result"
    }
   ],
   "source": [
    "np.argmax(predictions[0])"
   ]
  },
  {
   "cell_type": "code",
   "execution_count": 194,
   "metadata": {
    "colab": {
     "base_uri": "https://localhost:8080/",
     "height": 105
    },
    "colab_type": "code",
    "executionInfo": {
     "elapsed": 1134,
     "status": "ok",
     "timestamp": 1592045608047,
     "user": {
      "displayName": "Felipe Fernandez pomar",
      "photoUrl": "https://lh3.googleusercontent.com/a-/AOh14GjAIBB1UUNahiuBW35nhzx_0hZxW-dTtBh-sbrK0Q=s64",
      "userId": "06620814048662575791"
     },
     "user_tz": -120
    },
    "id": "Lg3Jz-xeSeCk",
    "outputId": "a61ab851-8c5a-490e-abd5-32f7a52b7a3d"
   },
   "outputs": [
    {
     "name": "stdout",
     "output_type": "stream",
     "text": [
      "WARNING:tensorflow:From <ipython-input-194-39cf162ff98c>:1: Sequential.predict_classes (from tensorflow.python.keras.engine.sequential) is deprecated and will be removed after 2021-01-01.\n",
      "Instructions for updating:\n",
      "Please use instead:* `np.argmax(model.predict(x), axis=-1)`,   if your model does multi-class classification   (e.g. if it uses a `softmax` last-layer activation).* `(model.predict(x) > 0.5).astype(\"int32\")`,   if your model does binary classification   (e.g. if it uses a `sigmoid` last-layer activation).\n"
     ]
    },
    {
     "data": {
      "text/plain": [
       "(10000,)"
      ]
     },
     "execution_count": 194,
     "metadata": {
      "tags": []
     },
     "output_type": "execute_result"
    }
   ],
   "source": [
    "predict_classes = m.predict_classes(test_imgs)\n",
    "predict_classes.shape"
   ]
  },
  {
   "cell_type": "code",
   "execution_count": 195,
   "metadata": {
    "colab": {
     "base_uri": "https://localhost:8080/",
     "height": 34
    },
    "colab_type": "code",
    "executionInfo": {
     "elapsed": 780,
     "status": "ok",
     "timestamp": 1592045612420,
     "user": {
      "displayName": "Felipe Fernandez pomar",
      "photoUrl": "https://lh3.googleusercontent.com/a-/AOh14GjAIBB1UUNahiuBW35nhzx_0hZxW-dTtBh-sbrK0Q=s64",
      "userId": "06620814048662575791"
     },
     "user_tz": -120
    },
    "id": "ltEQNy7lSpM0",
    "outputId": "c982f48e-74e0-4060-ea2d-a18625816d36"
   },
   "outputs": [
    {
     "data": {
      "text/plain": [
       "7"
      ]
     },
     "execution_count": 195,
     "metadata": {
      "tags": []
     },
     "output_type": "execute_result"
    }
   ],
   "source": [
    "predict_classes[0]"
   ]
  },
  {
   "cell_type": "code",
   "execution_count": 196,
   "metadata": {
    "colab": {
     "base_uri": "https://localhost:8080/",
     "height": 34
    },
    "colab_type": "code",
    "executionInfo": {
     "elapsed": 635,
     "status": "ok",
     "timestamp": 1592045619874,
     "user": {
      "displayName": "Felipe Fernandez pomar",
      "photoUrl": "https://lh3.googleusercontent.com/a-/AOh14GjAIBB1UUNahiuBW35nhzx_0hZxW-dTtBh-sbrK0Q=s64",
      "userId": "06620814048662575791"
     },
     "user_tz": -120
    },
    "id": "50nXrTNRSrsJ",
    "outputId": "e97b7b77-bc11-4195-fb96-ea2b715de756"
   },
   "outputs": [
    {
     "data": {
      "text/plain": [
       "7"
      ]
     },
     "execution_count": 196,
     "metadata": {
      "tags": []
     },
     "output_type": "execute_result"
    }
   ],
   "source": [
    "## Cómo sabemos si está bien? Comprobamos con la label (etiqueta) de test\n",
    "test_labels[0]"
   ]
  },
  {
   "cell_type": "code",
   "execution_count": 186,
   "metadata": {
    "colab": {
     "base_uri": "https://localhost:8080/",
     "height": 170
    },
    "colab_type": "code",
    "executionInfo": {
     "elapsed": 822,
     "status": "ok",
     "timestamp": 1592043466113,
     "user": {
      "displayName": "Felipe Fernandez pomar",
      "photoUrl": "https://lh3.googleusercontent.com/a-/AOh14GjAIBB1UUNahiuBW35nhzx_0hZxW-dTtBh-sbrK0Q=s64",
      "userId": "06620814048662575791"
     },
     "user_tz": -120
    },
    "id": "TM52FTnoLDKs",
    "outputId": "9836a35a-b31b-4a6a-f1dd-54cfd3588834"
   },
   "outputs": [
    {
     "data": {
      "text/plain": [
       "[<tensorflow.python.keras.layers.core.Flatten at 0x7f6e29a4cf60>,\n",
       " <tensorflow.python.keras.layers.core.Dense at 0x7f6e29a4c908>,\n",
       " <tensorflow.python.keras.layers.core.Dropout at 0x7f6e29acdc50>,\n",
       " <tensorflow.python.keras.layers.core.Dense at 0x7f6e29aaaa58>,\n",
       " <tensorflow.python.keras.layers.core.Dropout at 0x7f6e29a4c160>,\n",
       " <tensorflow.python.keras.layers.core.Dense at 0x7f6e29b08b00>,\n",
       " <tensorflow.python.keras.layers.core.Dropout at 0x7f6e29a4c6a0>,\n",
       " <tensorflow.python.keras.layers.core.Dense at 0x7f6e29b0e1d0>,\n",
       " <tensorflow.python.keras.layers.core.Dense at 0x7f6e29a6d240>]"
      ]
     },
     "execution_count": 186,
     "metadata": {
      "tags": []
     },
     "output_type": "execute_result"
    }
   ],
   "source": [
    "m.layers\n",
    "#le pasamos todo los 4 y cual es la distribución de distancia en esta nueva representación."
   ]
  },
  {
   "cell_type": "markdown",
   "metadata": {
    "colab_type": "text",
    "id": "y5uQr9c9hCHd"
   },
   "source": [
    "Here we will make some decisions about how to train our model.\n",
    "\n",
    "The **objective function**, called **loss function** in Deep Learning, will be *categorical crossentropy*. This is because we are trying to predict discrete classes. If we choose a different function, the solution will be different. This is the function that will tell us when we have found the *solution*. Different functions will point to different *solutions*.\n",
    "\n",
    "The **optimizer** is the method that we will use to find the minimum of the **loss function**. In general, we will not find the global minimum of the loss function, but a minimum that is good enough. *RMSProp* is one the variants of gradient descent. But there are many more:\n",
    " - http://ruder.io/optimizing-gradient-descent/\n",
    " \n",
    "These two settings will define what solution we will find during the training process.\n",
    "\n",
    "The other parameter, the **metrics**, is only for information purposes. In each step of the training (called **epoch**), Keras will report the value of the metrics. But whether we choose one metric or another will not influence the training process. It is only for reporting how the training is going. That information will be useful for the validation of the model, that is, for the **hyperparameters tuning**.\n"
   ]
  },
  {
   "cell_type": "markdown",
   "metadata": {
    "colab_type": "text",
    "id": "2ocQyEfWhCHe"
   },
   "source": [
    "Now let's fit the neural network. We will keep the results in a *history* object to plot some parameters after the training, and use that information for improving our model (changing layers, activation functions, etc). This process is called **hyperparameters tuning** or hypeparameters search.\n",
    "\n",
    "Here we need to set two parameters: the number of **epochs** and the **batch size**.\n",
    "\n",
    "In previous cells, I have said that the training process is an optimization problem: we try to find the minimum.\n",
    "\n",
    "That's actually not entirely true. In practice, we don't keep searching for a minimum. Instead, we train for a preset number of epochs. Then we analyze the output using the validation set. If we detect overfit, then we reduce the number of epochs. If we don't detect it, then maybe we can keep going for some more epochs to find a better model. The number of epochs is another hyperparameter. In general, we should stop the training as early as possible. Any further epoch can make our model overfit, and therefore generalize poorly.\n",
    "\n",
    "The batch size is another hyperparameter. The network is not updated item by item, vector by vector. We can actually calculate the weights for a batch of several items, forming a matrix or a tensor. The batch size will affect the granularity of the calculations and the performance. A larger batch size will probably result in a slightly worse accuracy, but in a better performance. As long as the batch size is not so huge that it cannot be kept in memory. Because we are running on a GPU, it is a good idea to use a power of 2 for the batch size. It will probably make a better use of the GPU. But again, the effect of the batch size must be tested using the validation set, and adjusted until we find a good value for that parameter.\n",
    "\n",
    "An epoch is a full pass over the training dataset. At the end of each epoch, Keras will calculate the value of the metrics for the training set, and the loss function and metrics for the validation set. The loss and metrics of the validation set are useful for the hyperparameters tuning process.\n",
    "\n"
   ]
  },
  {
   "cell_type": "code",
   "execution_count": 0,
   "metadata": {
    "colab": {},
    "colab_type": "code",
    "id": "L82AWhu4hCHe"
   },
   "outputs": [],
   "source": [
    ""
   ]
  },
  {
   "cell_type": "markdown",
   "metadata": {
    "colab_type": "text",
    "id": "y0fYAO0ThCHh"
   },
   "source": [
    "## Exercises\n",
    "\n",
    "* **EXERCISE 1**: Chante the activation function in the model. How does it affect accuracy? What happens if you use linear activation function? What happens if we use the $\\tanh$ function? Does it affect to overfitting?\n",
    " * https://keras.io/activations/\n",
    " \n",
    "Here we see that the accuracy keeps increasing over epochs. An overfitted model would produce a decrease of the validation accuracy at some point. This means that we have found an optimal model. The validation loss is stuck at a minimum, but the accuracy is not affected by the extra epochs.\n",
    "\n",
    "_**EXERCISE 2**_: How is the model accuracy (measured with the test set, see below) affected if we start over and fit for 40 epochs? And for 4? And for 400?\n",
    "\n",
    "_**EXERCISE 4**_: What is the most simple model that you can get that achieves a similar validation performance (accuracy)? (the loss values are not comparable, different networks will have different ranges of values for the loss functions)\n",
    "\n",
    "Now let's check how well the model works with the test dataset. Remember that we don't have used it at all during the training and tuning of the model."
   ]
  },
  {
   "cell_type": "markdown",
   "metadata": {
    "colab_type": "text",
    "id": "IKsv08C2hCHh"
   },
   "source": [
    "## Analyze the classification performance"
   ]
  },
  {
   "cell_type": "code",
   "execution_count": 0,
   "metadata": {
    "colab": {},
    "colab_type": "code",
    "id": "7OQ84vRwhCHi"
   },
   "outputs": [],
   "source": [
    ""
   ]
  },
  {
   "cell_type": "markdown",
   "metadata": {
    "colab_type": "text",
    "id": "NNtU6E2zhCHl"
   },
   "source": [
    "That's about a $98\\%$ accuracy on the test set. Not bad.\n",
    "\n",
    "With that accuracy, this is the number of images that are wrongly classified by our model:"
   ]
  },
  {
   "cell_type": "code",
   "execution_count": 0,
   "metadata": {
    "colab": {},
    "colab_type": "code",
    "id": "P5q7438QhCHl"
   },
   "outputs": [],
   "source": [
    ""
   ]
  },
  {
   "cell_type": "markdown",
   "metadata": {
    "colab_type": "text",
    "id": "q1r6SatNhCHo"
   },
   "source": [
    "Let's see how well it predicts some random items from the test set."
   ]
  },
  {
   "cell_type": "code",
   "execution_count": 0,
   "metadata": {
    "colab": {},
    "colab_type": "code",
    "id": "w_1PCbuwhCHp",
    "outputId": "3dcaeb2d-5868-4358-aec3-39ced65b2e47"
   },
   "outputs": [
    {
     "name": "stdout",
     "output_type": "stream",
     "text": [
      "The image below should show the number 8\n"
     ]
    },
    {
     "data": {
      "image/png": "[encoded data removed]",
      "text/plain": [
       "<Figure size 748.8x514.8 with 1 Axes>"
      ]
     },
     "metadata": {
      "tags": []
     },
     "output_type": "display_data"
    }
   ],
   "source": [
    "plot_mnist_image(2543, test_imgs, test_labels)"
   ]
  },
  {
   "cell_type": "markdown",
   "metadata": {
    "colab_type": "text",
    "id": "wh_aVi1xhCHs"
   },
   "source": [
    "The prediction is a 10-element vector (*1-HOT encoded vector*), with the probability of each class. The location of the max is giving us the predicted class."
   ]
  },
  {
   "cell_type": "code",
   "execution_count": 0,
   "metadata": {
    "colab": {},
    "colab_type": "code",
    "id": "HPyXpVhnhCHs"
   },
   "outputs": [],
   "source": [
    ""
   ]
  },
  {
   "cell_type": "markdown",
   "metadata": {
    "colab_type": "text",
    "id": "84zY9sdghCHv"
   },
   "source": [
    "YES! Our model predicts 8\n",
    "\n",
    "_**EXERCISE 5**_: Can you find a test item that is predicted wrongly? How many images are predicted wrongly? Can you find all the items that are wrongly classified? For instance, the test element with index 3943 is a 3 but we predict a 5\n"
   ]
  },
  {
   "cell_type": "code",
   "execution_count": 0,
   "metadata": {
    "colab": {},
    "colab_type": "code",
    "id": "oJoFU62DhCHw",
    "outputId": "f4b8c5b6-bfba-4fec-dc2b-720df746c394"
   },
   "outputs": [
    {
     "name": "stdout",
     "output_type": "stream",
     "text": [
      "The image below should show the number 3\n"
     ]
    },
    {
     "data": {
      "image/png": "[encoded data removed]",
      "text/plain": [
       "<Figure size 748.8x514.8 with 1 Axes>"
      ]
     },
     "metadata": {
      "tags": []
     },
     "output_type": "display_data"
    }
   ],
   "source": [
    "plot_mnist_image(3943, test_imgs, test_labels)"
   ]
  },
  {
   "cell_type": "code",
   "execution_count": 0,
   "metadata": {
    "colab": {},
    "colab_type": "code",
    "id": "uwBCRefVhCH1",
    "outputId": "ae772204-ad6d-421c-eb6d-73cfc153c89a"
   },
   "outputs": [
    {
     "data": {
      "text/plain": [
       "5"
      ]
     },
     "execution_count": 84,
     "metadata": {
      "tags": []
     },
     "output_type": "execute_result"
    }
   ],
   "source": [
    "np.argmax(m.predict(test_imgs_t[3943:3944,]))"
   ]
  },
  {
   "cell_type": "code",
   "execution_count": 0,
   "metadata": {
    "colab": {},
    "colab_type": "code",
    "id": "VSrFWHgMhCH4"
   },
   "outputs": [],
   "source": [
    ""
   ]
  },
  {
   "cell_type": "markdown",
   "metadata": {
    "colab_type": "text",
    "id": "un470GPAhCH7"
   },
   "source": [
    "Ok, but in which positions can we find all the misclassifications?"
   ]
  },
  {
   "cell_type": "code",
   "execution_count": 0,
   "metadata": {
    "colab": {},
    "colab_type": "code",
    "id": "09QP-KtMhCH8"
   },
   "outputs": [],
   "source": [
    ""
   ]
  },
  {
   "cell_type": "markdown",
   "metadata": {
    "colab_type": "text",
    "id": "vwBZXQawhCIA"
   },
   "source": [
    "_**EXERCISE 6**_: Some digits are more difficult to recognize than others. Because we know the test labels, we can find out how many times the corresponding test images are misclassified. Could you find what are the top 3 test labels that are more often misclassified?"
   ]
  },
  {
   "cell_type": "markdown",
   "metadata": {
    "colab_type": "text",
    "id": "P4jxtK7bhCIB"
   },
   "source": [
    "Let's check some wrong predictions"
   ]
  },
  {
   "cell_type": "code",
   "execution_count": 0,
   "metadata": {
    "colab": {},
    "colab_type": "code",
    "id": "zouMtmVohCIC",
    "outputId": "92d1c93b-a2b4-4b5a-dea2-b0e540b43a06"
   },
   "outputs": [
    {
     "name": "stdout",
     "output_type": "stream",
     "text": [
      "The image below should show the number 9\n"
     ]
    },
    {
     "data": {
      "image/png": "[encoded data removed]",
      "text/plain": [
       "<Figure size 748.8x514.8 with 1 Axes>"
      ]
     },
     "metadata": {
      "tags": []
     },
     "output_type": "display_data"
    }
   ],
   "source": [
    "plot_mnist_image(151, test_imgs, test_labels)"
   ]
  },
  {
   "cell_type": "code",
   "execution_count": 0,
   "metadata": {
    "colab": {},
    "colab_type": "code",
    "id": "EB1RmW_VhCIF",
    "outputId": "eda865c8-5dc6-4d21-c62e-3d610bf850c4"
   },
   "outputs": [
    {
     "data": {
      "text/plain": [
       "8"
      ]
     },
     "execution_count": 82,
     "metadata": {
      "tags": []
     },
     "output_type": "execute_result"
    }
   ],
   "source": [
    "preds_labels[151]"
   ]
  },
  {
   "cell_type": "markdown",
   "metadata": {
    "colab_type": "text",
    "id": "LjRDhnwehCIH"
   },
   "source": [
    "These are the items that are wrongly classified:"
   ]
  },
  {
   "cell_type": "code",
   "execution_count": 0,
   "metadata": {
    "colab": {},
    "colab_type": "code",
    "id": "8cmCC3wehCII"
   },
   "outputs": [],
   "source": [
    ""
   ]
  },
  {
   "cell_type": "markdown",
   "metadata": {
    "colab_type": "text",
    "id": "H-DDyFw9hCIK"
   },
   "source": [
    "So we see that $9$ is wrongly classified more than the rest. But does it mean that our model has more difficulties recognizing 9s?"
   ]
  },
  {
   "cell_type": "code",
   "execution_count": 0,
   "metadata": {
    "colab": {},
    "colab_type": "code",
    "id": "9cxzVV_ihCIK"
   },
   "outputs": [],
   "source": [
    ""
   ]
  },
  {
   "cell_type": "markdown",
   "metadata": {
    "colab_type": "text",
    "id": "Cm5GaT81hCIN"
   },
   "source": [
    "Our model has the most difficulties recognizing 9s, 5s and 4s"
   ]
  },
  {
   "cell_type": "code",
   "execution_count": 0,
   "metadata": {
    "colab": {},
    "colab_type": "code",
    "id": "tq3OI2z1hCIN"
   },
   "outputs": [],
   "source": [
    ""
   ]
  },
  {
   "cell_type": "code",
   "execution_count": 0,
   "metadata": {
    "colab": {},
    "colab_type": "code",
    "id": "b3_F7tK4R3Ml"
   },
   "outputs": [],
   "source": [
    ""
   ]
  }
 ],
 "metadata": {
  "colab": {
   "name": "02_mnist_digits_before_class.ipynb",
   "provenance": []
  },
  "kernelspec": {
   "display_name": "Python 3",
   "language": "python",
   "name": "python3"
  },
  "language_info": {
   "codemirror_mode": {
    "name": "ipython",
    "version": 3
   },
   "file_extension": ".py",
   "mimetype": "text/x-python",
   "name": "python",
   "nbconvert_exporter": "python",
   "pygments_lexer": "ipython3",
   "version": "3.6.6"
  }
 },
 "nbformat": 4,
 "nbformat_minor": 0
}
