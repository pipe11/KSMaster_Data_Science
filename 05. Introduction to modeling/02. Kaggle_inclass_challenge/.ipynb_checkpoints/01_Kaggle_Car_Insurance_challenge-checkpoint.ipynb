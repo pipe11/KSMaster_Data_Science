{
 "cells": [
  {
   "cell_type": "markdown",
   "metadata": {},
   "source": [
    "## Exploratory Analysis"
   ]
  },
  {
   "cell_type": "code",
   "execution_count": 41,
   "metadata": {},
   "outputs": [
    {
     "data": {
      "text/html": [
       "<div>\n",
       "<style scoped>\n",
       "    .dataframe tbody tr th:only-of-type {\n",
       "        vertical-align: middle;\n",
       "    }\n",
       "\n",
       "    .dataframe tbody tr th {\n",
       "        vertical-align: top;\n",
       "    }\n",
       "\n",
       "    .dataframe thead th {\n",
       "        text-align: right;\n",
       "    }\n",
       "</style>\n",
       "<table border=\"1\" class=\"dataframe\">\n",
       "  <thead>\n",
       "    <tr style=\"text-align: right;\">\n",
       "      <th></th>\n",
       "      <th>Id</th>\n",
       "      <th>Age</th>\n",
       "      <th>Job</th>\n",
       "      <th>Marital</th>\n",
       "      <th>Education</th>\n",
       "      <th>Default</th>\n",
       "      <th>Balance</th>\n",
       "      <th>HHInsurance</th>\n",
       "      <th>CarLoan</th>\n",
       "      <th>Communication</th>\n",
       "      <th>LastContactDay</th>\n",
       "      <th>LastContactMonth</th>\n",
       "      <th>NoOfContacts</th>\n",
       "      <th>DaysPassed</th>\n",
       "      <th>PrevAttempts</th>\n",
       "      <th>Outcome</th>\n",
       "      <th>CallStart</th>\n",
       "      <th>CallEnd</th>\n",
       "      <th>CarInsurance</th>\n",
       "    </tr>\n",
       "  </thead>\n",
       "  <tbody>\n",
       "    <tr>\n",
       "      <td>3000</td>\n",
       "      <td>3001</td>\n",
       "      <td>42</td>\n",
       "      <td>entrepreneur</td>\n",
       "      <td>married</td>\n",
       "      <td>primary</td>\n",
       "      <td>0</td>\n",
       "      <td>319</td>\n",
       "      <td>1</td>\n",
       "      <td>0</td>\n",
       "      <td>telephone</td>\n",
       "      <td>8</td>\n",
       "      <td>may</td>\n",
       "      <td>9</td>\n",
       "      <td>-1</td>\n",
       "      <td>0</td>\n",
       "      <td>NaN</td>\n",
       "      <td>17:02:39</td>\n",
       "      <td>17:02:56</td>\n",
       "      <td>0</td>\n",
       "    </tr>\n",
       "    <tr>\n",
       "      <td>3001</td>\n",
       "      <td>3002</td>\n",
       "      <td>48</td>\n",
       "      <td>entrepreneur</td>\n",
       "      <td>married</td>\n",
       "      <td>tertiary</td>\n",
       "      <td>0</td>\n",
       "      <td>810</td>\n",
       "      <td>0</td>\n",
       "      <td>0</td>\n",
       "      <td>NaN</td>\n",
       "      <td>6</td>\n",
       "      <td>jun</td>\n",
       "      <td>1</td>\n",
       "      <td>-1</td>\n",
       "      <td>0</td>\n",
       "      <td>NaN</td>\n",
       "      <td>13:19:33</td>\n",
       "      <td>13:25:56</td>\n",
       "      <td>0</td>\n",
       "    </tr>\n",
       "    <tr>\n",
       "      <td>3002</td>\n",
       "      <td>3003</td>\n",
       "      <td>30</td>\n",
       "      <td>admin.</td>\n",
       "      <td>single</td>\n",
       "      <td>secondary</td>\n",
       "      <td>0</td>\n",
       "      <td>330</td>\n",
       "      <td>0</td>\n",
       "      <td>1</td>\n",
       "      <td>cellular</td>\n",
       "      <td>30</td>\n",
       "      <td>jul</td>\n",
       "      <td>5</td>\n",
       "      <td>-1</td>\n",
       "      <td>0</td>\n",
       "      <td>NaN</td>\n",
       "      <td>10:26:29</td>\n",
       "      <td>10:28:24</td>\n",
       "      <td>0</td>\n",
       "    </tr>\n",
       "    <tr>\n",
       "      <td>3003</td>\n",
       "      <td>3004</td>\n",
       "      <td>40</td>\n",
       "      <td>services</td>\n",
       "      <td>married</td>\n",
       "      <td>secondary</td>\n",
       "      <td>0</td>\n",
       "      <td>4157</td>\n",
       "      <td>1</td>\n",
       "      <td>0</td>\n",
       "      <td>NaN</td>\n",
       "      <td>15</td>\n",
       "      <td>may</td>\n",
       "      <td>1</td>\n",
       "      <td>-1</td>\n",
       "      <td>0</td>\n",
       "      <td>NaN</td>\n",
       "      <td>17:09:17</td>\n",
       "      <td>17:21:32</td>\n",
       "      <td>0</td>\n",
       "    </tr>\n",
       "    <tr>\n",
       "      <td>3004</td>\n",
       "      <td>3005</td>\n",
       "      <td>41</td>\n",
       "      <td>management</td>\n",
       "      <td>married</td>\n",
       "      <td>tertiary</td>\n",
       "      <td>0</td>\n",
       "      <td>768</td>\n",
       "      <td>0</td>\n",
       "      <td>0</td>\n",
       "      <td>cellular</td>\n",
       "      <td>7</td>\n",
       "      <td>aug</td>\n",
       "      <td>3</td>\n",
       "      <td>-1</td>\n",
       "      <td>0</td>\n",
       "      <td>NaN</td>\n",
       "      <td>15:43:57</td>\n",
       "      <td>15:47:46</td>\n",
       "      <td>0</td>\n",
       "    </tr>\n",
       "  </tbody>\n",
       "</table>\n",
       "</div>"
      ],
      "text/plain": [
       "        Id  Age           Job  Marital  Education  Default  Balance  \\\n",
       "3000  3001   42  entrepreneur  married    primary        0      319   \n",
       "3001  3002   48  entrepreneur  married   tertiary        0      810   \n",
       "3002  3003   30        admin.   single  secondary        0      330   \n",
       "3003  3004   40      services  married  secondary        0     4157   \n",
       "3004  3005   41    management  married   tertiary        0      768   \n",
       "\n",
       "      HHInsurance  CarLoan Communication  LastContactDay LastContactMonth  \\\n",
       "3000            1        0     telephone               8              may   \n",
       "3001            0        0           NaN               6              jun   \n",
       "3002            0        1      cellular              30              jul   \n",
       "3003            1        0           NaN              15              may   \n",
       "3004            0        0      cellular               7              aug   \n",
       "\n",
       "      NoOfContacts  DaysPassed  PrevAttempts Outcome CallStart   CallEnd  \\\n",
       "3000             9          -1             0     NaN  17:02:39  17:02:56   \n",
       "3001             1          -1             0     NaN  13:19:33  13:25:56   \n",
       "3002             5          -1             0     NaN  10:26:29  10:28:24   \n",
       "3003             1          -1             0     NaN  17:09:17  17:21:32   \n",
       "3004             3          -1             0     NaN  15:43:57  15:47:46   \n",
       "\n",
       "      CarInsurance  \n",
       "3000             0  \n",
       "3001             0  \n",
       "3002             0  \n",
       "3003             0  \n",
       "3004             0  "
      ]
     },
     "execution_count": 41,
     "metadata": {},
     "output_type": "execute_result"
    }
   ],
   "source": [
    "import pandas as pd\n",
    "import numpy as np\n",
    "import matplotlib.pyplot as plt\n",
    "import seaborn as sns\n",
    "\n",
    "df_train = pd.read_csv(\"carInsurance_train.csv\")\n",
    "\n",
    "df_train = df_train.tail(1000)\n",
    "df_train.head()"
   ]
  },
  {
   "cell_type": "code",
   "execution_count": 42,
   "metadata": {},
   "outputs": [
    {
     "name": "stdout",
     "output_type": "stream",
     "text": [
      "<class 'pandas.core.frame.DataFrame'>\n",
      "RangeIndex: 1000 entries, 3000 to 3999\n",
      "Data columns (total 19 columns):\n",
      "Id                  1000 non-null int64\n",
      "Age                 1000 non-null int64\n",
      "Job                 997 non-null object\n",
      "Marital             1000 non-null object\n",
      "Education           954 non-null object\n",
      "Default             1000 non-null int64\n",
      "Balance             1000 non-null int64\n",
      "HHInsurance         1000 non-null int64\n",
      "CarLoan             1000 non-null int64\n",
      "Communication       783 non-null object\n",
      "LastContactDay      1000 non-null int64\n",
      "LastContactMonth    1000 non-null object\n",
      "NoOfContacts        1000 non-null int64\n",
      "DaysPassed          1000 non-null int64\n",
      "PrevAttempts        1000 non-null int64\n",
      "Outcome             233 non-null object\n",
      "CallStart           1000 non-null object\n",
      "CallEnd             1000 non-null object\n",
      "CarInsurance        1000 non-null int64\n",
      "dtypes: int64(11), object(8)\n",
      "memory usage: 148.6+ KB\n"
     ]
    }
   ],
   "source": [
    "df_train.info()"
   ]
  },
  {
   "cell_type": "code",
   "execution_count": 43,
   "metadata": {},
   "outputs": [
    {
     "ename": "NameError",
     "evalue": "name 'df_train_new' is not defined",
     "output_type": "error",
     "traceback": [
      "\u001b[1;31m---------------------------------------------------------------------------\u001b[0m",
      "\u001b[1;31mNameError\u001b[0m                                 Traceback (most recent call last)",
      "\u001b[1;32m<ipython-input-43-39d0a267fa77>\u001b[0m in \u001b[0;36m<module>\u001b[1;34m\u001b[0m\n\u001b[1;32m----> 1\u001b[1;33m \u001b[0mdf_train_new\u001b[0m\u001b[1;33m.\u001b[0m\u001b[0minfo\u001b[0m\u001b[1;33m(\u001b[0m\u001b[1;33m)\u001b[0m\u001b[1;33m\u001b[0m\u001b[1;33m\u001b[0m\u001b[0m\n\u001b[0m",
      "\u001b[1;31mNameError\u001b[0m: name 'df_train_new' is not defined"
     ]
    }
   ],
   "source": [
    "df_train_new.info()"
   ]
  },
  {
   "cell_type": "code",
   "execution_count": 44,
   "metadata": {},
   "outputs": [],
   "source": [
    "corr = df_train.corr()"
   ]
  },
  {
   "cell_type": "code",
   "execution_count": 45,
   "metadata": {
    "scrolled": true
   },
   "outputs": [
    {
     "data": {
      "text/html": [
       "<div>\n",
       "<style scoped>\n",
       "    .dataframe tbody tr th:only-of-type {\n",
       "        vertical-align: middle;\n",
       "    }\n",
       "\n",
       "    .dataframe tbody tr th {\n",
       "        vertical-align: top;\n",
       "    }\n",
       "\n",
       "    .dataframe thead th {\n",
       "        text-align: right;\n",
       "    }\n",
       "</style>\n",
       "<table border=\"1\" class=\"dataframe\">\n",
       "  <thead>\n",
       "    <tr style=\"text-align: right;\">\n",
       "      <th></th>\n",
       "      <th>Id</th>\n",
       "      <th>Age</th>\n",
       "      <th>Default</th>\n",
       "      <th>Balance</th>\n",
       "      <th>HHInsurance</th>\n",
       "      <th>CarLoan</th>\n",
       "      <th>LastContactDay</th>\n",
       "      <th>NoOfContacts</th>\n",
       "      <th>DaysPassed</th>\n",
       "      <th>PrevAttempts</th>\n",
       "      <th>CarInsurance</th>\n",
       "    </tr>\n",
       "  </thead>\n",
       "  <tbody>\n",
       "    <tr>\n",
       "      <td>Id</td>\n",
       "      <td>1.000000</td>\n",
       "      <td>0.032203</td>\n",
       "      <td>0.012401</td>\n",
       "      <td>-0.040777</td>\n",
       "      <td>0.030543</td>\n",
       "      <td>-0.014153</td>\n",
       "      <td>-0.031109</td>\n",
       "      <td>-0.005584</td>\n",
       "      <td>-0.033463</td>\n",
       "      <td>-0.042883</td>\n",
       "      <td>0.001129</td>\n",
       "    </tr>\n",
       "    <tr>\n",
       "      <td>Age</td>\n",
       "      <td>0.032203</td>\n",
       "      <td>1.000000</td>\n",
       "      <td>0.002935</td>\n",
       "      <td>0.096529</td>\n",
       "      <td>-0.151266</td>\n",
       "      <td>-0.021694</td>\n",
       "      <td>0.001807</td>\n",
       "      <td>0.024617</td>\n",
       "      <td>-0.058580</td>\n",
       "      <td>-0.060647</td>\n",
       "      <td>-0.009893</td>\n",
       "    </tr>\n",
       "    <tr>\n",
       "      <td>Default</td>\n",
       "      <td>0.012401</td>\n",
       "      <td>0.002935</td>\n",
       "      <td>1.000000</td>\n",
       "      <td>-0.048814</td>\n",
       "      <td>0.012277</td>\n",
       "      <td>0.060639</td>\n",
       "      <td>-0.005752</td>\n",
       "      <td>0.011283</td>\n",
       "      <td>0.020751</td>\n",
       "      <td>-0.024917</td>\n",
       "      <td>-0.055566</td>\n",
       "    </tr>\n",
       "    <tr>\n",
       "      <td>Balance</td>\n",
       "      <td>-0.040777</td>\n",
       "      <td>0.096529</td>\n",
       "      <td>-0.048814</td>\n",
       "      <td>1.000000</td>\n",
       "      <td>-0.047475</td>\n",
       "      <td>-0.076170</td>\n",
       "      <td>0.021769</td>\n",
       "      <td>0.007367</td>\n",
       "      <td>-0.019968</td>\n",
       "      <td>-0.021933</td>\n",
       "      <td>0.055355</td>\n",
       "    </tr>\n",
       "    <tr>\n",
       "      <td>HHInsurance</td>\n",
       "      <td>0.030543</td>\n",
       "      <td>-0.151266</td>\n",
       "      <td>0.012277</td>\n",
       "      <td>-0.047475</td>\n",
       "      <td>1.000000</td>\n",
       "      <td>0.094898</td>\n",
       "      <td>-0.007654</td>\n",
       "      <td>-0.033661</td>\n",
       "      <td>0.078515</td>\n",
       "      <td>0.027804</td>\n",
       "      <td>-0.181117</td>\n",
       "    </tr>\n",
       "    <tr>\n",
       "      <td>CarLoan</td>\n",
       "      <td>-0.014153</td>\n",
       "      <td>-0.021694</td>\n",
       "      <td>0.060639</td>\n",
       "      <td>-0.076170</td>\n",
       "      <td>0.094898</td>\n",
       "      <td>1.000000</td>\n",
       "      <td>0.032019</td>\n",
       "      <td>-0.000983</td>\n",
       "      <td>-0.034947</td>\n",
       "      <td>-0.053886</td>\n",
       "      <td>-0.065231</td>\n",
       "    </tr>\n",
       "    <tr>\n",
       "      <td>LastContactDay</td>\n",
       "      <td>-0.031109</td>\n",
       "      <td>0.001807</td>\n",
       "      <td>-0.005752</td>\n",
       "      <td>0.021769</td>\n",
       "      <td>-0.007654</td>\n",
       "      <td>0.032019</td>\n",
       "      <td>1.000000</td>\n",
       "      <td>0.164211</td>\n",
       "      <td>-0.041721</td>\n",
       "      <td>-0.058511</td>\n",
       "      <td>-0.084606</td>\n",
       "    </tr>\n",
       "    <tr>\n",
       "      <td>NoOfContacts</td>\n",
       "      <td>-0.005584</td>\n",
       "      <td>0.024617</td>\n",
       "      <td>0.011283</td>\n",
       "      <td>0.007367</td>\n",
       "      <td>-0.033661</td>\n",
       "      <td>-0.000983</td>\n",
       "      <td>0.164211</td>\n",
       "      <td>1.000000</td>\n",
       "      <td>-0.082360</td>\n",
       "      <td>-0.066723</td>\n",
       "      <td>-0.124756</td>\n",
       "    </tr>\n",
       "    <tr>\n",
       "      <td>DaysPassed</td>\n",
       "      <td>-0.033463</td>\n",
       "      <td>-0.058580</td>\n",
       "      <td>0.020751</td>\n",
       "      <td>-0.019968</td>\n",
       "      <td>0.078515</td>\n",
       "      <td>-0.034947</td>\n",
       "      <td>-0.041721</td>\n",
       "      <td>-0.082360</td>\n",
       "      <td>1.000000</td>\n",
       "      <td>0.537314</td>\n",
       "      <td>0.168928</td>\n",
       "    </tr>\n",
       "    <tr>\n",
       "      <td>PrevAttempts</td>\n",
       "      <td>-0.042883</td>\n",
       "      <td>-0.060647</td>\n",
       "      <td>-0.024917</td>\n",
       "      <td>-0.021933</td>\n",
       "      <td>0.027804</td>\n",
       "      <td>-0.053886</td>\n",
       "      <td>-0.058511</td>\n",
       "      <td>-0.066723</td>\n",
       "      <td>0.537314</td>\n",
       "      <td>1.000000</td>\n",
       "      <td>0.190349</td>\n",
       "    </tr>\n",
       "    <tr>\n",
       "      <td>CarInsurance</td>\n",
       "      <td>0.001129</td>\n",
       "      <td>-0.009893</td>\n",
       "      <td>-0.055566</td>\n",
       "      <td>0.055355</td>\n",
       "      <td>-0.181117</td>\n",
       "      <td>-0.065231</td>\n",
       "      <td>-0.084606</td>\n",
       "      <td>-0.124756</td>\n",
       "      <td>0.168928</td>\n",
       "      <td>0.190349</td>\n",
       "      <td>1.000000</td>\n",
       "    </tr>\n",
       "  </tbody>\n",
       "</table>\n",
       "</div>"
      ],
      "text/plain": [
       "                      Id       Age   Default   Balance  HHInsurance   CarLoan  \\\n",
       "Id              1.000000  0.032203  0.012401 -0.040777     0.030543 -0.014153   \n",
       "Age             0.032203  1.000000  0.002935  0.096529    -0.151266 -0.021694   \n",
       "Default         0.012401  0.002935  1.000000 -0.048814     0.012277  0.060639   \n",
       "Balance        -0.040777  0.096529 -0.048814  1.000000    -0.047475 -0.076170   \n",
       "HHInsurance     0.030543 -0.151266  0.012277 -0.047475     1.000000  0.094898   \n",
       "CarLoan        -0.014153 -0.021694  0.060639 -0.076170     0.094898  1.000000   \n",
       "LastContactDay -0.031109  0.001807 -0.005752  0.021769    -0.007654  0.032019   \n",
       "NoOfContacts   -0.005584  0.024617  0.011283  0.007367    -0.033661 -0.000983   \n",
       "DaysPassed     -0.033463 -0.058580  0.020751 -0.019968     0.078515 -0.034947   \n",
       "PrevAttempts   -0.042883 -0.060647 -0.024917 -0.021933     0.027804 -0.053886   \n",
       "CarInsurance    0.001129 -0.009893 -0.055566  0.055355    -0.181117 -0.065231   \n",
       "\n",
       "                LastContactDay  NoOfContacts  DaysPassed  PrevAttempts  \\\n",
       "Id                   -0.031109     -0.005584   -0.033463     -0.042883   \n",
       "Age                   0.001807      0.024617   -0.058580     -0.060647   \n",
       "Default              -0.005752      0.011283    0.020751     -0.024917   \n",
       "Balance               0.021769      0.007367   -0.019968     -0.021933   \n",
       "HHInsurance          -0.007654     -0.033661    0.078515      0.027804   \n",
       "CarLoan               0.032019     -0.000983   -0.034947     -0.053886   \n",
       "LastContactDay        1.000000      0.164211   -0.041721     -0.058511   \n",
       "NoOfContacts          0.164211      1.000000   -0.082360     -0.066723   \n",
       "DaysPassed           -0.041721     -0.082360    1.000000      0.537314   \n",
       "PrevAttempts         -0.058511     -0.066723    0.537314      1.000000   \n",
       "CarInsurance         -0.084606     -0.124756    0.168928      0.190349   \n",
       "\n",
       "                CarInsurance  \n",
       "Id                  0.001129  \n",
       "Age                -0.009893  \n",
       "Default            -0.055566  \n",
       "Balance             0.055355  \n",
       "HHInsurance        -0.181117  \n",
       "CarLoan            -0.065231  \n",
       "LastContactDay     -0.084606  \n",
       "NoOfContacts       -0.124756  \n",
       "DaysPassed          0.168928  \n",
       "PrevAttempts        0.190349  \n",
       "CarInsurance        1.000000  "
      ]
     },
     "execution_count": 45,
     "metadata": {},
     "output_type": "execute_result"
    }
   ],
   "source": [
    "corr"
   ]
  },
  {
   "cell_type": "code",
   "execution_count": 46,
   "metadata": {},
   "outputs": [
    {
     "data": {
      "text/plain": [
       "<matplotlib.axes._subplots.AxesSubplot at 0x294e2bdad88>"
      ]
     },
     "execution_count": 46,
     "metadata": {},
     "output_type": "execute_result"
    },
    {
     "data": {
      "image/png": "[encoded data removed]",
      "text/plain": [
       "<Figure size 1080x864 with 2 Axes>"
      ]
     },
     "metadata": {},
     "output_type": "display_data"
    }
   ],
   "source": [
    "sns.set(style=\"white\")\n",
    "mask = np.zeros_like(corr, dtype=np.bool)\n",
    "mask[np.triu_indices_from(mask)] = True\n",
    "f, ax = plt.subplots(figsize=(15, 12))\n",
    "cmap = sns.diverging_palette(220, 10, as_cmap=True)\n",
    "sns.heatmap(corr,annot=True, mask=mask, cmap=cmap, vmax=.3, center=0,\n",
    "            square=True, linewidths=.5, cbar_kws={\"shrink\": .5})"
   ]
  },
  {
   "cell_type": "code",
   "execution_count": 48,
   "metadata": {},
   "outputs": [
    {
     "name": "stdout",
     "output_type": "stream",
     "text": [
      "<class 'pandas.core.frame.DataFrame'>\n",
      "RangeIndex: 1000 entries, 3000 to 3999\n",
      "Data columns (total 19 columns):\n",
      "Id                  1000 non-null int64\n",
      "Age                 1000 non-null int64\n",
      "Job                 997 non-null object\n",
      "Marital             1000 non-null object\n",
      "Education           954 non-null object\n",
      "Default             1000 non-null int64\n",
      "Balance             1000 non-null int64\n",
      "HHInsurance         1000 non-null int64\n",
      "CarLoan             1000 non-null int64\n",
      "Communication       783 non-null object\n",
      "LastContactDay      1000 non-null int64\n",
      "LastContactMonth    1000 non-null object\n",
      "NoOfContacts        1000 non-null int64\n",
      "DaysPassed          1000 non-null int64\n",
      "PrevAttempts        1000 non-null int64\n",
      "Outcome             233 non-null object\n",
      "CallStart           1000 non-null object\n",
      "CallEnd             1000 non-null object\n",
      "CarInsurance        1000 non-null int64\n",
      "dtypes: int64(11), object(8)\n",
      "memory usage: 148.6+ KB\n"
     ]
    }
   ],
   "source": [
    "df_train.info()"
   ]
  },
  {
   "cell_type": "markdown",
   "metadata": {},
   "source": [
    "### Modeling"
   ]
  },
  {
   "cell_type": "code",
   "execution_count": 49,
   "metadata": {},
   "outputs": [],
   "source": [
    "from sklearn import linear_model\n",
    "from scipy import stats\n",
    "from sklearn import model_selection\n",
    "from sklearn.metrics import classification_report\n",
    "from sklearn.metrics import confusion_matrix\n",
    "from sklearn.metrics import accuracy_score\n",
    "from sklearn.metrics import roc_auc_score"
   ]
  },
  {
   "cell_type": "code",
   "execution_count": 50,
   "metadata": {},
   "outputs": [
    {
     "data": {
      "text/plain": [
       "(1000, 9)"
      ]
     },
     "execution_count": 50,
     "metadata": {},
     "output_type": "execute_result"
    }
   ],
   "source": [
    "X1 = np.array(df_train.drop([\"Id\", \"Job\", \"Education\", \"Communication\", \"LastContactMonth\",\n",
    "                        \"Outcome\", \"CallStart\", \"CallEnd\", \"CarInsurance\", \"Marital\"],1))\n",
    "\n",
    "#Default, Marital, HHInsurance, PrevAttempts, DaysPassed, Age, Diff\n",
    "\n",
    "# X = np.array(df_train_new['Marital', 'HHInsurance'],1)\n",
    "y1 = np.array(df_train['CarInsurance'])\n",
    "X1.shape"
   ]
  },
  {
   "cell_type": "code",
   "execution_count": 51,
   "metadata": {},
   "outputs": [
    {
     "data": {
      "text/plain": [
       "LogisticRegression(C=1.0, class_weight=None, dual=False, fit_intercept=True,\n",
       "                   intercept_scaling=1, l1_ratio=None, max_iter=100,\n",
       "                   multi_class='warn', n_jobs=None, penalty='l2',\n",
       "                   random_state=None, solver='warn', tol=0.0001, verbose=0,\n",
       "                   warm_start=False)"
      ]
     },
     "execution_count": 51,
     "metadata": {},
     "output_type": "execute_result"
    }
   ],
   "source": [
    "model1 = linear_model.LogisticRegression()\n",
    "model1.fit(X1,y1)"
   ]
  },
  {
   "cell_type": "code",
   "execution_count": 52,
   "metadata": {},
   "outputs": [],
   "source": [
    "validation_size = 0.25\n",
    "seed = 25\n",
    "X_train, X_validation, Y_train, Y_validation = model_selection.train_test_split(X1, \n",
    "                                                                                y1, test_size=validation_size, \n",
    "                                                                                random_state=seed)"
   ]
  },
  {
   "cell_type": "code",
   "execution_count": 53,
   "metadata": {},
   "outputs": [],
   "source": [
    "name='Logistic Regression'\n",
    "kfold = model_selection.KFold(n_splits=10, random_state=seed)\n",
    "cv_predictions = model_selection.cross_val_score(model1, X_train, Y_train, cv=kfold, scoring='accuracy')"
   ]
  },
  {
   "cell_type": "code",
   "execution_count": 54,
   "metadata": {},
   "outputs": [
    {
     "name": "stdout",
     "output_type": "stream",
     "text": [
      "0.664\n"
     ]
    }
   ],
   "source": [
    "predictions = model1.predict(X_validation)\n",
    "print(accuracy_score(Y_validation, predictions))"
   ]
  },
  {
   "cell_type": "code",
   "execution_count": 55,
   "metadata": {},
   "outputs": [
    {
     "name": "stdout",
     "output_type": "stream",
     "text": [
      "[[135  19]\n",
      " [ 65  31]]\n"
     ]
    }
   ],
   "source": [
    "print(confusion_matrix(Y_validation, predictions))"
   ]
  },
  {
   "cell_type": "markdown",
   "metadata": {},
   "source": [
    "## Improving the data"
   ]
  },
  {
   "cell_type": "code",
   "execution_count": 56,
   "metadata": {},
   "outputs": [],
   "source": [
    "mapping1 = {'married': 1, 'single': 2, 'divorced': 3}\n",
    "\n",
    "df_train = df_train.replace({'Marital': mapping1})"
   ]
  },
  {
   "cell_type": "code",
   "execution_count": 57,
   "metadata": {
    "scrolled": true
   },
   "outputs": [
    {
     "data": {
      "text/html": [
       "<div>\n",
       "<style scoped>\n",
       "    .dataframe tbody tr th:only-of-type {\n",
       "        vertical-align: middle;\n",
       "    }\n",
       "\n",
       "    .dataframe tbody tr th {\n",
       "        vertical-align: top;\n",
       "    }\n",
       "\n",
       "    .dataframe thead th {\n",
       "        text-align: right;\n",
       "    }\n",
       "</style>\n",
       "<table border=\"1\" class=\"dataframe\">\n",
       "  <thead>\n",
       "    <tr style=\"text-align: right;\">\n",
       "      <th></th>\n",
       "      <th>Id</th>\n",
       "      <th>Age</th>\n",
       "      <th>Job</th>\n",
       "      <th>Marital</th>\n",
       "      <th>Education</th>\n",
       "      <th>Default</th>\n",
       "      <th>Balance</th>\n",
       "      <th>HHInsurance</th>\n",
       "      <th>CarLoan</th>\n",
       "      <th>Communication</th>\n",
       "      <th>LastContactDay</th>\n",
       "      <th>LastContactMonth</th>\n",
       "      <th>NoOfContacts</th>\n",
       "      <th>DaysPassed</th>\n",
       "      <th>PrevAttempts</th>\n",
       "      <th>Outcome</th>\n",
       "      <th>CallStart</th>\n",
       "      <th>CallEnd</th>\n",
       "      <th>CarInsurance</th>\n",
       "    </tr>\n",
       "  </thead>\n",
       "  <tbody>\n",
       "    <tr>\n",
       "      <td>3000</td>\n",
       "      <td>3001</td>\n",
       "      <td>42</td>\n",
       "      <td>entrepreneur</td>\n",
       "      <td>1</td>\n",
       "      <td>primary</td>\n",
       "      <td>0</td>\n",
       "      <td>319</td>\n",
       "      <td>1</td>\n",
       "      <td>0</td>\n",
       "      <td>telephone</td>\n",
       "      <td>8</td>\n",
       "      <td>may</td>\n",
       "      <td>9</td>\n",
       "      <td>-1</td>\n",
       "      <td>0</td>\n",
       "      <td>NaN</td>\n",
       "      <td>17:02:39</td>\n",
       "      <td>17:02:56</td>\n",
       "      <td>0</td>\n",
       "    </tr>\n",
       "    <tr>\n",
       "      <td>3001</td>\n",
       "      <td>3002</td>\n",
       "      <td>48</td>\n",
       "      <td>entrepreneur</td>\n",
       "      <td>1</td>\n",
       "      <td>tertiary</td>\n",
       "      <td>0</td>\n",
       "      <td>810</td>\n",
       "      <td>0</td>\n",
       "      <td>0</td>\n",
       "      <td>NaN</td>\n",
       "      <td>6</td>\n",
       "      <td>jun</td>\n",
       "      <td>1</td>\n",
       "      <td>-1</td>\n",
       "      <td>0</td>\n",
       "      <td>NaN</td>\n",
       "      <td>13:19:33</td>\n",
       "      <td>13:25:56</td>\n",
       "      <td>0</td>\n",
       "    </tr>\n",
       "    <tr>\n",
       "      <td>3002</td>\n",
       "      <td>3003</td>\n",
       "      <td>30</td>\n",
       "      <td>admin.</td>\n",
       "      <td>2</td>\n",
       "      <td>secondary</td>\n",
       "      <td>0</td>\n",
       "      <td>330</td>\n",
       "      <td>0</td>\n",
       "      <td>1</td>\n",
       "      <td>cellular</td>\n",
       "      <td>30</td>\n",
       "      <td>jul</td>\n",
       "      <td>5</td>\n",
       "      <td>-1</td>\n",
       "      <td>0</td>\n",
       "      <td>NaN</td>\n",
       "      <td>10:26:29</td>\n",
       "      <td>10:28:24</td>\n",
       "      <td>0</td>\n",
       "    </tr>\n",
       "    <tr>\n",
       "      <td>3003</td>\n",
       "      <td>3004</td>\n",
       "      <td>40</td>\n",
       "      <td>services</td>\n",
       "      <td>1</td>\n",
       "      <td>secondary</td>\n",
       "      <td>0</td>\n",
       "      <td>4157</td>\n",
       "      <td>1</td>\n",
       "      <td>0</td>\n",
       "      <td>NaN</td>\n",
       "      <td>15</td>\n",
       "      <td>may</td>\n",
       "      <td>1</td>\n",
       "      <td>-1</td>\n",
       "      <td>0</td>\n",
       "      <td>NaN</td>\n",
       "      <td>17:09:17</td>\n",
       "      <td>17:21:32</td>\n",
       "      <td>0</td>\n",
       "    </tr>\n",
       "    <tr>\n",
       "      <td>3004</td>\n",
       "      <td>3005</td>\n",
       "      <td>41</td>\n",
       "      <td>management</td>\n",
       "      <td>1</td>\n",
       "      <td>tertiary</td>\n",
       "      <td>0</td>\n",
       "      <td>768</td>\n",
       "      <td>0</td>\n",
       "      <td>0</td>\n",
       "      <td>cellular</td>\n",
       "      <td>7</td>\n",
       "      <td>aug</td>\n",
       "      <td>3</td>\n",
       "      <td>-1</td>\n",
       "      <td>0</td>\n",
       "      <td>NaN</td>\n",
       "      <td>15:43:57</td>\n",
       "      <td>15:47:46</td>\n",
       "      <td>0</td>\n",
       "    </tr>\n",
       "  </tbody>\n",
       "</table>\n",
       "</div>"
      ],
      "text/plain": [
       "        Id  Age           Job  Marital  Education  Default  Balance  \\\n",
       "3000  3001   42  entrepreneur        1    primary        0      319   \n",
       "3001  3002   48  entrepreneur        1   tertiary        0      810   \n",
       "3002  3003   30        admin.        2  secondary        0      330   \n",
       "3003  3004   40      services        1  secondary        0     4157   \n",
       "3004  3005   41    management        1   tertiary        0      768   \n",
       "\n",
       "      HHInsurance  CarLoan Communication  LastContactDay LastContactMonth  \\\n",
       "3000            1        0     telephone               8              may   \n",
       "3001            0        0           NaN               6              jun   \n",
       "3002            0        1      cellular              30              jul   \n",
       "3003            1        0           NaN              15              may   \n",
       "3004            0        0      cellular               7              aug   \n",
       "\n",
       "      NoOfContacts  DaysPassed  PrevAttempts Outcome CallStart   CallEnd  \\\n",
       "3000             9          -1             0     NaN  17:02:39  17:02:56   \n",
       "3001             1          -1             0     NaN  13:19:33  13:25:56   \n",
       "3002             5          -1             0     NaN  10:26:29  10:28:24   \n",
       "3003             1          -1             0     NaN  17:09:17  17:21:32   \n",
       "3004             3          -1             0     NaN  15:43:57  15:47:46   \n",
       "\n",
       "      CarInsurance  \n",
       "3000             0  \n",
       "3001             0  \n",
       "3002             0  \n",
       "3003             0  \n",
       "3004             0  "
      ]
     },
     "execution_count": 57,
     "metadata": {},
     "output_type": "execute_result"
    }
   ],
   "source": [
    "df_train.head()"
   ]
  },
  {
   "cell_type": "code",
   "execution_count": 58,
   "metadata": {},
   "outputs": [],
   "source": [
    "from datetime import timedelta, datetime\n",
    "df_train['CallStart'] = pd.to_datetime(df_train['CallStart'])\n",
    "df_train['CallEnd'] = pd.to_datetime(df_train['CallEnd'])\n",
    "\n",
    "df_train['Diff'] = (df_train.CallEnd-df_train.CallStart).astype('timedelta64[s]')"
   ]
  },
  {
   "cell_type": "code",
   "execution_count": 59,
   "metadata": {},
   "outputs": [
    {
     "data": {
      "text/plain": [
       "CarInsurance\n",
       "0    211.806557\n",
       "1    546.441026\n",
       "Name: Diff, dtype: float64"
      ]
     },
     "execution_count": 59,
     "metadata": {},
     "output_type": "execute_result"
    }
   ],
   "source": [
    "df_plot = df_train.groupby(\"CarInsurance\")[\"Diff\"].mean()\n",
    "df_plot"
   ]
  },
  {
   "cell_type": "code",
   "execution_count": 60,
   "metadata": {
    "scrolled": false
   },
   "outputs": [
    {
     "data": {
      "image/png": "[encoded data removed]",
      "text/plain": [
       "<Figure size 432x288 with 1 Axes>"
      ]
     },
     "metadata": {},
     "output_type": "display_data"
    }
   ],
   "source": [
    "df_plot.plot.bar();"
   ]
  },
  {
   "cell_type": "markdown",
   "metadata": {},
   "source": [
    "## FINAL MODEL"
   ]
  },
  {
   "cell_type": "code",
   "execution_count": 61,
   "metadata": {},
   "outputs": [
    {
     "data": {
      "text/plain": [
       "(1000, 7)"
      ]
     },
     "execution_count": 61,
     "metadata": {},
     "output_type": "execute_result"
    }
   ],
   "source": [
    "X = np.array(df_train.drop([\"Id\", \"Job\", \"Education\",\"Balance\", \n",
    "                        \"CarLoan\", \"Communication\", \"LastContactDay\", \"LastContactMonth\", \"NoOfContacts\",\n",
    "                        \"Outcome\", \"CallStart\", \"CallEnd\", \"CarInsurance\"],1))\n",
    "\n",
    "#Default, Marital, HHInsurance, PrevAttempts, DaysPassed, Age, Diff\n",
    "\n",
    "# X = np.array(df_train_new['Marital', 'HHInsurance'],1)\n",
    "y = np.array(df_train['CarInsurance'])\n",
    "X.shape"
   ]
  },
  {
   "cell_type": "code",
   "execution_count": 62,
   "metadata": {},
   "outputs": [
    {
     "data": {
      "text/plain": [
       "LogisticRegression(C=1.0, class_weight=None, dual=False, fit_intercept=True,\n",
       "                   intercept_scaling=1, l1_ratio=None, max_iter=100,\n",
       "                   multi_class='warn', n_jobs=None, penalty='l2',\n",
       "                   random_state=None, solver='warn', tol=0.0001, verbose=0,\n",
       "                   warm_start=False)"
      ]
     },
     "execution_count": 62,
     "metadata": {},
     "output_type": "execute_result"
    }
   ],
   "source": [
    "model = linear_model.LogisticRegression()\n",
    "model.fit(X,y)"
   ]
  },
  {
   "cell_type": "code",
   "execution_count": 63,
   "metadata": {},
   "outputs": [],
   "source": [
    "validation_size = 0.25\n",
    "seed = 25\n",
    "X_train, X_validation, Y_train, Y_validation = model_selection.train_test_split(X, \n",
    "                                                                                y, test_size=validation_size, \n",
    "                                                                                random_state=seed)"
   ]
  },
  {
   "cell_type": "code",
   "execution_count": 64,
   "metadata": {},
   "outputs": [],
   "source": [
    "name = 'Logistic Regression'\n",
    "kfold = model_selection.KFold(n_splits=10, random_state=seed)\n",
    "cv_predictions = model_selection.cross_val_score(model1, X_train, Y_train, cv=kfold, scoring='accuracy')"
   ]
  },
  {
   "cell_type": "code",
   "execution_count": 65,
   "metadata": {},
   "outputs": [
    {
     "name": "stdout",
     "output_type": "stream",
     "text": [
      "0.832\n"
     ]
    }
   ],
   "source": [
    "predictions = model.predict(X_validation)\n",
    "print(accuracy_score(Y_validation, predictions))"
   ]
  },
  {
   "cell_type": "code",
   "execution_count": 66,
   "metadata": {},
   "outputs": [
    {
     "name": "stdout",
     "output_type": "stream",
     "text": [
      "0.804788961038961\n"
     ]
    }
   ],
   "source": [
    "print(roc_auc_score(Y_validation, predictions))"
   ]
  },
  {
   "cell_type": "code",
   "execution_count": 67,
   "metadata": {},
   "outputs": [
    {
     "data": {
      "text/plain": [
       "DescribeResult(nobs=250, minmax=(0, 1), mean=0.312, variance=0.21551807228915662, skewness=0.8115519559592151, kurtosis=-1.3413834227787722)"
      ]
     },
     "execution_count": 67,
     "metadata": {},
     "output_type": "execute_result"
    }
   ],
   "source": [
    "stats.describe(predictions)"
   ]
  },
  {
   "cell_type": "code",
   "execution_count": 68,
   "metadata": {},
   "outputs": [
    {
     "name": "stdout",
     "output_type": "stream",
     "text": [
      "[[142  12]\n",
      " [ 30  66]]\n"
     ]
    }
   ],
   "source": [
    "print(confusion_matrix(Y_validation, predictions))"
   ]
  },
  {
   "cell_type": "markdown",
   "metadata": {},
   "source": [
    "## More models: XGBoost"
   ]
  },
  {
   "cell_type": "code",
   "execution_count": 69,
   "metadata": {},
   "outputs": [],
   "source": [
    "import warnings\n",
    "warnings.filterwarnings('ignore')\n",
    "import numpy as np\n",
    "import pandas as pd\n",
    "from datetime import datetime\n",
    "from numpy import loadtxt\n",
    "from sklearn.model_selection import train_test_split\n",
    "from sklearn.model_selection import RandomizedSearchCV, GridSearchCV\n",
    "from sklearn.metrics import roc_auc_score\n",
    "from sklearn.model_selection import StratifiedKFold\n",
    "from xgboost import XGBClassifier"
   ]
  },
  {
   "cell_type": "code",
   "execution_count": 70,
   "metadata": {},
   "outputs": [
    {
     "data": {
      "text/plain": [
       "(1000, 7)"
      ]
     },
     "execution_count": 70,
     "metadata": {},
     "output_type": "execute_result"
    }
   ],
   "source": [
    "Xgb = np.array(df_train.drop([\"Id\", \"Job\", \"Education\",\"Balance\", \n",
    "                        \"CarLoan\", \"Communication\", \"LastContactDay\", \"LastContactMonth\", \"NoOfContacts\",\n",
    "                        \"Outcome\", \"CallStart\", \"CallEnd\", \"CarInsurance\"],1))\n",
    "\n",
    "#Default, Marital, HHInsurance, PrevAttempts, DaysPassed, Age, Diff\n",
    "\n",
    "# X = np.array(df_train_new['Marital', 'HHInsurance'],1)\n",
    "Ygb = np.array(df_train['CarInsurance'])\n",
    "X.shape"
   ]
  },
  {
   "cell_type": "code",
   "execution_count": 71,
   "metadata": {},
   "outputs": [],
   "source": [
    "parameters = {\n",
    "        'min_child_weight': [1, 5, 10],\n",
    "        'gamma': [0.5, 1, 1.5, 2, 5],\n",
    "        'subsample': [0.6, 0.8, 1.0],\n",
    "        'colsample_bytree': [0.6, 0.8, 1.0],\n",
    "        'max_depth': [3, 4, 5]\n",
    "        }"
   ]
  },
  {
   "cell_type": "code",
   "execution_count": 72,
   "metadata": {},
   "outputs": [],
   "source": [
    "xgb = XGBClassifier(learning_rate=0.02, n_estimators=600, objective='binary:logistic',\n",
    "                    silent=True, nthread=1)"
   ]
  },
  {
   "cell_type": "code",
   "execution_count": 73,
   "metadata": {},
   "outputs": [
    {
     "name": "stdout",
     "output_type": "stream",
     "text": [
      "Fitting 5 folds for each of 20 candidates, totalling 100 fits\n"
     ]
    },
    {
     "name": "stderr",
     "output_type": "stream",
     "text": [
      "[Parallel(n_jobs=4)]: Using backend LokyBackend with 4 concurrent workers.\n",
      "[Parallel(n_jobs=4)]: Done  24 tasks      | elapsed:   14.6s\n",
      "[Parallel(n_jobs=4)]: Done 100 out of 100 | elapsed:   37.9s finished\n"
     ]
    },
    {
     "data": {
      "text/plain": [
       "RandomizedSearchCV(cv=<generator object _BaseKFold.split at 0x00000294EA4E74C8>,\n",
       "                   error_score='raise-deprecating',\n",
       "                   estimator=XGBClassifier(base_score=0.5, booster='gbtree',\n",
       "                                           colsample_bylevel=1,\n",
       "                                           colsample_bynode=1,\n",
       "                                           colsample_bytree=1, gamma=0,\n",
       "                                           learning_rate=0.02, max_delta_step=0,\n",
       "                                           max_depth=3, min_child_weight=1,\n",
       "                                           missing=None, n_estimators=600,\n",
       "                                           n_jobs=1, nthread=1,\n",
       "                                           obje...\n",
       "                                           reg_lambda=1, scale_pos_weight=1,\n",
       "                                           seed=None, silent=True, subsample=1,\n",
       "                                           verbosity=1),\n",
       "                   iid='warn', n_iter=20, n_jobs=4,\n",
       "                   param_distributions={'colsample_bytree': [0.6, 0.8, 1.0],\n",
       "                                        'gamma': [0.5, 1, 1.5, 2, 5],\n",
       "                                        'max_depth': [3, 4, 5],\n",
       "                                        'min_child_weight': [1, 5, 10],\n",
       "                                        'subsample': [0.6, 0.8, 1.0]},\n",
       "                   pre_dispatch='2*n_jobs', random_state=1001, refit=True,\n",
       "                   return_train_score=False, scoring='roc_auc', verbose=3)"
      ]
     },
     "execution_count": 73,
     "metadata": {},
     "output_type": "execute_result"
    }
   ],
   "source": [
    "folds = 5\n",
    "\n",
    "skf = StratifiedKFold(n_splits = folds, shuffle = True, random_state = 1001)\n",
    "\n",
    "random_search = RandomizedSearchCV(xgb, param_distributions = parameters, n_iter=20, \n",
    "                                   scoring = 'roc_auc', n_jobs = 4, cv = skf.split(Xgb,Ygb), verbose = 3, random_state=1001)\n",
    "\n",
    "random_search.fit(Xgb, Ygb)"
   ]
  },
  {
   "cell_type": "code",
   "execution_count": 36,
   "metadata": {},
   "outputs": [
    {
     "name": "stdout",
     "output_type": "stream",
     "text": [
      "\n",
      " Best estimator:\n",
      "XGBClassifier(base_score=0.5, booster='gbtree', colsample_bylevel=1,\n",
      "              colsample_bynode=1, colsample_bytree=0.8, gamma=2,\n",
      "              learning_rate=0.02, max_delta_step=0, max_depth=3,\n",
      "              min_child_weight=1, missing=None, n_estimators=600, n_jobs=1,\n",
      "              nthread=1, objective='binary:logistic', random_state=0,\n",
      "              reg_alpha=0, reg_lambda=1, scale_pos_weight=1, seed=None,\n",
      "              silent=True, subsample=0.8, verbosity=1)\n"
     ]
    }
   ],
   "source": [
    "print('\\n Best estimator:')\n",
    "print(random_search.best_estimator_)"
   ]
  },
  {
   "cell_type": "code",
   "execution_count": 74,
   "metadata": {},
   "outputs": [
    {
     "name": "stdout",
     "output_type": "stream",
     "text": [
      "Accuracy: 78.30% (4.17%)\n"
     ]
    }
   ],
   "source": [
    "from sklearn.model_selection import cross_val_score\n",
    "from sklearn import model_selection\n",
    "\n",
    "model_def = XGBClassifier(base_score=0.5, booster='gbtree', colsample_bylevel=1,\n",
    "              colsample_bynode=1, colsample_bytree=0.8, gamma=2,\n",
    "              learning_rate=0.02, max_delta_step=0, max_depth=3,\n",
    "              min_child_weight=1, missing=None, n_estimators=600, n_jobs=1,\n",
    "              nthread=1, objective='binary:logistic', random_state=0,\n",
    "              reg_alpha=0, reg_lambda=1, scale_pos_weight=1, seed=None,\n",
    "              silent=True, subsample=0.8, verbosity=1)\n",
    "\n",
    "kfold = StratifiedKFold(n_splits=10, random_state=7)\n",
    "results = model_selection.cross_val_score(model, Xgb, Ygb, cv=kfold, scoring='accuracy')\n",
    "print(\"Accuracy: %.2f%% (%.2f%%)\" % (results.mean()*100, results.std()*100))"
   ]
  },
  {
   "cell_type": "code",
   "execution_count": 40,
   "metadata": {},
   "outputs": [
    {
     "ename": "XGBoostError",
     "evalue": "need to call fit or load_model beforehand",
     "output_type": "error",
     "traceback": [
      "\u001b[1;31m---------------------------------------------------------------------------\u001b[0m",
      "\u001b[1;31mXGBoostError\u001b[0m                              Traceback (most recent call last)",
      "\u001b[1;32m<ipython-input-40-78e1c422c32e>\u001b[0m in \u001b[0;36m<module>\u001b[1;34m\u001b[0m\n\u001b[0;32m      1\u001b[0m \u001b[1;32mfrom\u001b[0m \u001b[0mmatplotlib\u001b[0m \u001b[1;32mimport\u001b[0m \u001b[0mpyplot\u001b[0m \u001b[1;32mas\u001b[0m \u001b[0mplt\u001b[0m\u001b[1;33m\u001b[0m\u001b[1;33m\u001b[0m\u001b[0m\n\u001b[0;32m      2\u001b[0m \u001b[1;33m\u001b[0m\u001b[0m\n\u001b[1;32m----> 3\u001b[1;33m \u001b[0mplt\u001b[0m\u001b[1;33m.\u001b[0m\u001b[0mbar\u001b[0m\u001b[1;33m(\u001b[0m\u001b[0mrange\u001b[0m\u001b[1;33m(\u001b[0m\u001b[0mlen\u001b[0m\u001b[1;33m(\u001b[0m\u001b[0mmodel_def\u001b[0m\u001b[1;33m.\u001b[0m\u001b[0mfeature_importances_\u001b[0m\u001b[1;33m)\u001b[0m\u001b[1;33m)\u001b[0m\u001b[1;33m,\u001b[0m \u001b[0mmodel_def\u001b[0m\u001b[1;33m.\u001b[0m\u001b[0mfeature_importances_\u001b[0m\u001b[1;33m)\u001b[0m\u001b[1;33m\u001b[0m\u001b[1;33m\u001b[0m\u001b[0m\n\u001b[0m\u001b[0;32m      4\u001b[0m \u001b[0mplt\u001b[0m\u001b[1;33m.\u001b[0m\u001b[0mshow\u001b[0m\u001b[1;33m(\u001b[0m\u001b[1;33m)\u001b[0m\u001b[1;33m\u001b[0m\u001b[1;33m\u001b[0m\u001b[0m\n",
      "\u001b[1;32m~\\Anaconda3\\lib\\site-packages\\xgboost\\sklearn.py\u001b[0m in \u001b[0;36mfeature_importances_\u001b[1;34m(self)\u001b[0m\n\u001b[0;32m    540\u001b[0m             raise AttributeError('Feature importance is not defined for Booster type {}'\n\u001b[0;32m    541\u001b[0m                                  .format(self.booster))\n\u001b[1;32m--> 542\u001b[1;33m         \u001b[0mb\u001b[0m \u001b[1;33m=\u001b[0m \u001b[0mself\u001b[0m\u001b[1;33m.\u001b[0m\u001b[0mget_booster\u001b[0m\u001b[1;33m(\u001b[0m\u001b[1;33m)\u001b[0m\u001b[1;33m\u001b[0m\u001b[1;33m\u001b[0m\u001b[0m\n\u001b[0m\u001b[0;32m    543\u001b[0m         \u001b[0mscore\u001b[0m \u001b[1;33m=\u001b[0m \u001b[0mb\u001b[0m\u001b[1;33m.\u001b[0m\u001b[0mget_score\u001b[0m\u001b[1;33m(\u001b[0m\u001b[0mimportance_type\u001b[0m\u001b[1;33m=\u001b[0m\u001b[0mself\u001b[0m\u001b[1;33m.\u001b[0m\u001b[0mimportance_type\u001b[0m\u001b[1;33m)\u001b[0m\u001b[1;33m\u001b[0m\u001b[1;33m\u001b[0m\u001b[0m\n\u001b[0;32m    544\u001b[0m         \u001b[0mall_features\u001b[0m \u001b[1;33m=\u001b[0m \u001b[1;33m[\u001b[0m\u001b[0mscore\u001b[0m\u001b[1;33m.\u001b[0m\u001b[0mget\u001b[0m\u001b[1;33m(\u001b[0m\u001b[0mf\u001b[0m\u001b[1;33m,\u001b[0m \u001b[1;36m0.\u001b[0m\u001b[1;33m)\u001b[0m \u001b[1;32mfor\u001b[0m \u001b[0mf\u001b[0m \u001b[1;32min\u001b[0m \u001b[0mb\u001b[0m\u001b[1;33m.\u001b[0m\u001b[0mfeature_names\u001b[0m\u001b[1;33m]\u001b[0m\u001b[1;33m\u001b[0m\u001b[1;33m\u001b[0m\u001b[0m\n",
      "\u001b[1;32m~\\Anaconda3\\lib\\site-packages\\xgboost\\sklearn.py\u001b[0m in \u001b[0;36mget_booster\u001b[1;34m(self)\u001b[0m\n\u001b[0;32m    191\u001b[0m         \"\"\"\n\u001b[0;32m    192\u001b[0m         \u001b[1;32mif\u001b[0m \u001b[0mself\u001b[0m\u001b[1;33m.\u001b[0m\u001b[0m_Booster\u001b[0m \u001b[1;32mis\u001b[0m \u001b[1;32mNone\u001b[0m\u001b[1;33m:\u001b[0m\u001b[1;33m\u001b[0m\u001b[1;33m\u001b[0m\u001b[0m\n\u001b[1;32m--> 193\u001b[1;33m             \u001b[1;32mraise\u001b[0m \u001b[0mXGBoostError\u001b[0m\u001b[1;33m(\u001b[0m\u001b[1;34m'need to call fit or load_model beforehand'\u001b[0m\u001b[1;33m)\u001b[0m\u001b[1;33m\u001b[0m\u001b[1;33m\u001b[0m\u001b[0m\n\u001b[0m\u001b[0;32m    194\u001b[0m         \u001b[1;32mreturn\u001b[0m \u001b[0mself\u001b[0m\u001b[1;33m.\u001b[0m\u001b[0m_Booster\u001b[0m\u001b[1;33m\u001b[0m\u001b[1;33m\u001b[0m\u001b[0m\n\u001b[0;32m    195\u001b[0m \u001b[1;33m\u001b[0m\u001b[0m\n",
      "\u001b[1;31mXGBoostError\u001b[0m: need to call fit or load_model beforehand"
     ]
    }
   ],
   "source": [
    "from matplotlib import pyplot as plt\n",
    "\n",
    "plt.bar(range(len(model_def.feature_importances_)), model_def.feature_importances_)\n",
    "plt.show()"
   ]
  }
 ],
 "metadata": {
  "kernelspec": {
   "display_name": "Python 3",
   "language": "python",
   "name": "python3"
  },
  "language_info": {
   "codemirror_mode": {
    "name": "ipython",
    "version": 3
   },
   "file_extension": ".py",
   "mimetype": "text/x-python",
   "name": "python",
   "nbconvert_exporter": "python",
   "pygments_lexer": "ipython3",
   "version": "3.7.4"
  }
 },
 "nbformat": 4,
 "nbformat_minor": 2
}
